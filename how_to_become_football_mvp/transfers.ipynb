{
 "cells": [
  {
   "cell_type": "code",
   "execution_count": 22,
   "metadata": {},
   "outputs": [],
   "source": [
    "visited_links=[]\n",
    "dfs = []\n",
    "\n",
    "links = []\n",
    "\n",
    "for i in range(16,24):\n",
    "    season = f\"{i}/{i+1}\" \n",
    "    links.append((\"UK\",f\"https://www.transfermarkt.com/premier-league/transfers/wettbewerb/GB1/plus/?saison_id=20{i}&s_w=&leihe=1&intern=0&intern=1\",season))\n",
    "    links.append((\"Arab\",f\"https://www.transfermarkt.com/saudi-pro-league/transfers/wettbewerb/SA1/plus/?saison_id=20{i}&s_w=&leihe=1&intern=0&intern=1\",season))\n",
    "    links.append((\"France\", f\"https://www.transfermarkt.com/ligue-1/transfers/wettbewerb/FR1/plus/?saison_id=20{i}&s_w=&leihe=1&intern=0&intern=1\",season))\n",
    "    links.append((\"Germany\", f\"https://www.transfermarkt.com/bundesliga/transfers/wettbewerb/L1/plus/?saison_id=20{i}&s_w=&leihe=1&intern=0&intern=1\",season))\n",
    "    links.append((\"Spain\", f\"https://www.transfermarkt.com/laliga/transfers/wettbewerb/ES1/plus/?saison_id=20{i}&s_w=&leihe=1&intern=0&intern=1\",season))\n",
    "    links.append((\"Italy\", f\"https://www.transfermarkt.com/serie-a/transfers/wettbewerb/IT1/plus/?saison_id=20{i}&s_w=&leihe=3&intern=0&intern=1\",season))\n",
    "\n"
   ]
  },
  {
   "cell_type": "code",
   "execution_count": 23,
   "metadata": {},
   "outputs": [
    {
     "data": {
      "text/plain": [
       "[]"
      ]
     },
     "execution_count": 23,
     "metadata": {},
     "output_type": "execute_result"
    }
   ],
   "source": [
    "visited_links"
   ]
  },
  {
   "cell_type": "code",
   "execution_count": 24,
   "metadata": {},
   "outputs": [
    {
     "name": "stdout",
     "output_type": "stream",
     "text": [
      "https://www.transfermarkt.com/premier-league/transfers/wettbewerb/GB1/plus/?saison_id=2016&s_w=&leihe=1&intern=0&intern=1\n",
      "error occured\n",
      "https://www.transfermarkt.com/premier-league/transfers/wettbewerb/GB1/plus/?saison_id=2016&s_w=&leihe=1&intern=0&intern=1\n",
      "https://www.transfermarkt.com/saudi-pro-league/transfers/wettbewerb/SA1/plus/?saison_id=2016&s_w=&leihe=1&intern=0&intern=1\n",
      "error occured\n",
      "https://www.transfermarkt.com/saudi-pro-league/transfers/wettbewerb/SA1/plus/?saison_id=2016&s_w=&leihe=1&intern=0&intern=1\n",
      "https://www.transfermarkt.com/ligue-1/transfers/wettbewerb/FR1/plus/?saison_id=2016&s_w=&leihe=1&intern=0&intern=1\n",
      "error occured\n",
      "https://www.transfermarkt.com/ligue-1/transfers/wettbewerb/FR1/plus/?saison_id=2016&s_w=&leihe=1&intern=0&intern=1\n",
      "https://www.transfermarkt.com/bundesliga/transfers/wettbewerb/L1/plus/?saison_id=2016&s_w=&leihe=1&intern=0&intern=1\n",
      "https://www.transfermarkt.com/laliga/transfers/wettbewerb/ES1/plus/?saison_id=2016&s_w=&leihe=1&intern=0&intern=1\n",
      "https://www.transfermarkt.com/serie-a/transfers/wettbewerb/IT1/plus/?saison_id=2016&s_w=&leihe=3&intern=0&intern=1\n",
      "error occured\n",
      "https://www.transfermarkt.com/serie-a/transfers/wettbewerb/IT1/plus/?saison_id=2016&s_w=&leihe=3&intern=0&intern=1\n",
      "https://www.transfermarkt.com/premier-league/transfers/wettbewerb/GB1/plus/?saison_id=2017&s_w=&leihe=1&intern=0&intern=1\n",
      "error occured\n",
      "https://www.transfermarkt.com/premier-league/transfers/wettbewerb/GB1/plus/?saison_id=2017&s_w=&leihe=1&intern=0&intern=1\n",
      "https://www.transfermarkt.com/saudi-pro-league/transfers/wettbewerb/SA1/plus/?saison_id=2017&s_w=&leihe=1&intern=0&intern=1\n",
      "https://www.transfermarkt.com/ligue-1/transfers/wettbewerb/FR1/plus/?saison_id=2017&s_w=&leihe=1&intern=0&intern=1\n",
      "https://www.transfermarkt.com/bundesliga/transfers/wettbewerb/L1/plus/?saison_id=2017&s_w=&leihe=1&intern=0&intern=1\n",
      "error occured\n",
      "https://www.transfermarkt.com/bundesliga/transfers/wettbewerb/L1/plus/?saison_id=2017&s_w=&leihe=1&intern=0&intern=1\n",
      "https://www.transfermarkt.com/laliga/transfers/wettbewerb/ES1/plus/?saison_id=2017&s_w=&leihe=1&intern=0&intern=1\n",
      "error occured\n",
      "https://www.transfermarkt.com/laliga/transfers/wettbewerb/ES1/plus/?saison_id=2017&s_w=&leihe=1&intern=0&intern=1\n",
      "error occured\n",
      "https://www.transfermarkt.com/laliga/transfers/wettbewerb/ES1/plus/?saison_id=2017&s_w=&leihe=1&intern=0&intern=1\n",
      "https://www.transfermarkt.com/serie-a/transfers/wettbewerb/IT1/plus/?saison_id=2017&s_w=&leihe=3&intern=0&intern=1\n",
      "https://www.transfermarkt.com/premier-league/transfers/wettbewerb/GB1/plus/?saison_id=2018&s_w=&leihe=1&intern=0&intern=1\n",
      "https://www.transfermarkt.com/saudi-pro-league/transfers/wettbewerb/SA1/plus/?saison_id=2018&s_w=&leihe=1&intern=0&intern=1\n",
      "https://www.transfermarkt.com/ligue-1/transfers/wettbewerb/FR1/plus/?saison_id=2018&s_w=&leihe=1&intern=0&intern=1\n",
      "https://www.transfermarkt.com/bundesliga/transfers/wettbewerb/L1/plus/?saison_id=2018&s_w=&leihe=1&intern=0&intern=1\n",
      "https://www.transfermarkt.com/laliga/transfers/wettbewerb/ES1/plus/?saison_id=2018&s_w=&leihe=1&intern=0&intern=1\n",
      "https://www.transfermarkt.com/serie-a/transfers/wettbewerb/IT1/plus/?saison_id=2018&s_w=&leihe=3&intern=0&intern=1\n",
      "https://www.transfermarkt.com/premier-league/transfers/wettbewerb/GB1/plus/?saison_id=2019&s_w=&leihe=1&intern=0&intern=1\n",
      "https://www.transfermarkt.com/saudi-pro-league/transfers/wettbewerb/SA1/plus/?saison_id=2019&s_w=&leihe=1&intern=0&intern=1\n",
      "https://www.transfermarkt.com/ligue-1/transfers/wettbewerb/FR1/plus/?saison_id=2019&s_w=&leihe=1&intern=0&intern=1\n",
      "https://www.transfermarkt.com/bundesliga/transfers/wettbewerb/L1/plus/?saison_id=2019&s_w=&leihe=1&intern=0&intern=1\n",
      "https://www.transfermarkt.com/laliga/transfers/wettbewerb/ES1/plus/?saison_id=2019&s_w=&leihe=1&intern=0&intern=1\n",
      "https://www.transfermarkt.com/serie-a/transfers/wettbewerb/IT1/plus/?saison_id=2019&s_w=&leihe=3&intern=0&intern=1\n",
      "error occured\n",
      "https://www.transfermarkt.com/serie-a/transfers/wettbewerb/IT1/plus/?saison_id=2019&s_w=&leihe=3&intern=0&intern=1\n",
      "https://www.transfermarkt.com/premier-league/transfers/wettbewerb/GB1/plus/?saison_id=2020&s_w=&leihe=1&intern=0&intern=1\n",
      "https://www.transfermarkt.com/saudi-pro-league/transfers/wettbewerb/SA1/plus/?saison_id=2020&s_w=&leihe=1&intern=0&intern=1\n",
      "https://www.transfermarkt.com/ligue-1/transfers/wettbewerb/FR1/plus/?saison_id=2020&s_w=&leihe=1&intern=0&intern=1\n",
      "https://www.transfermarkt.com/bundesliga/transfers/wettbewerb/L1/plus/?saison_id=2020&s_w=&leihe=1&intern=0&intern=1\n",
      "https://www.transfermarkt.com/laliga/transfers/wettbewerb/ES1/plus/?saison_id=2020&s_w=&leihe=1&intern=0&intern=1\n",
      "https://www.transfermarkt.com/serie-a/transfers/wettbewerb/IT1/plus/?saison_id=2020&s_w=&leihe=3&intern=0&intern=1\n",
      "https://www.transfermarkt.com/premier-league/transfers/wettbewerb/GB1/plus/?saison_id=2021&s_w=&leihe=1&intern=0&intern=1\n",
      "https://www.transfermarkt.com/saudi-pro-league/transfers/wettbewerb/SA1/plus/?saison_id=2021&s_w=&leihe=1&intern=0&intern=1\n",
      "https://www.transfermarkt.com/ligue-1/transfers/wettbewerb/FR1/plus/?saison_id=2021&s_w=&leihe=1&intern=0&intern=1\n",
      "https://www.transfermarkt.com/bundesliga/transfers/wettbewerb/L1/plus/?saison_id=2021&s_w=&leihe=1&intern=0&intern=1\n",
      "https://www.transfermarkt.com/laliga/transfers/wettbewerb/ES1/plus/?saison_id=2021&s_w=&leihe=1&intern=0&intern=1\n",
      "https://www.transfermarkt.com/serie-a/transfers/wettbewerb/IT1/plus/?saison_id=2021&s_w=&leihe=3&intern=0&intern=1\n",
      "https://www.transfermarkt.com/premier-league/transfers/wettbewerb/GB1/plus/?saison_id=2022&s_w=&leihe=1&intern=0&intern=1\n",
      "https://www.transfermarkt.com/saudi-pro-league/transfers/wettbewerb/SA1/plus/?saison_id=2022&s_w=&leihe=1&intern=0&intern=1\n",
      "https://www.transfermarkt.com/ligue-1/transfers/wettbewerb/FR1/plus/?saison_id=2022&s_w=&leihe=1&intern=0&intern=1\n",
      "https://www.transfermarkt.com/bundesliga/transfers/wettbewerb/L1/plus/?saison_id=2022&s_w=&leihe=1&intern=0&intern=1\n",
      "https://www.transfermarkt.com/laliga/transfers/wettbewerb/ES1/plus/?saison_id=2022&s_w=&leihe=1&intern=0&intern=1\n",
      "https://www.transfermarkt.com/serie-a/transfers/wettbewerb/IT1/plus/?saison_id=2022&s_w=&leihe=3&intern=0&intern=1\n",
      "https://www.transfermarkt.com/premier-league/transfers/wettbewerb/GB1/plus/?saison_id=2023&s_w=&leihe=1&intern=0&intern=1\n",
      "https://www.transfermarkt.com/saudi-pro-league/transfers/wettbewerb/SA1/plus/?saison_id=2023&s_w=&leihe=1&intern=0&intern=1\n",
      "https://www.transfermarkt.com/ligue-1/transfers/wettbewerb/FR1/plus/?saison_id=2023&s_w=&leihe=1&intern=0&intern=1\n",
      "https://www.transfermarkt.com/bundesliga/transfers/wettbewerb/L1/plus/?saison_id=2023&s_w=&leihe=1&intern=0&intern=1\n",
      "https://www.transfermarkt.com/laliga/transfers/wettbewerb/ES1/plus/?saison_id=2023&s_w=&leihe=1&intern=0&intern=1\n",
      "https://www.transfermarkt.com/serie-a/transfers/wettbewerb/IT1/plus/?saison_id=2023&s_w=&leihe=3&intern=0&intern=1\n"
     ]
    }
   ],
   "source": [
    "from bs4 import BeautifulSoup\n",
    "import pandas as pd\n",
    "import requests\n",
    "import numpy as np\n",
    "\n",
    "\n",
    "headers = {'User-Agent': \n",
    "           'Mozilla/5.0 (X11; Linux x86_64) AppleWebKit/537.36 (KHTML, like Gecko) Chrome/47.0.2526.106 Safari/537.36'}\n",
    "\n",
    "while True:\n",
    "    try:\n",
    "        for league,link, season in links:\n",
    "            if link in visited_links:\n",
    "                continue\n",
    "            print(link)\n",
    "            res = requests.get(link, headers=headers)\n",
    "            visited_links.append(link)\n",
    "            clubs=[]\n",
    "            soup = BeautifulSoup(res.text)\n",
    "            for h2 in soup.find_all(\"h2\", {\"class\": \"content-box-headline content-box-headline--inverted content-box-headline--logo\"}):\n",
    "                clubs.append(h2.find(\"a\")['title'])\n",
    "            list_of_df=pd.read_html(res.content)\n",
    "            list_of_df=list_of_df[1:]\n",
    "            for i,df in  enumerate(list_of_df):\n",
    "                if df.columns[0] == \"In\":\n",
    "                    df[\"type_of_transfer\"] = \"In\"\n",
    "                    df=df.rename(columns={\"In\":\"Name\", \"Left.1\":\"Old_or_new_club\"})\n",
    "                    df= df.drop(columns=[\"Left\"])\n",
    "                else:\n",
    "                    df[\"type_of_transfer\"] = \"Out\"\n",
    "                    df=df.rename(columns={\"Out\":\"Name\", \"Joined.1\":\"Old_or_new_club\"})\n",
    "                    df= df.drop(columns=[\"Joined\"])\n",
    "                df[\"Club\"] = clubs[i//2]\n",
    "                df[\"league\"] = league\n",
    "                df[\"season\"]= season\n",
    "                dfs.append(df)\n",
    "\n",
    "\n",
    "        df = pd.concat(dfs)\n",
    "        break\n",
    "    except:\n",
    "        print(\"error occured\")"
   ]
  },
  {
   "cell_type": "code",
   "execution_count": 38,
   "metadata": {},
   "outputs": [],
   "source": [
    "df=df2"
   ]
  },
  {
   "cell_type": "code",
   "execution_count": 39,
   "metadata": {},
   "outputs": [
    {
     "ename": "KeyError",
     "evalue": "'Market value'",
     "output_type": "error",
     "traceback": [
      "\u001b[0;31m---------------------------------------------------------------------------\u001b[0m",
      "\u001b[0;31mKeyError\u001b[0m                                  Traceback (most recent call last)",
      "File \u001b[0;32m/Library/Frameworks/Python.framework/Versions/3.11/lib/python3.11/site-packages/pandas/core/indexes/base.py:3790\u001b[0m, in \u001b[0;36mIndex.get_loc\u001b[0;34m(self, key)\u001b[0m\n\u001b[1;32m   3789\u001b[0m \u001b[39mtry\u001b[39;00m:\n\u001b[0;32m-> 3790\u001b[0m     \u001b[39mreturn\u001b[39;00m \u001b[39mself\u001b[39;49m\u001b[39m.\u001b[39;49m_engine\u001b[39m.\u001b[39;49mget_loc(casted_key)\n\u001b[1;32m   3791\u001b[0m \u001b[39mexcept\u001b[39;00m \u001b[39mKeyError\u001b[39;00m \u001b[39mas\u001b[39;00m err:\n",
      "File \u001b[0;32mindex.pyx:152\u001b[0m, in \u001b[0;36mpandas._libs.index.IndexEngine.get_loc\u001b[0;34m()\u001b[0m\n",
      "File \u001b[0;32mindex.pyx:181\u001b[0m, in \u001b[0;36mpandas._libs.index.IndexEngine.get_loc\u001b[0;34m()\u001b[0m\n",
      "File \u001b[0;32mpandas/_libs/hashtable_class_helper.pxi:7080\u001b[0m, in \u001b[0;36mpandas._libs.hashtable.PyObjectHashTable.get_item\u001b[0;34m()\u001b[0m\n",
      "File \u001b[0;32mpandas/_libs/hashtable_class_helper.pxi:7088\u001b[0m, in \u001b[0;36mpandas._libs.hashtable.PyObjectHashTable.get_item\u001b[0;34m()\u001b[0m\n",
      "\u001b[0;31mKeyError\u001b[0m: 'Market value'",
      "\nThe above exception was the direct cause of the following exception:\n",
      "\u001b[0;31mKeyError\u001b[0m                                  Traceback (most recent call last)",
      "\u001b[1;32m/Users/jasiekjaniszewski/Desktop/comm_with_DATA/first_story/communicating-with-data/final_project/transfers.ipynb Cell 5\u001b[0m line \u001b[0;36m2\n\u001b[1;32m     <a href='vscode-notebook-cell:/Users/jasiekjaniszewski/Desktop/comm_with_DATA/first_story/communicating-with-data/final_project/transfers.ipynb#W2sZmlsZQ%3D%3D?line=18'>19</a>\u001b[0m     df\u001b[39m.\u001b[39mdrop(columns\u001b[39m=\u001b[39m[column_name],inplace\u001b[39m=\u001b[39m\u001b[39mTrue\u001b[39;00m)\n\u001b[1;32m     <a href='vscode-notebook-cell:/Users/jasiekjaniszewski/Desktop/comm_with_DATA/first_story/communicating-with-data/final_project/transfers.ipynb#W2sZmlsZQ%3D%3D?line=19'>20</a>\u001b[0m     \u001b[39mreturn\u001b[39;00m new_values\n\u001b[0;32m---> <a href='vscode-notebook-cell:/Users/jasiekjaniszewski/Desktop/comm_with_DATA/first_story/communicating-with-data/final_project/transfers.ipynb#W2sZmlsZQ%3D%3D?line=22'>23</a>\u001b[0m df[\u001b[39m\"\u001b[39m\u001b[39mMarket_value\u001b[39m\u001b[39m\"\u001b[39m]\u001b[39m=\u001b[39mclean_values(df, \u001b[39m\"\u001b[39;49m\u001b[39mMarket value\u001b[39;49m\u001b[39m\"\u001b[39;49m)\n\u001b[1;32m     <a href='vscode-notebook-cell:/Users/jasiekjaniszewski/Desktop/comm_with_DATA/first_story/communicating-with-data/final_project/transfers.ipynb#W2sZmlsZQ%3D%3D?line=23'>24</a>\u001b[0m df[\u001b[39m\"\u001b[39m\u001b[39mFee\u001b[39m\u001b[39m\"\u001b[39m] \u001b[39m=\u001b[39m clean_values(df, \u001b[39m\"\u001b[39m\u001b[39mFee\u001b[39m\u001b[39m\"\u001b[39m)\n",
      "\u001b[1;32m/Users/jasiekjaniszewski/Desktop/comm_with_DATA/first_story/communicating-with-data/final_project/transfers.ipynb Cell 5\u001b[0m line \u001b[0;36m2\n\u001b[1;32m      <a href='vscode-notebook-cell:/Users/jasiekjaniszewski/Desktop/comm_with_DATA/first_story/communicating-with-data/final_project/transfers.ipynb#W2sZmlsZQ%3D%3D?line=0'>1</a>\u001b[0m \u001b[39mdef\u001b[39;00m \u001b[39mclean_values\u001b[39m(df, column_name):\n\u001b[0;32m----> <a href='vscode-notebook-cell:/Users/jasiekjaniszewski/Desktop/comm_with_DATA/first_story/communicating-with-data/final_project/transfers.ipynb#W2sZmlsZQ%3D%3D?line=1'>2</a>\u001b[0m     df[column_name]\u001b[39m=\u001b[39mdf[column_name]\u001b[39m.\u001b[39mstr\u001b[39m.\u001b[39mreplace(\u001b[39m\"\u001b[39m\u001b[39m€\u001b[39m\u001b[39m\"\u001b[39m,\u001b[39m\"\u001b[39m\u001b[39m\"\u001b[39m)\n\u001b[1;32m      <a href='vscode-notebook-cell:/Users/jasiekjaniszewski/Desktop/comm_with_DATA/first_story/communicating-with-data/final_project/transfers.ipynb#W2sZmlsZQ%3D%3D?line=2'>3</a>\u001b[0m     df[column_name]\u001b[39m=\u001b[39mdf[column_name]\u001b[39m.\u001b[39mstr\u001b[39m.\u001b[39mreplace(\u001b[39m\"\u001b[39m\u001b[39mLoan fee: \u001b[39m\u001b[39m\"\u001b[39m,\u001b[39m\"\u001b[39m\u001b[39m\"\u001b[39m)\n\u001b[1;32m      <a href='vscode-notebook-cell:/Users/jasiekjaniszewski/Desktop/comm_with_DATA/first_story/communicating-with-data/final_project/transfers.ipynb#W2sZmlsZQ%3D%3D?line=3'>4</a>\u001b[0m     new_values\u001b[39m=\u001b[39m[]\n",
      "File \u001b[0;32m/Library/Frameworks/Python.framework/Versions/3.11/lib/python3.11/site-packages/pandas/core/frame.py:3896\u001b[0m, in \u001b[0;36mDataFrame.__getitem__\u001b[0;34m(self, key)\u001b[0m\n\u001b[1;32m   3894\u001b[0m \u001b[39mif\u001b[39;00m \u001b[39mself\u001b[39m\u001b[39m.\u001b[39mcolumns\u001b[39m.\u001b[39mnlevels \u001b[39m>\u001b[39m \u001b[39m1\u001b[39m:\n\u001b[1;32m   3895\u001b[0m     \u001b[39mreturn\u001b[39;00m \u001b[39mself\u001b[39m\u001b[39m.\u001b[39m_getitem_multilevel(key)\n\u001b[0;32m-> 3896\u001b[0m indexer \u001b[39m=\u001b[39m \u001b[39mself\u001b[39;49m\u001b[39m.\u001b[39;49mcolumns\u001b[39m.\u001b[39;49mget_loc(key)\n\u001b[1;32m   3897\u001b[0m \u001b[39mif\u001b[39;00m is_integer(indexer):\n\u001b[1;32m   3898\u001b[0m     indexer \u001b[39m=\u001b[39m [indexer]\n",
      "File \u001b[0;32m/Library/Frameworks/Python.framework/Versions/3.11/lib/python3.11/site-packages/pandas/core/indexes/base.py:3797\u001b[0m, in \u001b[0;36mIndex.get_loc\u001b[0;34m(self, key)\u001b[0m\n\u001b[1;32m   3792\u001b[0m     \u001b[39mif\u001b[39;00m \u001b[39misinstance\u001b[39m(casted_key, \u001b[39mslice\u001b[39m) \u001b[39mor\u001b[39;00m (\n\u001b[1;32m   3793\u001b[0m         \u001b[39misinstance\u001b[39m(casted_key, abc\u001b[39m.\u001b[39mIterable)\n\u001b[1;32m   3794\u001b[0m         \u001b[39mand\u001b[39;00m \u001b[39many\u001b[39m(\u001b[39misinstance\u001b[39m(x, \u001b[39mslice\u001b[39m) \u001b[39mfor\u001b[39;00m x \u001b[39min\u001b[39;00m casted_key)\n\u001b[1;32m   3795\u001b[0m     ):\n\u001b[1;32m   3796\u001b[0m         \u001b[39mraise\u001b[39;00m InvalidIndexError(key)\n\u001b[0;32m-> 3797\u001b[0m     \u001b[39mraise\u001b[39;00m \u001b[39mKeyError\u001b[39;00m(key) \u001b[39mfrom\u001b[39;00m \u001b[39merr\u001b[39;00m\n\u001b[1;32m   3798\u001b[0m \u001b[39mexcept\u001b[39;00m \u001b[39mTypeError\u001b[39;00m:\n\u001b[1;32m   3799\u001b[0m     \u001b[39m# If we have a listlike key, _check_indexing_error will raise\u001b[39;00m\n\u001b[1;32m   3800\u001b[0m     \u001b[39m#  InvalidIndexError. Otherwise we fall through and re-raise\u001b[39;00m\n\u001b[1;32m   3801\u001b[0m     \u001b[39m#  the TypeError.\u001b[39;00m\n\u001b[1;32m   3802\u001b[0m     \u001b[39mself\u001b[39m\u001b[39m.\u001b[39m_check_indexing_error(key)\n",
      "\u001b[0;31mKeyError\u001b[0m: 'Market value'"
     ]
    }
   ],
   "source": [
    "def clean_values(df, column_name):\n",
    "    df[column_name]=df[column_name].str.replace(\"€\",\"\")\n",
    "    df[column_name]=df[column_name].str.replace(\"Loan fee: \",\"\")\n",
    "    new_values=[]\n",
    "    for val in df[column_name].values:\n",
    "        if isinstance(val, float):\n",
    "            val = -1\n",
    "        if val.count(\"m\")!=0:\n",
    "            val = val.replace(\"m\",\"\")\n",
    "            val = float(val)\n",
    "            val*= 1_000_000\n",
    "        elif val.count(\"k\")!=0:\n",
    "            val = val.replace(\"k\",\"\")\n",
    "            val = float(val)\n",
    "            val*= 1_000\n",
    "        else:\n",
    "            val = -1.0\n",
    "        new_values.append(val)\n",
    "    df.drop(columns=[column_name],inplace=True)\n",
    "    return new_values\n",
    "\n",
    "    \n",
    "df[\"Market_value\"]=clean_values(df, \"Market value\")\n",
    "df[\"Fee\"] = clean_values(df, \"Fee\")"
   ]
  },
  {
   "cell_type": "code",
   "execution_count": 41,
   "metadata": {},
   "outputs": [],
   "source": [
    "df.to_csv(\"club_transfers.csv\")\n"
   ]
  },
  {
   "cell_type": "markdown",
   "metadata": {},
   "source": [
    "questions:\n",
    "\n",
    "- best deal (for example: club bought guy for 2 mil and sold six years later for 60)\n",
    "- "
   ]
  },
  {
   "cell_type": "code",
   "execution_count": 59,
   "metadata": {},
   "outputs": [
    {
     "data": {
      "text/html": [
       "<div>\n",
       "<style scoped>\n",
       "    .dataframe tbody tr th:only-of-type {\n",
       "        vertical-align: middle;\n",
       "    }\n",
       "\n",
       "    .dataframe tbody tr th {\n",
       "        vertical-align: top;\n",
       "    }\n",
       "\n",
       "    .dataframe thead th {\n",
       "        text-align: right;\n",
       "    }\n",
       "</style>\n",
       "<table border=\"1\" class=\"dataframe\">\n",
       "  <thead>\n",
       "    <tr style=\"text-align: right;\">\n",
       "      <th></th>\n",
       "      <th>Name</th>\n",
       "      <th>Age</th>\n",
       "      <th>Nat.</th>\n",
       "      <th>Position</th>\n",
       "      <th>Pos</th>\n",
       "      <th>Old_or_new_club</th>\n",
       "      <th>type_of_transfer</th>\n",
       "      <th>Club</th>\n",
       "      <th>league</th>\n",
       "      <th>season</th>\n",
       "      <th>Market_value</th>\n",
       "      <th>Fee</th>\n",
       "    </tr>\n",
       "  </thead>\n",
       "  <tbody>\n",
       "    <tr>\n",
       "      <th>0</th>\n",
       "      <td>Islam SlimaniI. Slimani</td>\n",
       "      <td>28</td>\n",
       "      <td>NaN</td>\n",
       "      <td>Centre-Forward</td>\n",
       "      <td>CF</td>\n",
       "      <td>Sporting CP</td>\n",
       "      <td>In</td>\n",
       "      <td>Leicester City</td>\n",
       "      <td>UK</td>\n",
       "      <td>16/17</td>\n",
       "      <td>1500000.0</td>\n",
       "      <td>31000000.0</td>\n",
       "    </tr>\n",
       "    <tr>\n",
       "      <th>1</th>\n",
       "      <td>Ahmed MusaA. Musa</td>\n",
       "      <td>23</td>\n",
       "      <td>NaN</td>\n",
       "      <td>Left Winger</td>\n",
       "      <td>LW</td>\n",
       "      <td>CSKA Moscow</td>\n",
       "      <td>In</td>\n",
       "      <td>Leicester City</td>\n",
       "      <td>UK</td>\n",
       "      <td>16/17</td>\n",
       "      <td>1300000.0</td>\n",
       "      <td>19500000.0</td>\n",
       "    </tr>\n",
       "    <tr>\n",
       "      <th>2</th>\n",
       "      <td>Wilfred NdidiW. Ndidi</td>\n",
       "      <td>20</td>\n",
       "      <td>NaN</td>\n",
       "      <td>Defensive Midfield</td>\n",
       "      <td>DM</td>\n",
       "      <td>KRC Genk</td>\n",
       "      <td>In</td>\n",
       "      <td>Leicester City</td>\n",
       "      <td>UK</td>\n",
       "      <td>16/17</td>\n",
       "      <td>18000000.0</td>\n",
       "      <td>17600000.0</td>\n",
       "    </tr>\n",
       "    <tr>\n",
       "      <th>3</th>\n",
       "      <td>Nampalys MendyN. Mendy</td>\n",
       "      <td>24</td>\n",
       "      <td>NaN</td>\n",
       "      <td>Defensive Midfield</td>\n",
       "      <td>DM</td>\n",
       "      <td>OGC Nice</td>\n",
       "      <td>In</td>\n",
       "      <td>Leicester City</td>\n",
       "      <td>UK</td>\n",
       "      <td>16/17</td>\n",
       "      <td>2500000.0</td>\n",
       "      <td>15500000.0</td>\n",
       "    </tr>\n",
       "    <tr>\n",
       "      <th>4</th>\n",
       "      <td>Bartosz KapustkaB. Kapustka</td>\n",
       "      <td>19</td>\n",
       "      <td>NaN</td>\n",
       "      <td>Defensive Midfield</td>\n",
       "      <td>DM</td>\n",
       "      <td>Cracovia</td>\n",
       "      <td>In</td>\n",
       "      <td>Leicester City</td>\n",
       "      <td>UK</td>\n",
       "      <td>16/17</td>\n",
       "      <td>1500000.0</td>\n",
       "      <td>5000000.0</td>\n",
       "    </tr>\n",
       "    <tr>\n",
       "      <th>...</th>\n",
       "      <td>...</td>\n",
       "      <td>...</td>\n",
       "      <td>...</td>\n",
       "      <td>...</td>\n",
       "      <td>...</td>\n",
       "      <td>...</td>\n",
       "      <td>...</td>\n",
       "      <td>...</td>\n",
       "      <td>...</td>\n",
       "      <td>...</td>\n",
       "      <td>...</td>\n",
       "      <td>...</td>\n",
       "    </tr>\n",
       "    <tr>\n",
       "      <th>13</th>\n",
       "      <td>Nik PrelecN. Prelec</td>\n",
       "      <td>22</td>\n",
       "      <td>NaN</td>\n",
       "      <td>Centre-Forward</td>\n",
       "      <td>CF</td>\n",
       "      <td>WSG Tirol</td>\n",
       "      <td>Out</td>\n",
       "      <td>Cagliari Calcio</td>\n",
       "      <td>Italy</td>\n",
       "      <td>23/24</td>\n",
       "      <td>600000.0</td>\n",
       "      <td>-1.0</td>\n",
       "    </tr>\n",
       "    <tr>\n",
       "      <th>14</th>\n",
       "      <td>Christos KourfalidisC. Kourfalidis</td>\n",
       "      <td>20</td>\n",
       "      <td>NaN</td>\n",
       "      <td>Central Midfield</td>\n",
       "      <td>CM</td>\n",
       "      <td>Feralpisalò</td>\n",
       "      <td>Out</td>\n",
       "      <td>Cagliari Calcio</td>\n",
       "      <td>Italy</td>\n",
       "      <td>23/24</td>\n",
       "      <td>1000000.0</td>\n",
       "      <td>-1.0</td>\n",
       "    </tr>\n",
       "    <tr>\n",
       "      <th>15</th>\n",
       "      <td>Davide VeroliD. Veroli</td>\n",
       "      <td>20</td>\n",
       "      <td>NaN</td>\n",
       "      <td>Centre-Back</td>\n",
       "      <td>CB</td>\n",
       "      <td>Catanzaro</td>\n",
       "      <td>Out</td>\n",
       "      <td>Cagliari Calcio</td>\n",
       "      <td>Italy</td>\n",
       "      <td>23/24</td>\n",
       "      <td>400000.0</td>\n",
       "      <td>-1.0</td>\n",
       "    </tr>\n",
       "    <tr>\n",
       "      <th>16</th>\n",
       "      <td>Filippo FalcoF. Falco</td>\n",
       "      <td>31</td>\n",
       "      <td>NaN</td>\n",
       "      <td>Right Winger</td>\n",
       "      <td>RW</td>\n",
       "      <td>Red Star</td>\n",
       "      <td>Out</td>\n",
       "      <td>Cagliari Calcio</td>\n",
       "      <td>Italy</td>\n",
       "      <td>23/24</td>\n",
       "      <td>700000.0</td>\n",
       "      <td>-1.0</td>\n",
       "    </tr>\n",
       "    <tr>\n",
       "      <th>17</th>\n",
       "      <td>Alessandro Di PardoA. Di Pardo</td>\n",
       "      <td>23</td>\n",
       "      <td>NaN</td>\n",
       "      <td>Right-Back</td>\n",
       "      <td>RB</td>\n",
       "      <td>Juve Next Gen</td>\n",
       "      <td>Out</td>\n",
       "      <td>Cagliari Calcio</td>\n",
       "      <td>Italy</td>\n",
       "      <td>23/24</td>\n",
       "      <td>900000.0</td>\n",
       "      <td>-1.0</td>\n",
       "    </tr>\n",
       "  </tbody>\n",
       "</table>\n",
       "<p>36098 rows × 12 columns</p>\n",
       "</div>"
      ],
      "text/plain": [
       "                                  Name Age  Nat.            Position Pos  \\\n",
       "0              Islam SlimaniI. Slimani  28   NaN      Centre-Forward  CF   \n",
       "1                    Ahmed MusaA. Musa  23   NaN         Left Winger  LW   \n",
       "2                Wilfred NdidiW. Ndidi  20   NaN  Defensive Midfield  DM   \n",
       "3               Nampalys MendyN. Mendy  24   NaN  Defensive Midfield  DM   \n",
       "4          Bartosz KapustkaB. Kapustka  19   NaN  Defensive Midfield  DM   \n",
       "..                                 ...  ..   ...                 ...  ..   \n",
       "13                 Nik PrelecN. Prelec  22   NaN      Centre-Forward  CF   \n",
       "14  Christos KourfalidisC. Kourfalidis  20   NaN    Central Midfield  CM   \n",
       "15              Davide VeroliD. Veroli  20   NaN         Centre-Back  CB   \n",
       "16               Filippo FalcoF. Falco  31   NaN        Right Winger  RW   \n",
       "17      Alessandro Di PardoA. Di Pardo  23   NaN          Right-Back  RB   \n",
       "\n",
       "   Old_or_new_club type_of_transfer             Club league season  \\\n",
       "0      Sporting CP               In   Leicester City     UK  16/17   \n",
       "1      CSKA Moscow               In   Leicester City     UK  16/17   \n",
       "2         KRC Genk               In   Leicester City     UK  16/17   \n",
       "3         OGC Nice               In   Leicester City     UK  16/17   \n",
       "4         Cracovia               In   Leicester City     UK  16/17   \n",
       "..             ...              ...              ...    ...    ...   \n",
       "13       WSG Tirol              Out  Cagliari Calcio  Italy  23/24   \n",
       "14     Feralpisalò              Out  Cagliari Calcio  Italy  23/24   \n",
       "15       Catanzaro              Out  Cagliari Calcio  Italy  23/24   \n",
       "16        Red Star              Out  Cagliari Calcio  Italy  23/24   \n",
       "17   Juve Next Gen              Out  Cagliari Calcio  Italy  23/24   \n",
       "\n",
       "    Market_value         Fee  \n",
       "0      1500000.0  31000000.0  \n",
       "1      1300000.0  19500000.0  \n",
       "2     18000000.0  17600000.0  \n",
       "3      2500000.0  15500000.0  \n",
       "4      1500000.0   5000000.0  \n",
       "..           ...         ...  \n",
       "13      600000.0        -1.0  \n",
       "14     1000000.0        -1.0  \n",
       "15      400000.0        -1.0  \n",
       "16      700000.0        -1.0  \n",
       "17      900000.0        -1.0  \n",
       "\n",
       "[36098 rows x 12 columns]"
      ]
     },
     "execution_count": 59,
     "metadata": {},
     "output_type": "execute_result"
    }
   ],
   "source": [
    "df"
   ]
  },
  {
   "cell_type": "code",
   "execution_count": 75,
   "metadata": {},
   "outputs": [],
   "source": [
    "profits = []\n",
    "for i,row in df.iterrows():\n",
    "    if row.type_of_transfer == \"Out\":\n",
    "        tmp=df[(df[\"type_of_transfer\"]==\"In\")& (df[\"Club\"]==row.Club) &(df[\"Name\"]==row.Name) & (df[\"season\"]<row.season)]\n",
    "        if tmp.empty:\n",
    "            continue\n",
    "        else:\n",
    "            profits.append((row.Club,row.Name, row.Fee, tmp.Fee))"
   ]
  },
  {
   "cell_type": "code",
   "execution_count": 76,
   "metadata": {},
   "outputs": [
    {
     "name": "stdout",
     "output_type": "stream",
     "text": [
      "1764\n"
     ]
    }
   ],
   "source": [
    "i=0\n",
    "for _,_,_,fee in profits:\n",
    "    if len(fee)>1:\n",
    "        i+=1\n",
    "\n",
    "print(i)\n"
   ]
  },
  {
   "cell_type": "code",
   "execution_count": 73,
   "metadata": {},
   "outputs": [
    {
     "data": {
      "text/plain": [
       "6426"
      ]
     },
     "execution_count": 73,
     "metadata": {},
     "output_type": "execute_result"
    }
   ],
   "source": [
    "i"
   ]
  },
  {
   "cell_type": "code",
   "execution_count": 74,
   "metadata": {},
   "outputs": [
    {
     "data": {
      "text/plain": [
       "13847"
      ]
     },
     "execution_count": 74,
     "metadata": {},
     "output_type": "execute_result"
    }
   ],
   "source": [
    "len(profits)"
   ]
  },
  {
   "cell_type": "code",
   "execution_count": 42,
   "metadata": {},
   "outputs": [],
   "source": [
    "df2=df[(df[\"Market_value\"]!=-1) & (df[\"Fee\"]!=-1)]"
   ]
  },
  {
   "cell_type": "code",
   "execution_count": 43,
   "metadata": {},
   "outputs": [],
   "source": [
    "ins=df2[df2[\"type_of_transfer\"]==\"In\"].groupby([\"Club\",\"league\", \"season\"]).sum([\"Market_value\",\"Fee\"])[[\"Market_value\",\"Fee\"]].reset_index()\n",
    "outs =df2[df2[\"type_of_transfer\"]==\"Out\"].groupby([\"Club\",\"league\",\"season\"]).sum([\"Market_value\",\"Fee\"])[[\"Market_value\",\"Fee\"]].reset_index()\n"
   ]
  },
  {
   "cell_type": "code",
   "execution_count": 44,
   "metadata": {},
   "outputs": [
    {
     "data": {
      "text/html": [
       "<div>\n",
       "<style scoped>\n",
       "    .dataframe tbody tr th:only-of-type {\n",
       "        vertical-align: middle;\n",
       "    }\n",
       "\n",
       "    .dataframe tbody tr th {\n",
       "        vertical-align: top;\n",
       "    }\n",
       "\n",
       "    .dataframe thead th {\n",
       "        text-align: right;\n",
       "    }\n",
       "</style>\n",
       "<table border=\"1\" class=\"dataframe\">\n",
       "  <thead>\n",
       "    <tr style=\"text-align: right;\">\n",
       "      <th></th>\n",
       "      <th>Club</th>\n",
       "      <th>league</th>\n",
       "      <th>season</th>\n",
       "      <th>Market_value</th>\n",
       "      <th>Fee</th>\n",
       "    </tr>\n",
       "  </thead>\n",
       "  <tbody>\n",
       "    <tr>\n",
       "      <th>0</th>\n",
       "      <td>1.FC Heidenheim 1846</td>\n",
       "      <td>Germany</td>\n",
       "      <td>23/24</td>\n",
       "      <td>5000000.0</td>\n",
       "      <td>2300000.0</td>\n",
       "    </tr>\n",
       "    <tr>\n",
       "      <th>1</th>\n",
       "      <td>1.FC Köln</td>\n",
       "      <td>Germany</td>\n",
       "      <td>16/17</td>\n",
       "      <td>40450000.0</td>\n",
       "      <td>7850000.0</td>\n",
       "    </tr>\n",
       "    <tr>\n",
       "      <th>2</th>\n",
       "      <td>1.FC Köln</td>\n",
       "      <td>Germany</td>\n",
       "      <td>17/18</td>\n",
       "      <td>15750000.0</td>\n",
       "      <td>40000000.0</td>\n",
       "    </tr>\n",
       "    <tr>\n",
       "      <th>3</th>\n",
       "      <td>1.FC Köln</td>\n",
       "      <td>Germany</td>\n",
       "      <td>19/20</td>\n",
       "      <td>24300000.0</td>\n",
       "      <td>20250000.0</td>\n",
       "    </tr>\n",
       "    <tr>\n",
       "      <th>4</th>\n",
       "      <td>1.FC Köln</td>\n",
       "      <td>Germany</td>\n",
       "      <td>20/21</td>\n",
       "      <td>16700000.0</td>\n",
       "      <td>18500000.0</td>\n",
       "    </tr>\n",
       "    <tr>\n",
       "      <th>...</th>\n",
       "      <td>...</td>\n",
       "      <td>...</td>\n",
       "      <td>...</td>\n",
       "      <td>...</td>\n",
       "      <td>...</td>\n",
       "    </tr>\n",
       "    <tr>\n",
       "      <th>860</th>\n",
       "      <td>Wolverhampton Wanderers</td>\n",
       "      <td>UK</td>\n",
       "      <td>19/20</td>\n",
       "      <td>73400000.0</td>\n",
       "      <td>116700000.0</td>\n",
       "    </tr>\n",
       "    <tr>\n",
       "      <th>861</th>\n",
       "      <td>Wolverhampton Wanderers</td>\n",
       "      <td>UK</td>\n",
       "      <td>20/21</td>\n",
       "      <td>46500000.0</td>\n",
       "      <td>87589000.0</td>\n",
       "    </tr>\n",
       "    <tr>\n",
       "      <th>862</th>\n",
       "      <td>Wolverhampton Wanderers</td>\n",
       "      <td>UK</td>\n",
       "      <td>21/22</td>\n",
       "      <td>67100000.0</td>\n",
       "      <td>37600000.0</td>\n",
       "    </tr>\n",
       "    <tr>\n",
       "      <th>863</th>\n",
       "      <td>Wolverhampton Wanderers</td>\n",
       "      <td>UK</td>\n",
       "      <td>22/23</td>\n",
       "      <td>185000000.0</td>\n",
       "      <td>177107000.0</td>\n",
       "    </tr>\n",
       "    <tr>\n",
       "      <th>864</th>\n",
       "      <td>Wolverhampton Wanderers</td>\n",
       "      <td>UK</td>\n",
       "      <td>23/24</td>\n",
       "      <td>60000000.0</td>\n",
       "      <td>94000000.0</td>\n",
       "    </tr>\n",
       "  </tbody>\n",
       "</table>\n",
       "<p>865 rows × 5 columns</p>\n",
       "</div>"
      ],
      "text/plain": [
       "                        Club   league season  Market_value          Fee\n",
       "0       1.FC Heidenheim 1846  Germany  23/24     5000000.0    2300000.0\n",
       "1                  1.FC Köln  Germany  16/17    40450000.0    7850000.0\n",
       "2                  1.FC Köln  Germany  17/18    15750000.0   40000000.0\n",
       "3                  1.FC Köln  Germany  19/20    24300000.0   20250000.0\n",
       "4                  1.FC Köln  Germany  20/21    16700000.0   18500000.0\n",
       "..                       ...      ...    ...           ...          ...\n",
       "860  Wolverhampton Wanderers       UK  19/20    73400000.0  116700000.0\n",
       "861  Wolverhampton Wanderers       UK  20/21    46500000.0   87589000.0\n",
       "862  Wolverhampton Wanderers       UK  21/22    67100000.0   37600000.0\n",
       "863  Wolverhampton Wanderers       UK  22/23   185000000.0  177107000.0\n",
       "864  Wolverhampton Wanderers       UK  23/24    60000000.0   94000000.0\n",
       "\n",
       "[865 rows x 5 columns]"
      ]
     },
     "execution_count": 44,
     "metadata": {},
     "output_type": "execute_result"
    }
   ],
   "source": [
    "ins"
   ]
  },
  {
   "cell_type": "code",
   "execution_count": 100,
   "metadata": {},
   "outputs": [
    {
     "data": {
      "text/html": [
       "<div>\n",
       "<style scoped>\n",
       "    .dataframe tbody tr th:only-of-type {\n",
       "        vertical-align: middle;\n",
       "    }\n",
       "\n",
       "    .dataframe tbody tr th {\n",
       "        vertical-align: top;\n",
       "    }\n",
       "\n",
       "    .dataframe thead th {\n",
       "        text-align: right;\n",
       "    }\n",
       "</style>\n",
       "<table border=\"1\" class=\"dataframe\">\n",
       "  <thead>\n",
       "    <tr style=\"text-align: right;\">\n",
       "      <th></th>\n",
       "      <th>Club</th>\n",
       "      <th>league</th>\n",
       "      <th>Market_value</th>\n",
       "      <th>Fee</th>\n",
       "    </tr>\n",
       "  </thead>\n",
       "  <tbody>\n",
       "    <tr>\n",
       "      <th>0</th>\n",
       "      <td>1.FC Köln</td>\n",
       "      <td>Germany</td>\n",
       "      <td>4000000.0</td>\n",
       "      <td>2700000.0</td>\n",
       "    </tr>\n",
       "    <tr>\n",
       "      <th>1</th>\n",
       "      <td>1.FC Union Berlin</td>\n",
       "      <td>Germany</td>\n",
       "      <td>6500000.0</td>\n",
       "      <td>2100000.0</td>\n",
       "    </tr>\n",
       "    <tr>\n",
       "      <th>2</th>\n",
       "      <td>1.FSV Mainz 05</td>\n",
       "      <td>Germany</td>\n",
       "      <td>32700000.0</td>\n",
       "      <td>23550000.0</td>\n",
       "    </tr>\n",
       "    <tr>\n",
       "      <th>3</th>\n",
       "      <td>AFC Bournemouth</td>\n",
       "      <td>UK</td>\n",
       "      <td>2200000.0</td>\n",
       "      <td>1500000.0</td>\n",
       "    </tr>\n",
       "    <tr>\n",
       "      <th>4</th>\n",
       "      <td>AS Monaco</td>\n",
       "      <td>France</td>\n",
       "      <td>57300000.0</td>\n",
       "      <td>59000000.0</td>\n",
       "    </tr>\n",
       "    <tr>\n",
       "      <th>...</th>\n",
       "      <td>...</td>\n",
       "      <td>...</td>\n",
       "      <td>...</td>\n",
       "      <td>...</td>\n",
       "    </tr>\n",
       "    <tr>\n",
       "      <th>72</th>\n",
       "      <td>VfB Stuttgart</td>\n",
       "      <td>Germany</td>\n",
       "      <td>43300000.0</td>\n",
       "      <td>49900000.0</td>\n",
       "    </tr>\n",
       "    <tr>\n",
       "      <th>73</th>\n",
       "      <td>VfL Wolfsburg</td>\n",
       "      <td>Germany</td>\n",
       "      <td>71500000.0</td>\n",
       "      <td>72100000.0</td>\n",
       "    </tr>\n",
       "    <tr>\n",
       "      <th>74</th>\n",
       "      <td>Villarreal CF</td>\n",
       "      <td>Spain</td>\n",
       "      <td>153500000.0</td>\n",
       "      <td>109500000.0</td>\n",
       "    </tr>\n",
       "    <tr>\n",
       "      <th>75</th>\n",
       "      <td>West Ham United</td>\n",
       "      <td>UK</td>\n",
       "      <td>146000000.0</td>\n",
       "      <td>156400000.0</td>\n",
       "    </tr>\n",
       "    <tr>\n",
       "      <th>76</th>\n",
       "      <td>Wolverhampton Wanderers</td>\n",
       "      <td>UK</td>\n",
       "      <td>156800000.0</td>\n",
       "      <td>169200000.0</td>\n",
       "    </tr>\n",
       "  </tbody>\n",
       "</table>\n",
       "<p>77 rows × 4 columns</p>\n",
       "</div>"
      ],
      "text/plain": [
       "                       Club   league  Market_value          Fee\n",
       "0                 1.FC Köln  Germany     4000000.0    2700000.0\n",
       "1         1.FC Union Berlin  Germany     6500000.0    2100000.0\n",
       "2            1.FSV Mainz 05  Germany    32700000.0   23550000.0\n",
       "3           AFC Bournemouth       UK     2200000.0    1500000.0\n",
       "4                 AS Monaco   France    57300000.0   59000000.0\n",
       "..                      ...      ...           ...          ...\n",
       "72            VfB Stuttgart  Germany    43300000.0   49900000.0\n",
       "73            VfL Wolfsburg  Germany    71500000.0   72100000.0\n",
       "74            Villarreal CF    Spain   153500000.0  109500000.0\n",
       "75          West Ham United       UK   146000000.0  156400000.0\n",
       "76  Wolverhampton Wanderers       UK   156800000.0  169200000.0\n",
       "\n",
       "[77 rows x 4 columns]"
      ]
     },
     "execution_count": 100,
     "metadata": {},
     "output_type": "execute_result"
    }
   ],
   "source": [
    "outs"
   ]
  },
  {
   "cell_type": "code",
   "execution_count": 48,
   "metadata": {},
   "outputs": [],
   "source": [
    "ins=ins.sort_values(\"season\")"
   ]
  },
  {
   "cell_type": "code",
   "execution_count": 52,
   "metadata": {},
   "outputs": [
    {
     "data": {
      "text/html": [
       "<div>\n",
       "<style scoped>\n",
       "    .dataframe tbody tr th:only-of-type {\n",
       "        vertical-align: middle;\n",
       "    }\n",
       "\n",
       "    .dataframe tbody tr th {\n",
       "        vertical-align: top;\n",
       "    }\n",
       "\n",
       "    .dataframe thead th {\n",
       "        text-align: right;\n",
       "    }\n",
       "</style>\n",
       "<table border=\"1\" class=\"dataframe\">\n",
       "  <thead>\n",
       "    <tr style=\"text-align: right;\">\n",
       "      <th></th>\n",
       "      <th>Club</th>\n",
       "      <th>league</th>\n",
       "      <th>season</th>\n",
       "      <th>Market_value</th>\n",
       "      <th>Fee</th>\n",
       "    </tr>\n",
       "  </thead>\n",
       "  <tbody>\n",
       "    <tr>\n",
       "      <th>280</th>\n",
       "      <td>Cagliari Calcio</td>\n",
       "      <td>Italy</td>\n",
       "      <td>16/17</td>\n",
       "      <td>1125000.0</td>\n",
       "      <td>8500000.0</td>\n",
       "    </tr>\n",
       "    <tr>\n",
       "      <th>705</th>\n",
       "      <td>Sevilla FC</td>\n",
       "      <td>Spain</td>\n",
       "      <td>16/17</td>\n",
       "      <td>57150000.0</td>\n",
       "      <td>81700000.0</td>\n",
       "    </tr>\n",
       "    <tr>\n",
       "      <th>170</th>\n",
       "      <td>Angers SCO</td>\n",
       "      <td>France</td>\n",
       "      <td>16/17</td>\n",
       "      <td>22000000.0</td>\n",
       "      <td>4400000.0</td>\n",
       "    </tr>\n",
       "    <tr>\n",
       "      <th>452</th>\n",
       "      <td>Hamburger SV</td>\n",
       "      <td>Germany</td>\n",
       "      <td>16/17</td>\n",
       "      <td>46350000.0</td>\n",
       "      <td>42150000.0</td>\n",
       "    </tr>\n",
       "    <tr>\n",
       "      <th>179</th>\n",
       "      <td>Arsenal FC</td>\n",
       "      <td>UK</td>\n",
       "      <td>16/17</td>\n",
       "      <td>33600000.0</td>\n",
       "      <td>113000000.0</td>\n",
       "    </tr>\n",
       "    <tr>\n",
       "      <th>...</th>\n",
       "      <td>...</td>\n",
       "      <td>...</td>\n",
       "      <td>...</td>\n",
       "      <td>...</td>\n",
       "      <td>...</td>\n",
       "    </tr>\n",
       "    <tr>\n",
       "      <th>520</th>\n",
       "      <td>Luton Town</td>\n",
       "      <td>UK</td>\n",
       "      <td>23/24</td>\n",
       "      <td>24300000.0</td>\n",
       "      <td>22750000.0</td>\n",
       "    </tr>\n",
       "    <tr>\n",
       "      <th>528</th>\n",
       "      <td>Manchester City</td>\n",
       "      <td>UK</td>\n",
       "      <td>23/24</td>\n",
       "      <td>233000000.0</td>\n",
       "      <td>241100000.0</td>\n",
       "    </tr>\n",
       "    <tr>\n",
       "      <th>536</th>\n",
       "      <td>Manchester United</td>\n",
       "      <td>UK</td>\n",
       "      <td>23/24</td>\n",
       "      <td>205000000.0</td>\n",
       "      <td>203400000.0</td>\n",
       "    </tr>\n",
       "    <tr>\n",
       "      <th>554</th>\n",
       "      <td>Newcastle United</td>\n",
       "      <td>UK</td>\n",
       "      <td>23/24</td>\n",
       "      <td>133000000.0</td>\n",
       "      <td>153200000.0</td>\n",
       "    </tr>\n",
       "    <tr>\n",
       "      <th>864</th>\n",
       "      <td>Wolverhampton Wanderers</td>\n",
       "      <td>UK</td>\n",
       "      <td>23/24</td>\n",
       "      <td>60000000.0</td>\n",
       "      <td>94000000.0</td>\n",
       "    </tr>\n",
       "  </tbody>\n",
       "</table>\n",
       "<p>865 rows × 5 columns</p>\n",
       "</div>"
      ],
      "text/plain": [
       "                        Club   league season  Market_value          Fee\n",
       "280          Cagliari Calcio    Italy  16/17     1125000.0    8500000.0\n",
       "705               Sevilla FC    Spain  16/17    57150000.0   81700000.0\n",
       "170               Angers SCO   France  16/17    22000000.0    4400000.0\n",
       "452             Hamburger SV  Germany  16/17    46350000.0   42150000.0\n",
       "179               Arsenal FC       UK  16/17    33600000.0  113000000.0\n",
       "..                       ...      ...    ...           ...          ...\n",
       "520               Luton Town       UK  23/24    24300000.0   22750000.0\n",
       "528          Manchester City       UK  23/24   233000000.0  241100000.0\n",
       "536        Manchester United       UK  23/24   205000000.0  203400000.0\n",
       "554         Newcastle United       UK  23/24   133000000.0  153200000.0\n",
       "864  Wolverhampton Wanderers       UK  23/24    60000000.0   94000000.0\n",
       "\n",
       "[865 rows x 5 columns]"
      ]
     },
     "execution_count": 52,
     "metadata": {},
     "output_type": "execute_result"
    }
   ],
   "source": [
    "ins"
   ]
  },
  {
   "cell_type": "code",
   "execution_count": 49,
   "metadata": {},
   "outputs": [
    {
     "data": {
      "application/vnd.plotly.v1+json": {
       "config": {
        "plotlyServerURL": "https://plot.ly"
       },
       "data": [
        {
         "hovertemplate": "league=Italy<br>season=16/17<br>Market_value=%{x}<br>Fee=%{y}<extra></extra>",
         "legendgroup": "Italy",
         "marker": {
          "color": "#636efa",
          "symbol": "circle"
         },
         "mode": "markers",
         "name": "Italy",
         "orientation": "v",
         "showlegend": true,
         "type": "scatter",
         "x": [
          1125000,
          122050000,
          27400000,
          49600000,
          20550000,
          12350000,
          35500000,
          71600000,
          51175000,
          7100000,
          10900000,
          14100000,
          4700000,
          101850000,
          198550000,
          50400000,
          23125000,
          17400000,
          16650000,
          13400000
         ],
         "xaxis": "x",
         "y": [
          8500000,
          35400000,
          14940000,
          97590000,
          20950000,
          30000000,
          109200000,
          153630000,
          32700000,
          7000000,
          5950000,
          13990000,
          11450000,
          26500000,
          91000000,
          28760000,
          25710000,
          11230000,
          26000000,
          5480000
         ],
         "yaxis": "y"
        },
        {
         "hovertemplate": "<b>OLS trendline</b><br>Fee = 0.409829 * Market_value + 2.0391e+07<br>R<sup>2</sup>=0.238376<br><br>league=Italy<br>season=16/17<br>Market_value=%{x}<br>Fee=%{y} <b>(trend)</b><extra></extra>",
         "legendgroup": "Italy",
         "marker": {
          "color": "#636efa",
          "symbol": "circle"
         },
         "mode": "lines",
         "name": "Italy",
         "showlegend": false,
         "type": "scatter",
         "x": [
          1125000,
          4700000,
          7100000,
          10900000,
          12350000,
          13400000,
          14100000,
          16650000,
          17400000,
          20550000,
          23125000,
          27400000,
          35500000,
          49600000,
          50400000,
          51175000,
          71600000,
          101850000,
          122050000,
          198550000
         ],
         "xaxis": "x",
         "y": [
          20852057.20365468,
          22317195.99624099,
          23300785.675180048,
          24858136.000166893,
          25452388.09785924,
          25882708.58239508,
          26169588.905418973,
          27214652.939291723,
          27522024.71396018,
          28812986.167567696,
          29868295.927262727,
          31620315.042872928,
          34939930.209292255,
          40718519.57305923,
          41046382.79937225,
          41364000.29986299,
          49734758.29666728,
          62132086.54162834,
          70410633.0060321,
          101762554.0222146
         ],
         "yaxis": "y"
        },
        {
         "hovertemplate": "league=Spain<br>season=16/17<br>Market_value=%{x}<br>Fee=%{y}<extra></extra>",
         "legendgroup": "Spain",
         "marker": {
          "color": "#EF553B",
          "symbol": "circle"
         },
         "mode": "markers",
         "name": "Spain",
         "orientation": "v",
         "showlegend": true,
         "type": "scatter",
         "x": [
          57150000,
          22100000,
          12300000,
          52200000,
          450000,
          17650000,
          6600000,
          47000000,
          1150000,
          26000000,
          20000000,
          4300000,
          5450000,
          2700000,
          4650000,
          8050000,
          9550000,
          5500000,
          6500000
         ],
         "xaxis": "x",
         "y": [
          81700000,
          7580000,
          55950000,
          64800000,
          700000,
          20900000,
          5930000,
          124750000,
          7000000,
          18000000,
          30000000,
          2900000,
          13200000,
          2200000,
          12000000,
          8600000,
          5300000,
          8400000,
          12235000
         ],
         "yaxis": "y"
        },
        {
         "hovertemplate": "<b>OLS trendline</b><br>Fee = 1.58728 * Market_value + -463158<br>R<sup>2</sup>=0.705697<br><br>league=Spain<br>season=16/17<br>Market_value=%{x}<br>Fee=%{y} <b>(trend)</b><extra></extra>",
         "legendgroup": "Spain",
         "marker": {
          "color": "#EF553B",
          "symbol": "circle"
         },
         "mode": "lines",
         "name": "Spain",
         "showlegend": false,
         "type": "scatter",
         "x": [
          450000,
          1150000,
          2700000,
          4300000,
          4650000,
          5450000,
          5500000,
          6500000,
          6600000,
          8050000,
          9550000,
          12300000,
          17650000,
          20000000,
          22100000,
          26000000,
          47000000,
          52200000,
          57150000
         ],
         "xaxis": "x",
         "y": [
          251117.232849092,
          1362211.632859423,
          3822492.090025156,
          6362136.432905912,
          6917683.632911078,
          8187505.804351456,
          8266869.69006648,
          9854147.404366953,
          10012875.175797,
          12314427.861532686,
          14695344.432983395,
          19060358.147309694,
          27552293.918817226,
          31282396.547423337,
          34615679.74745433,
          40806062.833226174,
          74138894.8335361,
          82392738.94789857,
          90249763.6336859
         ],
         "yaxis": "y"
        },
        {
         "hovertemplate": "league=France<br>season=16/17<br>Market_value=%{x}<br>Fee=%{y}<extra></extra>",
         "legendgroup": "France",
         "marker": {
          "color": "#00cc96",
          "symbol": "circle"
         },
         "mode": "markers",
         "name": "France",
         "orientation": "v",
         "showlegend": true,
         "type": "scatter",
         "x": [
          22000000,
          52000000,
          70300000,
          11100000,
          1800000,
          3500000,
          6700000,
          350000,
          200000,
          5550000,
          21100000,
          15950000,
          3075000,
          1100000,
          17600000,
          20175000,
          25000000,
          7200000,
          6000000
         ],
         "xaxis": "x",
         "y": [
          4400000,
          134500000,
          16200000,
          11500000,
          250000,
          2750000,
          7850000,
          4250000,
          400000,
          8600000,
          5000000,
          51500000,
          2300000,
          7000000,
          4900000,
          2270000,
          28600000,
          50500000,
          13250000
         ],
         "yaxis": "y"
        },
        {
         "hovertemplate": "<b>OLS trendline</b><br>Fee = 0.870323 * Market_value + 5.42195e+06<br>R<sup>2</sup>=0.249885<br><br>league=France<br>season=16/17<br>Market_value=%{x}<br>Fee=%{y} <b>(trend)</b><extra></extra>",
         "legendgroup": "France",
         "marker": {
          "color": "#00cc96",
          "symbol": "circle"
         },
         "mode": "lines",
         "name": "France",
         "showlegend": false,
         "type": "scatter",
         "x": [
          200000,
          350000,
          1100000,
          1800000,
          3075000,
          3500000,
          5550000,
          6000000,
          6700000,
          7200000,
          11100000,
          15950000,
          17600000,
          20175000,
          21100000,
          22000000,
          25000000,
          52000000,
          70300000
         ],
         "xaxis": "x",
         "y": [
          5596011.716430985,
          5726560.223256261,
          6379302.757382642,
          6988529.122567263,
          8098191.430582111,
          8468078.86658706,
          10252241.793199167,
          10643887.313674996,
          11253113.678859618,
          11688275.368277205,
          15082536.545734383,
          19303604.93308498,
          20739638.508163016,
          22980721.20866359,
          23785770.334086124,
          24569061.375037782,
          27180031.511543304,
          50678762.74009301,
          66605680.5727767
         ],
         "yaxis": "y"
        },
        {
         "hovertemplate": "league=Germany<br>season=16/17<br>Market_value=%{x}<br>Fee=%{y}<extra></extra>",
         "legendgroup": "Germany",
         "marker": {
          "color": "#ab63fa",
          "symbol": "circle"
         },
         "mode": "markers",
         "name": "Germany",
         "orientation": "v",
         "showlegend": true,
         "type": "scatter",
         "x": [
          46350000,
          63800000,
          5900000,
          41800000,
          20000000,
          98550000,
          4300000,
          10650000,
          5850000,
          31700000,
          10475000,
          19700000,
          145725000,
          212300000,
          6800000,
          28900000,
          52200000,
          40450000
         ],
         "xaxis": "x",
         "y": [
          42150000,
          23700000,
          1500000,
          58800000,
          70000000,
          95950000,
          6700000,
          3800000,
          13200000,
          16780000,
          41250000,
          43300000,
          73500000,
          111100000,
          7950000,
          29210000,
          23838000,
          7850000
         ],
         "yaxis": "y"
        },
        {
         "hovertemplate": "<b>OLS trendline</b><br>Fee = 0.46517 * Market_value + 1.54055e+07<br>R<sup>2</sup>=0.610184<br><br>league=Germany<br>season=16/17<br>Market_value=%{x}<br>Fee=%{y} <b>(trend)</b><extra></extra>",
         "legendgroup": "Germany",
         "marker": {
          "color": "#ab63fa",
          "symbol": "circle"
         },
         "mode": "lines",
         "name": "Germany",
         "showlegend": false,
         "type": "scatter",
         "x": [
          4300000,
          5850000,
          5900000,
          6800000,
          10475000,
          10650000,
          19700000,
          20000000,
          28900000,
          31700000,
          40450000,
          41800000,
          46350000,
          52200000,
          63800000,
          98550000,
          145725000,
          212300000
         ],
         "xaxis": "x",
         "y": [
          17405777.87202,
          18126791.734881323,
          18150050.246586528,
          18568703.4572802,
          20278204.0676127,
          20359608.858580917,
          24569399.477222856,
          24708950.54745408,
          28848965.63098041,
          30151442.286471836,
          34221681.83488255,
          34849661.650923066,
          36966186.21609663,
          39687432.08560551,
          45083406.80121286,
          61248072.4363297,
          83192478.23018976,
          114161186.565669
         ],
         "yaxis": "y"
        },
        {
         "hovertemplate": "league=UK<br>season=16/17<br>Market_value=%{x}<br>Fee=%{y}<extra></extra>",
         "legendgroup": "UK",
         "marker": {
          "color": "#FFA15A",
          "symbol": "circle"
         },
         "mode": "markers",
         "name": "UK",
         "orientation": "v",
         "showlegend": true,
         "type": "scatter",
         "x": [
          33600000,
          3300000,
          23000000,
          25500000,
          3300000,
          52900000,
          13125000,
          32300000,
          18300000,
          61750000,
          24500000,
          23850000,
          30300000,
          43450000,
          6900000,
          10000000,
          11350000,
          28100000,
          16775000,
          278950000
         ],
         "xaxis": "x",
         "y": [
          113000000,
          20800000,
          83500000,
          92100000,
          37900000,
          68900000,
          57550000,
          79900000,
          100200000,
          71000000,
          132800000,
          37000000,
          83500000,
          18040000,
          37900000,
          80000000,
          46300000,
          33150000,
          40665000,
          198250000
         ],
         "yaxis": "y"
        },
        {
         "hovertemplate": "<b>OLS trendline</b><br>Fee = 0.51879 * Market_value + 5.23951e+07<br>R<sup>2</sup>=0.503554<br><br>league=UK<br>season=16/17<br>Market_value=%{x}<br>Fee=%{y} <b>(trend)</b><extra></extra>",
         "legendgroup": "UK",
         "marker": {
          "color": "#FFA15A",
          "symbol": "circle"
         },
         "mode": "lines",
         "name": "UK",
         "showlegend": false,
         "type": "scatter",
         "x": [
          3300000,
          3300000,
          6900000,
          10000000,
          11350000,
          13125000,
          16775000,
          18300000,
          23000000,
          23850000,
          24500000,
          25500000,
          28100000,
          30300000,
          32300000,
          33600000,
          43450000,
          52900000,
          61750000,
          278950000
         ],
         "xaxis": "x",
         "y": [
          54107118.17007619,
          54107118.17007619,
          55974760.51254863,
          57583008.085233234,
          58283373.9636604,
          59204225.396407224,
          61097807.215858445,
          61888961.263711356,
          64327272.099717036,
          64768243.20835636,
          65105456.40908055,
          65624245.94865623,
          66973098.75155299,
          68114435.73861948,
          69152014.81777084,
          69826441.21921921,
          74936518.18403964,
          79839079.33302978,
          84430366.75827453,
          197111454.75411162
         ],
         "yaxis": "y"
        },
        {
         "hovertemplate": "league=Arab<br>season=16/17<br>Market_value=%{x}<br>Fee=%{y}<extra></extra>",
         "legendgroup": "Arab",
         "marker": {
          "color": "#19d3f3",
          "symbol": "circle"
         },
         "mode": "markers",
         "name": "Arab",
         "orientation": "v",
         "showlegend": true,
         "type": "scatter",
         "x": [
          550000,
          50000,
          150000,
          75000,
          900000,
          950000,
          5700000,
          650000
         ],
         "xaxis": "x",
         "y": [
          2250000,
          300000,
          400000,
          310000,
          5350000,
          1000000,
          6700000,
          1000000
         ],
         "yaxis": "y"
        },
        {
         "hovertemplate": "<b>OLS trendline</b><br>Fee = 1.06603 * Market_value + 961130<br>R<sup>2</sup>=0.647786<br><br>league=Arab<br>season=16/17<br>Market_value=%{x}<br>Fee=%{y} <b>(trend)</b><extra></extra>",
         "legendgroup": "Arab",
         "marker": {
          "color": "#19d3f3",
          "symbol": "circle"
         },
         "mode": "lines",
         "name": "Arab",
         "showlegend": false,
         "type": "scatter",
         "x": [
          50000,
          75000,
          150000,
          550000,
          650000,
          900000,
          950000,
          5700000
         ],
         "xaxis": "x",
         "y": [
          1014432.1646701961,
          1041083.0130256698,
          1121035.558092091,
          1547449.1317796707,
          1654052.5252015656,
          1920561.008756303,
          1973862.7054672504,
          7037523.893007259
         ],
         "yaxis": "y"
        }
       ],
       "frames": [
        {
         "data": [
          {
           "hovertemplate": "league=Italy<br>season=16/17<br>Market_value=%{x}<br>Fee=%{y}<extra></extra>",
           "legendgroup": "Italy",
           "marker": {
            "color": "#636efa",
            "symbol": "circle"
           },
           "mode": "markers",
           "name": "Italy",
           "orientation": "v",
           "showlegend": true,
           "type": "scatter",
           "x": [
            1125000,
            122050000,
            27400000,
            49600000,
            20550000,
            12350000,
            35500000,
            71600000,
            51175000,
            7100000,
            10900000,
            14100000,
            4700000,
            101850000,
            198550000,
            50400000,
            23125000,
            17400000,
            16650000,
            13400000
           ],
           "xaxis": "x",
           "y": [
            8500000,
            35400000,
            14940000,
            97590000,
            20950000,
            30000000,
            109200000,
            153630000,
            32700000,
            7000000,
            5950000,
            13990000,
            11450000,
            26500000,
            91000000,
            28760000,
            25710000,
            11230000,
            26000000,
            5480000
           ],
           "yaxis": "y"
          },
          {
           "hovertemplate": "<b>OLS trendline</b><br>Fee = 0.409829 * Market_value + 2.0391e+07<br>R<sup>2</sup>=0.238376<br><br>league=Italy<br>season=16/17<br>Market_value=%{x}<br>Fee=%{y} <b>(trend)</b><extra></extra>",
           "legendgroup": "Italy",
           "marker": {
            "color": "#636efa",
            "symbol": "circle"
           },
           "mode": "lines",
           "name": "Italy",
           "showlegend": false,
           "type": "scatter",
           "x": [
            1125000,
            4700000,
            7100000,
            10900000,
            12350000,
            13400000,
            14100000,
            16650000,
            17400000,
            20550000,
            23125000,
            27400000,
            35500000,
            49600000,
            50400000,
            51175000,
            71600000,
            101850000,
            122050000,
            198550000
           ],
           "xaxis": "x",
           "y": [
            20852057.20365468,
            22317195.99624099,
            23300785.675180048,
            24858136.000166893,
            25452388.09785924,
            25882708.58239508,
            26169588.905418973,
            27214652.939291723,
            27522024.71396018,
            28812986.167567696,
            29868295.927262727,
            31620315.042872928,
            34939930.209292255,
            40718519.57305923,
            41046382.79937225,
            41364000.29986299,
            49734758.29666728,
            62132086.54162834,
            70410633.0060321,
            101762554.0222146
           ],
           "yaxis": "y"
          },
          {
           "hovertemplate": "league=Spain<br>season=16/17<br>Market_value=%{x}<br>Fee=%{y}<extra></extra>",
           "legendgroup": "Spain",
           "marker": {
            "color": "#EF553B",
            "symbol": "circle"
           },
           "mode": "markers",
           "name": "Spain",
           "orientation": "v",
           "showlegend": true,
           "type": "scatter",
           "x": [
            57150000,
            22100000,
            12300000,
            52200000,
            450000,
            17650000,
            6600000,
            47000000,
            1150000,
            26000000,
            20000000,
            4300000,
            5450000,
            2700000,
            4650000,
            8050000,
            9550000,
            5500000,
            6500000
           ],
           "xaxis": "x",
           "y": [
            81700000,
            7580000,
            55950000,
            64800000,
            700000,
            20900000,
            5930000,
            124750000,
            7000000,
            18000000,
            30000000,
            2900000,
            13200000,
            2200000,
            12000000,
            8600000,
            5300000,
            8400000,
            12235000
           ],
           "yaxis": "y"
          },
          {
           "hovertemplate": "<b>OLS trendline</b><br>Fee = 1.58728 * Market_value + -463158<br>R<sup>2</sup>=0.705697<br><br>league=Spain<br>season=16/17<br>Market_value=%{x}<br>Fee=%{y} <b>(trend)</b><extra></extra>",
           "legendgroup": "Spain",
           "marker": {
            "color": "#EF553B",
            "symbol": "circle"
           },
           "mode": "lines",
           "name": "Spain",
           "showlegend": false,
           "type": "scatter",
           "x": [
            450000,
            1150000,
            2700000,
            4300000,
            4650000,
            5450000,
            5500000,
            6500000,
            6600000,
            8050000,
            9550000,
            12300000,
            17650000,
            20000000,
            22100000,
            26000000,
            47000000,
            52200000,
            57150000
           ],
           "xaxis": "x",
           "y": [
            251117.232849092,
            1362211.632859423,
            3822492.090025156,
            6362136.432905912,
            6917683.632911078,
            8187505.804351456,
            8266869.69006648,
            9854147.404366953,
            10012875.175797,
            12314427.861532686,
            14695344.432983395,
            19060358.147309694,
            27552293.918817226,
            31282396.547423337,
            34615679.74745433,
            40806062.833226174,
            74138894.8335361,
            82392738.94789857,
            90249763.6336859
           ],
           "yaxis": "y"
          },
          {
           "hovertemplate": "league=France<br>season=16/17<br>Market_value=%{x}<br>Fee=%{y}<extra></extra>",
           "legendgroup": "France",
           "marker": {
            "color": "#00cc96",
            "symbol": "circle"
           },
           "mode": "markers",
           "name": "France",
           "orientation": "v",
           "showlegend": true,
           "type": "scatter",
           "x": [
            22000000,
            52000000,
            70300000,
            11100000,
            1800000,
            3500000,
            6700000,
            350000,
            200000,
            5550000,
            21100000,
            15950000,
            3075000,
            1100000,
            17600000,
            20175000,
            25000000,
            7200000,
            6000000
           ],
           "xaxis": "x",
           "y": [
            4400000,
            134500000,
            16200000,
            11500000,
            250000,
            2750000,
            7850000,
            4250000,
            400000,
            8600000,
            5000000,
            51500000,
            2300000,
            7000000,
            4900000,
            2270000,
            28600000,
            50500000,
            13250000
           ],
           "yaxis": "y"
          },
          {
           "hovertemplate": "<b>OLS trendline</b><br>Fee = 0.870323 * Market_value + 5.42195e+06<br>R<sup>2</sup>=0.249885<br><br>league=France<br>season=16/17<br>Market_value=%{x}<br>Fee=%{y} <b>(trend)</b><extra></extra>",
           "legendgroup": "France",
           "marker": {
            "color": "#00cc96",
            "symbol": "circle"
           },
           "mode": "lines",
           "name": "France",
           "showlegend": false,
           "type": "scatter",
           "x": [
            200000,
            350000,
            1100000,
            1800000,
            3075000,
            3500000,
            5550000,
            6000000,
            6700000,
            7200000,
            11100000,
            15950000,
            17600000,
            20175000,
            21100000,
            22000000,
            25000000,
            52000000,
            70300000
           ],
           "xaxis": "x",
           "y": [
            5596011.716430985,
            5726560.223256261,
            6379302.757382642,
            6988529.122567263,
            8098191.430582111,
            8468078.86658706,
            10252241.793199167,
            10643887.313674996,
            11253113.678859618,
            11688275.368277205,
            15082536.545734383,
            19303604.93308498,
            20739638.508163016,
            22980721.20866359,
            23785770.334086124,
            24569061.375037782,
            27180031.511543304,
            50678762.74009301,
            66605680.5727767
           ],
           "yaxis": "y"
          },
          {
           "hovertemplate": "league=Germany<br>season=16/17<br>Market_value=%{x}<br>Fee=%{y}<extra></extra>",
           "legendgroup": "Germany",
           "marker": {
            "color": "#ab63fa",
            "symbol": "circle"
           },
           "mode": "markers",
           "name": "Germany",
           "orientation": "v",
           "showlegend": true,
           "type": "scatter",
           "x": [
            46350000,
            63800000,
            5900000,
            41800000,
            20000000,
            98550000,
            4300000,
            10650000,
            5850000,
            31700000,
            10475000,
            19700000,
            145725000,
            212300000,
            6800000,
            28900000,
            52200000,
            40450000
           ],
           "xaxis": "x",
           "y": [
            42150000,
            23700000,
            1500000,
            58800000,
            70000000,
            95950000,
            6700000,
            3800000,
            13200000,
            16780000,
            41250000,
            43300000,
            73500000,
            111100000,
            7950000,
            29210000,
            23838000,
            7850000
           ],
           "yaxis": "y"
          },
          {
           "hovertemplate": "<b>OLS trendline</b><br>Fee = 0.46517 * Market_value + 1.54055e+07<br>R<sup>2</sup>=0.610184<br><br>league=Germany<br>season=16/17<br>Market_value=%{x}<br>Fee=%{y} <b>(trend)</b><extra></extra>",
           "legendgroup": "Germany",
           "marker": {
            "color": "#ab63fa",
            "symbol": "circle"
           },
           "mode": "lines",
           "name": "Germany",
           "showlegend": false,
           "type": "scatter",
           "x": [
            4300000,
            5850000,
            5900000,
            6800000,
            10475000,
            10650000,
            19700000,
            20000000,
            28900000,
            31700000,
            40450000,
            41800000,
            46350000,
            52200000,
            63800000,
            98550000,
            145725000,
            212300000
           ],
           "xaxis": "x",
           "y": [
            17405777.87202,
            18126791.734881323,
            18150050.246586528,
            18568703.4572802,
            20278204.0676127,
            20359608.858580917,
            24569399.477222856,
            24708950.54745408,
            28848965.63098041,
            30151442.286471836,
            34221681.83488255,
            34849661.650923066,
            36966186.21609663,
            39687432.08560551,
            45083406.80121286,
            61248072.4363297,
            83192478.23018976,
            114161186.565669
           ],
           "yaxis": "y"
          },
          {
           "hovertemplate": "league=UK<br>season=16/17<br>Market_value=%{x}<br>Fee=%{y}<extra></extra>",
           "legendgroup": "UK",
           "marker": {
            "color": "#FFA15A",
            "symbol": "circle"
           },
           "mode": "markers",
           "name": "UK",
           "orientation": "v",
           "showlegend": true,
           "type": "scatter",
           "x": [
            33600000,
            3300000,
            23000000,
            25500000,
            3300000,
            52900000,
            13125000,
            32300000,
            18300000,
            61750000,
            24500000,
            23850000,
            30300000,
            43450000,
            6900000,
            10000000,
            11350000,
            28100000,
            16775000,
            278950000
           ],
           "xaxis": "x",
           "y": [
            113000000,
            20800000,
            83500000,
            92100000,
            37900000,
            68900000,
            57550000,
            79900000,
            100200000,
            71000000,
            132800000,
            37000000,
            83500000,
            18040000,
            37900000,
            80000000,
            46300000,
            33150000,
            40665000,
            198250000
           ],
           "yaxis": "y"
          },
          {
           "hovertemplate": "<b>OLS trendline</b><br>Fee = 0.51879 * Market_value + 5.23951e+07<br>R<sup>2</sup>=0.503554<br><br>league=UK<br>season=16/17<br>Market_value=%{x}<br>Fee=%{y} <b>(trend)</b><extra></extra>",
           "legendgroup": "UK",
           "marker": {
            "color": "#FFA15A",
            "symbol": "circle"
           },
           "mode": "lines",
           "name": "UK",
           "showlegend": false,
           "type": "scatter",
           "x": [
            3300000,
            3300000,
            6900000,
            10000000,
            11350000,
            13125000,
            16775000,
            18300000,
            23000000,
            23850000,
            24500000,
            25500000,
            28100000,
            30300000,
            32300000,
            33600000,
            43450000,
            52900000,
            61750000,
            278950000
           ],
           "xaxis": "x",
           "y": [
            54107118.17007619,
            54107118.17007619,
            55974760.51254863,
            57583008.085233234,
            58283373.9636604,
            59204225.396407224,
            61097807.215858445,
            61888961.263711356,
            64327272.099717036,
            64768243.20835636,
            65105456.40908055,
            65624245.94865623,
            66973098.75155299,
            68114435.73861948,
            69152014.81777084,
            69826441.21921921,
            74936518.18403964,
            79839079.33302978,
            84430366.75827453,
            197111454.75411162
           ],
           "yaxis": "y"
          },
          {
           "hovertemplate": "league=Arab<br>season=16/17<br>Market_value=%{x}<br>Fee=%{y}<extra></extra>",
           "legendgroup": "Arab",
           "marker": {
            "color": "#19d3f3",
            "symbol": "circle"
           },
           "mode": "markers",
           "name": "Arab",
           "orientation": "v",
           "showlegend": true,
           "type": "scatter",
           "x": [
            550000,
            50000,
            150000,
            75000,
            900000,
            950000,
            5700000,
            650000
           ],
           "xaxis": "x",
           "y": [
            2250000,
            300000,
            400000,
            310000,
            5350000,
            1000000,
            6700000,
            1000000
           ],
           "yaxis": "y"
          },
          {
           "hovertemplate": "<b>OLS trendline</b><br>Fee = 1.06603 * Market_value + 961130<br>R<sup>2</sup>=0.647786<br><br>league=Arab<br>season=16/17<br>Market_value=%{x}<br>Fee=%{y} <b>(trend)</b><extra></extra>",
           "legendgroup": "Arab",
           "marker": {
            "color": "#19d3f3",
            "symbol": "circle"
           },
           "mode": "lines",
           "name": "Arab",
           "showlegend": false,
           "type": "scatter",
           "x": [
            50000,
            75000,
            150000,
            550000,
            650000,
            900000,
            950000,
            5700000
           ],
           "xaxis": "x",
           "y": [
            1014432.1646701961,
            1041083.0130256698,
            1121035.558092091,
            1547449.1317796707,
            1654052.5252015656,
            1920561.008756303,
            1973862.7054672504,
            7037523.893007259
           ],
           "yaxis": "y"
          }
         ],
         "name": "16/17"
        },
        {
         "data": [
          {
           "hovertemplate": "league=Italy<br>season=17/18<br>Market_value=%{x}<br>Fee=%{y}<extra></extra>",
           "legendgroup": "Italy",
           "marker": {
            "color": "#636efa",
            "symbol": "circle"
           },
           "mode": "markers",
           "name": "Italy",
           "orientation": "v",
           "showlegend": true,
           "type": "scatter",
           "x": [
            23250000,
            42500000,
            4075000,
            20500000,
            128500000,
            14700000,
            26350000,
            5525000,
            63800000,
            7000000,
            30100000,
            7600000,
            78050000,
            60575000,
            6800000,
            37500000,
            74100000,
            121000000,
            2450000,
            67900000
           ],
           "xaxis": "x",
           "y": [
            21780000,
            22400000,
            13000000,
            20066000,
            49800000,
            9670000,
            68000000,
            7135000,
            66590000,
            1300000,
            26350000,
            2950000,
            74400000,
            168480000,
            30090000,
            38600000,
            86150000,
            131050000,
            3050000,
            132400000
           ],
           "yaxis": "y"
          },
          {
           "hovertemplate": "<b>OLS trendline</b><br>Fee = 0.882871 * Market_value + 1.23649e+07<br>R<sup>2</sup>=0.475647<br><br>league=Italy<br>season=17/18<br>Market_value=%{x}<br>Fee=%{y} <b>(trend)</b><extra></extra>",
           "legendgroup": "Italy",
           "marker": {
            "color": "#636efa",
            "symbol": "circle"
           },
           "mode": "lines",
           "name": "Italy",
           "showlegend": false,
           "type": "scatter",
           "x": [
            2450000,
            4075000,
            5525000,
            6800000,
            7000000,
            7600000,
            14700000,
            20500000,
            23250000,
            26350000,
            30100000,
            37500000,
            42500000,
            60575000,
            63800000,
            67900000,
            74100000,
            78050000,
            121000000,
            128500000
           ],
           "xaxis": "x",
           "y": [
            14527940.473567294,
            15962606.096546264,
            17242769.267819807,
            18368429.98738792,
            18545004.21790841,
            19074726.909469876,
            25343112.092947222,
            30463764.778041393,
            32891660.447698113,
            35628561.020765685,
            38939327.84302485,
            45472574.37228293,
            49886930.135295145,
            65844826.21858431,
            68692085.68572718,
            72311857.4113972,
            77785658.55753236,
            81272999.610312,
            119192315.61458693,
            125813849.25910527
           ],
           "yaxis": "y"
          },
          {
           "hovertemplate": "league=Spain<br>season=17/18<br>Market_value=%{x}<br>Fee=%{y}<extra></extra>",
           "legendgroup": "Spain",
           "marker": {
            "color": "#EF553B",
            "symbol": "circle"
           },
           "mode": "markers",
           "name": "Spain",
           "orientation": "v",
           "showlegend": true,
           "type": "scatter",
           "x": [
            8000000,
            52750000,
            300000,
            26600000,
            2500000,
            5500000,
            18750000,
            111800000,
            13300000,
            12000000,
            13000000,
            72000000,
            36875000,
            12500000,
            3050000,
            26950000,
            48050000,
            3300000,
            11900000,
            24700000
           ],
           "xaxis": "x",
           "y": [
            32000000,
            44600000,
            350000,
            12900000,
            95600000,
            8750000,
            12330000,
            375100000,
            8500000,
            37000000,
            25500000,
            40500000,
            16800000,
            10250000,
            5950000,
            55000000,
            26800000,
            10500000,
            10000000,
            71050000
           ],
           "yaxis": "y"
          },
          {
           "hovertemplate": "<b>OLS trendline</b><br>Fee = 2.16976 * Market_value + -9.68502e+06<br>R<sup>2</sup>=0.551203<br><br>league=Spain<br>season=17/18<br>Market_value=%{x}<br>Fee=%{y} <b>(trend)</b><extra></extra>",
           "legendgroup": "Spain",
           "marker": {
            "color": "#EF553B",
            "symbol": "circle"
           },
           "mode": "lines",
           "name": "Spain",
           "showlegend": false,
           "type": "scatter",
           "x": [
            300000,
            2500000,
            3050000,
            3300000,
            5500000,
            8000000,
            11900000,
            12000000,
            12500000,
            13000000,
            13300000,
            18750000,
            24700000,
            26600000,
            26950000,
            36875000,
            48050000,
            52750000,
            72000000,
            111800000
           ],
           "xaxis": "x",
           "y": [
            -9034091.240995994,
            -4260614.588349333,
            -3067245.4251876683,
            -2524804.8964778204,
            2248671.7561688405,
            7673077.043267319,
            16135149.291140946,
            16352125.502624884,
            17437006.56004458,
            18521887.617464274,
            19172816.251916092,
            30998019.777790774,
            43908104.361085154,
            48030652.37927999,
            48790069.119473785,
            70324958.10925475,
            94572049.74258494,
            104769931.68233009,
            146537852.39298835,
            232894384.56359613
           ],
           "yaxis": "y"
          },
          {
           "hovertemplate": "league=France<br>season=17/18<br>Market_value=%{x}<br>Fee=%{y}<extra></extra>",
           "legendgroup": "France",
           "marker": {
            "color": "#00cc96",
            "symbol": "circle"
           },
           "mode": "markers",
           "name": "France",
           "orientation": "v",
           "showlegend": true,
           "type": "scatter",
           "x": [
            33200000,
            118600000,
            1000000,
            3900000,
            6050000,
            47725000,
            2200000,
            40900000,
            17150000,
            14050000,
            5900000,
            52000000,
            3350000,
            43600000,
            16100000,
            1850000,
            9950000,
            57200000
           ],
           "xaxis": "x",
           "y": [
            122400000,
            58050000,
            3500000,
            3900000,
            5700000,
            26300000,
            2000000,
            1375000,
            31600000,
            6450000,
            11300000,
            238000000,
            16800000,
            76500000,
            9400000,
            3000000,
            47000000,
            43900000
           ],
           "yaxis": "y"
          },
          {
           "hovertemplate": "<b>OLS trendline</b><br>Fee = 0.859842 * Market_value + 1.66104e+07<br>R<sup>2</sup>=0.191736<br><br>league=France<br>season=17/18<br>Market_value=%{x}<br>Fee=%{y} <b>(trend)</b><extra></extra>",
           "legendgroup": "France",
           "marker": {
            "color": "#00cc96",
            "symbol": "circle"
           },
           "mode": "lines",
           "name": "France",
           "showlegend": false,
           "type": "scatter",
           "x": [
            1000000,
            1850000,
            2200000,
            3350000,
            3900000,
            5900000,
            6050000,
            9950000,
            14050000,
            16100000,
            17150000,
            33200000,
            40900000,
            43600000,
            47725000,
            52000000,
            57200000,
            118600000
           ],
           "xaxis": "x",
           "y": [
            17470202.193308055,
            18201067.93624393,
            18502012.653923407,
            19490831.01201312,
            19963744.139795154,
            21683428.24082074,
            21812404.548397657,
            25165788.54539755,
            28691140.952499997,
            30453817.156051222,
            31356651.309089653,
            45157116.21981997,
            51777900.00876848,
            54099473.545153014,
            57646322.00351828,
            61322146.76946047,
            65793325.43212699,
            118587627.33361246
           ],
           "yaxis": "y"
          },
          {
           "hovertemplate": "league=Germany<br>season=17/18<br>Market_value=%{x}<br>Fee=%{y}<extra></extra>",
           "legendgroup": "Germany",
           "marker": {
            "color": "#ab63fa",
            "symbol": "circle"
           },
           "mode": "markers",
           "name": "Germany",
           "orientation": "v",
           "showlegend": true,
           "type": "scatter",
           "x": [
            16950000,
            113200000,
            8000000,
            164000000,
            24000000,
            13950000,
            33550000,
            67400000,
            10100000,
            15750000,
            52175000,
            55950000,
            24400000,
            57000000,
            2450000,
            8350000,
            13200000,
            72500000
           ],
           "xaxis": "x",
           "y": [
            17600000,
            122590000,
            38500000,
            103500000,
            44800000,
            13550000,
            25400000,
            18850000,
            6800000,
            40000000,
            37250000,
            16150000,
            47750000,
            6700000,
            19000000,
            10000000,
            14000000,
            63500000
           ],
           "yaxis": "y"
          },
          {
           "hovertemplate": "<b>OLS trendline</b><br>Fee = 0.583668 * Market_value + 1.14712e+07<br>R<sup>2</sup>=0.583147<br><br>league=Germany<br>season=17/18<br>Market_value=%{x}<br>Fee=%{y} <b>(trend)</b><extra></extra>",
           "legendgroup": "Germany",
           "marker": {
            "color": "#ab63fa",
            "symbol": "circle"
           },
           "mode": "lines",
           "name": "Germany",
           "showlegend": false,
           "type": "scatter",
           "x": [
            2450000,
            8000000,
            8350000,
            10100000,
            13200000,
            13950000,
            15750000,
            16950000,
            24000000,
            24400000,
            33550000,
            52175000,
            55950000,
            57000000,
            67400000,
            72500000,
            113200000,
            164000000
           ],
           "xaxis": "x",
           "y": [
            12901182.026674414,
            16140541.41091626,
            16344825.336048627,
            17366244.96171047,
            19175616.870025735,
            19613368.138166524,
            20663971.18170442,
            21364373.210729685,
            25479235.13125311,
            25712702.47426153,
            31053267.945579164,
            41924091.10440878,
            44127439.15405075,
            44740290.92944786,
            50810441.84766681,
            53787150.47102418,
            77542452.62213103,
            107192805.18420054
           ],
           "yaxis": "y"
          },
          {
           "hovertemplate": "league=UK<br>season=17/18<br>Market_value=%{x}<br>Fee=%{y}<extra></extra>",
           "legendgroup": "UK",
           "marker": {
            "color": "#FFA15A",
            "symbol": "circle"
           },
           "mode": "markers",
           "name": "UK",
           "orientation": "v",
           "showlegend": true,
           "type": "scatter",
           "x": [
            37000000,
            26900000,
            53000000,
            51700000,
            18850000,
            67600000,
            17500000,
            9700000,
            94000000,
            80500000,
            42400000,
            66000000,
            9750000,
            256000000,
            24500000,
            48150000,
            13600000,
            146000000,
            26200000,
            79150000
           ],
           "xaxis": "x",
           "y": [
            152850000,
            57700000,
            105900000,
            61400000,
            55950000,
            180700000,
            73100000,
            30900000,
            222600000,
            39000000,
            34300000,
            198400000,
            42600000,
            317500000,
            61250000,
            83845000,
            47650000,
            173650000,
            56800000,
            64100000
           ],
           "yaxis": "y"
          },
          {
           "hovertemplate": "<b>OLS trendline</b><br>Fee = 1.09164 * Market_value + 3.92305e+07<br>R<sup>2</sup>=0.646521<br><br>league=UK<br>season=17/18<br>Market_value=%{x}<br>Fee=%{y} <b>(trend)</b><extra></extra>",
           "legendgroup": "UK",
           "marker": {
            "color": "#FFA15A",
            "symbol": "circle"
           },
           "mode": "lines",
           "name": "UK",
           "showlegend": false,
           "type": "scatter",
           "x": [
            9700000,
            9750000,
            13600000,
            17500000,
            18850000,
            24500000,
            26200000,
            26900000,
            37000000,
            42400000,
            48150000,
            51700000,
            53000000,
            66000000,
            67600000,
            79150000,
            80500000,
            94000000,
            146000000,
            256000000
           ],
           "xaxis": "x",
           "y": [
            49819428.592361145,
            49874010.75901855,
            54076837.59163855,
            58334246.590915956,
            59807965.09066583,
            65975749.922952324,
            67831543.58930402,
            68595693.92250766,
            79621291.58730298,
            85516165.58630247,
            91793114.75190377,
            95668448.58457936,
            97087584.91767183,
            111278948.2485965,
            113025577.58163339,
            125634058.0794934,
            127107776.57924327,
            141844961.576742,
            198610414.90044072,
            318691181.5467265
           ],
           "yaxis": "y"
          },
          {
           "hovertemplate": "league=Arab<br>season=17/18<br>Market_value=%{x}<br>Fee=%{y}<extra></extra>",
           "legendgroup": "Arab",
           "marker": {
            "color": "#19d3f3",
            "symbol": "circle"
           },
           "mode": "markers",
           "name": "Arab",
           "orientation": "v",
           "showlegend": true,
           "type": "scatter",
           "x": [
            1475000,
            2200000,
            2100000,
            600000,
            175000,
            875000,
            650000,
            225000,
            500000,
            8600000
           ],
           "xaxis": "x",
           "y": [
            811000,
            1470000,
            5980000,
            1600000,
            166000,
            635000,
            2250000,
            3210000,
            2950000,
            13610000
           ],
           "yaxis": "y"
          },
          {
           "hovertemplate": "<b>OLS trendline</b><br>Fee = 1.4454 * Market_value + 753202<br>R<sup>2</sup>=0.826467<br><br>league=Arab<br>season=17/18<br>Market_value=%{x}<br>Fee=%{y} <b>(trend)</b><extra></extra>",
           "legendgroup": "Arab",
           "marker": {
            "color": "#19d3f3",
            "symbol": "circle"
           },
           "mode": "lines",
           "name": "Arab",
           "showlegend": false,
           "type": "scatter",
           "x": [
            175000,
            225000,
            500000,
            600000,
            650000,
            875000,
            1475000,
            2100000,
            2200000,
            8600000
           ],
           "xaxis": "x",
           "y": [
            1006147.0941760687,
            1078417.1550650122,
            1475902.4899542013,
            1620442.6117320883,
            1692712.6726210318,
            2017927.9466212774,
            2885168.6772885993,
            3788544.438400393,
            3933084.56017828,
            13183652.353963047
           ],
           "yaxis": "y"
          }
         ],
         "name": "17/18"
        },
        {
         "data": [
          {
           "hovertemplate": "league=Italy<br>season=18/19<br>Market_value=%{x}<br>Fee=%{y}<extra></extra>",
           "legendgroup": "Italy",
           "marker": {
            "color": "#636efa",
            "symbol": "circle"
           },
           "mode": "markers",
           "name": "Italy",
           "orientation": "v",
           "showlegend": true,
           "type": "scatter",
           "x": [
            10725000,
            83300000,
            53750000,
            58450000,
            8350000,
            3450000,
            39100000,
            103825000,
            28375000,
            92800000,
            5725000,
            19100000,
            85310000,
            32100000,
            25000000,
            175500000,
            4935000,
            12050000,
            76250000,
            173300000
           ],
           "xaxis": "x",
           "y": [
            22095000,
            184440000,
            53970000,
            53150000,
            16000000,
            9470000,
            70500000,
            56675000,
            56700000,
            156850000,
            9060000,
            48030000,
            60800000,
            45400000,
            30700000,
            58415000,
            20401000,
            21900000,
            259700000,
            91100000
           ],
           "yaxis": "y"
          },
          {
           "hovertemplate": "<b>OLS trendline</b><br>Fee = 0.557274 * Market_value + 3.58575e+07<br>R<sup>2</sup>=0.206330<br><br>league=Italy<br>season=18/19<br>Market_value=%{x}<br>Fee=%{y} <b>(trend)</b><extra></extra>",
           "legendgroup": "Italy",
           "marker": {
            "color": "#636efa",
            "symbol": "circle"
           },
           "mode": "lines",
           "name": "Italy",
           "showlegend": false,
           "type": "scatter",
           "x": [
            3450000,
            4935000,
            5725000,
            8350000,
            10725000,
            12050000,
            19100000,
            25000000,
            28375000,
            32100000,
            39100000,
            53750000,
            58450000,
            76250000,
            83300000,
            85310000,
            92800000,
            103825000,
            173300000,
            175500000
           ],
           "xaxis": "x",
           "y": [
            37780108.323457316,
            38607659.75200824,
            39047905.96652354,
            40510749.40083072,
            41834274.41282293,
            42572662.05109227,
            46501441.56037441,
            49789356.327007696,
            51670155.028259784,
            53745999.52075283,
            57646915.34557198,
            65810974.893229194,
            68430161.23275062,
            78349632.90157646,
            82278412.4108586,
            83398532.52627096,
            87572512.45882744,
            93716454.8829176,
            132433044.44424765,
            133659046.56061938
           ],
           "yaxis": "y"
          },
          {
           "hovertemplate": "league=Spain<br>season=18/19<br>Market_value=%{x}<br>Fee=%{y}<extra></extra>",
           "legendgroup": "Spain",
           "marker": {
            "color": "#EF553B",
            "symbol": "circle"
           },
           "mode": "markers",
           "name": "Spain",
           "orientation": "v",
           "showlegend": true,
           "type": "scatter",
           "x": [
            1750000,
            32950000,
            30250000,
            47500000,
            235000000,
            46100000,
            50000000,
            23600000,
            2250000,
            106700000,
            11500000,
            21700000,
            63400000,
            16600000,
            164800000,
            25200000,
            5600000,
            26250000,
            4600000,
            29500000
           ],
           "xaxis": "x",
           "y": [
            8000000,
            18600000,
            22100000,
            30000000,
            164750000,
            46000000,
            12000000,
            20500000,
            10000000,
            140100000,
            10100000,
            11800000,
            129200000,
            9000000,
            168000000,
            27250000,
            28900000,
            92900000,
            10200000,
            81050000
           ],
           "yaxis": "y"
          },
          {
           "hovertemplate": "<b>OLS trendline</b><br>Fee = 0.800199 * Market_value + 1.42031e+07<br>R<sup>2</sup>=0.708771<br><br>league=Spain<br>season=18/19<br>Market_value=%{x}<br>Fee=%{y} <b>(trend)</b><extra></extra>",
           "legendgroup": "Spain",
           "marker": {
            "color": "#EF553B",
            "symbol": "circle"
           },
           "mode": "lines",
           "name": "Spain",
           "showlegend": false,
           "type": "scatter",
           "x": [
            1750000,
            2250000,
            4600000,
            5600000,
            11500000,
            16600000,
            21700000,
            23600000,
            25200000,
            26250000,
            29500000,
            30250000,
            32950000,
            46100000,
            47500000,
            50000000,
            63400000,
            106700000,
            164800000,
            235000000
           ],
           "xaxis": "x",
           "y": [
            15603422.390738592,
            16003522.117289115,
            17883990.832076576,
            18684190.285177622,
            23405367.0584738,
            27486384.26928914,
            31567401.48010448,
            33087780.44099647,
            34368099.56595814,
            35208308.99171425,
            37808957.214292645,
            38409106.80411843,
            40569645.32749126,
            51092268.13577003,
            52212547.370111495,
            54213046.002864115,
            64935718.674418144,
            99584354.99369349,
            146075943.21886432,
            202249944.82655784
           ],
           "yaxis": "y"
          },
          {
           "hovertemplate": "league=France<br>season=18/19<br>Market_value=%{x}<br>Fee=%{y}<extra></extra>",
           "legendgroup": "France",
           "marker": {
            "color": "#00cc96",
            "symbol": "circle"
           },
           "mode": "markers",
           "name": "France",
           "orientation": "v",
           "showlegend": true,
           "type": "scatter",
           "x": [
            17500000,
            7600000,
            29500000,
            23575000,
            8550000,
            114000000,
            4550000,
            4200000,
            15800000,
            42500000,
            11900000,
            16300000,
            212000000,
            26500000,
            54600000,
            5200000,
            78700000,
            3600000,
            13800000,
            3150000
           ],
           "xaxis": "x",
           "y": [
            15000000,
            14050000,
            21460000,
            10150000,
            3150000,
            27700000,
            3450000,
            3500000,
            12500000,
            9200000,
            28000000,
            66000000,
            262000000,
            15750000,
            46450000,
            7490000,
            134400000,
            9450000,
            18000000,
            12750000
           ],
           "yaxis": "y"
          },
          {
           "hovertemplate": "<b>OLS trendline</b><br>Fee = 1.0524 * Market_value + -470832<br>R<sup>2</sup>=0.755005<br><br>league=France<br>season=18/19<br>Market_value=%{x}<br>Fee=%{y} <b>(trend)</b><extra></extra>",
           "legendgroup": "France",
           "marker": {
            "color": "#00cc96",
            "symbol": "circle"
           },
           "mode": "lines",
           "name": "France",
           "showlegend": false,
           "type": "scatter",
           "x": [
            3150000,
            3600000,
            4200000,
            4550000,
            5200000,
            7600000,
            8550000,
            11900000,
            13800000,
            15800000,
            16300000,
            17500000,
            23575000,
            26500000,
            29500000,
            42500000,
            54600000,
            78700000,
            114000000,
            212000000
           ],
           "xaxis": "x",
           "y": [
            2844232.071737263,
            3317812.677350624,
            3949253.4848351055,
            4317593.95586772,
            5001654.8306425745,
            7527418.060580501,
            8527199.339097597,
            12052743.847552618,
            14052306.40458681,
            16157109.09620175,
            16683309.769105483,
            17946191.384074446,
            24339529.55985482,
            27417803.496341668,
            30575007.53376408,
            44256225.02926118,
            56990281.313531555,
            82353153.74749157,
            119502921.25449523,
            222638253.14362723
           ],
           "yaxis": "y"
          },
          {
           "hovertemplate": "league=Germany<br>season=18/19<br>Market_value=%{x}<br>Fee=%{y}<extra></extra>",
           "legendgroup": "Germany",
           "marker": {
            "color": "#ab63fa",
            "symbol": "circle"
           },
           "mode": "markers",
           "name": "Germany",
           "orientation": "v",
           "showlegend": true,
           "type": "scatter",
           "x": [
            60600000,
            34400000,
            35300000,
            42300000,
            95000000,
            13300000,
            71800000,
            16050000,
            18200000,
            70000000,
            23750000,
            19650000,
            110500000,
            42000000,
            16500000,
            11100000,
            9100000,
            30100000
           ],
           "xaxis": "x",
           "y": [
            18400000,
            32000000,
            30000000,
            6650000,
            28150000,
            4850000,
            40760000,
            16000000,
            31500000,
            14000000,
            22550000,
            18320000,
            65630000,
            90500000,
            36000000,
            46200000,
            32550000,
            6750000
           ],
           "yaxis": "y"
          },
          {
           "hovertemplate": "<b>OLS trendline</b><br>Fee = 0.194093 * Market_value + 2.2285e+07<br>R<sup>2</sup>=0.073235<br><br>league=Germany<br>season=18/19<br>Market_value=%{x}<br>Fee=%{y} <b>(trend)</b><extra></extra>",
           "legendgroup": "Germany",
           "marker": {
            "color": "#ab63fa",
            "symbol": "circle"
           },
           "mode": "lines",
           "name": "Germany",
           "showlegend": false,
           "type": "scatter",
           "x": [
            9100000,
            11100000,
            13300000,
            16050000,
            16500000,
            18200000,
            19650000,
            23750000,
            30100000,
            34400000,
            35300000,
            42000000,
            42300000,
            60600000,
            70000000,
            71800000,
            95000000,
            110500000
           ],
           "xaxis": "x",
           "y": [
            24051289.54692609,
            24439476.24533512,
            24866481.613585055,
            25400238.323897474,
            25487580.331039507,
            25817539.024687182,
            26098974.38103373,
            26894757.11277225,
            28127249.880220924,
            28961851.281800345,
            29136535.296084408,
            30436960.735754665,
            30495188.740516018,
            34047097.03095866,
            35871574.51348112,
            36220942.542049244,
            40723908.24359401,
            43732355.156264015
           ],
           "yaxis": "y"
          },
          {
           "hovertemplate": "league=UK<br>season=18/19<br>Market_value=%{x}<br>Fee=%{y}<extra></extra>",
           "legendgroup": "UK",
           "marker": {
            "color": "#FFA15A",
            "symbol": "circle"
           },
           "mode": "markers",
           "name": "UK",
           "orientation": "v",
           "showlegend": true,
           "type": "scatter",
           "x": [
            4800000,
            58000000,
            35750000,
            9400000,
            85500000,
            44400000,
            11000000,
            97600000,
            108800000,
            63000000,
            19000000,
            71950000,
            108900000,
            50300000,
            60000000,
            103000000,
            16500000,
            23050000,
            138250000
           ],
           "xaxis": "x",
           "y": [
            33000000,
            201000000,
            78590000,
            34200000,
            182200000,
            100900000,
            11850000,
            59750000,
            114600000,
            91600000,
            50700000,
            94250000,
            112750000,
            80150000,
            81000000,
            99800000,
            62250000,
            25050000,
            90620000
           ],
           "yaxis": "y"
          },
          {
           "hovertemplate": "<b>OLS trendline</b><br>Fee = 0.655798 * Market_value + 4.61499e+07<br>R<sup>2</sup>=0.296054<br><br>league=UK<br>season=18/19<br>Market_value=%{x}<br>Fee=%{y} <b>(trend)</b><extra></extra>",
           "legendgroup": "UK",
           "marker": {
            "color": "#FFA15A",
            "symbol": "circle"
           },
           "mode": "lines",
           "name": "UK",
           "showlegend": false,
           "type": "scatter",
           "x": [
            4800000,
            9400000,
            11000000,
            16500000,
            19000000,
            23050000,
            35750000,
            44400000,
            50300000,
            58000000,
            60000000,
            63000000,
            71950000,
            85500000,
            97600000,
            103000000,
            108800000,
            108900000,
            138250000
           ],
           "xaxis": "x",
           "y": [
            49297761.03690736,
            52314432.633542225,
            53363709.710632615,
            56970599.66313083,
            58610095.096084565,
            61266077.69746961,
            69594714.49687457,
            75267368.6948945,
            79136577.9166653,
            84186223.8501628,
            85497820.19652578,
            87465214.71607026,
            93334608.36604463,
            102220673.61265387,
            110155831.50814994,
            113697141.64333,
            117500771.04778266,
            117566350.8651008,
            136814027.24797764
           ],
           "yaxis": "y"
          },
          {
           "hovertemplate": "league=Arab<br>season=18/19<br>Market_value=%{x}<br>Fee=%{y}<extra></extra>",
           "legendgroup": "Arab",
           "marker": {
            "color": "#19d3f3",
            "symbol": "circle"
           },
           "mode": "markers",
           "name": "Arab",
           "orientation": "v",
           "showlegend": true,
           "type": "scatter",
           "x": [
            650000,
            5450000,
            100000,
            20200000,
            250000,
            1500000,
            1350000,
            1350000,
            1200000,
            2850000,
            11150000,
            6375000
           ],
           "xaxis": "x",
           "y": [
            1390000,
            14900000,
            250000,
            43920000,
            881000,
            1505000,
            1191000,
            4415000,
            1400000,
            12200000,
            43350000,
            43850000
           ],
           "yaxis": "y"
          },
          {
           "hovertemplate": "<b>OLS trendline</b><br>Fee = 2.6674 * Market_value + 2.45112e+06<br>R<sup>2</sup>=0.740720<br><br>league=Arab<br>season=18/19<br>Market_value=%{x}<br>Fee=%{y} <b>(trend)</b><extra></extra>",
           "legendgroup": "Arab",
           "marker": {
            "color": "#19d3f3",
            "symbol": "circle"
           },
           "mode": "lines",
           "name": "Arab",
           "showlegend": false,
           "type": "scatter",
           "x": [
            100000,
            250000,
            650000,
            1200000,
            1350000,
            1350000,
            1500000,
            2850000,
            5450000,
            6375000,
            11150000,
            20200000
           ],
           "xaxis": "x",
           "y": [
            2717864.6644281424,
            3117974.8372740056,
            4184935.2981963074,
            5652005.931964473,
            6052116.104810336,
            6052116.104810336,
            6452226.277656199,
            10053217.833268968,
            16988460.829263933,
            19455806.895146754,
            32192647.397406735,
            56332627.82577382
           ],
           "yaxis": "y"
          }
         ],
         "name": "18/19"
        },
        {
         "data": [
          {
           "hovertemplate": "league=Italy<br>season=19/20<br>Market_value=%{x}<br>Fee=%{y}<extra></extra>",
           "legendgroup": "Italy",
           "marker": {
            "color": "#636efa",
            "symbol": "circle"
           },
           "mode": "markers",
           "name": "Italy",
           "orientation": "v",
           "showlegend": true,
           "type": "scatter",
           "x": [
            73450000,
            219500000,
            3600000,
            83350000,
            177000000,
            24925000,
            20450000,
            34150000,
            48550000,
            100000000,
            190700000,
            8000000,
            35200000,
            29050000,
            11450000,
            98350000,
            231700000,
            103300000,
            28600000,
            46250000
           ],
           "xaxis": "x",
           "y": [
            21188000,
            230500000,
            5700000,
            66615000,
            191716000,
            19369000,
            13850000,
            50371000,
            49945000,
            69130000,
            205015000,
            18650000,
            59062000,
            26150000,
            27800000,
            55000000,
            144075000,
            117400000,
            65250000,
            39300000
           ],
           "yaxis": "y"
          },
          {
           "hovertemplate": "<b>OLS trendline</b><br>Fee = 0.854832 * Market_value + 6.80366e+06<br>R<sup>2</sup>=0.833800<br><br>league=Italy<br>season=19/20<br>Market_value=%{x}<br>Fee=%{y} <b>(trend)</b><extra></extra>",
           "legendgroup": "Italy",
           "marker": {
            "color": "#636efa",
            "symbol": "circle"
           },
           "mode": "lines",
           "name": "Italy",
           "showlegend": false,
           "type": "scatter",
           "x": [
            3600000,
            8000000,
            11450000,
            20450000,
            24925000,
            28600000,
            29050000,
            34150000,
            35200000,
            46250000,
            48550000,
            73450000,
            83350000,
            98350000,
            100000000,
            103300000,
            177000000,
            190700000,
            219500000,
            231700000
           ],
           "xaxis": "x",
           "y": [
            9881057.222525062,
            13642316.513712594,
            16591485.730666455,
            24284970.644459132,
            28110342.30992827,
            31251848.649726946,
            31636522.89541658,
            35996164.34656576,
            36893737.586508244,
            46339627.397331476,
            48305740.20863405,
            69591048.47012712,
            78053881.87529907,
            90876356.73162019,
            92286828.96581551,
            95107773.43420617,
            158108866.56159732,
            169820060.26370394,
            194439211.98784053,
            204868158.20431504
           ],
           "yaxis": "y"
          },
          {
           "hovertemplate": "league=Spain<br>season=19/20<br>Market_value=%{x}<br>Fee=%{y}<extra></extra>",
           "legendgroup": "Spain",
           "marker": {
            "color": "#EF553B",
            "symbol": "circle"
           },
           "mode": "markers",
           "name": "Spain",
           "orientation": "v",
           "showlegend": true,
           "type": "scatter",
           "x": [
            9100000,
            16500000,
            93200000,
            11500000,
            18700000,
            18900000,
            259000000,
            4600000,
            144150000,
            157800000,
            18000000,
            34550000,
            166000000,
            800000,
            16800000,
            14100000,
            17300000,
            9300000,
            211500000
           ],
           "xaxis": "x",
           "y": [
            11240000,
            14600000,
            96450000,
            5500000,
            61500000,
            75000000,
            298500000,
            21500000,
            247350000,
            188730000,
            43800000,
            17300000,
            31500000,
            1400000,
            14450000,
            11770000,
            24600000,
            16400000,
            240500000
           ],
           "yaxis": "y"
          },
          {
           "hovertemplate": "<b>OLS trendline</b><br>Fee = 1.0258 * Market_value + 8.88282e+06<br>R<sup>2</sup>=0.774890<br><br>league=Spain<br>season=19/20<br>Market_value=%{x}<br>Fee=%{y} <b>(trend)</b><extra></extra>",
           "legendgroup": "Spain",
           "marker": {
            "color": "#EF553B",
            "symbol": "circle"
           },
           "mode": "lines",
           "name": "Spain",
           "showlegend": false,
           "type": "scatter",
           "x": [
            800000,
            4600000,
            9100000,
            9300000,
            11500000,
            14100000,
            16500000,
            16800000,
            17300000,
            18000000,
            18700000,
            18900000,
            34550000,
            93200000,
            144150000,
            157800000,
            166000000,
            211500000,
            259000000
           ],
           "xaxis": "x",
           "y": [
            9703456.550812066,
            13601477.798144544,
            18217555.591038264,
            18422714.604055766,
            20679463.74724825,
            23346530.916475736,
            25808439.072685722,
            26116177.59221197,
            26629075.124755718,
            27347131.670316964,
            28065188.21587821,
            28270347.22889571,
            44324039.99751499,
            104486920.56489652,
            156751179.13110435,
            170753281.76954862,
            179164801.30326608,
            225838476.76474705,
            274563742.35640305
           ],
           "yaxis": "y"
          },
          {
           "hovertemplate": "league=France<br>season=19/20<br>Market_value=%{x}<br>Fee=%{y}<extra></extra>",
           "legendgroup": "France",
           "marker": {
            "color": "#00cc96",
            "symbol": "circle"
           },
           "mode": "markers",
           "name": "France",
           "orientation": "v",
           "showlegend": true,
           "type": "scatter",
           "x": [
            32000000,
            38200000,
            139000000,
            33500000,
            26850000,
            5000000,
            8800000,
            216800000,
            21200000,
            29500000,
            15700000,
            4450000,
            34900000,
            19000000,
            48800000,
            4700000,
            25500000,
            17350000,
            187650000,
            78600000
           ],
           "xaxis": "x",
           "y": [
            95000000,
            17550000,
            126000000,
            20300000,
            11000000,
            14000000,
            12000000,
            99400000,
            27000000,
            52200000,
            14350000,
            9850000,
            21700000,
            13450000,
            17950000,
            10400000,
            7500000,
            10465000,
            200000000,
            58100000
           ],
           "yaxis": "y"
          },
          {
           "hovertemplate": "<b>OLS trendline</b><br>Fee = 0.705635 * Market_value + 7.07003e+06<br>R<sup>2</sup>=0.707277<br><br>league=France<br>season=19/20<br>Market_value=%{x}<br>Fee=%{y} <b>(trend)</b><extra></extra>",
           "legendgroup": "France",
           "marker": {
            "color": "#00cc96",
            "symbol": "circle"
           },
           "mode": "lines",
           "name": "France",
           "showlegend": false,
           "type": "scatter",
           "x": [
            4450000,
            4700000,
            5000000,
            8800000,
            15700000,
            17350000,
            19000000,
            21200000,
            25500000,
            26850000,
            29500000,
            32000000,
            33500000,
            34900000,
            38200000,
            48800000,
            78600000,
            139000000,
            187650000,
            216800000
           ],
           "xaxis": "x",
           "y": [
            10210105.855258426,
            10386514.559458435,
            10598205.004498444,
            13279617.308338575,
            18148497.544258814,
            19312794.99197887,
            20477092.439698927,
            22029489.036659002,
            25063718.74889915,
            26016325.751579195,
            27886258.01609929,
            29650345.058099374,
            30708797.283299424,
            31696686.02681947,
            34025280.922259584,
            41505009.98033995,
            62532927.52098098,
            105153270.45570305,
            139482404.29302472,
            160051659.20274574
           ],
           "yaxis": "y"
          },
          {
           "hovertemplate": "league=Germany<br>season=19/20<br>Market_value=%{x}<br>Fee=%{y}<extra></extra>",
           "legendgroup": "Germany",
           "marker": {
            "color": "#ab63fa",
            "symbol": "circle"
           },
           "mode": "markers",
           "name": "Germany",
           "orientation": "v",
           "showlegend": true,
           "type": "scatter",
           "x": [
            215500000,
            35600000,
            58000000,
            13900000,
            83500000,
            141500000,
            101500000,
            253800000,
            41300000,
            78000000,
            28200000,
            64100000,
            24550000,
            23500000,
            56850000,
            18400000,
            1800000,
            24300000
           ],
           "xaxis": "x",
           "y": [
            92650000,
            33000000,
            29500000,
            11150000,
            110700000,
            98200000,
            139500000,
            148500000,
            34800000,
            40500000,
            13950000,
            73640000,
            10050000,
            55000000,
            30700000,
            17500000,
            750000,
            20250000
           ],
           "yaxis": "y"
          },
          {
           "hovertemplate": "<b>OLS trendline</b><br>Fee = 0.539641 * Market_value + 1.54485e+07<br>R<sup>2</sup>=0.663058<br><br>league=Germany<br>season=19/20<br>Market_value=%{x}<br>Fee=%{y} <b>(trend)</b><extra></extra>",
           "legendgroup": "Germany",
           "marker": {
            "color": "#ab63fa",
            "symbol": "circle"
           },
           "mode": "lines",
           "name": "Germany",
           "showlegend": false,
           "type": "scatter",
           "x": [
            1800000,
            13900000,
            18400000,
            23500000,
            24300000,
            24550000,
            28200000,
            35600000,
            41300000,
            56850000,
            58000000,
            64100000,
            78000000,
            83500000,
            101500000,
            141500000,
            215500000,
            253800000
           ],
           "xaxis": "x",
           "y": [
            16419814.86822304,
            22949466.886813037,
            25377849.868933287,
            28130017.24866957,
            28561729.778824277,
            28696639.944497626,
            30666328.363328494,
            34659669.26725957,
            37735621.04461188,
            46127033.34949407,
            46747620.111591466,
            50039428.15402114,
            57540433.36545923,
            60508457.01027287,
            70221988.93875386,
            91807615.4464894,
            131741024.48580013,
            152409261.86695692
           ],
           "yaxis": "y"
          },
          {
           "hovertemplate": "league=UK<br>season=19/20<br>Market_value=%{x}<br>Fee=%{y}<extra></extra>",
           "legendgroup": "UK",
           "marker": {
            "color": "#FFA15A",
            "symbol": "circle"
           },
           "mode": "markers",
           "name": "UK",
           "orientation": "v",
           "showlegend": true,
           "type": "scatter",
           "x": [
            133800000,
            4025000,
            205450000,
            15000000,
            82200000,
            49000000,
            85500000,
            20350000,
            105000000,
            56500000,
            58500000,
            30100000,
            86000000,
            194500000,
            141200000,
            131900000,
            73400000,
            6200000,
            38000000,
            76200000
           ],
           "xaxis": "x",
           "y": [
            236800000,
            8815000,
            169820000,
            10400000,
            72900000,
            104300000,
            58440000,
            23850000,
            150500000,
            56000000,
            61500000,
            72500000,
            111500000,
            160800000,
            155000000,
            119800000,
            116700000,
            7600000,
            45000000,
            54910000
           ],
           "yaxis": "y"
          },
          {
           "hovertemplate": "<b>OLS trendline</b><br>Fee = 0.904391 * Market_value + 1.78299e+07<br>R<sup>2</sup>=0.709222<br><br>league=UK<br>season=19/20<br>Market_value=%{x}<br>Fee=%{y} <b>(trend)</b><extra></extra>",
           "legendgroup": "UK",
           "marker": {
            "color": "#FFA15A",
            "symbol": "circle"
           },
           "mode": "lines",
           "name": "UK",
           "showlegend": false,
           "type": "scatter",
           "x": [
            4025000,
            6200000,
            15000000,
            20350000,
            30100000,
            38000000,
            49000000,
            56500000,
            58500000,
            73400000,
            76200000,
            82200000,
            85500000,
            86000000,
            105000000,
            131900000,
            133800000,
            141200000,
            194500000,
            205450000
           ],
           "xaxis": "x",
           "y": [
            21470073.445307482,
            23437124.462865956,
            31395767.660343934,
            36234260.967901565,
            45052075.87419818,
            52196766.92647955,
            62145070.92332702,
            68928005.46663211,
            70736788.01151347,
            84212217.97087958,
            86744513.53371349,
            92170861.16835757,
            95155352.3674118,
            95607548.00363214,
            112790982.18000504,
            137119107.4086593,
            138837450.8262966,
            145529946.24235764,
            193734001.06344584,
            203637085.49667126
           ],
           "yaxis": "y"
          },
          {
           "hovertemplate": "league=Arab<br>season=19/20<br>Market_value=%{x}<br>Fee=%{y}<extra></extra>",
           "legendgroup": "Arab",
           "marker": {
            "color": "#19d3f3",
            "symbol": "circle"
           },
           "mode": "markers",
           "name": "Arab",
           "orientation": "v",
           "showlegend": true,
           "type": "scatter",
           "x": [
            4500000,
            5150000,
            225000,
            50000,
            750000,
            800000,
            1600000,
            6600000,
            4600000,
            8475000,
            1725000,
            50000,
            50000,
            250000
           ],
           "xaxis": "x",
           "y": [
            5000000,
            14300000,
            94000,
            150000,
            1772000,
            2000000,
            3100000,
            6880000,
            11075000,
            19583000,
            2420000,
            800000,
            120000,
            5200000
           ],
           "yaxis": "y"
          },
          {
           "hovertemplate": "<b>OLS trendline</b><br>Fee = 1.85006 * Market_value + 576116<br>R<sup>2</sup>=0.773980<br><br>league=Arab<br>season=19/20<br>Market_value=%{x}<br>Fee=%{y} <b>(trend)</b><extra></extra>",
           "legendgroup": "Arab",
           "marker": {
            "color": "#19d3f3",
            "symbol": "circle"
           },
           "mode": "lines",
           "name": "Arab",
           "showlegend": false,
           "type": "scatter",
           "x": [
            50000,
            50000,
            50000,
            225000,
            250000,
            750000,
            800000,
            1600000,
            1725000,
            4500000,
            4600000,
            5150000,
            6600000,
            8475000
           ],
           "xaxis": "x",
           "y": [
            668618.8967253031,
            668618.8967253031,
            668618.8967253031,
            992379.5913193839,
            1038631.1191185383,
            1963661.6751016264,
            2056164.7306999352,
            3536213.620272876,
            3767471.259268648,
            8901390.844974786,
            9086396.956171405,
            10103930.5677528,
            12786519.180103756,
            16255383.765040336
           ],
           "yaxis": "y"
          }
         ],
         "name": "19/20"
        },
        {
         "data": [
          {
           "hovertemplate": "league=Italy<br>season=20/21<br>Market_value=%{x}<br>Fee=%{y}<extra></extra>",
           "legendgroup": "Italy",
           "marker": {
            "color": "#636efa",
            "symbol": "circle"
           },
           "mode": "markers",
           "name": "Italy",
           "orientation": "v",
           "showlegend": true,
           "type": "scatter",
           "x": [
            167900000,
            20750000,
            128900000,
            38900000,
            68000000,
            14050000,
            33500000,
            209900000,
            24600000,
            37650000,
            15250000,
            19800000,
            20950000,
            7150000,
            32525000,
            22800000,
            110100000,
            35900000,
            35950000,
            122850000
           ],
           "xaxis": "x",
           "y": [
            125000000,
            5120000,
            161700000,
            46700000,
            72100000,
            29660000,
            59800000,
            31920000,
            34180000,
            3147000,
            11600000,
            42700000,
            17750000,
            5490000,
            18950000,
            21500000,
            61740000,
            104330000,
            65180000,
            77250000
           ],
           "yaxis": "y"
          },
          {
           "hovertemplate": "<b>OLS trendline</b><br>Fee = 0.404405 * Market_value + 2.61852e+07<br>R<sup>2</sup>=0.301081<br><br>league=Italy<br>season=20/21<br>Market_value=%{x}<br>Fee=%{y} <b>(trend)</b><extra></extra>",
           "legendgroup": "Italy",
           "marker": {
            "color": "#636efa",
            "symbol": "circle"
           },
           "mode": "lines",
           "name": "Italy",
           "showlegend": false,
           "type": "scatter",
           "x": [
            7150000,
            14050000,
            15250000,
            19800000,
            20750000,
            20950000,
            22800000,
            24600000,
            32525000,
            33500000,
            35900000,
            35950000,
            37650000,
            38900000,
            68000000,
            110100000,
            122850000,
            128900000,
            167900000,
            209900000
           ],
           "xaxis": "x",
           "y": [
            29076712.205156263,
            31867107.808239393,
            32352394.000079937,
            34192437.47747534,
            34576622.3793491,
            34657503.41132252,
            35405652.95707669,
            36133582.24483751,
            39338493.136784434,
            39732788.16765488,
            40703360.55133597,
            40723580.80932932,
            41411069.58110343,
            41916576.03093733,
            53684766.183070526,
            70710223.41347627,
            75866389.20178206,
            78313040.41897814,
            94084841.65379582,
            111069858.36821486
           ],
           "yaxis": "y"
          },
          {
           "hovertemplate": "league=Spain<br>season=20/21<br>Market_value=%{x}<br>Fee=%{y}<extra></extra>",
           "legendgroup": "Spain",
           "marker": {
            "color": "#EF553B",
            "symbol": "circle"
           },
           "mode": "markers",
           "name": "Spain",
           "orientation": "v",
           "showlegend": true,
           "type": "scatter",
           "x": [
            9200000,
            11600000,
            500000,
            3850000,
            2200000,
            8700000,
            750000,
            3000000,
            30000000,
            13800000,
            11200000,
            108500000,
            15400000,
            43500000,
            103000000,
            73500000,
            15000000
           ],
           "xaxis": "x",
           "y": [
            8000000,
            9150000,
            2000000,
            4650000,
            3000000,
            6100000,
            50000,
            10000000,
            111940000,
            10100000,
            9850000,
            36500000,
            20500000,
            67950000,
            22050000,
            92000000,
            12000000
           ],
           "yaxis": "y"
          },
          {
           "hovertemplate": "<b>OLS trendline</b><br>Fee = 0.458681 * Market_value + 1.2808e+07<br>R<sup>2</sup>=0.230709<br><br>league=Spain<br>season=20/21<br>Market_value=%{x}<br>Fee=%{y} <b>(trend)</b><extra></extra>",
           "legendgroup": "Spain",
           "marker": {
            "color": "#EF553B",
            "symbol": "circle"
           },
           "mode": "lines",
           "name": "Spain",
           "showlegend": false,
           "type": "scatter",
           "x": [
            500000,
            750000,
            2200000,
            3000000,
            3850000,
            8700000,
            9200000,
            11200000,
            11600000,
            13800000,
            15000000,
            15400000,
            30000000,
            43500000,
            73500000,
            103000000,
            108500000
           ],
           "xaxis": "x",
           "y": [
            13037357.645384278,
            13152027.973342761,
            13817115.875501964,
            14184060.924969113,
            14573940.040027956,
            16798544.402422532,
            17027885.0583395,
            17945247.682007365,
            18128720.206740938,
            19137819.092775594,
            19688236.666976314,
            19871709.191709887,
            26568456.344485313,
            32760654.054243416,
            46521093.40926142,
            60052192.10836245,
            62574939.32344908
           ],
           "yaxis": "y"
          },
          {
           "hovertemplate": "league=France<br>season=20/21<br>Market_value=%{x}<br>Fee=%{y}<extra></extra>",
           "legendgroup": "France",
           "marker": {
            "color": "#00cc96",
            "symbol": "circle"
           },
           "mode": "markers",
           "name": "France",
           "orientation": "v",
           "showlegend": true,
           "type": "scatter",
           "x": [
            106200000,
            16625000,
            39000000,
            75500000,
            5100000,
            170000000,
            99800000,
            7000000,
            18600000,
            32900000,
            28200000,
            57200000,
            9300000,
            9000000,
            14500000,
            48100000,
            6700000,
            9050000,
            51000000
           ],
           "xaxis": "x",
           "y": [
            35300000,
            11250000,
            62000000,
            37040000,
            6200000,
            70560000,
            52700000,
            11200000,
            13100000,
            16100000,
            17420000,
            29230000,
            14700000,
            5000000,
            12000000,
            26500000,
            13400000,
            11250000,
            19000000
           ],
           "yaxis": "y"
          },
          {
           "hovertemplate": "<b>OLS trendline</b><br>Fee = 0.364374 * Market_value + 9.00396e+06<br>R<sup>2</sup>=0.704743<br><br>league=France<br>season=20/21<br>Market_value=%{x}<br>Fee=%{y} <b>(trend)</b><extra></extra>",
           "legendgroup": "France",
           "marker": {
            "color": "#00cc96",
            "symbol": "circle"
           },
           "mode": "lines",
           "name": "France",
           "showlegend": false,
           "type": "scatter",
           "x": [
            5100000,
            6700000,
            7000000,
            9000000,
            9050000,
            9300000,
            14500000,
            16625000,
            18600000,
            28200000,
            32900000,
            39000000,
            48100000,
            51000000,
            57200000,
            75500000,
            99800000,
            106200000,
            170000000
           ],
           "xaxis": "x",
           "y": [
            10862265.070679605,
            11445263.679841535,
            11554575.919059398,
            12283324.180511812,
            12301542.887048123,
            12392636.419729674,
            14287381.899505952,
            15061676.927299142,
            15781315.8354834,
            19279307.49045499,
            20991865.904868163,
            23214548.102298025,
            26530352.69190651,
            27587037.67101251,
            29846157.281514995,
            36514203.873804584,
            45368495.250451416,
            47700489.687099144,
            70947559.22743116
           ],
           "yaxis": "y"
          },
          {
           "hovertemplate": "league=Germany<br>season=20/21<br>Market_value=%{x}<br>Fee=%{y}<extra></extra>",
           "legendgroup": "Germany",
           "marker": {
            "color": "#ab63fa",
            "symbol": "circle"
           },
           "mode": "markers",
           "name": "Germany",
           "orientation": "v",
           "showlegend": true,
           "type": "scatter",
           "x": [
            2500000,
            11000000,
            16700000,
            31500000,
            59000000,
            164000000,
            2000000,
            33500000,
            26200000,
            11500000,
            72500000,
            88500000,
            34000000,
            3500000,
            4500000,
            41100000,
            139500000,
            87500000
           ],
           "xaxis": "x",
           "y": [
            2000000,
            1700000,
            18500000,
            4000000,
            13500000,
            55150000,
            2000000,
            14350000,
            10750000,
            10300000,
            14950000,
            66250000,
            22000000,
            11000000,
            500000,
            31250000,
            72000000,
            46200000
           ],
           "yaxis": "y"
          },
          {
           "hovertemplate": "<b>OLS trendline</b><br>Fee = 0.415162 * Market_value + 2.90173e+06<br>R<sup>2</sup>=0.756162<br><br>league=Germany<br>season=20/21<br>Market_value=%{x}<br>Fee=%{y} <b>(trend)</b><extra></extra>",
           "legendgroup": "Germany",
           "marker": {
            "color": "#ab63fa",
            "symbol": "circle"
           },
           "mode": "lines",
           "name": "Germany",
           "showlegend": false,
           "type": "scatter",
           "x": [
            2000000,
            2500000,
            3500000,
            4500000,
            11000000,
            11500000,
            16700000,
            26200000,
            31500000,
            33500000,
            34000000,
            41100000,
            59000000,
            72500000,
            87500000,
            88500000,
            139500000,
            164000000
           ],
           "xaxis": "x",
           "y": [
            3732049.845046208,
            3939630.616035595,
            4354792.158014369,
            4769953.699993144,
            7468503.722855178,
            7676084.493844565,
            9834924.512134193,
            13778959.160932548,
            15979315.333420053,
            16809638.417377602,
            17017219.18836699,
            19964866.136416286,
            27396257.73783635,
            33000938.554549806,
            39228361.68423142,
            39643523.22621019,
            60816761.86712769,
            70988219.64560767
           ],
           "yaxis": "y"
          },
          {
           "hovertemplate": "league=UK<br>season=20/21<br>Market_value=%{x}<br>Fee=%{y}<extra></extra>",
           "legendgroup": "UK",
           "marker": {
            "color": "#FFA15A",
            "symbol": "circle"
           },
           "mode": "markers",
           "name": "UK",
           "orientation": "v",
           "showlegend": true,
           "type": "scatter",
           "x": [
            46500000,
            20350000,
            47000000,
            178500000,
            102500000,
            43000000,
            96500000,
            20750000,
            72000000,
            122800000,
            77000000,
            38000000,
            123500000,
            57000000,
            140000000,
            136800000,
            186000000,
            127000000,
            46000000
           ],
           "xaxis": "x",
           "y": [
            87589000,
            39000000,
            37300000,
            173400000,
            54700000,
            83800000,
            84050000,
            42140000,
            110500000,
            127800000,
            59400000,
            74370000,
            50100000,
            22400000,
            247200000,
            37250000,
            86000000,
            101350000,
            62700000
           ],
           "yaxis": "y"
          },
          {
           "hovertemplate": "<b>OLS trendline</b><br>Fee = 0.546504 * Market_value + 3.48562e+07<br>R<sup>2</sup>=0.268195<br><br>league=UK<br>season=20/21<br>Market_value=%{x}<br>Fee=%{y} <b>(trend)</b><extra></extra>",
           "legendgroup": "UK",
           "marker": {
            "color": "#FFA15A",
            "symbol": "circle"
           },
           "mode": "lines",
           "name": "UK",
           "showlegend": false,
           "type": "scatter",
           "x": [
            20350000,
            20750000,
            38000000,
            43000000,
            46000000,
            46500000,
            47000000,
            57000000,
            72000000,
            77000000,
            96500000,
            102500000,
            122800000,
            123500000,
            127000000,
            136800000,
            140000000,
            178500000,
            186000000
           ],
           "xaxis": "x",
           "y": [
            45977506.228925355,
            46196107.71412111,
            55623296.76318814,
            58355815.32813511,
            59995326.46710329,
            60268578.32359798,
            60541830.18009268,
            66006867.309986606,
            74204423.0048275,
            76936941.56977446,
            87593763.97306763,
            90872786.25100398,
            101966811.62468867,
            102349364.22378124,
            104262127.21924411,
            109617863.60654016,
            111366675.48810622,
            132407068.43819785,
            136505846.2856183
           ],
           "yaxis": "y"
          },
          {
           "hovertemplate": "league=Arab<br>season=20/21<br>Market_value=%{x}<br>Fee=%{y}<extra></extra>",
           "legendgroup": "Arab",
           "marker": {
            "color": "#19d3f3",
            "symbol": "circle"
           },
           "mode": "markers",
           "name": "Arab",
           "orientation": "v",
           "showlegend": true,
           "type": "scatter",
           "x": [
            3275000,
            3200000,
            250000,
            2700000,
            1175000,
            5000000,
            500000,
            1650000,
            1150000,
            9125000,
            1500000,
            5300000,
            2800000
           ],
           "xaxis": "x",
           "y": [
            12193000,
            4500000,
            290000,
            1500000,
            2788000,
            1005000,
            1000000,
            2000000,
            1750000,
            32611000,
            2000000,
            5000000,
            1321000
           ],
           "yaxis": "y"
          },
          {
           "hovertemplate": "<b>OLS trendline</b><br>Fee = 2.88852 * Market_value + -3.1325e+06<br>R<sup>2</sup>=0.643890<br><br>league=Arab<br>season=20/21<br>Market_value=%{x}<br>Fee=%{y} <b>(trend)</b><extra></extra>",
           "legendgroup": "Arab",
           "marker": {
            "color": "#19d3f3",
            "symbol": "circle"
           },
           "mode": "lines",
           "name": "Arab",
           "showlegend": false,
           "type": "scatter",
           "x": [
            250000,
            500000,
            1150000,
            1175000,
            1500000,
            1650000,
            2700000,
            2800000,
            3200000,
            3275000,
            5000000,
            5300000,
            9125000
           ],
           "xaxis": "x",
           "y": [
            -2410371.5683072684,
            -1688241.8927582176,
            189295.2636693146,
            261508.2312242197,
            1200276.8094379858,
            1633554.6147674161,
            4666499.2520734295,
            4955351.12229305,
            6110758.603171531,
            6327397.505836247,
            11310092.267124698,
            12176647.87778356,
            23225231.913684037
           ],
           "yaxis": "y"
          }
         ],
         "name": "20/21"
        },
        {
         "data": [
          {
           "hovertemplate": "league=Italy<br>season=21/22<br>Market_value=%{x}<br>Fee=%{y}<extra></extra>",
           "legendgroup": "Italy",
           "marker": {
            "color": "#636efa",
            "symbol": "circle"
           },
           "mode": "markers",
           "name": "Italy",
           "orientation": "v",
           "showlegend": true,
           "type": "scatter",
           "x": [
            6300000,
            56700000,
            64600000,
            58500000,
            13750000,
            27500000,
            16700000,
            118400000,
            23600000,
            40400000,
            195000000,
            102500000,
            106000000,
            71000000,
            52500000,
            36300000,
            49400000,
            61275000,
            143300000,
            27250000
           ],
           "xaxis": "x",
           "y": [
            14500000,
            13800000,
            27785000,
            23300000,
            10500000,
            32305000,
            15700000,
            65200000,
            20390000,
            13400000,
            93113000,
            65050000,
            127650000,
            42270000,
            42550000,
            9400000,
            41240000,
            37120000,
            135980000,
            14351000
           ],
           "yaxis": "y"
          },
          {
           "hovertemplate": "<b>OLS trendline</b><br>Fee = 0.648599 * Market_value + 1.06255e+06<br>R<sup>2</sup>=0.686880<br><br>league=Italy<br>season=21/22<br>Market_value=%{x}<br>Fee=%{y} <b>(trend)</b><extra></extra>",
           "legendgroup": "Italy",
           "marker": {
            "color": "#636efa",
            "symbol": "circle"
           },
           "mode": "lines",
           "name": "Italy",
           "showlegend": false,
           "type": "scatter",
           "x": [
            6300000,
            13750000,
            16700000,
            23600000,
            27250000,
            27500000,
            36300000,
            40400000,
            49400000,
            52500000,
            56700000,
            58500000,
            61275000,
            64600000,
            71000000,
            102500000,
            106000000,
            118400000,
            143300000,
            195000000
           ],
           "xaxis": "x",
           "y": [
            5148720.163773055,
            9980782.432030281,
            11894149.370467706,
            16369482.209524734,
            18736868.421489682,
            18899018.162035227,
            24606689.02923839,
            27265944.774185322,
            33103335.433824923,
            35113992.216589674,
            37838107.85775483,
            39005585.98968274,
            40805448.10973829,
            42962039.65899403,
            47113073.016959965,
            67543940.32569857,
            69814036.69333619,
            77856663.82439521,
            94006777.98273143,
            127539344.32755004
           ],
           "yaxis": "y"
          },
          {
           "hovertemplate": "league=Spain<br>season=21/22<br>Market_value=%{x}<br>Fee=%{y}<extra></extra>",
           "legendgroup": "Spain",
           "marker": {
            "color": "#EF553B",
            "symbol": "circle"
           },
           "mode": "markers",
           "name": "Spain",
           "orientation": "v",
           "showlegend": true,
           "type": "scatter",
           "x": [
            29500000,
            19800000,
            17000000,
            90000000,
            5000000,
            27000000,
            10000000,
            114500000,
            5500000,
            11000000,
            3000000,
            14200000,
            83500000,
            60000000,
            69500000,
            16300000,
            20600000,
            29200000,
            1000000
           ],
           "xaxis": "x",
           "y": [
            41500000,
            4300000,
            2500000,
            31000000,
            3250000,
            10000000,
            6000000,
            85700000,
            8700000,
            6100000,
            1600000,
            8200000,
            13350000,
            69500000,
            54500000,
            10022000,
            15160000,
            17450000,
            375000
           ],
           "yaxis": "y"
          },
          {
           "hovertemplate": "<b>OLS trendline</b><br>Fee = 0.580452 * Market_value + 1.34188e+06<br>R<sup>2</sup>=0.619250<br><br>league=Spain<br>season=21/22<br>Market_value=%{x}<br>Fee=%{y} <b>(trend)</b><extra></extra>",
           "legendgroup": "Spain",
           "marker": {
            "color": "#EF553B",
            "symbol": "circle"
           },
           "mode": "lines",
           "name": "Spain",
           "showlegend": false,
           "type": "scatter",
           "x": [
            1000000,
            3000000,
            5000000,
            5500000,
            10000000,
            11000000,
            14200000,
            16300000,
            17000000,
            19800000,
            20600000,
            27000000,
            29200000,
            29500000,
            60000000,
            69500000,
            83500000,
            90000000,
            114500000
           ],
           "xaxis": "x",
           "y": [
            1922329.2396818215,
            3083233.5992803904,
            4244137.9588789595,
            4534364.048778602,
            7146398.857875382,
            7726851.037674666,
            9584298.013032377,
            10803247.590610873,
            11209564.116470372,
            12834830.21990837,
            13299191.963747796,
            17014085.91446322,
            18291080.71002164,
            18465216.36396143,
            36169007.8478396,
            41683303.555932805,
            49809634.073122784,
            53582573.24181814,
            67803651.64690061
           ],
           "yaxis": "y"
          },
          {
           "hovertemplate": "league=France<br>season=21/22<br>Market_value=%{x}<br>Fee=%{y}<extra></extra>",
           "legendgroup": "France",
           "marker": {
            "color": "#00cc96",
            "symbol": "circle"
           },
           "mode": "markers",
           "name": "France",
           "orientation": "v",
           "showlegend": true,
           "type": "scatter",
           "x": [
            140000000,
            84500000,
            16500000,
            14900000,
            20200000,
            51500000,
            44800000,
            77000000,
            93500000,
            27400000,
            28800000,
            38000000,
            5500000,
            17600000,
            13600000,
            1300000,
            62500000,
            13000000,
            2500000
           ],
           "xaxis": "x",
           "y": [
            91000000,
            54120000,
            9250000,
            4500000,
            16000000,
            22920000,
            20600000,
            55000000,
            81500000,
            21800000,
            9800000,
            45500000,
            600000,
            1870000,
            10500000,
            200000,
            25600000,
            7500000,
            2500000
           ],
           "yaxis": "y"
          },
          {
           "hovertemplate": "<b>OLS trendline</b><br>Fee = 0.696843 * Market_value + -2.31748e+06<br>R<sup>2</sup>=0.890589<br><br>league=France<br>season=21/22<br>Market_value=%{x}<br>Fee=%{y} <b>(trend)</b><extra></extra>",
           "legendgroup": "France",
           "marker": {
            "color": "#00cc96",
            "symbol": "circle"
           },
           "mode": "lines",
           "name": "France",
           "showlegend": false,
           "type": "scatter",
           "x": [
            1300000,
            2500000,
            5500000,
            13000000,
            13600000,
            14900000,
            16500000,
            17600000,
            20200000,
            27400000,
            28800000,
            38000000,
            44800000,
            51500000,
            62500000,
            77000000,
            84500000,
            93500000,
            140000000
           ],
           "xaxis": "x",
           "y": [
            -1411585.4444728314,
            -575374.3679572076,
            1515153.323331852,
            6741472.551554501,
            7159578.089812313,
            8065473.422704239,
            9180421.52472507,
            9946948.344864393,
            11758739.010648245,
            16776005.469741987,
            17751585.059010215,
            24162536.64563,
            28901066.079218533,
            33569911.25643077,
            41235179.457823984,
            51339396.63238777,
            56565715.860610425,
            62837298.934477605,
            95240478.14945802
           ],
           "yaxis": "y"
          },
          {
           "hovertemplate": "league=Germany<br>season=21/22<br>Market_value=%{x}<br>Fee=%{y}<extra></extra>",
           "legendgroup": "Germany",
           "marker": {
            "color": "#ab63fa",
            "symbol": "circle"
           },
           "mode": "markers",
           "name": "Germany",
           "orientation": "v",
           "showlegend": true,
           "type": "scatter",
           "x": [
            3500000,
            14500000,
            164000000,
            121000000,
            80000000,
            100000000,
            70000000,
            12500000,
            43000000,
            20750000,
            71000000,
            29350000,
            10000000,
            46225000,
            25800000,
            24650000
           ],
           "xaxis": "x",
           "y": [
            1400000,
            9500000,
            125620000,
            55350000,
            57500000,
            83180000,
            45000000,
            17000000,
            13450000,
            24060000,
            14850000,
            9425000,
            550000,
            20100000,
            7900000,
            27400000
           ],
           "yaxis": "y"
          },
          {
           "hovertemplate": "<b>OLS trendline</b><br>Fee = 0.678534 * Market_value + -3.44725e+06<br>R<sup>2</sup>=0.827421<br><br>league=Germany<br>season=21/22<br>Market_value=%{x}<br>Fee=%{y} <b>(trend)</b><extra></extra>",
           "legendgroup": "Germany",
           "marker": {
            "color": "#ab63fa",
            "symbol": "circle"
           },
           "mode": "lines",
           "name": "Germany",
           "showlegend": false,
           "type": "scatter",
           "x": [
            3500000,
            10000000,
            12500000,
            14500000,
            20750000,
            24650000,
            25800000,
            29350000,
            43000000,
            46225000,
            70000000,
            71000000,
            80000000,
            100000000,
            121000000,
            164000000
           ],
           "xaxis": "x",
           "y": [
            -1072378.18777432,
            3338092.2637056448,
            5034427.052736401,
            6391494.883961005,
            10632331.856537893,
            13278614.127425872,
            14058928.13038002,
            16467723.530803693,
            25729711.47891162,
            27917983.356761295,
            44050127.20044378,
            44728661.116056085,
            50835466.3565668,
            64406144.66881285,
            78655356.89667119,
            107832315.26800019
           ],
           "yaxis": "y"
          },
          {
           "hovertemplate": "league=UK<br>season=21/22<br>Market_value=%{x}<br>Fee=%{y}<extra></extra>",
           "legendgroup": "UK",
           "marker": {
            "color": "#FFA15A",
            "symbol": "circle"
           },
           "mode": "markers",
           "name": "UK",
           "orientation": "v",
           "showlegend": true,
           "type": "scatter",
           "x": [
            160000000,
            59500000,
            57500000,
            45200000,
            101000000,
            51000000,
            52000000,
            148000000,
            53000000,
            83000000,
            67100000,
            59000000,
            243000000,
            49100000,
            44000000,
            34000000,
            155000000,
            152000000,
            113000000,
            82000000
           ],
           "xaxis": "x",
           "y": [
            95900000,
            63400000,
            63550000,
            38200000,
            52000000,
            49400000,
            118000000,
            85620000,
            39500000,
            129800000,
            37600000,
            74500000,
            167400000,
            43500000,
            61050000,
            67600000,
            138900000,
            130500000,
            87000000,
            142000000
           ],
           "yaxis": "y"
          },
          {
           "hovertemplate": "<b>OLS trendline</b><br>Fee = 0.508481 * Market_value + 3.82942e+07<br>R<sup>2</sup>=0.481720<br><br>league=UK<br>season=21/22<br>Market_value=%{x}<br>Fee=%{y} <b>(trend)</b><extra></extra>",
           "legendgroup": "UK",
           "marker": {
            "color": "#FFA15A",
            "symbol": "circle"
           },
           "mode": "lines",
           "name": "UK",
           "showlegend": false,
           "type": "scatter",
           "x": [
            34000000,
            44000000,
            45200000,
            49100000,
            51000000,
            52000000,
            53000000,
            57500000,
            59000000,
            59500000,
            67100000,
            82000000,
            83000000,
            101000000,
            113000000,
            148000000,
            152000000,
            155000000,
            160000000,
            243000000
           ],
           "xaxis": "x",
           "y": [
            55582505.25898038,
            60667314.677806966,
            61277491.80806615,
            63260567.48140852,
            64226681.27098557,
            64735162.21286823,
            65243643.15475089,
            67531807.39322285,
            68294528.80604684,
            68548769.27698816,
            72413224.43529637,
            79989590.46934798,
            80498071.41123064,
            89650728.36511849,
            95752499.6677104,
            113549332.63360344,
            115583256.40113406,
            117108699.22678204,
            119651103.93619533,
            161855022.11245596
           ],
           "yaxis": "y"
          },
          {
           "hovertemplate": "league=Arab<br>season=21/22<br>Market_value=%{x}<br>Fee=%{y}<extra></extra>",
           "legendgroup": "Arab",
           "marker": {
            "color": "#19d3f3",
            "symbol": "circle"
           },
           "mode": "markers",
           "name": "Arab",
           "orientation": "v",
           "showlegend": true,
           "type": "scatter",
           "x": [
            3125000,
            2825000,
            1800000,
            2000000,
            1275000,
            18175000,
            8500000,
            20000000,
            1000000,
            10075000,
            3875000,
            2500000,
            4000000
           ],
           "xaxis": "x",
           "y": [
            1628000,
            5720000,
            3450000,
            1615000,
            2520000,
            33250000,
            12650000,
            15790000,
            350000,
            6373000,
            5789000,
            1800000,
            1520000
           ],
           "yaxis": "y"
          },
          {
           "hovertemplate": "<b>OLS trendline</b><br>Fee = 1.22408 * Market_value + -340866<br>R<sup>2</sup>=0.734649<br><br>league=Arab<br>season=21/22<br>Market_value=%{x}<br>Fee=%{y} <b>(trend)</b><extra></extra>",
           "legendgroup": "Arab",
           "marker": {
            "color": "#19d3f3",
            "symbol": "circle"
           },
           "mode": "lines",
           "name": "Arab",
           "showlegend": false,
           "type": "scatter",
           "x": [
            1000000,
            1275000,
            1800000,
            2000000,
            2500000,
            2825000,
            3125000,
            3875000,
            4000000,
            8500000,
            10075000,
            18175000,
            20000000
           ],
           "xaxis": "x",
           "y": [
            883218.0574460899,
            1219841.1934193359,
            1862485.362095533,
            2107302.1882578935,
            2719344.2536637955,
            3117171.596177632,
            3484396.835421173,
            4402459.933530026,
            4555470.4498815015,
            10063849.038534619,
            11991781.54456321,
            21906863.00413882,
            24140816.54287036
           ],
           "yaxis": "y"
          }
         ],
         "name": "21/22"
        },
        {
         "data": [
          {
           "hovertemplate": "league=Italy<br>season=22/23<br>Market_value=%{x}<br>Fee=%{y}<extra></extra>",
           "legendgroup": "Italy",
           "marker": {
            "color": "#636efa",
            "symbol": "circle"
           },
           "mode": "markers",
           "name": "Italy",
           "orientation": "v",
           "showlegend": true,
           "type": "scatter",
           "x": [
            26100000,
            127000000,
            92350000,
            70350000,
            66400000,
            62000000,
            24000000,
            23700000,
            59300000,
            86000000,
            288500000,
            109000000,
            5200000,
            42200000,
            69700000,
            32700000,
            100750000,
            59100000,
            81000000,
            156000000
           ],
           "xaxis": "x",
           "y": [
            5630000,
            108500000,
            46050000,
            56670000,
            46660000,
            36710000,
            9000000,
            17795000,
            54280000,
            70180000,
            78450000,
            68500000,
            6500000,
            15200000,
            30380000,
            34600000,
            33300000,
            39700000,
            41650000,
            102700000
           ],
           "yaxis": "y"
          },
          {
           "hovertemplate": "<b>OLS trendline</b><br>Fee = 0.345416 * Market_value + 1.78116e+07<br>R<sup>2</sup>=0.530184<br><br>league=Italy<br>season=22/23<br>Market_value=%{x}<br>Fee=%{y} <b>(trend)</b><extra></extra>",
           "legendgroup": "Italy",
           "marker": {
            "color": "#636efa",
            "symbol": "circle"
           },
           "mode": "lines",
           "name": "Italy",
           "showlegend": false,
           "type": "scatter",
           "x": [
            5200000,
            23700000,
            24000000,
            26100000,
            32700000,
            42200000,
            59100000,
            59300000,
            62000000,
            66400000,
            69700000,
            70350000,
            81000000,
            86000000,
            92350000,
            100750000,
            109000000,
            127000000,
            156000000,
            288500000
           ],
           "xaxis": "x",
           "y": [
            19607747.543815464,
            25997940.056617625,
            26101564.80006847,
            26826938.00422439,
            29106682.360143002,
            32388132.569419786,
            38225659.78381743,
            38294742.946118,
            39227365.63717561,
            40747195.20778802,
            41887067.38574732,
            42111587.66322415,
            45790266.05572918,
            47517345.11324328,
            49710735.51628619,
            52612228.33290987,
            55461908.77780813,
            61679393.384858884,
            71696451.91844065,
            117464046.94256423
           ],
           "yaxis": "y"
          },
          {
           "hovertemplate": "league=Spain<br>season=22/23<br>Market_value=%{x}<br>Fee=%{y}<extra></extra>",
           "legendgroup": "Spain",
           "marker": {
            "color": "#EF553B",
            "symbol": "circle"
           },
           "mode": "markers",
           "name": "Spain",
           "orientation": "v",
           "showlegend": true,
           "type": "scatter",
           "x": [
            16000000,
            5000000,
            23800000,
            16300000,
            15900000,
            120000000,
            90000000,
            30000000,
            10800000,
            28000000,
            43800000,
            8500000,
            152500000,
            36000000,
            26000000,
            84000000,
            45000000,
            14500000,
            13000000
           ],
           "xaxis": "x",
           "y": [
            30400000,
            6480000,
            20600000,
            12300000,
            11500000,
            53000000,
            80000000,
            12500000,
            13160000,
            25000000,
            37080000,
            11300000,
            158000000,
            13420000,
            22350000,
            29500000,
            15000000,
            15750000,
            2000000
           ],
           "yaxis": "y"
          },
          {
           "hovertemplate": "<b>OLS trendline</b><br>Fee = 0.760245 * Market_value + -1.20878e+06<br>R<sup>2</sup>=0.755010<br><br>league=Spain<br>season=22/23<br>Market_value=%{x}<br>Fee=%{y} <b>(trend)</b><extra></extra>",
           "legendgroup": "Spain",
           "marker": {
            "color": "#EF553B",
            "symbol": "circle"
           },
           "mode": "lines",
           "name": "Spain",
           "showlegend": false,
           "type": "scatter",
           "x": [
            5000000,
            8500000,
            10800000,
            13000000,
            14500000,
            15900000,
            16000000,
            16300000,
            23800000,
            26000000,
            28000000,
            30000000,
            36000000,
            43800000,
            45000000,
            84000000,
            90000000,
            120000000,
            152500000
           ],
           "xaxis": "x",
           "y": [
            2592441.8398012584,
            5253299.342583332,
            7001862.844411552,
            8674401.846160285,
            9814769.347352602,
            10879112.348465431,
            10955136.84854492,
            11183210.348783383,
            16885047.85474497,
            18557586.8564937,
            20078076.858083457,
            21598566.859673213,
            26160036.864442483,
            32089947.870642535,
            33002241.87159639,
            62651796.90259664,
            67213266.9073659,
            90020616.93121226,
            114728579.4570458
           ],
           "yaxis": "y"
          },
          {
           "hovertemplate": "league=France<br>season=22/23<br>Market_value=%{x}<br>Fee=%{y}<extra></extra>",
           "legendgroup": "France",
           "marker": {
            "color": "#00cc96",
            "symbol": "circle"
           },
           "mode": "markers",
           "name": "France",
           "orientation": "v",
           "showlegend": true,
           "type": "scatter",
           "x": [
            139000000,
            37000000,
            5500000,
            45500000,
            600000,
            16500000,
            93700000,
            96000000,
            1800000,
            61000000,
            29100000,
            10200000,
            101300000,
            34350000,
            8000000,
            22500000,
            30300000,
            5800000,
            188000000,
            48700000
           ],
           "xaxis": "x",
           "y": [
            120400000,
            26000000,
            6000000,
            32450000,
            300000,
            9500000,
            84000000,
            84000000,
            1750000,
            43500000,
            20400000,
            5350000,
            43940000,
            24800000,
            7000000,
            12450000,
            14000000,
            2300000,
            147500000,
            30200000
           ],
           "yaxis": "y"
          },
          {
           "hovertemplate": "<b>OLS trendline</b><br>Fee = 0.797382 * Market_value + -3.07441e+06<br>R<sup>2</sup>=0.947799<br><br>league=France<br>season=22/23<br>Market_value=%{x}<br>Fee=%{y} <b>(trend)</b><extra></extra>",
           "legendgroup": "France",
           "marker": {
            "color": "#00cc96",
            "symbol": "circle"
           },
           "mode": "lines",
           "name": "France",
           "showlegend": false,
           "type": "scatter",
           "x": [
            600000,
            1800000,
            5500000,
            5800000,
            8000000,
            10200000,
            16500000,
            22500000,
            29100000,
            30300000,
            34350000,
            37000000,
            45500000,
            48700000,
            61000000,
            93700000,
            96000000,
            101300000,
            139000000,
            188000000
           ],
           "xaxis": "x",
           "y": [
            -2595977.5642743637,
            -1639118.7996250575,
            1311195.7247103034,
            1550410.41587263,
            3304651.484396358,
            5058892.552920086,
            10082401.067328945,
            14866694.890575476,
            20129418.096146658,
            21086276.860795967,
            24315675.191487376,
            26428738.29675459,
            33206487.87968718,
            35758111.25208533,
            45565913.589740716,
            71640314.92643431,
            73474294.22534548,
            77700420.43587992,
            107761733.29194562,
            146833466.1817923
           ],
           "yaxis": "y"
          },
          {
           "hovertemplate": "league=Germany<br>season=22/23<br>Market_value=%{x}<br>Fee=%{y}<extra></extra>",
           "legendgroup": "Germany",
           "marker": {
            "color": "#ab63fa",
            "symbol": "circle"
           },
           "mode": "markers",
           "name": "Germany",
           "orientation": "v",
           "showlegend": true,
           "type": "scatter",
           "x": [
            5000000,
            21500000,
            50000000,
            19000000,
            38300000,
            29700000,
            28350000,
            41500000,
            45700000,
            57500000,
            185000000,
            12300000,
            137200000,
            31000000,
            7000000,
            72000000,
            29000000,
            22500000
           ],
           "xaxis": "x",
           "y": [
            4000000,
            6750000,
            24650000,
            19800000,
            23800000,
            27800000,
            8630000,
            11450000,
            14550000,
            36250000,
            146500000,
            8850000,
            104600000,
            24000000,
            1785000,
            59500000,
            15900000,
            15100000
           ],
           "yaxis": "y"
          },
          {
           "hovertemplate": "<b>OLS trendline</b><br>Fee = 0.802305 * Market_value + -6.33576e+06<br>R<sup>2</sup>=0.954867<br><br>league=Germany<br>season=22/23<br>Market_value=%{x}<br>Fee=%{y} <b>(trend)</b><extra></extra>",
           "legendgroup": "Germany",
           "marker": {
            "color": "#ab63fa",
            "symbol": "circle"
           },
           "mode": "lines",
           "name": "Germany",
           "showlegend": false,
           "type": "scatter",
           "x": [
            5000000,
            7000000,
            12300000,
            19000000,
            21500000,
            22500000,
            28350000,
            29000000,
            29700000,
            31000000,
            38300000,
            41500000,
            45700000,
            50000000,
            57500000,
            72000000,
            137200000,
            185000000
           ],
           "xaxis": "x",
           "y": [
            -2324239.7453000178,
            -719630.4518776214,
            3532584.175691729,
            8908025.308656756,
            10913786.925434751,
            11716091.57214595,
            16409573.75540646,
            16931071.77576874,
            17492685.02846658,
            18535681.069191135,
            24392504.99018288,
            26959879.859658714,
            30329559.37584575,
            33779469.3567039,
            39796754.20703789,
            51430171.58435026,
            103740434.54992038,
            142090596.66271564
           ],
           "yaxis": "y"
          },
          {
           "hovertemplate": "league=UK<br>season=22/23<br>Market_value=%{x}<br>Fee=%{y}<extra></extra>",
           "legendgroup": "UK",
           "marker": {
            "color": "#FFA15A",
            "symbol": "circle"
           },
           "mode": "markers",
           "name": "UK",
           "orientation": "v",
           "showlegend": true,
           "type": "scatter",
           "x": [
            177000000,
            68000000,
            236000000,
            153000000,
            194800000,
            193000000,
            101000000,
            172500000,
            269000000,
            237000000,
            156000000,
            79000000,
            55000000,
            185000000,
            128500000,
            470500000,
            101000000,
            108000000,
            232775000,
            80000000
           ],
           "xaxis": "x",
           "y": [
            152110000,
            49000000,
            177900000,
            151390000,
            185350000,
            186500000,
            83100000,
            243280000,
            155000000,
            191900000,
            137300000,
            100140000,
            46600000,
            177107000,
            72200000,
            611490000,
            78200000,
            55700000,
            195250000,
            49250000
           ],
           "yaxis": "y"
          },
          {
           "hovertemplate": "<b>OLS trendline</b><br>Fee = 1.19866 * Market_value + -4.86581e+07<br>R<sup>2</sup>=0.849391<br><br>league=UK<br>season=22/23<br>Market_value=%{x}<br>Fee=%{y} <b>(trend)</b><extra></extra>",
           "legendgroup": "UK",
           "marker": {
            "color": "#FFA15A",
            "symbol": "circle"
           },
           "mode": "lines",
           "name": "UK",
           "showlegend": false,
           "type": "scatter",
           "x": [
            55000000,
            68000000,
            79000000,
            80000000,
            101000000,
            101000000,
            108000000,
            128500000,
            153000000,
            156000000,
            172500000,
            177000000,
            185000000,
            193000000,
            194800000,
            232775000,
            236000000,
            237000000,
            269000000,
            470500000
           ],
           "xaxis": "x",
           "y": [
            17268074.426470954,
            32850618.16105409,
            46035847.47493213,
            47234504.68528468,
            72406306.10268821,
            72406306.10268821,
            80796906.57515605,
            105369379.38738331,
            134736481.04102075,
            138332452.6720784,
            158110296.64289546,
            163504254.08948192,
            173093511.77230233,
            182682769.4551227,
            184840352.4337573,
            230359359.99689534,
            234225029.50028232,
            235423686.7106349,
            273780717.44191647,
            515310145.32795507
           ],
           "yaxis": "y"
          },
          {
           "hovertemplate": "league=Arab<br>season=22/23<br>Market_value=%{x}<br>Fee=%{y}<extra></extra>",
           "legendgroup": "Arab",
           "marker": {
            "color": "#19d3f3",
            "symbol": "circle"
           },
           "mode": "markers",
           "name": "Arab",
           "orientation": "v",
           "showlegend": true,
           "type": "scatter",
           "x": [
            4475000,
            700000,
            8500000,
            7400000,
            4600000,
            4575000,
            1125000,
            950000,
            1525000,
            1400000,
            7000000,
            1700000,
            4300000
           ],
           "xaxis": "x",
           "y": [
            8415000,
            1000000,
            6450000,
            7936000,
            696000,
            2032000,
            1266000,
            1000000,
            1295000,
            4700000,
            5440000,
            2150000,
            2400000
           ],
           "yaxis": "y"
          },
          {
           "hovertemplate": "<b>OLS trendline</b><br>Fee = 0.700345 * Market_value + 845257<br>R<sup>2</sup>=0.460266<br><br>league=Arab<br>season=22/23<br>Market_value=%{x}<br>Fee=%{y} <b>(trend)</b><extra></extra>",
           "legendgroup": "Arab",
           "marker": {
            "color": "#19d3f3",
            "symbol": "circle"
           },
           "mode": "lines",
           "name": "Arab",
           "showlegend": false,
           "type": "scatter",
           "x": [
            700000,
            950000,
            1125000,
            1400000,
            1525000,
            1700000,
            4300000,
            4475000,
            4575000,
            4600000,
            7000000,
            7400000,
            8500000
           ],
           "xaxis": "x",
           "y": [
            1335498.5439617883,
            1510584.871729967,
            1633145.3011676918,
            1825740.2617126883,
            1913283.4255967776,
            2035843.8550345025,
            3856741.6638235594,
            3979302.0932612843,
            4049336.624368556,
            4066845.2571453736,
            5747674.003719888,
            6027812.128148973,
            6798191.970328959
           ],
           "yaxis": "y"
          }
         ],
         "name": "22/23"
        },
        {
         "data": [
          {
           "hovertemplate": "league=Italy<br>season=23/24<br>Market_value=%{x}<br>Fee=%{y}<extra></extra>",
           "legendgroup": "Italy",
           "marker": {
            "color": "#636efa",
            "symbol": "circle"
           },
           "mode": "markers",
           "name": "Italy",
           "orientation": "v",
           "showlegend": true,
           "type": "scatter",
           "x": [
            57500000,
            40000000,
            25400000,
            32200000,
            86000000,
            88000000,
            26600000,
            138500000,
            43000000,
            66000000,
            63000000,
            53750000,
            111500000,
            59300000,
            16500000,
            5450000,
            42800000,
            6500000,
            98000000,
            71500000
           ],
           "xaxis": "x",
           "y": [
            63200000,
            25800000,
            28250000,
            21970000,
            68500000,
            49000000,
            22200000,
            114900000,
            41500000,
            44850000,
            9300000,
            38360000,
            104000000,
            47050000,
            8700000,
            4400000,
            28350000,
            6500000,
            63750000,
            79600000
           ],
           "yaxis": "y"
          },
          {
           "hovertemplate": "<b>OLS trendline</b><br>Fee = 0.795838 * Market_value + -1.51553e+06<br>R<sup>2</sup>=0.803458<br><br>league=Italy<br>season=23/24<br>Market_value=%{x}<br>Fee=%{y} <b>(trend)</b><extra></extra>",
           "legendgroup": "Italy",
           "marker": {
            "color": "#636efa",
            "symbol": "circle"
           },
           "mode": "lines",
           "name": "Italy",
           "showlegend": false,
           "type": "scatter",
           "x": [
            5450000,
            6500000,
            16500000,
            25400000,
            26600000,
            32200000,
            40000000,
            42800000,
            43000000,
            53750000,
            57500000,
            59300000,
            63000000,
            66000000,
            71500000,
            86000000,
            88000000,
            98000000,
            111500000,
            138500000
           ],
           "xaxis": "x",
           "y": [
            2821782.4851321583,
            3657412.3803030383,
            11615792.334311418,
            18698750.493378878,
            19653756.087859884,
            24110448.862104576,
            30317985.22623111,
            32546331.613353457,
            32705499.212433625,
            41260757.662992634,
            44245150.14574578,
            45677658.537467286,
            48622259.120450385,
            51009773.1066529,
            55386882.08135751,
            66926533.01466966,
            68518209.00547133,
            76476588.95947972,
            87220401.89739102,
            108708027.77321365
           ],
           "yaxis": "y"
          },
          {
           "hovertemplate": "league=Spain<br>season=23/24<br>Market_value=%{x}<br>Fee=%{y}<extra></extra>",
           "legendgroup": "Spain",
           "marker": {
            "color": "#EF553B",
            "symbol": "circle"
           },
           "mode": "markers",
           "name": "Spain",
           "orientation": "v",
           "showlegend": true,
           "type": "scatter",
           "x": [
            44500000,
            7300000,
            18000000,
            19500000,
            43600000,
            3000000,
            26500000,
            7500000,
            14700000,
            33500000,
            20500000,
            17000000,
            204000000,
            44000000,
            49000000,
            5000000,
            11500000,
            35500000,
            16300000
           ],
           "xaxis": "x",
           "y": [
            52000000,
            4800000,
            12500000,
            10400000,
            33700000,
            6500000,
            26700000,
            6000000,
            8800000,
            24300000,
            17300000,
            9500000,
            129500000,
            17400000,
            32000000,
            3400000,
            11000000,
            22250000,
            12800000
           ],
           "yaxis": "y"
          },
          {
           "hovertemplate": "<b>OLS trendline</b><br>Fee = 0.63118 * Market_value + 2.57632e+06<br>R<sup>2</sup>=0.947282<br><br>league=Spain<br>season=23/24<br>Market_value=%{x}<br>Fee=%{y} <b>(trend)</b><extra></extra>",
           "legendgroup": "Spain",
           "marker": {
            "color": "#EF553B",
            "symbol": "circle"
           },
           "mode": "lines",
           "name": "Spain",
           "showlegend": false,
           "type": "scatter",
           "x": [
            3000000,
            5000000,
            7300000,
            7500000,
            11500000,
            14700000,
            16300000,
            17000000,
            18000000,
            19500000,
            20500000,
            26500000,
            33500000,
            35500000,
            43600000,
            44000000,
            44500000,
            49000000,
            204000000
           ],
           "xaxis": "x",
           "y": [
            4469861.344426493,
            5732222.168884364,
            7183937.117010917,
            7310173.199456704,
            9834894.848372446,
            11854672.16750504,
            12864560.827071337,
            13306387.115631593,
            13937567.527860528,
            14884338.146203931,
            15515518.558432868,
            19302601.031806484,
            23720863.917409033,
            24983224.741866905,
            30095786.080921285,
            30348258.24581286,
            30663848.451927327,
            33504160.306957535,
            131337124.20244257
           ],
           "yaxis": "y"
          },
          {
           "hovertemplate": "league=France<br>season=23/24<br>Market_value=%{x}<br>Fee=%{y}<extra></extra>",
           "legendgroup": "France",
           "marker": {
            "color": "#00cc96",
            "symbol": "circle"
           },
           "mode": "markers",
           "name": "France",
           "orientation": "v",
           "showlegend": true,
           "type": "scatter",
           "x": [
            12300000,
            90600000,
            33500000,
            112000000,
            382000000,
            77700000,
            42000000,
            10000000,
            44300000,
            65000000,
            40700000,
            12200000,
            17600000,
            6300000,
            38300000,
            15000000,
            26300000,
            5800000
           ],
           "xaxis": "x",
           "y": [
            7100000,
            85000000,
            19340000,
            72000000,
            349500000,
            63900000,
            56000000,
            3500000,
            49000000,
            57900000,
            43500000,
            5950000,
            20500000,
            5900000,
            21950000,
            13000000,
            30200000,
            2900000
           ],
           "yaxis": "y"
          },
          {
           "hovertemplate": "<b>OLS trendline</b><br>Fee = 0.905133 * Market_value + -1.47748e+06<br>R<sup>2</sup>=0.983440<br><br>league=France<br>season=23/24<br>Market_value=%{x}<br>Fee=%{y} <b>(trend)</b><extra></extra>",
           "legendgroup": "France",
           "marker": {
            "color": "#00cc96",
            "symbol": "circle"
           },
           "mode": "lines",
           "name": "France",
           "showlegend": false,
           "type": "scatter",
           "x": [
            5800000,
            6300000,
            10000000,
            12200000,
            12300000,
            15000000,
            17600000,
            26300000,
            33500000,
            38300000,
            40700000,
            42000000,
            44300000,
            65000000,
            77700000,
            90600000,
            112000000,
            382000000
           ],
           "xaxis": "x",
           "y": [
            3772283.971080147,
            4224850.239695634,
            7573840.627450231,
            9565132.20935837,
            9655645.463081468,
            12099503.313605094,
            14452847.910405621,
            22327500.984315082,
            28844455.252378084,
            33189091.431086753,
            35361409.520441085,
            36538081.818841346,
            38619886.65447258,
            57356130.17515372,
            68851313.39798707,
            80527523.1282666,
            99897359.42500941,
            344283144.477372
           ],
           "yaxis": "y"
          },
          {
           "hovertemplate": "league=Germany<br>season=23/24<br>Market_value=%{x}<br>Fee=%{y}<extra></extra>",
           "legendgroup": "Germany",
           "marker": {
            "color": "#ab63fa",
            "symbol": "circle"
           },
           "mode": "markers",
           "name": "Germany",
           "orientation": "v",
           "showlegend": true,
           "type": "scatter",
           "x": [
            87500000,
            6500000,
            76000000,
            5000000,
            56500000,
            106000000,
            175000000,
            58000000,
            50000000,
            7500000,
            47500000,
            10500000,
            97500000,
            21400000,
            171500000,
            9500000,
            4800000,
            8500000
           ],
           "xaxis": "x",
           "y": [
            72500000,
            2450000,
            22350000,
            2300000,
            43300000,
            80800000,
            150000000,
            64000000,
            29280000,
            2500000,
            32000000,
            9000000,
            56150000,
            9650000,
            152500000,
            7500000,
            3800000,
            6000000
           ],
           "yaxis": "y"
          },
          {
           "hovertemplate": "<b>OLS trendline</b><br>Fee = 0.838325 * Market_value + -5.08747e+06<br>R<sup>2</sup>=0.931716<br><br>league=Germany<br>season=23/24<br>Market_value=%{x}<br>Fee=%{y} <b>(trend)</b><extra></extra>",
           "legendgroup": "Germany",
           "marker": {
            "color": "#ab63fa",
            "symbol": "circle"
           },
           "mode": "lines",
           "name": "Germany",
           "showlegend": false,
           "type": "scatter",
           "x": [
            4800000,
            5000000,
            6500000,
            7500000,
            8500000,
            9500000,
            10500000,
            21400000,
            47500000,
            50000000,
            56500000,
            58000000,
            76000000,
            87500000,
            97500000,
            106000000,
            171500000,
            175000000
           ],
           "xaxis": "x",
           "y": [
            -1063509.1826984517,
            -895844.1596290887,
            361643.5133911331,
            1199968.6287379477,
            2038293.7440847622,
            2876618.859431577,
            3714943.9747783914,
            12852687.73205867,
            34732973.24261053,
            36828786.03097756,
            42277899.28073186,
            43535386.95375208,
            58625239.02999474,
            68265977.85648312,
            76649229.00995125,
            83774992.49039918,
            138685287.54561552,
            141619425.44932938
           ],
           "yaxis": "y"
          },
          {
           "hovertemplate": "league=UK<br>season=23/24<br>Market_value=%{x}<br>Fee=%{y}<extra></extra>",
           "legendgroup": "UK",
           "marker": {
            "color": "#FFA15A",
            "symbol": "circle"
           },
           "mode": "markers",
           "name": "UK",
           "orientation": "v",
           "showlegend": true,
           "type": "scatter",
           "x": [
            281000000,
            129500000,
            234000000,
            127000000,
            59000000,
            108000000,
            413000000,
            41000000,
            84000000,
            125000000,
            54000000,
            60500000,
            148000000,
            67000000,
            183000000,
            24300000,
            233000000,
            205000000,
            133000000,
            60000000
           ],
           "xaxis": "x",
           "y": [
            247600000,
            137560000,
            234940000,
            93000000,
            64850000,
            111050000,
            462100000,
            38700000,
            100350000,
            127690000,
            40500000,
            64450000,
            122050000,
            68470000,
            172000000,
            22750000,
            241100000,
            203400000,
            153200000,
            94000000
           ],
           "yaxis": "y"
          },
          {
           "hovertemplate": "<b>OLS trendline</b><br>Fee = 1.03324 * Market_value + -3.08022e+06<br>R<sup>2</sup>=0.962216<br><br>league=UK<br>season=23/24<br>Market_value=%{x}<br>Fee=%{y} <b>(trend)</b><extra></extra>",
           "legendgroup": "UK",
           "marker": {
            "color": "#FFA15A",
            "symbol": "circle"
           },
           "mode": "lines",
           "name": "UK",
           "showlegend": false,
           "type": "scatter",
           "x": [
            24300000,
            41000000,
            54000000,
            59000000,
            60000000,
            60500000,
            67000000,
            84000000,
            108000000,
            125000000,
            127000000,
            129500000,
            133000000,
            148000000,
            183000000,
            205000000,
            233000000,
            234000000,
            281000000,
            413000000
           ],
           "xaxis": "x",
           "y": [
            22027624.501332264,
            39282810.16092803,
            52714990.614505574,
            57881213.86588155,
            58914458.51615675,
            59431080.84129434,
            66147171.068083115,
            83712330.12276144,
            108510201.72936612,
            126075360.78404446,
            128141850.08459485,
            130724961.71028283,
            134341317.98624602,
            149839987.74037394,
            186003550.50000578,
            208734932.8060601,
            237665783.01376557,
            238699027.66404077,
            287261526.22697496,
            423649820.0633008
           ],
           "yaxis": "y"
          },
          {
           "hovertemplate": "league=Arab<br>season=23/24<br>Market_value=%{x}<br>Fee=%{y}<extra></extra>",
           "legendgroup": "Arab",
           "marker": {
            "color": "#19d3f3",
            "symbol": "circle"
           },
           "mode": "markers",
           "name": "Arab",
           "orientation": "v",
           "showlegend": true,
           "type": "scatter",
           "x": [
            2000000,
            7500000,
            4800000,
            16600000,
            39000000,
            5400000,
            155650000,
            29000000,
            9525000,
            12800000,
            2575000,
            213000000,
            64500000,
            6000000,
            136000000,
            6450000,
            10000000
           ],
           "xaxis": "x",
           "y": [
            1200000,
            5300000,
            3320000,
            14982000,
            34380000,
            1998000,
            187503000,
            36300000,
            5758000,
            7950000,
            1749000,
            353100000,
            119400000,
            4070000,
            165100000,
            3592000,
            1000000
           ],
           "yaxis": "y"
          },
          {
           "hovertemplate": "<b>OLS trendline</b><br>Fee = 1.50032 * Market_value + -7.92542e+06<br>R<sup>2</sup>=0.963779<br><br>league=Arab<br>season=23/24<br>Market_value=%{x}<br>Fee=%{y} <b>(trend)</b><extra></extra>",
           "legendgroup": "Arab",
           "marker": {
            "color": "#19d3f3",
            "symbol": "circle"
           },
           "mode": "lines",
           "name": "Arab",
           "showlegend": false,
           "type": "scatter",
           "x": [
            2000000,
            2575000,
            4800000,
            5400000,
            6000000,
            6450000,
            7500000,
            9525000,
            10000000,
            12800000,
            16600000,
            29000000,
            39000000,
            64500000,
            136000000,
            155650000,
            213000000
           ],
           "xaxis": "x",
           "y": [
            -4924772.703116036,
            -4062085.890109397,
            -723863.0049967527,
            176331.93031452212,
            1076526.865625797,
            1751673.0671092533,
            3327014.2039039843,
            6365172.110579537,
            7077826.43436763,
            11278736.132486913,
            16979970.722791653,
            35583999.38589133,
            50587248.30774592,
            88845533.0584751,
            196118762.84973535,
            225600146.98117962,
            311643779.54801565
           ],
           "yaxis": "y"
          }
         ],
         "name": "23/24"
        }
       ],
       "layout": {
        "legend": {
         "title": {
          "text": "league"
         },
         "tracegroupgap": 0
        },
        "margin": {
         "t": 60
        },
        "sliders": [
         {
          "active": 0,
          "currentvalue": {
           "prefix": "season="
          },
          "len": 0.9,
          "pad": {
           "b": 10,
           "t": 60
          },
          "steps": [
           {
            "args": [
             [
              "16/17"
             ],
             {
              "frame": {
               "duration": 0,
               "redraw": false
              },
              "fromcurrent": true,
              "mode": "immediate",
              "transition": {
               "duration": 0,
               "easing": "linear"
              }
             }
            ],
            "label": "16/17",
            "method": "animate"
           },
           {
            "args": [
             [
              "17/18"
             ],
             {
              "frame": {
               "duration": 0,
               "redraw": false
              },
              "fromcurrent": true,
              "mode": "immediate",
              "transition": {
               "duration": 0,
               "easing": "linear"
              }
             }
            ],
            "label": "17/18",
            "method": "animate"
           },
           {
            "args": [
             [
              "18/19"
             ],
             {
              "frame": {
               "duration": 0,
               "redraw": false
              },
              "fromcurrent": true,
              "mode": "immediate",
              "transition": {
               "duration": 0,
               "easing": "linear"
              }
             }
            ],
            "label": "18/19",
            "method": "animate"
           },
           {
            "args": [
             [
              "19/20"
             ],
             {
              "frame": {
               "duration": 0,
               "redraw": false
              },
              "fromcurrent": true,
              "mode": "immediate",
              "transition": {
               "duration": 0,
               "easing": "linear"
              }
             }
            ],
            "label": "19/20",
            "method": "animate"
           },
           {
            "args": [
             [
              "20/21"
             ],
             {
              "frame": {
               "duration": 0,
               "redraw": false
              },
              "fromcurrent": true,
              "mode": "immediate",
              "transition": {
               "duration": 0,
               "easing": "linear"
              }
             }
            ],
            "label": "20/21",
            "method": "animate"
           },
           {
            "args": [
             [
              "21/22"
             ],
             {
              "frame": {
               "duration": 0,
               "redraw": false
              },
              "fromcurrent": true,
              "mode": "immediate",
              "transition": {
               "duration": 0,
               "easing": "linear"
              }
             }
            ],
            "label": "21/22",
            "method": "animate"
           },
           {
            "args": [
             [
              "22/23"
             ],
             {
              "frame": {
               "duration": 0,
               "redraw": false
              },
              "fromcurrent": true,
              "mode": "immediate",
              "transition": {
               "duration": 0,
               "easing": "linear"
              }
             }
            ],
            "label": "22/23",
            "method": "animate"
           },
           {
            "args": [
             [
              "23/24"
             ],
             {
              "frame": {
               "duration": 0,
               "redraw": false
              },
              "fromcurrent": true,
              "mode": "immediate",
              "transition": {
               "duration": 0,
               "easing": "linear"
              }
             }
            ],
            "label": "23/24",
            "method": "animate"
           }
          ],
          "x": 0.1,
          "xanchor": "left",
          "y": 0,
          "yanchor": "top"
         }
        ],
        "template": {
         "data": {
          "bar": [
           {
            "error_x": {
             "color": "#2a3f5f"
            },
            "error_y": {
             "color": "#2a3f5f"
            },
            "marker": {
             "line": {
              "color": "#E5ECF6",
              "width": 0.5
             },
             "pattern": {
              "fillmode": "overlay",
              "size": 10,
              "solidity": 0.2
             }
            },
            "type": "bar"
           }
          ],
          "barpolar": [
           {
            "marker": {
             "line": {
              "color": "#E5ECF6",
              "width": 0.5
             },
             "pattern": {
              "fillmode": "overlay",
              "size": 10,
              "solidity": 0.2
             }
            },
            "type": "barpolar"
           }
          ],
          "carpet": [
           {
            "aaxis": {
             "endlinecolor": "#2a3f5f",
             "gridcolor": "white",
             "linecolor": "white",
             "minorgridcolor": "white",
             "startlinecolor": "#2a3f5f"
            },
            "baxis": {
             "endlinecolor": "#2a3f5f",
             "gridcolor": "white",
             "linecolor": "white",
             "minorgridcolor": "white",
             "startlinecolor": "#2a3f5f"
            },
            "type": "carpet"
           }
          ],
          "choropleth": [
           {
            "colorbar": {
             "outlinewidth": 0,
             "ticks": ""
            },
            "type": "choropleth"
           }
          ],
          "contour": [
           {
            "colorbar": {
             "outlinewidth": 0,
             "ticks": ""
            },
            "colorscale": [
             [
              0,
              "#0d0887"
             ],
             [
              0.1111111111111111,
              "#46039f"
             ],
             [
              0.2222222222222222,
              "#7201a8"
             ],
             [
              0.3333333333333333,
              "#9c179e"
             ],
             [
              0.4444444444444444,
              "#bd3786"
             ],
             [
              0.5555555555555556,
              "#d8576b"
             ],
             [
              0.6666666666666666,
              "#ed7953"
             ],
             [
              0.7777777777777778,
              "#fb9f3a"
             ],
             [
              0.8888888888888888,
              "#fdca26"
             ],
             [
              1,
              "#f0f921"
             ]
            ],
            "type": "contour"
           }
          ],
          "contourcarpet": [
           {
            "colorbar": {
             "outlinewidth": 0,
             "ticks": ""
            },
            "type": "contourcarpet"
           }
          ],
          "heatmap": [
           {
            "colorbar": {
             "outlinewidth": 0,
             "ticks": ""
            },
            "colorscale": [
             [
              0,
              "#0d0887"
             ],
             [
              0.1111111111111111,
              "#46039f"
             ],
             [
              0.2222222222222222,
              "#7201a8"
             ],
             [
              0.3333333333333333,
              "#9c179e"
             ],
             [
              0.4444444444444444,
              "#bd3786"
             ],
             [
              0.5555555555555556,
              "#d8576b"
             ],
             [
              0.6666666666666666,
              "#ed7953"
             ],
             [
              0.7777777777777778,
              "#fb9f3a"
             ],
             [
              0.8888888888888888,
              "#fdca26"
             ],
             [
              1,
              "#f0f921"
             ]
            ],
            "type": "heatmap"
           }
          ],
          "heatmapgl": [
           {
            "colorbar": {
             "outlinewidth": 0,
             "ticks": ""
            },
            "colorscale": [
             [
              0,
              "#0d0887"
             ],
             [
              0.1111111111111111,
              "#46039f"
             ],
             [
              0.2222222222222222,
              "#7201a8"
             ],
             [
              0.3333333333333333,
              "#9c179e"
             ],
             [
              0.4444444444444444,
              "#bd3786"
             ],
             [
              0.5555555555555556,
              "#d8576b"
             ],
             [
              0.6666666666666666,
              "#ed7953"
             ],
             [
              0.7777777777777778,
              "#fb9f3a"
             ],
             [
              0.8888888888888888,
              "#fdca26"
             ],
             [
              1,
              "#f0f921"
             ]
            ],
            "type": "heatmapgl"
           }
          ],
          "histogram": [
           {
            "marker": {
             "pattern": {
              "fillmode": "overlay",
              "size": 10,
              "solidity": 0.2
             }
            },
            "type": "histogram"
           }
          ],
          "histogram2d": [
           {
            "colorbar": {
             "outlinewidth": 0,
             "ticks": ""
            },
            "colorscale": [
             [
              0,
              "#0d0887"
             ],
             [
              0.1111111111111111,
              "#46039f"
             ],
             [
              0.2222222222222222,
              "#7201a8"
             ],
             [
              0.3333333333333333,
              "#9c179e"
             ],
             [
              0.4444444444444444,
              "#bd3786"
             ],
             [
              0.5555555555555556,
              "#d8576b"
             ],
             [
              0.6666666666666666,
              "#ed7953"
             ],
             [
              0.7777777777777778,
              "#fb9f3a"
             ],
             [
              0.8888888888888888,
              "#fdca26"
             ],
             [
              1,
              "#f0f921"
             ]
            ],
            "type": "histogram2d"
           }
          ],
          "histogram2dcontour": [
           {
            "colorbar": {
             "outlinewidth": 0,
             "ticks": ""
            },
            "colorscale": [
             [
              0,
              "#0d0887"
             ],
             [
              0.1111111111111111,
              "#46039f"
             ],
             [
              0.2222222222222222,
              "#7201a8"
             ],
             [
              0.3333333333333333,
              "#9c179e"
             ],
             [
              0.4444444444444444,
              "#bd3786"
             ],
             [
              0.5555555555555556,
              "#d8576b"
             ],
             [
              0.6666666666666666,
              "#ed7953"
             ],
             [
              0.7777777777777778,
              "#fb9f3a"
             ],
             [
              0.8888888888888888,
              "#fdca26"
             ],
             [
              1,
              "#f0f921"
             ]
            ],
            "type": "histogram2dcontour"
           }
          ],
          "mesh3d": [
           {
            "colorbar": {
             "outlinewidth": 0,
             "ticks": ""
            },
            "type": "mesh3d"
           }
          ],
          "parcoords": [
           {
            "line": {
             "colorbar": {
              "outlinewidth": 0,
              "ticks": ""
             }
            },
            "type": "parcoords"
           }
          ],
          "pie": [
           {
            "automargin": true,
            "type": "pie"
           }
          ],
          "scatter": [
           {
            "fillpattern": {
             "fillmode": "overlay",
             "size": 10,
             "solidity": 0.2
            },
            "type": "scatter"
           }
          ],
          "scatter3d": [
           {
            "line": {
             "colorbar": {
              "outlinewidth": 0,
              "ticks": ""
             }
            },
            "marker": {
             "colorbar": {
              "outlinewidth": 0,
              "ticks": ""
             }
            },
            "type": "scatter3d"
           }
          ],
          "scattercarpet": [
           {
            "marker": {
             "colorbar": {
              "outlinewidth": 0,
              "ticks": ""
             }
            },
            "type": "scattercarpet"
           }
          ],
          "scattergeo": [
           {
            "marker": {
             "colorbar": {
              "outlinewidth": 0,
              "ticks": ""
             }
            },
            "type": "scattergeo"
           }
          ],
          "scattergl": [
           {
            "marker": {
             "colorbar": {
              "outlinewidth": 0,
              "ticks": ""
             }
            },
            "type": "scattergl"
           }
          ],
          "scattermapbox": [
           {
            "marker": {
             "colorbar": {
              "outlinewidth": 0,
              "ticks": ""
             }
            },
            "type": "scattermapbox"
           }
          ],
          "scatterpolar": [
           {
            "marker": {
             "colorbar": {
              "outlinewidth": 0,
              "ticks": ""
             }
            },
            "type": "scatterpolar"
           }
          ],
          "scatterpolargl": [
           {
            "marker": {
             "colorbar": {
              "outlinewidth": 0,
              "ticks": ""
             }
            },
            "type": "scatterpolargl"
           }
          ],
          "scatterternary": [
           {
            "marker": {
             "colorbar": {
              "outlinewidth": 0,
              "ticks": ""
             }
            },
            "type": "scatterternary"
           }
          ],
          "surface": [
           {
            "colorbar": {
             "outlinewidth": 0,
             "ticks": ""
            },
            "colorscale": [
             [
              0,
              "#0d0887"
             ],
             [
              0.1111111111111111,
              "#46039f"
             ],
             [
              0.2222222222222222,
              "#7201a8"
             ],
             [
              0.3333333333333333,
              "#9c179e"
             ],
             [
              0.4444444444444444,
              "#bd3786"
             ],
             [
              0.5555555555555556,
              "#d8576b"
             ],
             [
              0.6666666666666666,
              "#ed7953"
             ],
             [
              0.7777777777777778,
              "#fb9f3a"
             ],
             [
              0.8888888888888888,
              "#fdca26"
             ],
             [
              1,
              "#f0f921"
             ]
            ],
            "type": "surface"
           }
          ],
          "table": [
           {
            "cells": {
             "fill": {
              "color": "#EBF0F8"
             },
             "line": {
              "color": "white"
             }
            },
            "header": {
             "fill": {
              "color": "#C8D4E3"
             },
             "line": {
              "color": "white"
             }
            },
            "type": "table"
           }
          ]
         },
         "layout": {
          "annotationdefaults": {
           "arrowcolor": "#2a3f5f",
           "arrowhead": 0,
           "arrowwidth": 1
          },
          "autotypenumbers": "strict",
          "coloraxis": {
           "colorbar": {
            "outlinewidth": 0,
            "ticks": ""
           }
          },
          "colorscale": {
           "diverging": [
            [
             0,
             "#8e0152"
            ],
            [
             0.1,
             "#c51b7d"
            ],
            [
             0.2,
             "#de77ae"
            ],
            [
             0.3,
             "#f1b6da"
            ],
            [
             0.4,
             "#fde0ef"
            ],
            [
             0.5,
             "#f7f7f7"
            ],
            [
             0.6,
             "#e6f5d0"
            ],
            [
             0.7,
             "#b8e186"
            ],
            [
             0.8,
             "#7fbc41"
            ],
            [
             0.9,
             "#4d9221"
            ],
            [
             1,
             "#276419"
            ]
           ],
           "sequential": [
            [
             0,
             "#0d0887"
            ],
            [
             0.1111111111111111,
             "#46039f"
            ],
            [
             0.2222222222222222,
             "#7201a8"
            ],
            [
             0.3333333333333333,
             "#9c179e"
            ],
            [
             0.4444444444444444,
             "#bd3786"
            ],
            [
             0.5555555555555556,
             "#d8576b"
            ],
            [
             0.6666666666666666,
             "#ed7953"
            ],
            [
             0.7777777777777778,
             "#fb9f3a"
            ],
            [
             0.8888888888888888,
             "#fdca26"
            ],
            [
             1,
             "#f0f921"
            ]
           ],
           "sequentialminus": [
            [
             0,
             "#0d0887"
            ],
            [
             0.1111111111111111,
             "#46039f"
            ],
            [
             0.2222222222222222,
             "#7201a8"
            ],
            [
             0.3333333333333333,
             "#9c179e"
            ],
            [
             0.4444444444444444,
             "#bd3786"
            ],
            [
             0.5555555555555556,
             "#d8576b"
            ],
            [
             0.6666666666666666,
             "#ed7953"
            ],
            [
             0.7777777777777778,
             "#fb9f3a"
            ],
            [
             0.8888888888888888,
             "#fdca26"
            ],
            [
             1,
             "#f0f921"
            ]
           ]
          },
          "colorway": [
           "#636efa",
           "#EF553B",
           "#00cc96",
           "#ab63fa",
           "#FFA15A",
           "#19d3f3",
           "#FF6692",
           "#B6E880",
           "#FF97FF",
           "#FECB52"
          ],
          "font": {
           "color": "#2a3f5f"
          },
          "geo": {
           "bgcolor": "white",
           "lakecolor": "white",
           "landcolor": "#E5ECF6",
           "showlakes": true,
           "showland": true,
           "subunitcolor": "white"
          },
          "hoverlabel": {
           "align": "left"
          },
          "hovermode": "closest",
          "mapbox": {
           "style": "light"
          },
          "paper_bgcolor": "white",
          "plot_bgcolor": "#E5ECF6",
          "polar": {
           "angularaxis": {
            "gridcolor": "white",
            "linecolor": "white",
            "ticks": ""
           },
           "bgcolor": "#E5ECF6",
           "radialaxis": {
            "gridcolor": "white",
            "linecolor": "white",
            "ticks": ""
           }
          },
          "scene": {
           "xaxis": {
            "backgroundcolor": "#E5ECF6",
            "gridcolor": "white",
            "gridwidth": 2,
            "linecolor": "white",
            "showbackground": true,
            "ticks": "",
            "zerolinecolor": "white"
           },
           "yaxis": {
            "backgroundcolor": "#E5ECF6",
            "gridcolor": "white",
            "gridwidth": 2,
            "linecolor": "white",
            "showbackground": true,
            "ticks": "",
            "zerolinecolor": "white"
           },
           "zaxis": {
            "backgroundcolor": "#E5ECF6",
            "gridcolor": "white",
            "gridwidth": 2,
            "linecolor": "white",
            "showbackground": true,
            "ticks": "",
            "zerolinecolor": "white"
           }
          },
          "shapedefaults": {
           "line": {
            "color": "#2a3f5f"
           }
          },
          "ternary": {
           "aaxis": {
            "gridcolor": "white",
            "linecolor": "white",
            "ticks": ""
           },
           "baxis": {
            "gridcolor": "white",
            "linecolor": "white",
            "ticks": ""
           },
           "bgcolor": "#E5ECF6",
           "caxis": {
            "gridcolor": "white",
            "linecolor": "white",
            "ticks": ""
           }
          },
          "title": {
           "x": 0.05
          },
          "xaxis": {
           "automargin": true,
           "gridcolor": "white",
           "linecolor": "white",
           "ticks": "",
           "title": {
            "standoff": 15
           },
           "zerolinecolor": "white",
           "zerolinewidth": 2
          },
          "yaxis": {
           "automargin": true,
           "gridcolor": "white",
           "linecolor": "white",
           "ticks": "",
           "title": {
            "standoff": 15
           },
           "zerolinecolor": "white",
           "zerolinewidth": 2
          }
         }
        },
        "updatemenus": [
         {
          "buttons": [
           {
            "args": [
             null,
             {
              "frame": {
               "duration": 500,
               "redraw": false
              },
              "fromcurrent": true,
              "mode": "immediate",
              "transition": {
               "duration": 500,
               "easing": "linear"
              }
             }
            ],
            "label": "&#9654;",
            "method": "animate"
           },
           {
            "args": [
             [
              null
             ],
             {
              "frame": {
               "duration": 0,
               "redraw": false
              },
              "fromcurrent": true,
              "mode": "immediate",
              "transition": {
               "duration": 0,
               "easing": "linear"
              }
             }
            ],
            "label": "&#9724;",
            "method": "animate"
           }
          ],
          "direction": "left",
          "pad": {
           "r": 10,
           "t": 70
          },
          "showactive": false,
          "type": "buttons",
          "x": 0.1,
          "xanchor": "right",
          "y": 0,
          "yanchor": "top"
         }
        ],
        "xaxis": {
         "anchor": "y",
         "domain": [
          0,
          1
         ],
         "title": {
          "text": "Market_value"
         }
        },
        "yaxis": {
         "anchor": "x",
         "domain": [
          0,
          1
         ],
         "title": {
          "text": "Fee"
         }
        }
       }
      }
     },
     "metadata": {},
     "output_type": "display_data"
    }
   ],
   "source": [
    "import plotly.express as px\n",
    "\n",
    "fig = px.scatter(ins, x=\"Market_value\", y=\"Fee\", color=\"league\", trendline=\"ols\", animation_frame=\"season\")\n",
    "fig.show()"
   ]
  },
  {
   "cell_type": "code",
   "execution_count": 53,
   "metadata": {},
   "outputs": [],
   "source": [
    "res=ins.groupby([\"league\",\"season\"]).sum()[[\"Fee\",\"Market_value\"]].reset_index()\n",
    "res[\"overpay\"] = res[\"Fee\"] - res[\"Market_value\"]"
   ]
  },
  {
   "cell_type": "code",
   "execution_count": 54,
   "metadata": {},
   "outputs": [
    {
     "data": {
      "application/vnd.plotly.v1+json": {
       "config": {
        "plotlyServerURL": "https://plot.ly"
       },
       "data": [
        {
         "alignmentgroup": "True",
         "hovertemplate": "league=%{x}<br>season=16/17<br>overpay=%{y}<extra></extra>",
         "legendgroup": "Arab",
         "marker": {
          "color": "#636efa",
          "pattern": {
           "shape": ""
          }
         },
         "name": "Arab",
         "offsetgroup": "Arab",
         "orientation": "v",
         "showlegend": true,
         "textposition": "auto",
         "type": "bar",
         "x": [
          "Arab"
         ],
         "xaxis": "x",
         "y": [
          8285000
         ],
         "yaxis": "y"
        },
        {
         "alignmentgroup": "True",
         "hovertemplate": "league=%{x}<br>season=16/17<br>overpay=%{y}<extra></extra>",
         "legendgroup": "France",
         "marker": {
          "color": "#EF553B",
          "pattern": {
           "shape": ""
          }
         },
         "name": "France",
         "offsetgroup": "France",
         "orientation": "v",
         "showlegend": true,
         "textposition": "auto",
         "type": "bar",
         "x": [
          "France"
         ],
         "xaxis": "x",
         "y": [
          65320000
         ],
         "yaxis": "y"
        },
        {
         "alignmentgroup": "True",
         "hovertemplate": "league=%{x}<br>season=16/17<br>overpay=%{y}<extra></extra>",
         "legendgroup": "Germany",
         "marker": {
          "color": "#00cc96",
          "pattern": {
           "shape": ""
          }
         },
         "name": "Germany",
         "offsetgroup": "Germany",
         "orientation": "v",
         "showlegend": true,
         "textposition": "auto",
         "type": "bar",
         "x": [
          "Germany"
         ],
         "xaxis": "x",
         "y": [
          -174872000
         ],
         "yaxis": "y"
        },
        {
         "alignmentgroup": "True",
         "hovertemplate": "league=%{x}<br>season=16/17<br>overpay=%{y}<extra></extra>",
         "legendgroup": "Italy",
         "marker": {
          "color": "#ab63fa",
          "pattern": {
           "shape": ""
          }
         },
         "name": "Italy",
         "offsetgroup": "Italy",
         "orientation": "v",
         "showlegend": true,
         "textposition": "auto",
         "type": "bar",
         "x": [
          "Italy"
         ],
         "xaxis": "x",
         "y": [
          -93545000
         ],
         "yaxis": "y"
        },
        {
         "alignmentgroup": "True",
         "hovertemplate": "league=%{x}<br>season=16/17<br>overpay=%{y}<extra></extra>",
         "legendgroup": "Spain",
         "marker": {
          "color": "#FFA15A",
          "pattern": {
           "shape": ""
          }
         },
         "name": "Spain",
         "offsetgroup": "Spain",
         "orientation": "v",
         "showlegend": true,
         "textposition": "auto",
         "type": "bar",
         "x": [
          "Spain"
         ],
         "xaxis": "x",
         "y": [
          172845000
         ],
         "yaxis": "y"
        },
        {
         "alignmentgroup": "True",
         "hovertemplate": "league=%{x}<br>season=16/17<br>overpay=%{y}<extra></extra>",
         "legendgroup": "UK",
         "marker": {
          "color": "#19d3f3",
          "pattern": {
           "shape": ""
          }
         },
         "name": "UK",
         "offsetgroup": "UK",
         "orientation": "v",
         "showlegend": true,
         "textposition": "auto",
         "type": "bar",
         "x": [
          "UK"
         ],
         "xaxis": "x",
         "y": [
          691205000
         ],
         "yaxis": "y"
        }
       ],
       "frames": [
        {
         "data": [
          {
           "alignmentgroup": "True",
           "hovertemplate": "league=%{x}<br>season=16/17<br>overpay=%{y}<extra></extra>",
           "legendgroup": "Arab",
           "marker": {
            "color": "#636efa",
            "pattern": {
             "shape": ""
            }
           },
           "name": "Arab",
           "offsetgroup": "Arab",
           "orientation": "v",
           "showlegend": true,
           "textposition": "auto",
           "type": "bar",
           "x": [
            "Arab"
           ],
           "xaxis": "x",
           "y": [
            8285000
           ],
           "yaxis": "y"
          },
          {
           "alignmentgroup": "True",
           "hovertemplate": "league=%{x}<br>season=16/17<br>overpay=%{y}<extra></extra>",
           "legendgroup": "France",
           "marker": {
            "color": "#EF553B",
            "pattern": {
             "shape": ""
            }
           },
           "name": "France",
           "offsetgroup": "France",
           "orientation": "v",
           "showlegend": true,
           "textposition": "auto",
           "type": "bar",
           "x": [
            "France"
           ],
           "xaxis": "x",
           "y": [
            65320000
           ],
           "yaxis": "y"
          },
          {
           "alignmentgroup": "True",
           "hovertemplate": "league=%{x}<br>season=16/17<br>overpay=%{y}<extra></extra>",
           "legendgroup": "Germany",
           "marker": {
            "color": "#00cc96",
            "pattern": {
             "shape": ""
            }
           },
           "name": "Germany",
           "offsetgroup": "Germany",
           "orientation": "v",
           "showlegend": true,
           "textposition": "auto",
           "type": "bar",
           "x": [
            "Germany"
           ],
           "xaxis": "x",
           "y": [
            -174872000
           ],
           "yaxis": "y"
          },
          {
           "alignmentgroup": "True",
           "hovertemplate": "league=%{x}<br>season=16/17<br>overpay=%{y}<extra></extra>",
           "legendgroup": "Italy",
           "marker": {
            "color": "#ab63fa",
            "pattern": {
             "shape": ""
            }
           },
           "name": "Italy",
           "offsetgroup": "Italy",
           "orientation": "v",
           "showlegend": true,
           "textposition": "auto",
           "type": "bar",
           "x": [
            "Italy"
           ],
           "xaxis": "x",
           "y": [
            -93545000
           ],
           "yaxis": "y"
          },
          {
           "alignmentgroup": "True",
           "hovertemplate": "league=%{x}<br>season=16/17<br>overpay=%{y}<extra></extra>",
           "legendgroup": "Spain",
           "marker": {
            "color": "#FFA15A",
            "pattern": {
             "shape": ""
            }
           },
           "name": "Spain",
           "offsetgroup": "Spain",
           "orientation": "v",
           "showlegend": true,
           "textposition": "auto",
           "type": "bar",
           "x": [
            "Spain"
           ],
           "xaxis": "x",
           "y": [
            172845000
           ],
           "yaxis": "y"
          },
          {
           "alignmentgroup": "True",
           "hovertemplate": "league=%{x}<br>season=16/17<br>overpay=%{y}<extra></extra>",
           "legendgroup": "UK",
           "marker": {
            "color": "#19d3f3",
            "pattern": {
             "shape": ""
            }
           },
           "name": "UK",
           "offsetgroup": "UK",
           "orientation": "v",
           "showlegend": true,
           "textposition": "auto",
           "type": "bar",
           "x": [
            "UK"
           ],
           "xaxis": "x",
           "y": [
            691205000
           ],
           "yaxis": "y"
          }
         ],
         "name": "16/17"
        },
        {
         "data": [
          {
           "alignmentgroup": "True",
           "hovertemplate": "league=%{x}<br>season=17/18<br>overpay=%{y}<extra></extra>",
           "legendgroup": "Arab",
           "marker": {
            "color": "#636efa",
            "pattern": {
             "shape": ""
            }
           },
           "name": "Arab",
           "offsetgroup": "Arab",
           "orientation": "v",
           "showlegend": true,
           "textposition": "auto",
           "type": "bar",
           "x": [
            "Arab"
           ],
           "xaxis": "x",
           "y": [
            15282000
           ],
           "yaxis": "y"
          },
          {
           "alignmentgroup": "True",
           "hovertemplate": "league=%{x}<br>season=17/18<br>overpay=%{y}<extra></extra>",
           "legendgroup": "France",
           "marker": {
            "color": "#EF553B",
            "pattern": {
             "shape": ""
            }
           },
           "name": "France",
           "offsetgroup": "France",
           "orientation": "v",
           "showlegend": true,
           "textposition": "auto",
           "type": "bar",
           "x": [
            "France"
           ],
           "xaxis": "x",
           "y": [
            232450000
           ],
           "yaxis": "y"
          },
          {
           "alignmentgroup": "True",
           "hovertemplate": "league=%{x}<br>season=17/18<br>overpay=%{y}<extra></extra>",
           "legendgroup": "Germany",
           "marker": {
            "color": "#00cc96",
            "pattern": {
             "shape": ""
            }
           },
           "name": "Germany",
           "offsetgroup": "Germany",
           "orientation": "v",
           "showlegend": true,
           "textposition": "auto",
           "type": "bar",
           "x": [
            "Germany"
           ],
           "xaxis": "x",
           "y": [
            -106985000
           ],
           "yaxis": "y"
          },
          {
           "alignmentgroup": "True",
           "hovertemplate": "league=%{x}<br>season=17/18<br>overpay=%{y}<extra></extra>",
           "legendgroup": "Italy",
           "marker": {
            "color": "#ab63fa",
            "pattern": {
             "shape": ""
            }
           },
           "name": "Italy",
           "offsetgroup": "Italy",
           "orientation": "v",
           "showlegend": true,
           "textposition": "auto",
           "type": "bar",
           "x": [
            "Italy"
           ],
           "xaxis": "x",
           "y": [
            150986000
           ],
           "yaxis": "y"
          },
          {
           "alignmentgroup": "True",
           "hovertemplate": "league=%{x}<br>season=17/18<br>overpay=%{y}<extra></extra>",
           "legendgroup": "Spain",
           "marker": {
            "color": "#FFA15A",
            "pattern": {
             "shape": ""
            }
           },
           "name": "Spain",
           "offsetgroup": "Spain",
           "orientation": "v",
           "showlegend": true,
           "textposition": "auto",
           "type": "bar",
           "x": [
            "Spain"
           ],
           "xaxis": "x",
           "y": [
            395655000
           ],
           "yaxis": "y"
          },
          {
           "alignmentgroup": "True",
           "hovertemplate": "league=%{x}<br>season=17/18<br>overpay=%{y}<extra></extra>",
           "legendgroup": "UK",
           "marker": {
            "color": "#19d3f3",
            "pattern": {
             "shape": ""
            }
           },
           "name": "UK",
           "offsetgroup": "UK",
           "orientation": "v",
           "showlegend": true,
           "textposition": "auto",
           "type": "bar",
           "x": [
            "UK"
           ],
           "xaxis": "x",
           "y": [
            891695000
           ],
           "yaxis": "y"
          }
         ],
         "name": "17/18"
        },
        {
         "data": [
          {
           "alignmentgroup": "True",
           "hovertemplate": "league=%{x}<br>season=18/19<br>overpay=%{y}<extra></extra>",
           "legendgroup": "Arab",
           "marker": {
            "color": "#636efa",
            "pattern": {
             "shape": ""
            }
           },
           "name": "Arab",
           "offsetgroup": "Arab",
           "orientation": "v",
           "showlegend": true,
           "textposition": "auto",
           "type": "bar",
           "x": [
            "Arab"
           ],
           "xaxis": "x",
           "y": [
            116827000
           ],
           "yaxis": "y"
          },
          {
           "alignmentgroup": "True",
           "hovertemplate": "league=%{x}<br>season=18/19<br>overpay=%{y}<extra></extra>",
           "legendgroup": "France",
           "marker": {
            "color": "#EF553B",
            "pattern": {
             "shape": ""
            }
           },
           "name": "France",
           "offsetgroup": "France",
           "orientation": "v",
           "showlegend": true,
           "textposition": "auto",
           "type": "bar",
           "x": [
            "France"
           ],
           "xaxis": "x",
           "y": [
            26925000
           ],
           "yaxis": "y"
          },
          {
           "alignmentgroup": "True",
           "hovertemplate": "league=%{x}<br>season=18/19<br>overpay=%{y}<extra></extra>",
           "legendgroup": "Germany",
           "marker": {
            "color": "#00cc96",
            "pattern": {
             "shape": ""
            }
           },
           "name": "Germany",
           "offsetgroup": "Germany",
           "orientation": "v",
           "showlegend": true,
           "textposition": "auto",
           "type": "bar",
           "x": [
            "Germany"
           ],
           "xaxis": "x",
           "y": [
            -178840000
           ],
           "yaxis": "y"
          },
          {
           "alignmentgroup": "True",
           "hovertemplate": "league=%{x}<br>season=18/19<br>overpay=%{y}<extra></extra>",
           "legendgroup": "Italy",
           "marker": {
            "color": "#ab63fa",
            "pattern": {
             "shape": ""
            }
           },
           "name": "Italy",
           "offsetgroup": "Italy",
           "orientation": "v",
           "showlegend": true,
           "textposition": "auto",
           "type": "bar",
           "x": [
            "Italy"
           ],
           "xaxis": "x",
           "y": [
            233961000
           ],
           "yaxis": "y"
          },
          {
           "alignmentgroup": "True",
           "hovertemplate": "league=%{x}<br>season=18/19<br>overpay=%{y}<extra></extra>",
           "legendgroup": "Spain",
           "marker": {
            "color": "#FFA15A",
            "pattern": {
             "shape": ""
            }
           },
           "name": "Spain",
           "offsetgroup": "Spain",
           "orientation": "v",
           "showlegend": true,
           "textposition": "auto",
           "type": "bar",
           "x": [
            "Spain"
           ],
           "xaxis": "x",
           "y": [
            95200000
           ],
           "yaxis": "y"
          },
          {
           "alignmentgroup": "True",
           "hovertemplate": "league=%{x}<br>season=18/19<br>overpay=%{y}<extra></extra>",
           "legendgroup": "UK",
           "marker": {
            "color": "#19d3f3",
            "pattern": {
             "shape": ""
            }
           },
           "name": "UK",
           "offsetgroup": "UK",
           "orientation": "v",
           "showlegend": true,
           "textposition": "auto",
           "type": "bar",
           "x": [
            "UK"
           ],
           "xaxis": "x",
           "y": [
            495060000
           ],
           "yaxis": "y"
          }
         ],
         "name": "18/19"
        },
        {
         "data": [
          {
           "alignmentgroup": "True",
           "hovertemplate": "league=%{x}<br>season=19/20<br>overpay=%{y}<extra></extra>",
           "legendgroup": "Arab",
           "marker": {
            "color": "#636efa",
            "pattern": {
             "shape": ""
            }
           },
           "name": "Arab",
           "offsetgroup": "Arab",
           "orientation": "v",
           "showlegend": true,
           "textposition": "auto",
           "type": "bar",
           "x": [
            "Arab"
           ],
           "xaxis": "x",
           "y": [
            37669000
           ],
           "yaxis": "y"
          },
          {
           "alignmentgroup": "True",
           "hovertemplate": "league=%{x}<br>season=19/20<br>overpay=%{y}<extra></extra>",
           "legendgroup": "France",
           "marker": {
            "color": "#EF553B",
            "pattern": {
             "shape": ""
            }
           },
           "name": "France",
           "offsetgroup": "France",
           "orientation": "v",
           "showlegend": true,
           "textposition": "auto",
           "type": "bar",
           "x": [
            "France"
           ],
           "xaxis": "x",
           "y": [
            -149285000
           ],
           "yaxis": "y"
          },
          {
           "alignmentgroup": "True",
           "hovertemplate": "league=%{x}<br>season=19/20<br>overpay=%{y}<extra></extra>",
           "legendgroup": "Germany",
           "marker": {
            "color": "#00cc96",
            "pattern": {
             "shape": ""
            }
           },
           "name": "Germany",
           "offsetgroup": "Germany",
           "orientation": "v",
           "showlegend": true,
           "textposition": "auto",
           "type": "bar",
           "x": [
            "Germany"
           ],
           "xaxis": "x",
           "y": [
            -303960000
           ],
           "yaxis": "y"
          },
          {
           "alignmentgroup": "True",
           "hovertemplate": "league=%{x}<br>season=19/20<br>overpay=%{y}<extra></extra>",
           "legendgroup": "Italy",
           "marker": {
            "color": "#ab63fa",
            "pattern": {
             "shape": ""
            }
           },
           "name": "Italy",
           "offsetgroup": "Italy",
           "orientation": "v",
           "showlegend": true,
           "textposition": "auto",
           "type": "bar",
           "x": [
            "Italy"
           ],
           "xaxis": "x",
           "y": [
            -91489000
           ],
           "yaxis": "y"
          },
          {
           "alignmentgroup": "True",
           "hovertemplate": "league=%{x}<br>season=19/20<br>overpay=%{y}<extra></extra>",
           "legendgroup": "Spain",
           "marker": {
            "color": "#FFA15A",
            "pattern": {
             "shape": ""
            }
           },
           "name": "Spain",
           "offsetgroup": "Spain",
           "orientation": "v",
           "showlegend": true,
           "textposition": "auto",
           "type": "bar",
           "x": [
            "Spain"
           ],
           "xaxis": "x",
           "y": [
            200290000
           ],
           "yaxis": "y"
          },
          {
           "alignmentgroup": "True",
           "hovertemplate": "league=%{x}<br>season=19/20<br>overpay=%{y}<extra></extra>",
           "legendgroup": "UK",
           "marker": {
            "color": "#19d3f3",
            "pattern": {
             "shape": ""
            }
           },
           "name": "UK",
           "offsetgroup": "UK",
           "orientation": "v",
           "showlegend": true,
           "textposition": "auto",
           "type": "bar",
           "x": [
            "UK"
           ],
           "xaxis": "x",
           "y": [
            204310000
           ],
           "yaxis": "y"
          }
         ],
         "name": "19/20"
        },
        {
         "data": [
          {
           "alignmentgroup": "True",
           "hovertemplate": "league=%{x}<br>season=20/21<br>overpay=%{y}<extra></extra>",
           "legendgroup": "Arab",
           "marker": {
            "color": "#636efa",
            "pattern": {
             "shape": ""
            }
           },
           "name": "Arab",
           "offsetgroup": "Arab",
           "orientation": "v",
           "showlegend": true,
           "textposition": "auto",
           "type": "bar",
           "x": [
            "Arab"
           ],
           "xaxis": "x",
           "y": [
            30333000
           ],
           "yaxis": "y"
          },
          {
           "alignmentgroup": "True",
           "hovertemplate": "league=%{x}<br>season=20/21<br>overpay=%{y}<extra></extra>",
           "legendgroup": "France",
           "marker": {
            "color": "#EF553B",
            "pattern": {
             "shape": ""
            }
           },
           "name": "France",
           "offsetgroup": "France",
           "orientation": "v",
           "showlegend": true,
           "textposition": "auto",
           "type": "bar",
           "x": [
            "France"
           ],
           "xaxis": "x",
           "y": [
            -339825000
           ],
           "yaxis": "y"
          },
          {
           "alignmentgroup": "True",
           "hovertemplate": "league=%{x}<br>season=20/21<br>overpay=%{y}<extra></extra>",
           "legendgroup": "Germany",
           "marker": {
            "color": "#00cc96",
            "pattern": {
             "shape": ""
            }
           },
           "name": "Germany",
           "offsetgroup": "Germany",
           "orientation": "v",
           "showlegend": true,
           "textposition": "auto",
           "type": "bar",
           "x": [
            "Germany"
           ],
           "xaxis": "x",
           "y": [
            -432600000
           ],
           "yaxis": "y"
          },
          {
           "alignmentgroup": "True",
           "hovertemplate": "league=%{x}<br>season=20/21<br>overpay=%{y}<extra></extra>",
           "legendgroup": "Italy",
           "marker": {
            "color": "#ab63fa",
            "pattern": {
             "shape": ""
            }
           },
           "name": "Italy",
           "offsetgroup": "Italy",
           "orientation": "v",
           "showlegend": true,
           "textposition": "auto",
           "type": "bar",
           "x": [
            "Italy"
           ],
           "xaxis": "x",
           "y": [
            -171608000
           ],
           "yaxis": "y"
          },
          {
           "alignmentgroup": "True",
           "hovertemplate": "league=%{x}<br>season=20/21<br>overpay=%{y}<extra></extra>",
           "legendgroup": "Spain",
           "marker": {
            "color": "#FFA15A",
            "pattern": {
             "shape": ""
            }
           },
           "name": "Spain",
           "offsetgroup": "Spain",
           "orientation": "v",
           "showlegend": true,
           "textposition": "auto",
           "type": "bar",
           "x": [
            "Spain"
           ],
           "xaxis": "x",
           "y": [
            -27860000
           ],
           "yaxis": "y"
          },
          {
           "alignmentgroup": "True",
           "hovertemplate": "league=%{x}<br>season=20/21<br>overpay=%{y}<extra></extra>",
           "legendgroup": "UK",
           "marker": {
            "color": "#19d3f3",
            "pattern": {
             "shape": ""
            }
           },
           "name": "UK",
           "offsetgroup": "UK",
           "orientation": "v",
           "showlegend": true,
           "textposition": "auto",
           "type": "bar",
           "x": [
            "UK"
           ],
           "xaxis": "x",
           "y": [
            -100151000
           ],
           "yaxis": "y"
          }
         ],
         "name": "20/21"
        },
        {
         "data": [
          {
           "alignmentgroup": "True",
           "hovertemplate": "league=%{x}<br>season=21/22<br>overpay=%{y}<extra></extra>",
           "legendgroup": "Arab",
           "marker": {
            "color": "#636efa",
            "pattern": {
             "shape": ""
            }
           },
           "name": "Arab",
           "offsetgroup": "Arab",
           "orientation": "v",
           "showlegend": true,
           "textposition": "auto",
           "type": "bar",
           "x": [
            "Arab"
           ],
           "xaxis": "x",
           "y": [
            13305000
           ],
           "yaxis": "y"
          },
          {
           "alignmentgroup": "True",
           "hovertemplate": "league=%{x}<br>season=21/22<br>overpay=%{y}<extra></extra>",
           "legendgroup": "France",
           "marker": {
            "color": "#EF553B",
            "pattern": {
             "shape": ""
            }
           },
           "name": "France",
           "offsetgroup": "France",
           "orientation": "v",
           "showlegend": true,
           "textposition": "auto",
           "type": "bar",
           "x": [
            "France"
           ],
           "xaxis": "x",
           "y": [
            -272340000
           ],
           "yaxis": "y"
          },
          {
           "alignmentgroup": "True",
           "hovertemplate": "league=%{x}<br>season=21/22<br>overpay=%{y}<extra></extra>",
           "legendgroup": "Germany",
           "marker": {
            "color": "#00cc96",
            "pattern": {
             "shape": ""
            }
           },
           "name": "Germany",
           "offsetgroup": "Germany",
           "orientation": "v",
           "showlegend": true,
           "textposition": "auto",
           "type": "bar",
           "x": [
            "Germany"
           ],
           "xaxis": "x",
           "y": [
            -323990000
           ],
           "yaxis": "y"
          },
          {
           "alignmentgroup": "True",
           "hovertemplate": "league=%{x}<br>season=21/22<br>overpay=%{y}<extra></extra>",
           "legendgroup": "Italy",
           "marker": {
            "color": "#ab63fa",
            "pattern": {
             "shape": ""
            }
           },
           "name": "Italy",
           "offsetgroup": "Italy",
           "orientation": "v",
           "showlegend": true,
           "textposition": "auto",
           "type": "bar",
           "x": [
            "Italy"
           ],
           "xaxis": "x",
           "y": [
            -425371000
           ],
           "yaxis": "y"
          },
          {
           "alignmentgroup": "True",
           "hovertemplate": "league=%{x}<br>season=21/22<br>overpay=%{y}<extra></extra>",
           "legendgroup": "Spain",
           "marker": {
            "color": "#FFA15A",
            "pattern": {
             "shape": ""
            }
           },
           "name": "Spain",
           "offsetgroup": "Spain",
           "orientation": "v",
           "showlegend": true,
           "textposition": "auto",
           "type": "bar",
           "x": [
            "Spain"
           ],
           "xaxis": "x",
           "y": [
            -237393000
           ],
           "yaxis": "y"
          },
          {
           "alignmentgroup": "True",
           "hovertemplate": "league=%{x}<br>season=21/22<br>overpay=%{y}<extra></extra>",
           "legendgroup": "UK",
           "marker": {
            "color": "#19d3f3",
            "pattern": {
             "shape": ""
            }
           },
           "name": "UK",
           "offsetgroup": "UK",
           "orientation": "v",
           "showlegend": true,
           "textposition": "auto",
           "type": "bar",
           "x": [
            "UK"
           ],
           "xaxis": "x",
           "y": [
            -122980000
           ],
           "yaxis": "y"
          }
         ],
         "name": "21/22"
        },
        {
         "data": [
          {
           "alignmentgroup": "True",
           "hovertemplate": "league=%{x}<br>season=22/23<br>overpay=%{y}<extra></extra>",
           "legendgroup": "Arab",
           "marker": {
            "color": "#636efa",
            "pattern": {
             "shape": ""
            }
           },
           "name": "Arab",
           "offsetgroup": "Arab",
           "orientation": "v",
           "showlegend": true,
           "textposition": "auto",
           "type": "bar",
           "x": [
            "Arab"
           ],
           "xaxis": "x",
           "y": [
            -3470000
           ],
           "yaxis": "y"
          },
          {
           "alignmentgroup": "True",
           "hovertemplate": "league=%{x}<br>season=22/23<br>overpay=%{y}<extra></extra>",
           "legendgroup": "France",
           "marker": {
            "color": "#EF553B",
            "pattern": {
             "shape": ""
            }
           },
           "name": "France",
           "offsetgroup": "France",
           "orientation": "v",
           "showlegend": true,
           "textposition": "auto",
           "type": "bar",
           "x": [
            "France"
           ],
           "xaxis": "x",
           "y": [
            -259010000
           ],
           "yaxis": "y"
          },
          {
           "alignmentgroup": "True",
           "hovertemplate": "league=%{x}<br>season=22/23<br>overpay=%{y}<extra></extra>",
           "legendgroup": "Germany",
           "marker": {
            "color": "#00cc96",
            "pattern": {
             "shape": ""
            }
           },
           "name": "Germany",
           "offsetgroup": "Germany",
           "orientation": "v",
           "showlegend": true,
           "textposition": "auto",
           "type": "bar",
           "x": [
            "Germany"
           ],
           "xaxis": "x",
           "y": [
            -278635000
           ],
           "yaxis": "y"
          },
          {
           "alignmentgroup": "True",
           "hovertemplate": "league=%{x}<br>season=22/23<br>overpay=%{y}<extra></extra>",
           "legendgroup": "Italy",
           "marker": {
            "color": "#ab63fa",
            "pattern": {
             "shape": ""
            }
           },
           "name": "Italy",
           "offsetgroup": "Italy",
           "orientation": "v",
           "showlegend": true,
           "textposition": "auto",
           "type": "bar",
           "x": [
            "Italy"
           ],
           "xaxis": "x",
           "y": [
            -678895000
           ],
           "yaxis": "y"
          },
          {
           "alignmentgroup": "True",
           "hovertemplate": "league=%{x}<br>season=22/23<br>overpay=%{y}<extra></extra>",
           "legendgroup": "Spain",
           "marker": {
            "color": "#FFA15A",
            "pattern": {
             "shape": ""
            }
           },
           "name": "Spain",
           "offsetgroup": "Spain",
           "orientation": "v",
           "showlegend": true,
           "textposition": "auto",
           "type": "bar",
           "x": [
            "Spain"
           ],
           "xaxis": "x",
           "y": [
            -209760000
           ],
           "yaxis": "y"
          },
          {
           "alignmentgroup": "True",
           "hovertemplate": "league=%{x}<br>season=22/23<br>overpay=%{y}<extra></extra>",
           "legendgroup": "UK",
           "marker": {
            "color": "#19d3f3",
            "pattern": {
             "shape": ""
            }
           },
           "name": "UK",
           "offsetgroup": "UK",
           "orientation": "v",
           "showlegend": true,
           "textposition": "auto",
           "type": "bar",
           "x": [
            "UK"
           ],
           "xaxis": "x",
           "y": [
            -298308000
           ],
           "yaxis": "y"
          }
         ],
         "name": "22/23"
        },
        {
         "data": [
          {
           "alignmentgroup": "True",
           "hovertemplate": "league=%{x}<br>season=23/24<br>overpay=%{y}<extra></extra>",
           "legendgroup": "Arab",
           "marker": {
            "color": "#636efa",
            "pattern": {
             "shape": ""
            }
           },
           "name": "Arab",
           "offsetgroup": "Arab",
           "orientation": "v",
           "showlegend": true,
           "textposition": "auto",
           "type": "bar",
           "x": [
            "Arab"
           ],
           "xaxis": "x",
           "y": [
            225902000
           ],
           "yaxis": "y"
          },
          {
           "alignmentgroup": "True",
           "hovertemplate": "league=%{x}<br>season=23/24<br>overpay=%{y}<extra></extra>",
           "legendgroup": "France",
           "marker": {
            "color": "#EF553B",
            "pattern": {
             "shape": ""
            }
           },
           "name": "France",
           "offsetgroup": "France",
           "orientation": "v",
           "showlegend": true,
           "textposition": "auto",
           "type": "bar",
           "x": [
            "France"
           ],
           "xaxis": "x",
           "y": [
            -124460000
           ],
           "yaxis": "y"
          },
          {
           "alignmentgroup": "True",
           "hovertemplate": "league=%{x}<br>season=23/24<br>overpay=%{y}<extra></extra>",
           "legendgroup": "Germany",
           "marker": {
            "color": "#00cc96",
            "pattern": {
             "shape": ""
            }
           },
           "name": "Germany",
           "offsetgroup": "Germany",
           "orientation": "v",
           "showlegend": true,
           "textposition": "auto",
           "type": "bar",
           "x": [
            "Germany"
           ],
           "xaxis": "x",
           "y": [
            -253120000
           ],
           "yaxis": "y"
          },
          {
           "alignmentgroup": "True",
           "hovertemplate": "league=%{x}<br>season=23/24<br>overpay=%{y}<extra></extra>",
           "legendgroup": "Italy",
           "marker": {
            "color": "#ab63fa",
            "pattern": {
             "shape": ""
            }
           },
           "name": "Italy",
           "offsetgroup": "Italy",
           "orientation": "v",
           "showlegend": true,
           "textposition": "auto",
           "type": "bar",
           "x": [
            "Italy"
           ],
           "xaxis": "x",
           "y": [
            -261320000
           ],
           "yaxis": "y"
          },
          {
           "alignmentgroup": "True",
           "hovertemplate": "league=%{x}<br>season=23/24<br>overpay=%{y}<extra></extra>",
           "legendgroup": "Spain",
           "marker": {
            "color": "#FFA15A",
            "pattern": {
             "shape": ""
            }
           },
           "name": "Spain",
           "offsetgroup": "Spain",
           "orientation": "v",
           "showlegend": true,
           "textposition": "auto",
           "type": "bar",
           "x": [
            "Spain"
           ],
           "xaxis": "x",
           "y": [
            -180050000
           ],
           "yaxis": "y"
          },
          {
           "alignmentgroup": "True",
           "hovertemplate": "league=%{x}<br>season=23/24<br>overpay=%{y}<extra></extra>",
           "legendgroup": "UK",
           "marker": {
            "color": "#19d3f3",
            "pattern": {
             "shape": ""
            }
           },
           "name": "UK",
           "offsetgroup": "UK",
           "orientation": "v",
           "showlegend": true,
           "textposition": "auto",
           "type": "bar",
           "x": [
            "UK"
           ],
           "xaxis": "x",
           "y": [
            30460000
           ],
           "yaxis": "y"
          }
         ],
         "name": "23/24"
        }
       ],
       "layout": {
        "barmode": "relative",
        "legend": {
         "title": {
          "text": "league"
         },
         "tracegroupgap": 0
        },
        "margin": {
         "t": 60
        },
        "sliders": [
         {
          "active": 0,
          "currentvalue": {
           "prefix": "season="
          },
          "len": 0.9,
          "pad": {
           "b": 10,
           "t": 60
          },
          "steps": [
           {
            "args": [
             [
              "16/17"
             ],
             {
              "frame": {
               "duration": 0,
               "redraw": true
              },
              "fromcurrent": true,
              "mode": "immediate",
              "transition": {
               "duration": 0,
               "easing": "linear"
              }
             }
            ],
            "label": "16/17",
            "method": "animate"
           },
           {
            "args": [
             [
              "17/18"
             ],
             {
              "frame": {
               "duration": 0,
               "redraw": true
              },
              "fromcurrent": true,
              "mode": "immediate",
              "transition": {
               "duration": 0,
               "easing": "linear"
              }
             }
            ],
            "label": "17/18",
            "method": "animate"
           },
           {
            "args": [
             [
              "18/19"
             ],
             {
              "frame": {
               "duration": 0,
               "redraw": true
              },
              "fromcurrent": true,
              "mode": "immediate",
              "transition": {
               "duration": 0,
               "easing": "linear"
              }
             }
            ],
            "label": "18/19",
            "method": "animate"
           },
           {
            "args": [
             [
              "19/20"
             ],
             {
              "frame": {
               "duration": 0,
               "redraw": true
              },
              "fromcurrent": true,
              "mode": "immediate",
              "transition": {
               "duration": 0,
               "easing": "linear"
              }
             }
            ],
            "label": "19/20",
            "method": "animate"
           },
           {
            "args": [
             [
              "20/21"
             ],
             {
              "frame": {
               "duration": 0,
               "redraw": true
              },
              "fromcurrent": true,
              "mode": "immediate",
              "transition": {
               "duration": 0,
               "easing": "linear"
              }
             }
            ],
            "label": "20/21",
            "method": "animate"
           },
           {
            "args": [
             [
              "21/22"
             ],
             {
              "frame": {
               "duration": 0,
               "redraw": true
              },
              "fromcurrent": true,
              "mode": "immediate",
              "transition": {
               "duration": 0,
               "easing": "linear"
              }
             }
            ],
            "label": "21/22",
            "method": "animate"
           },
           {
            "args": [
             [
              "22/23"
             ],
             {
              "frame": {
               "duration": 0,
               "redraw": true
              },
              "fromcurrent": true,
              "mode": "immediate",
              "transition": {
               "duration": 0,
               "easing": "linear"
              }
             }
            ],
            "label": "22/23",
            "method": "animate"
           },
           {
            "args": [
             [
              "23/24"
             ],
             {
              "frame": {
               "duration": 0,
               "redraw": true
              },
              "fromcurrent": true,
              "mode": "immediate",
              "transition": {
               "duration": 0,
               "easing": "linear"
              }
             }
            ],
            "label": "23/24",
            "method": "animate"
           }
          ],
          "x": 0.1,
          "xanchor": "left",
          "y": 0,
          "yanchor": "top"
         }
        ],
        "template": {
         "data": {
          "bar": [
           {
            "error_x": {
             "color": "#2a3f5f"
            },
            "error_y": {
             "color": "#2a3f5f"
            },
            "marker": {
             "line": {
              "color": "#E5ECF6",
              "width": 0.5
             },
             "pattern": {
              "fillmode": "overlay",
              "size": 10,
              "solidity": 0.2
             }
            },
            "type": "bar"
           }
          ],
          "barpolar": [
           {
            "marker": {
             "line": {
              "color": "#E5ECF6",
              "width": 0.5
             },
             "pattern": {
              "fillmode": "overlay",
              "size": 10,
              "solidity": 0.2
             }
            },
            "type": "barpolar"
           }
          ],
          "carpet": [
           {
            "aaxis": {
             "endlinecolor": "#2a3f5f",
             "gridcolor": "white",
             "linecolor": "white",
             "minorgridcolor": "white",
             "startlinecolor": "#2a3f5f"
            },
            "baxis": {
             "endlinecolor": "#2a3f5f",
             "gridcolor": "white",
             "linecolor": "white",
             "minorgridcolor": "white",
             "startlinecolor": "#2a3f5f"
            },
            "type": "carpet"
           }
          ],
          "choropleth": [
           {
            "colorbar": {
             "outlinewidth": 0,
             "ticks": ""
            },
            "type": "choropleth"
           }
          ],
          "contour": [
           {
            "colorbar": {
             "outlinewidth": 0,
             "ticks": ""
            },
            "colorscale": [
             [
              0,
              "#0d0887"
             ],
             [
              0.1111111111111111,
              "#46039f"
             ],
             [
              0.2222222222222222,
              "#7201a8"
             ],
             [
              0.3333333333333333,
              "#9c179e"
             ],
             [
              0.4444444444444444,
              "#bd3786"
             ],
             [
              0.5555555555555556,
              "#d8576b"
             ],
             [
              0.6666666666666666,
              "#ed7953"
             ],
             [
              0.7777777777777778,
              "#fb9f3a"
             ],
             [
              0.8888888888888888,
              "#fdca26"
             ],
             [
              1,
              "#f0f921"
             ]
            ],
            "type": "contour"
           }
          ],
          "contourcarpet": [
           {
            "colorbar": {
             "outlinewidth": 0,
             "ticks": ""
            },
            "type": "contourcarpet"
           }
          ],
          "heatmap": [
           {
            "colorbar": {
             "outlinewidth": 0,
             "ticks": ""
            },
            "colorscale": [
             [
              0,
              "#0d0887"
             ],
             [
              0.1111111111111111,
              "#46039f"
             ],
             [
              0.2222222222222222,
              "#7201a8"
             ],
             [
              0.3333333333333333,
              "#9c179e"
             ],
             [
              0.4444444444444444,
              "#bd3786"
             ],
             [
              0.5555555555555556,
              "#d8576b"
             ],
             [
              0.6666666666666666,
              "#ed7953"
             ],
             [
              0.7777777777777778,
              "#fb9f3a"
             ],
             [
              0.8888888888888888,
              "#fdca26"
             ],
             [
              1,
              "#f0f921"
             ]
            ],
            "type": "heatmap"
           }
          ],
          "heatmapgl": [
           {
            "colorbar": {
             "outlinewidth": 0,
             "ticks": ""
            },
            "colorscale": [
             [
              0,
              "#0d0887"
             ],
             [
              0.1111111111111111,
              "#46039f"
             ],
             [
              0.2222222222222222,
              "#7201a8"
             ],
             [
              0.3333333333333333,
              "#9c179e"
             ],
             [
              0.4444444444444444,
              "#bd3786"
             ],
             [
              0.5555555555555556,
              "#d8576b"
             ],
             [
              0.6666666666666666,
              "#ed7953"
             ],
             [
              0.7777777777777778,
              "#fb9f3a"
             ],
             [
              0.8888888888888888,
              "#fdca26"
             ],
             [
              1,
              "#f0f921"
             ]
            ],
            "type": "heatmapgl"
           }
          ],
          "histogram": [
           {
            "marker": {
             "pattern": {
              "fillmode": "overlay",
              "size": 10,
              "solidity": 0.2
             }
            },
            "type": "histogram"
           }
          ],
          "histogram2d": [
           {
            "colorbar": {
             "outlinewidth": 0,
             "ticks": ""
            },
            "colorscale": [
             [
              0,
              "#0d0887"
             ],
             [
              0.1111111111111111,
              "#46039f"
             ],
             [
              0.2222222222222222,
              "#7201a8"
             ],
             [
              0.3333333333333333,
              "#9c179e"
             ],
             [
              0.4444444444444444,
              "#bd3786"
             ],
             [
              0.5555555555555556,
              "#d8576b"
             ],
             [
              0.6666666666666666,
              "#ed7953"
             ],
             [
              0.7777777777777778,
              "#fb9f3a"
             ],
             [
              0.8888888888888888,
              "#fdca26"
             ],
             [
              1,
              "#f0f921"
             ]
            ],
            "type": "histogram2d"
           }
          ],
          "histogram2dcontour": [
           {
            "colorbar": {
             "outlinewidth": 0,
             "ticks": ""
            },
            "colorscale": [
             [
              0,
              "#0d0887"
             ],
             [
              0.1111111111111111,
              "#46039f"
             ],
             [
              0.2222222222222222,
              "#7201a8"
             ],
             [
              0.3333333333333333,
              "#9c179e"
             ],
             [
              0.4444444444444444,
              "#bd3786"
             ],
             [
              0.5555555555555556,
              "#d8576b"
             ],
             [
              0.6666666666666666,
              "#ed7953"
             ],
             [
              0.7777777777777778,
              "#fb9f3a"
             ],
             [
              0.8888888888888888,
              "#fdca26"
             ],
             [
              1,
              "#f0f921"
             ]
            ],
            "type": "histogram2dcontour"
           }
          ],
          "mesh3d": [
           {
            "colorbar": {
             "outlinewidth": 0,
             "ticks": ""
            },
            "type": "mesh3d"
           }
          ],
          "parcoords": [
           {
            "line": {
             "colorbar": {
              "outlinewidth": 0,
              "ticks": ""
             }
            },
            "type": "parcoords"
           }
          ],
          "pie": [
           {
            "automargin": true,
            "type": "pie"
           }
          ],
          "scatter": [
           {
            "fillpattern": {
             "fillmode": "overlay",
             "size": 10,
             "solidity": 0.2
            },
            "type": "scatter"
           }
          ],
          "scatter3d": [
           {
            "line": {
             "colorbar": {
              "outlinewidth": 0,
              "ticks": ""
             }
            },
            "marker": {
             "colorbar": {
              "outlinewidth": 0,
              "ticks": ""
             }
            },
            "type": "scatter3d"
           }
          ],
          "scattercarpet": [
           {
            "marker": {
             "colorbar": {
              "outlinewidth": 0,
              "ticks": ""
             }
            },
            "type": "scattercarpet"
           }
          ],
          "scattergeo": [
           {
            "marker": {
             "colorbar": {
              "outlinewidth": 0,
              "ticks": ""
             }
            },
            "type": "scattergeo"
           }
          ],
          "scattergl": [
           {
            "marker": {
             "colorbar": {
              "outlinewidth": 0,
              "ticks": ""
             }
            },
            "type": "scattergl"
           }
          ],
          "scattermapbox": [
           {
            "marker": {
             "colorbar": {
              "outlinewidth": 0,
              "ticks": ""
             }
            },
            "type": "scattermapbox"
           }
          ],
          "scatterpolar": [
           {
            "marker": {
             "colorbar": {
              "outlinewidth": 0,
              "ticks": ""
             }
            },
            "type": "scatterpolar"
           }
          ],
          "scatterpolargl": [
           {
            "marker": {
             "colorbar": {
              "outlinewidth": 0,
              "ticks": ""
             }
            },
            "type": "scatterpolargl"
           }
          ],
          "scatterternary": [
           {
            "marker": {
             "colorbar": {
              "outlinewidth": 0,
              "ticks": ""
             }
            },
            "type": "scatterternary"
           }
          ],
          "surface": [
           {
            "colorbar": {
             "outlinewidth": 0,
             "ticks": ""
            },
            "colorscale": [
             [
              0,
              "#0d0887"
             ],
             [
              0.1111111111111111,
              "#46039f"
             ],
             [
              0.2222222222222222,
              "#7201a8"
             ],
             [
              0.3333333333333333,
              "#9c179e"
             ],
             [
              0.4444444444444444,
              "#bd3786"
             ],
             [
              0.5555555555555556,
              "#d8576b"
             ],
             [
              0.6666666666666666,
              "#ed7953"
             ],
             [
              0.7777777777777778,
              "#fb9f3a"
             ],
             [
              0.8888888888888888,
              "#fdca26"
             ],
             [
              1,
              "#f0f921"
             ]
            ],
            "type": "surface"
           }
          ],
          "table": [
           {
            "cells": {
             "fill": {
              "color": "#EBF0F8"
             },
             "line": {
              "color": "white"
             }
            },
            "header": {
             "fill": {
              "color": "#C8D4E3"
             },
             "line": {
              "color": "white"
             }
            },
            "type": "table"
           }
          ]
         },
         "layout": {
          "annotationdefaults": {
           "arrowcolor": "#2a3f5f",
           "arrowhead": 0,
           "arrowwidth": 1
          },
          "autotypenumbers": "strict",
          "coloraxis": {
           "colorbar": {
            "outlinewidth": 0,
            "ticks": ""
           }
          },
          "colorscale": {
           "diverging": [
            [
             0,
             "#8e0152"
            ],
            [
             0.1,
             "#c51b7d"
            ],
            [
             0.2,
             "#de77ae"
            ],
            [
             0.3,
             "#f1b6da"
            ],
            [
             0.4,
             "#fde0ef"
            ],
            [
             0.5,
             "#f7f7f7"
            ],
            [
             0.6,
             "#e6f5d0"
            ],
            [
             0.7,
             "#b8e186"
            ],
            [
             0.8,
             "#7fbc41"
            ],
            [
             0.9,
             "#4d9221"
            ],
            [
             1,
             "#276419"
            ]
           ],
           "sequential": [
            [
             0,
             "#0d0887"
            ],
            [
             0.1111111111111111,
             "#46039f"
            ],
            [
             0.2222222222222222,
             "#7201a8"
            ],
            [
             0.3333333333333333,
             "#9c179e"
            ],
            [
             0.4444444444444444,
             "#bd3786"
            ],
            [
             0.5555555555555556,
             "#d8576b"
            ],
            [
             0.6666666666666666,
             "#ed7953"
            ],
            [
             0.7777777777777778,
             "#fb9f3a"
            ],
            [
             0.8888888888888888,
             "#fdca26"
            ],
            [
             1,
             "#f0f921"
            ]
           ],
           "sequentialminus": [
            [
             0,
             "#0d0887"
            ],
            [
             0.1111111111111111,
             "#46039f"
            ],
            [
             0.2222222222222222,
             "#7201a8"
            ],
            [
             0.3333333333333333,
             "#9c179e"
            ],
            [
             0.4444444444444444,
             "#bd3786"
            ],
            [
             0.5555555555555556,
             "#d8576b"
            ],
            [
             0.6666666666666666,
             "#ed7953"
            ],
            [
             0.7777777777777778,
             "#fb9f3a"
            ],
            [
             0.8888888888888888,
             "#fdca26"
            ],
            [
             1,
             "#f0f921"
            ]
           ]
          },
          "colorway": [
           "#636efa",
           "#EF553B",
           "#00cc96",
           "#ab63fa",
           "#FFA15A",
           "#19d3f3",
           "#FF6692",
           "#B6E880",
           "#FF97FF",
           "#FECB52"
          ],
          "font": {
           "color": "#2a3f5f"
          },
          "geo": {
           "bgcolor": "white",
           "lakecolor": "white",
           "landcolor": "#E5ECF6",
           "showlakes": true,
           "showland": true,
           "subunitcolor": "white"
          },
          "hoverlabel": {
           "align": "left"
          },
          "hovermode": "closest",
          "mapbox": {
           "style": "light"
          },
          "paper_bgcolor": "white",
          "plot_bgcolor": "#E5ECF6",
          "polar": {
           "angularaxis": {
            "gridcolor": "white",
            "linecolor": "white",
            "ticks": ""
           },
           "bgcolor": "#E5ECF6",
           "radialaxis": {
            "gridcolor": "white",
            "linecolor": "white",
            "ticks": ""
           }
          },
          "scene": {
           "xaxis": {
            "backgroundcolor": "#E5ECF6",
            "gridcolor": "white",
            "gridwidth": 2,
            "linecolor": "white",
            "showbackground": true,
            "ticks": "",
            "zerolinecolor": "white"
           },
           "yaxis": {
            "backgroundcolor": "#E5ECF6",
            "gridcolor": "white",
            "gridwidth": 2,
            "linecolor": "white",
            "showbackground": true,
            "ticks": "",
            "zerolinecolor": "white"
           },
           "zaxis": {
            "backgroundcolor": "#E5ECF6",
            "gridcolor": "white",
            "gridwidth": 2,
            "linecolor": "white",
            "showbackground": true,
            "ticks": "",
            "zerolinecolor": "white"
           }
          },
          "shapedefaults": {
           "line": {
            "color": "#2a3f5f"
           }
          },
          "ternary": {
           "aaxis": {
            "gridcolor": "white",
            "linecolor": "white",
            "ticks": ""
           },
           "baxis": {
            "gridcolor": "white",
            "linecolor": "white",
            "ticks": ""
           },
           "bgcolor": "#E5ECF6",
           "caxis": {
            "gridcolor": "white",
            "linecolor": "white",
            "ticks": ""
           }
          },
          "title": {
           "x": 0.05
          },
          "xaxis": {
           "automargin": true,
           "gridcolor": "white",
           "linecolor": "white",
           "ticks": "",
           "title": {
            "standoff": 15
           },
           "zerolinecolor": "white",
           "zerolinewidth": 2
          },
          "yaxis": {
           "automargin": true,
           "gridcolor": "white",
           "linecolor": "white",
           "ticks": "",
           "title": {
            "standoff": 15
           },
           "zerolinecolor": "white",
           "zerolinewidth": 2
          }
         }
        },
        "updatemenus": [
         {
          "buttons": [
           {
            "args": [
             null,
             {
              "frame": {
               "duration": 500,
               "redraw": true
              },
              "fromcurrent": true,
              "mode": "immediate",
              "transition": {
               "duration": 500,
               "easing": "linear"
              }
             }
            ],
            "label": "&#9654;",
            "method": "animate"
           },
           {
            "args": [
             [
              null
             ],
             {
              "frame": {
               "duration": 0,
               "redraw": true
              },
              "fromcurrent": true,
              "mode": "immediate",
              "transition": {
               "duration": 0,
               "easing": "linear"
              }
             }
            ],
            "label": "&#9724;",
            "method": "animate"
           }
          ],
          "direction": "left",
          "pad": {
           "r": 10,
           "t": 70
          },
          "showactive": false,
          "type": "buttons",
          "x": 0.1,
          "xanchor": "right",
          "y": 0,
          "yanchor": "top"
         }
        ],
        "xaxis": {
         "anchor": "y",
         "categoryarray": [
          "Arab",
          "France",
          "Germany",
          "Italy",
          "Spain",
          "UK"
         ],
         "categoryorder": "array",
         "domain": [
          0,
          1
         ],
         "title": {
          "text": "league"
         }
        },
        "yaxis": {
         "anchor": "x",
         "domain": [
          0,
          1
         ],
         "title": {
          "text": "overpay"
         }
        }
       }
      }
     },
     "metadata": {},
     "output_type": "display_data"
    }
   ],
   "source": [
    "fig = px.bar(res, x=\"league\", y=\"overpay\", color=\"league\",animation_frame=\"season\")\n",
    "fig.show()"
   ]
  },
  {
   "cell_type": "code",
   "execution_count": 56,
   "metadata": {},
   "outputs": [
    {
     "data": {
      "application/vnd.plotly.v1+json": {
       "config": {
        "plotlyServerURL": "https://plot.ly"
       },
       "data": [
        {
         "alignmentgroup": "True",
         "hovertemplate": "league=%{x}<br>season=16/17<br>profit=%{y}<extra></extra>",
         "legendgroup": "Arab",
         "marker": {
          "color": "#636efa",
          "pattern": {
           "shape": ""
          }
         },
         "name": "Arab",
         "offsetgroup": "Arab",
         "orientation": "v",
         "showlegend": true,
         "textposition": "auto",
         "type": "bar",
         "x": [
          "Arab"
         ],
         "xaxis": "x",
         "y": [
          1150000
         ],
         "yaxis": "y"
        },
        {
         "alignmentgroup": "True",
         "hovertemplate": "league=%{x}<br>season=16/17<br>profit=%{y}<extra></extra>",
         "legendgroup": "France",
         "marker": {
          "color": "#EF553B",
          "pattern": {
           "shape": ""
          }
         },
         "name": "France",
         "offsetgroup": "France",
         "orientation": "v",
         "showlegend": true,
         "textposition": "auto",
         "type": "bar",
         "x": [
          "France"
         ],
         "xaxis": "x",
         "y": [
          97885000
         ],
         "yaxis": "y"
        },
        {
         "alignmentgroup": "True",
         "hovertemplate": "league=%{x}<br>season=16/17<br>profit=%{y}<extra></extra>",
         "legendgroup": "Germany",
         "marker": {
          "color": "#00cc96",
          "pattern": {
           "shape": ""
          }
         },
         "name": "Germany",
         "offsetgroup": "Germany",
         "orientation": "v",
         "showlegend": true,
         "textposition": "auto",
         "type": "bar",
         "x": [
          "Germany"
         ],
         "xaxis": "x",
         "y": [
          178600000
         ],
         "yaxis": "y"
        },
        {
         "alignmentgroup": "True",
         "hovertemplate": "league=%{x}<br>season=16/17<br>profit=%{y}<extra></extra>",
         "legendgroup": "Italy",
         "marker": {
          "color": "#ab63fa",
          "pattern": {
           "shape": ""
          }
         },
         "name": "Italy",
         "offsetgroup": "Italy",
         "orientation": "v",
         "showlegend": true,
         "textposition": "auto",
         "type": "bar",
         "x": [
          "Italy"
         ],
         "xaxis": "x",
         "y": [
          237669000
         ],
         "yaxis": "y"
        },
        {
         "alignmentgroup": "True",
         "hovertemplate": "league=%{x}<br>season=16/17<br>profit=%{y}<extra></extra>",
         "legendgroup": "Spain",
         "marker": {
          "color": "#FFA15A",
          "pattern": {
           "shape": ""
          }
         },
         "name": "Spain",
         "offsetgroup": "Spain",
         "orientation": "v",
         "showlegend": true,
         "textposition": "auto",
         "type": "bar",
         "x": [
          "Spain"
         ],
         "xaxis": "x",
         "y": [
          227050000
         ],
         "yaxis": "y"
        },
        {
         "alignmentgroup": "True",
         "hovertemplate": "league=%{x}<br>season=16/17<br>profit=%{y}<extra></extra>",
         "legendgroup": "UK",
         "marker": {
          "color": "#19d3f3",
          "pattern": {
           "shape": ""
          }
         },
         "name": "UK",
         "offsetgroup": "UK",
         "orientation": "v",
         "showlegend": true,
         "textposition": "auto",
         "type": "bar",
         "x": [
          "UK"
         ],
         "xaxis": "x",
         "y": [
          358365000
         ],
         "yaxis": "y"
        }
       ],
       "frames": [
        {
         "data": [
          {
           "alignmentgroup": "True",
           "hovertemplate": "league=%{x}<br>season=16/17<br>profit=%{y}<extra></extra>",
           "legendgroup": "Arab",
           "marker": {
            "color": "#636efa",
            "pattern": {
             "shape": ""
            }
           },
           "name": "Arab",
           "offsetgroup": "Arab",
           "orientation": "v",
           "showlegend": true,
           "textposition": "auto",
           "type": "bar",
           "x": [
            "Arab"
           ],
           "xaxis": "x",
           "y": [
            1150000
           ],
           "yaxis": "y"
          },
          {
           "alignmentgroup": "True",
           "hovertemplate": "league=%{x}<br>season=16/17<br>profit=%{y}<extra></extra>",
           "legendgroup": "France",
           "marker": {
            "color": "#EF553B",
            "pattern": {
             "shape": ""
            }
           },
           "name": "France",
           "offsetgroup": "France",
           "orientation": "v",
           "showlegend": true,
           "textposition": "auto",
           "type": "bar",
           "x": [
            "France"
           ],
           "xaxis": "x",
           "y": [
            97885000
           ],
           "yaxis": "y"
          },
          {
           "alignmentgroup": "True",
           "hovertemplate": "league=%{x}<br>season=16/17<br>profit=%{y}<extra></extra>",
           "legendgroup": "Germany",
           "marker": {
            "color": "#00cc96",
            "pattern": {
             "shape": ""
            }
           },
           "name": "Germany",
           "offsetgroup": "Germany",
           "orientation": "v",
           "showlegend": true,
           "textposition": "auto",
           "type": "bar",
           "x": [
            "Germany"
           ],
           "xaxis": "x",
           "y": [
            178600000
           ],
           "yaxis": "y"
          },
          {
           "alignmentgroup": "True",
           "hovertemplate": "league=%{x}<br>season=16/17<br>profit=%{y}<extra></extra>",
           "legendgroup": "Italy",
           "marker": {
            "color": "#ab63fa",
            "pattern": {
             "shape": ""
            }
           },
           "name": "Italy",
           "offsetgroup": "Italy",
           "orientation": "v",
           "showlegend": true,
           "textposition": "auto",
           "type": "bar",
           "x": [
            "Italy"
           ],
           "xaxis": "x",
           "y": [
            237669000
           ],
           "yaxis": "y"
          },
          {
           "alignmentgroup": "True",
           "hovertemplate": "league=%{x}<br>season=16/17<br>profit=%{y}<extra></extra>",
           "legendgroup": "Spain",
           "marker": {
            "color": "#FFA15A",
            "pattern": {
             "shape": ""
            }
           },
           "name": "Spain",
           "offsetgroup": "Spain",
           "orientation": "v",
           "showlegend": true,
           "textposition": "auto",
           "type": "bar",
           "x": [
            "Spain"
           ],
           "xaxis": "x",
           "y": [
            227050000
           ],
           "yaxis": "y"
          },
          {
           "alignmentgroup": "True",
           "hovertemplate": "league=%{x}<br>season=16/17<br>profit=%{y}<extra></extra>",
           "legendgroup": "UK",
           "marker": {
            "color": "#19d3f3",
            "pattern": {
             "shape": ""
            }
           },
           "name": "UK",
           "offsetgroup": "UK",
           "orientation": "v",
           "showlegend": true,
           "textposition": "auto",
           "type": "bar",
           "x": [
            "UK"
           ],
           "xaxis": "x",
           "y": [
            358365000
           ],
           "yaxis": "y"
          }
         ],
         "name": "16/17"
        },
        {
         "data": [
          {
           "alignmentgroup": "True",
           "hovertemplate": "league=%{x}<br>season=17/18<br>profit=%{y}<extra></extra>",
           "legendgroup": "Arab",
           "marker": {
            "color": "#636efa",
            "pattern": {
             "shape": ""
            }
           },
           "name": "Arab",
           "offsetgroup": "Arab",
           "orientation": "v",
           "showlegend": true,
           "textposition": "auto",
           "type": "bar",
           "x": [
            "Arab"
           ],
           "xaxis": "x",
           "y": [
            1485000
           ],
           "yaxis": "y"
          },
          {
           "alignmentgroup": "True",
           "hovertemplate": "league=%{x}<br>season=17/18<br>profit=%{y}<extra></extra>",
           "legendgroup": "France",
           "marker": {
            "color": "#EF553B",
            "pattern": {
             "shape": ""
            }
           },
           "name": "France",
           "offsetgroup": "France",
           "orientation": "v",
           "showlegend": true,
           "textposition": "auto",
           "type": "bar",
           "x": [
            "France"
           ],
           "xaxis": "x",
           "y": [
            235325000
           ],
           "yaxis": "y"
          },
          {
           "alignmentgroup": "True",
           "hovertemplate": "league=%{x}<br>season=17/18<br>profit=%{y}<extra></extra>",
           "legendgroup": "Germany",
           "marker": {
            "color": "#00cc96",
            "pattern": {
             "shape": ""
            }
           },
           "name": "Germany",
           "offsetgroup": "Germany",
           "orientation": "v",
           "showlegend": true,
           "textposition": "auto",
           "type": "bar",
           "x": [
            "Germany"
           ],
           "xaxis": "x",
           "y": [
            75970000
           ],
           "yaxis": "y"
          },
          {
           "alignmentgroup": "True",
           "hovertemplate": "league=%{x}<br>season=17/18<br>profit=%{y}<extra></extra>",
           "legendgroup": "Italy",
           "marker": {
            "color": "#ab63fa",
            "pattern": {
             "shape": ""
            }
           },
           "name": "Italy",
           "offsetgroup": "Italy",
           "orientation": "v",
           "showlegend": true,
           "textposition": "auto",
           "type": "bar",
           "x": [
            "Italy"
           ],
           "xaxis": "x",
           "y": [
            89428000
           ],
           "yaxis": "y"
          },
          {
           "alignmentgroup": "True",
           "hovertemplate": "league=%{x}<br>season=17/18<br>profit=%{y}<extra></extra>",
           "legendgroup": "Spain",
           "marker": {
            "color": "#FFA15A",
            "pattern": {
             "shape": ""
            }
           },
           "name": "Spain",
           "offsetgroup": "Spain",
           "orientation": "v",
           "showlegend": true,
           "textposition": "auto",
           "type": "bar",
           "x": [
            "Spain"
           ],
           "xaxis": "x",
           "y": [
            471575000
           ],
           "yaxis": "y"
          },
          {
           "alignmentgroup": "True",
           "hovertemplate": "league=%{x}<br>season=17/18<br>profit=%{y}<extra></extra>",
           "legendgroup": "UK",
           "marker": {
            "color": "#19d3f3",
            "pattern": {
             "shape": ""
            }
           },
           "name": "UK",
           "offsetgroup": "UK",
           "orientation": "v",
           "showlegend": true,
           "textposition": "auto",
           "type": "bar",
           "x": [
            "UK"
           ],
           "xaxis": "x",
           "y": [
            697340000
           ],
           "yaxis": "y"
          }
         ],
         "name": "17/18"
        },
        {
         "data": [
          {
           "alignmentgroup": "True",
           "hovertemplate": "league=%{x}<br>season=18/19<br>profit=%{y}<extra></extra>",
           "legendgroup": "Arab",
           "marker": {
            "color": "#636efa",
            "pattern": {
             "shape": ""
            }
           },
           "name": "Arab",
           "offsetgroup": "Arab",
           "orientation": "v",
           "showlegend": true,
           "textposition": "auto",
           "type": "bar",
           "x": [
            "Arab"
           ],
           "xaxis": "x",
           "y": [
            6040000
           ],
           "yaxis": "y"
          },
          {
           "alignmentgroup": "True",
           "hovertemplate": "league=%{x}<br>season=18/19<br>profit=%{y}<extra></extra>",
           "legendgroup": "France",
           "marker": {
            "color": "#EF553B",
            "pattern": {
             "shape": ""
            }
           },
           "name": "France",
           "offsetgroup": "France",
           "orientation": "v",
           "showlegend": true,
           "textposition": "auto",
           "type": "bar",
           "x": [
            "France"
           ],
           "xaxis": "x",
           "y": [
            246450000
           ],
           "yaxis": "y"
          },
          {
           "alignmentgroup": "True",
           "hovertemplate": "league=%{x}<br>season=18/19<br>profit=%{y}<extra></extra>",
           "legendgroup": "Germany",
           "marker": {
            "color": "#00cc96",
            "pattern": {
             "shape": ""
            }
           },
           "name": "Germany",
           "offsetgroup": "Germany",
           "orientation": "v",
           "showlegend": true,
           "textposition": "auto",
           "type": "bar",
           "x": [
            "Germany"
           ],
           "xaxis": "x",
           "y": [
            161820000
           ],
           "yaxis": "y"
          },
          {
           "alignmentgroup": "True",
           "hovertemplate": "league=%{x}<br>season=18/19<br>profit=%{y}<extra></extra>",
           "legendgroup": "Italy",
           "marker": {
            "color": "#ab63fa",
            "pattern": {
             "shape": ""
            }
           },
           "name": "Italy",
           "offsetgroup": "Italy",
           "orientation": "v",
           "showlegend": true,
           "textposition": "auto",
           "type": "bar",
           "x": [
            "Italy"
           ],
           "xaxis": "x",
           "y": [
            437420000
           ],
           "yaxis": "y"
          },
          {
           "alignmentgroup": "True",
           "hovertemplate": "league=%{x}<br>season=18/19<br>profit=%{y}<extra></extra>",
           "legendgroup": "Spain",
           "marker": {
            "color": "#FFA15A",
            "pattern": {
             "shape": ""
            }
           },
           "name": "Spain",
           "offsetgroup": "Spain",
           "orientation": "v",
           "showlegend": true,
           "textposition": "auto",
           "type": "bar",
           "x": [
            "Spain"
           ],
           "xaxis": "x",
           "y": [
            239725000
           ],
           "yaxis": "y"
          },
          {
           "alignmentgroup": "True",
           "hovertemplate": "league=%{x}<br>season=18/19<br>profit=%{y}<extra></extra>",
           "legendgroup": "UK",
           "marker": {
            "color": "#19d3f3",
            "pattern": {
             "shape": ""
            }
           },
           "name": "UK",
           "offsetgroup": "UK",
           "orientation": "v",
           "showlegend": true,
           "textposition": "auto",
           "type": "bar",
           "x": [
            "UK"
           ],
           "xaxis": "x",
           "y": [
            -33605000
           ],
           "yaxis": "y"
          }
         ],
         "name": "18/19"
        },
        {
         "data": [
          {
           "alignmentgroup": "True",
           "hovertemplate": "league=%{x}<br>season=19/20<br>profit=%{y}<extra></extra>",
           "legendgroup": "Arab",
           "marker": {
            "color": "#636efa",
            "pattern": {
             "shape": ""
            }
           },
           "name": "Arab",
           "offsetgroup": "Arab",
           "orientation": "v",
           "showlegend": true,
           "textposition": "auto",
           "type": "bar",
           "x": [
            "Arab"
           ],
           "xaxis": "x",
           "y": [
            2372000
           ],
           "yaxis": "y"
          },
          {
           "alignmentgroup": "True",
           "hovertemplate": "league=%{x}<br>season=19/20<br>profit=%{y}<extra></extra>",
           "legendgroup": "France",
           "marker": {
            "color": "#EF553B",
            "pattern": {
             "shape": ""
            }
           },
           "name": "France",
           "offsetgroup": "France",
           "orientation": "v",
           "showlegend": true,
           "textposition": "auto",
           "type": "bar",
           "x": [
            "France"
           ],
           "xaxis": "x",
           "y": [
            -7433000
           ],
           "yaxis": "y"
          },
          {
           "alignmentgroup": "True",
           "hovertemplate": "league=%{x}<br>season=19/20<br>profit=%{y}<extra></extra>",
           "legendgroup": "Germany",
           "marker": {
            "color": "#00cc96",
            "pattern": {
             "shape": ""
            }
           },
           "name": "Germany",
           "offsetgroup": "Germany",
           "orientation": "v",
           "showlegend": true,
           "textposition": "auto",
           "type": "bar",
           "x": [
            "Germany"
           ],
           "xaxis": "x",
           "y": [
            -22205000
           ],
           "yaxis": "y"
          },
          {
           "alignmentgroup": "True",
           "hovertemplate": "league=%{x}<br>season=19/20<br>profit=%{y}<extra></extra>",
           "legendgroup": "Italy",
           "marker": {
            "color": "#ab63fa",
            "pattern": {
             "shape": ""
            }
           },
           "name": "Italy",
           "offsetgroup": "Italy",
           "orientation": "v",
           "showlegend": true,
           "textposition": "auto",
           "type": "bar",
           "x": [
            "Italy"
           ],
           "xaxis": "x",
           "y": [
            -27504000
           ],
           "yaxis": "y"
          },
          {
           "alignmentgroup": "True",
           "hovertemplate": "league=%{x}<br>season=19/20<br>profit=%{y}<extra></extra>",
           "legendgroup": "Spain",
           "marker": {
            "color": "#FFA15A",
            "pattern": {
             "shape": ""
            }
           },
           "name": "Spain",
           "offsetgroup": "Spain",
           "orientation": "v",
           "showlegend": true,
           "textposition": "auto",
           "type": "bar",
           "x": [
            "Spain"
           ],
           "xaxis": "x",
           "y": [
            198170000
           ],
           "yaxis": "y"
          },
          {
           "alignmentgroup": "True",
           "hovertemplate": "league=%{x}<br>season=19/20<br>profit=%{y}<extra></extra>",
           "legendgroup": "UK",
           "marker": {
            "color": "#19d3f3",
            "pattern": {
             "shape": ""
            }
           },
           "name": "UK",
           "offsetgroup": "UK",
           "orientation": "v",
           "showlegend": true,
           "textposition": "auto",
           "type": "bar",
           "x": [
            "UK"
           ],
           "xaxis": "x",
           "y": [
            232091000
           ],
           "yaxis": "y"
          }
         ],
         "name": "19/20"
        },
        {
         "data": [
          {
           "alignmentgroup": "True",
           "hovertemplate": "league=%{x}<br>season=20/21<br>profit=%{y}<extra></extra>",
           "legendgroup": "Arab",
           "marker": {
            "color": "#636efa",
            "pattern": {
             "shape": ""
            }
           },
           "name": "Arab",
           "offsetgroup": "Arab",
           "orientation": "v",
           "showlegend": true,
           "textposition": "auto",
           "type": "bar",
           "x": [
            "Arab"
           ],
           "xaxis": "x",
           "y": [
            15601000
           ],
           "yaxis": "y"
          },
          {
           "alignmentgroup": "True",
           "hovertemplate": "league=%{x}<br>season=20/21<br>profit=%{y}<extra></extra>",
           "legendgroup": "France",
           "marker": {
            "color": "#EF553B",
            "pattern": {
             "shape": ""
            }
           },
           "name": "France",
           "offsetgroup": "France",
           "orientation": "v",
           "showlegend": true,
           "textposition": "auto",
           "type": "bar",
           "x": [
            "France"
           ],
           "xaxis": "x",
           "y": [
            -318515000
           ],
           "yaxis": "y"
          },
          {
           "alignmentgroup": "True",
           "hovertemplate": "league=%{x}<br>season=20/21<br>profit=%{y}<extra></extra>",
           "legendgroup": "Germany",
           "marker": {
            "color": "#00cc96",
            "pattern": {
             "shape": ""
            }
           },
           "name": "Germany",
           "offsetgroup": "Germany",
           "orientation": "v",
           "showlegend": true,
           "textposition": "auto",
           "type": "bar",
           "x": [
            "Germany"
           ],
           "xaxis": "x",
           "y": [
            -16255000
           ],
           "yaxis": "y"
          },
          {
           "alignmentgroup": "True",
           "hovertemplate": "league=%{x}<br>season=20/21<br>profit=%{y}<extra></extra>",
           "legendgroup": "Italy",
           "marker": {
            "color": "#ab63fa",
            "pattern": {
             "shape": ""
            }
           },
           "name": "Italy",
           "offsetgroup": "Italy",
           "orientation": "v",
           "showlegend": true,
           "textposition": "auto",
           "type": "bar",
           "x": [
            "Italy"
           ],
           "xaxis": "x",
           "y": [
            -814000
           ],
           "yaxis": "y"
          },
          {
           "alignmentgroup": "True",
           "hovertemplate": "league=%{x}<br>season=20/21<br>profit=%{y}<extra></extra>",
           "legendgroup": "Spain",
           "marker": {
            "color": "#FFA15A",
            "pattern": {
             "shape": ""
            }
           },
           "name": "Spain",
           "offsetgroup": "Spain",
           "orientation": "v",
           "showlegend": true,
           "textposition": "auto",
           "type": "bar",
           "x": [
            "Spain"
           ],
           "xaxis": "x",
           "y": [
            -123290000
           ],
           "yaxis": "y"
          },
          {
           "alignmentgroup": "True",
           "hovertemplate": "league=%{x}<br>season=20/21<br>profit=%{y}<extra></extra>",
           "legendgroup": "UK",
           "marker": {
            "color": "#19d3f3",
            "pattern": {
             "shape": ""
            }
           },
           "name": "UK",
           "offsetgroup": "UK",
           "orientation": "v",
           "showlegend": true,
           "textposition": "auto",
           "type": "bar",
           "x": [
            "UK"
           ],
           "xaxis": "x",
           "y": [
            -126795000
           ],
           "yaxis": "y"
          }
         ],
         "name": "20/21"
        },
        {
         "data": [
          {
           "alignmentgroup": "True",
           "hovertemplate": "league=%{x}<br>season=21/22<br>profit=%{y}<extra></extra>",
           "legendgroup": "Arab",
           "marker": {
            "color": "#636efa",
            "pattern": {
             "shape": ""
            }
           },
           "name": "Arab",
           "offsetgroup": "Arab",
           "orientation": "v",
           "showlegend": true,
           "textposition": "auto",
           "type": "bar",
           "x": [
            "Arab"
           ],
           "xaxis": "x",
           "y": [
            1690000
           ],
           "yaxis": "y"
          },
          {
           "alignmentgroup": "True",
           "hovertemplate": "league=%{x}<br>season=21/22<br>profit=%{y}<extra></extra>",
           "legendgroup": "France",
           "marker": {
            "color": "#EF553B",
            "pattern": {
             "shape": ""
            }
           },
           "name": "France",
           "offsetgroup": "France",
           "orientation": "v",
           "showlegend": true,
           "textposition": "auto",
           "type": "bar",
           "x": [
            "France"
           ],
           "xaxis": "x",
           "y": [
            -324507000
           ],
           "yaxis": "y"
          },
          {
           "alignmentgroup": "True",
           "hovertemplate": "league=%{x}<br>season=21/22<br>profit=%{y}<extra></extra>",
           "legendgroup": "Germany",
           "marker": {
            "color": "#00cc96",
            "pattern": {
             "shape": ""
            }
           },
           "name": "Germany",
           "offsetgroup": "Germany",
           "orientation": "v",
           "showlegend": true,
           "textposition": "auto",
           "type": "bar",
           "x": [
            "Germany"
           ],
           "xaxis": "x",
           "y": [
            -96180000
           ],
           "yaxis": "y"
          },
          {
           "alignmentgroup": "True",
           "hovertemplate": "league=%{x}<br>season=21/22<br>profit=%{y}<extra></extra>",
           "legendgroup": "Italy",
           "marker": {
            "color": "#ab63fa",
            "pattern": {
             "shape": ""
            }
           },
           "name": "Italy",
           "offsetgroup": "Italy",
           "orientation": "v",
           "showlegend": true,
           "textposition": "auto",
           "type": "bar",
           "x": [
            "Italy"
           ],
           "xaxis": "x",
           "y": [
            -201804000
           ],
           "yaxis": "y"
          },
          {
           "alignmentgroup": "True",
           "hovertemplate": "league=%{x}<br>season=21/22<br>profit=%{y}<extra></extra>",
           "legendgroup": "Spain",
           "marker": {
            "color": "#FFA15A",
            "pattern": {
             "shape": ""
            }
           },
           "name": "Spain",
           "offsetgroup": "Spain",
           "orientation": "v",
           "showlegend": true,
           "textposition": "auto",
           "type": "bar",
           "x": [
            "Spain"
           ],
           "xaxis": "x",
           "y": [
            -119545000
           ],
           "yaxis": "y"
          },
          {
           "alignmentgroup": "True",
           "hovertemplate": "league=%{x}<br>season=21/22<br>profit=%{y}<extra></extra>",
           "legendgroup": "UK",
           "marker": {
            "color": "#19d3f3",
            "pattern": {
             "shape": ""
            }
           },
           "name": "UK",
           "offsetgroup": "UK",
           "orientation": "v",
           "showlegend": true,
           "textposition": "auto",
           "type": "bar",
           "x": [
            "UK"
           ],
           "xaxis": "x",
           "y": [
            -12905000
           ],
           "yaxis": "y"
          }
         ],
         "name": "21/22"
        },
        {
         "data": [
          {
           "alignmentgroup": "True",
           "hovertemplate": "league=%{x}<br>season=22/23<br>profit=%{y}<extra></extra>",
           "legendgroup": "Arab",
           "marker": {
            "color": "#636efa",
            "pattern": {
             "shape": ""
            }
           },
           "name": "Arab",
           "offsetgroup": "Arab",
           "orientation": "v",
           "showlegend": true,
           "textposition": "auto",
           "type": "bar",
           "x": [
            "Arab"
           ],
           "xaxis": "x",
           "y": [
            1603000
           ],
           "yaxis": "y"
          },
          {
           "alignmentgroup": "True",
           "hovertemplate": "league=%{x}<br>season=22/23<br>profit=%{y}<extra></extra>",
           "legendgroup": "France",
           "marker": {
            "color": "#EF553B",
            "pattern": {
             "shape": ""
            }
           },
           "name": "France",
           "offsetgroup": "France",
           "orientation": "v",
           "showlegend": true,
           "textposition": "auto",
           "type": "bar",
           "x": [
            "France"
           ],
           "xaxis": "x",
           "y": [
            -341920000
           ],
           "yaxis": "y"
          },
          {
           "alignmentgroup": "True",
           "hovertemplate": "league=%{x}<br>season=22/23<br>profit=%{y}<extra></extra>",
           "legendgroup": "Germany",
           "marker": {
            "color": "#00cc96",
            "pattern": {
             "shape": ""
            }
           },
           "name": "Germany",
           "offsetgroup": "Germany",
           "orientation": "v",
           "showlegend": true,
           "textposition": "auto",
           "type": "bar",
           "x": [
            "Germany"
           ],
           "xaxis": "x",
           "y": [
            -365690000
           ],
           "yaxis": "y"
          },
          {
           "alignmentgroup": "True",
           "hovertemplate": "league=%{x}<br>season=22/23<br>profit=%{y}<extra></extra>",
           "legendgroup": "Italy",
           "marker": {
            "color": "#ab63fa",
            "pattern": {
             "shape": ""
            }
           },
           "name": "Italy",
           "offsetgroup": "Italy",
           "orientation": "v",
           "showlegend": true,
           "textposition": "auto",
           "type": "bar",
           "x": [
            "Italy"
           ],
           "xaxis": "x",
           "y": [
            -351044000
           ],
           "yaxis": "y"
          },
          {
           "alignmentgroup": "True",
           "hovertemplate": "league=%{x}<br>season=22/23<br>profit=%{y}<extra></extra>",
           "legendgroup": "Spain",
           "marker": {
            "color": "#FFA15A",
            "pattern": {
             "shape": ""
            }
           },
           "name": "Spain",
           "offsetgroup": "Spain",
           "orientation": "v",
           "showlegend": true,
           "textposition": "auto",
           "type": "bar",
           "x": [
            "Spain"
           ],
           "xaxis": "x",
           "y": [
            -188450000
           ],
           "yaxis": "y"
          },
          {
           "alignmentgroup": "True",
           "hovertemplate": "league=%{x}<br>season=22/23<br>profit=%{y}<extra></extra>",
           "legendgroup": "UK",
           "marker": {
            "color": "#19d3f3",
            "pattern": {
             "shape": ""
            }
           },
           "name": "UK",
           "offsetgroup": "UK",
           "orientation": "v",
           "showlegend": true,
           "textposition": "auto",
           "type": "bar",
           "x": [
            "UK"
           ],
           "xaxis": "x",
           "y": [
            -141933000
           ],
           "yaxis": "y"
          }
         ],
         "name": "22/23"
        },
        {
         "data": [
          {
           "alignmentgroup": "True",
           "hovertemplate": "league=%{x}<br>season=23/24<br>profit=%{y}<extra></extra>",
           "legendgroup": "Arab",
           "marker": {
            "color": "#636efa",
            "pattern": {
             "shape": ""
            }
           },
           "name": "Arab",
           "offsetgroup": "Arab",
           "orientation": "v",
           "showlegend": true,
           "textposition": "auto",
           "type": "bar",
           "x": [
            "Arab"
           ],
           "xaxis": "x",
           "y": [
            36921000
           ],
           "yaxis": "y"
          },
          {
           "alignmentgroup": "True",
           "hovertemplate": "league=%{x}<br>season=23/24<br>profit=%{y}<extra></extra>",
           "legendgroup": "France",
           "marker": {
            "color": "#EF553B",
            "pattern": {
             "shape": ""
            }
           },
           "name": "France",
           "offsetgroup": "France",
           "orientation": "v",
           "showlegend": true,
           "textposition": "auto",
           "type": "bar",
           "x": [
            "France"
           ],
           "xaxis": "x",
           "y": [
            -63250000
           ],
           "yaxis": "y"
          },
          {
           "alignmentgroup": "True",
           "hovertemplate": "league=%{x}<br>season=23/24<br>profit=%{y}<extra></extra>",
           "legendgroup": "Germany",
           "marker": {
            "color": "#00cc96",
            "pattern": {
             "shape": ""
            }
           },
           "name": "Germany",
           "offsetgroup": "Germany",
           "orientation": "v",
           "showlegend": true,
           "textposition": "auto",
           "type": "bar",
           "x": [
            "Germany"
           ],
           "xaxis": "x",
           "y": [
            -112940000
           ],
           "yaxis": "y"
          },
          {
           "alignmentgroup": "True",
           "hovertemplate": "league=%{x}<br>season=23/24<br>profit=%{y}<extra></extra>",
           "legendgroup": "Italy",
           "marker": {
            "color": "#ab63fa",
            "pattern": {
             "shape": ""
            }
           },
           "name": "Italy",
           "offsetgroup": "Italy",
           "orientation": "v",
           "showlegend": true,
           "textposition": "auto",
           "type": "bar",
           "x": [
            "Italy"
           ],
           "xaxis": "x",
           "y": [
            -203254000
           ],
           "yaxis": "y"
          },
          {
           "alignmentgroup": "True",
           "hovertemplate": "league=%{x}<br>season=23/24<br>profit=%{y}<extra></extra>",
           "legendgroup": "Spain",
           "marker": {
            "color": "#FFA15A",
            "pattern": {
             "shape": ""
            }
           },
           "name": "Spain",
           "offsetgroup": "Spain",
           "orientation": "v",
           "showlegend": true,
           "textposition": "auto",
           "type": "bar",
           "x": [
            "Spain"
           ],
           "xaxis": "x",
           "y": [
            -93800000
           ],
           "yaxis": "y"
          },
          {
           "alignmentgroup": "True",
           "hovertemplate": "league=%{x}<br>season=23/24<br>profit=%{y}<extra></extra>",
           "legendgroup": "UK",
           "marker": {
            "color": "#19d3f3",
            "pattern": {
             "shape": ""
            }
           },
           "name": "UK",
           "offsetgroup": "UK",
           "orientation": "v",
           "showlegend": true,
           "textposition": "auto",
           "type": "bar",
           "x": [
            "UK"
           ],
           "xaxis": "x",
           "y": [
            -100300000
           ],
           "yaxis": "y"
          }
         ],
         "name": "23/24"
        }
       ],
       "layout": {
        "barmode": "relative",
        "legend": {
         "title": {
          "text": "league"
         },
         "tracegroupgap": 0
        },
        "margin": {
         "t": 60
        },
        "sliders": [
         {
          "active": 0,
          "currentvalue": {
           "prefix": "season="
          },
          "len": 0.9,
          "pad": {
           "b": 10,
           "t": 60
          },
          "steps": [
           {
            "args": [
             [
              "16/17"
             ],
             {
              "frame": {
               "duration": 0,
               "redraw": true
              },
              "fromcurrent": true,
              "mode": "immediate",
              "transition": {
               "duration": 0,
               "easing": "linear"
              }
             }
            ],
            "label": "16/17",
            "method": "animate"
           },
           {
            "args": [
             [
              "17/18"
             ],
             {
              "frame": {
               "duration": 0,
               "redraw": true
              },
              "fromcurrent": true,
              "mode": "immediate",
              "transition": {
               "duration": 0,
               "easing": "linear"
              }
             }
            ],
            "label": "17/18",
            "method": "animate"
           },
           {
            "args": [
             [
              "18/19"
             ],
             {
              "frame": {
               "duration": 0,
               "redraw": true
              },
              "fromcurrent": true,
              "mode": "immediate",
              "transition": {
               "duration": 0,
               "easing": "linear"
              }
             }
            ],
            "label": "18/19",
            "method": "animate"
           },
           {
            "args": [
             [
              "19/20"
             ],
             {
              "frame": {
               "duration": 0,
               "redraw": true
              },
              "fromcurrent": true,
              "mode": "immediate",
              "transition": {
               "duration": 0,
               "easing": "linear"
              }
             }
            ],
            "label": "19/20",
            "method": "animate"
           },
           {
            "args": [
             [
              "20/21"
             ],
             {
              "frame": {
               "duration": 0,
               "redraw": true
              },
              "fromcurrent": true,
              "mode": "immediate",
              "transition": {
               "duration": 0,
               "easing": "linear"
              }
             }
            ],
            "label": "20/21",
            "method": "animate"
           },
           {
            "args": [
             [
              "21/22"
             ],
             {
              "frame": {
               "duration": 0,
               "redraw": true
              },
              "fromcurrent": true,
              "mode": "immediate",
              "transition": {
               "duration": 0,
               "easing": "linear"
              }
             }
            ],
            "label": "21/22",
            "method": "animate"
           },
           {
            "args": [
             [
              "22/23"
             ],
             {
              "frame": {
               "duration": 0,
               "redraw": true
              },
              "fromcurrent": true,
              "mode": "immediate",
              "transition": {
               "duration": 0,
               "easing": "linear"
              }
             }
            ],
            "label": "22/23",
            "method": "animate"
           },
           {
            "args": [
             [
              "23/24"
             ],
             {
              "frame": {
               "duration": 0,
               "redraw": true
              },
              "fromcurrent": true,
              "mode": "immediate",
              "transition": {
               "duration": 0,
               "easing": "linear"
              }
             }
            ],
            "label": "23/24",
            "method": "animate"
           }
          ],
          "x": 0.1,
          "xanchor": "left",
          "y": 0,
          "yanchor": "top"
         }
        ],
        "template": {
         "data": {
          "bar": [
           {
            "error_x": {
             "color": "#2a3f5f"
            },
            "error_y": {
             "color": "#2a3f5f"
            },
            "marker": {
             "line": {
              "color": "#E5ECF6",
              "width": 0.5
             },
             "pattern": {
              "fillmode": "overlay",
              "size": 10,
              "solidity": 0.2
             }
            },
            "type": "bar"
           }
          ],
          "barpolar": [
           {
            "marker": {
             "line": {
              "color": "#E5ECF6",
              "width": 0.5
             },
             "pattern": {
              "fillmode": "overlay",
              "size": 10,
              "solidity": 0.2
             }
            },
            "type": "barpolar"
           }
          ],
          "carpet": [
           {
            "aaxis": {
             "endlinecolor": "#2a3f5f",
             "gridcolor": "white",
             "linecolor": "white",
             "minorgridcolor": "white",
             "startlinecolor": "#2a3f5f"
            },
            "baxis": {
             "endlinecolor": "#2a3f5f",
             "gridcolor": "white",
             "linecolor": "white",
             "minorgridcolor": "white",
             "startlinecolor": "#2a3f5f"
            },
            "type": "carpet"
           }
          ],
          "choropleth": [
           {
            "colorbar": {
             "outlinewidth": 0,
             "ticks": ""
            },
            "type": "choropleth"
           }
          ],
          "contour": [
           {
            "colorbar": {
             "outlinewidth": 0,
             "ticks": ""
            },
            "colorscale": [
             [
              0,
              "#0d0887"
             ],
             [
              0.1111111111111111,
              "#46039f"
             ],
             [
              0.2222222222222222,
              "#7201a8"
             ],
             [
              0.3333333333333333,
              "#9c179e"
             ],
             [
              0.4444444444444444,
              "#bd3786"
             ],
             [
              0.5555555555555556,
              "#d8576b"
             ],
             [
              0.6666666666666666,
              "#ed7953"
             ],
             [
              0.7777777777777778,
              "#fb9f3a"
             ],
             [
              0.8888888888888888,
              "#fdca26"
             ],
             [
              1,
              "#f0f921"
             ]
            ],
            "type": "contour"
           }
          ],
          "contourcarpet": [
           {
            "colorbar": {
             "outlinewidth": 0,
             "ticks": ""
            },
            "type": "contourcarpet"
           }
          ],
          "heatmap": [
           {
            "colorbar": {
             "outlinewidth": 0,
             "ticks": ""
            },
            "colorscale": [
             [
              0,
              "#0d0887"
             ],
             [
              0.1111111111111111,
              "#46039f"
             ],
             [
              0.2222222222222222,
              "#7201a8"
             ],
             [
              0.3333333333333333,
              "#9c179e"
             ],
             [
              0.4444444444444444,
              "#bd3786"
             ],
             [
              0.5555555555555556,
              "#d8576b"
             ],
             [
              0.6666666666666666,
              "#ed7953"
             ],
             [
              0.7777777777777778,
              "#fb9f3a"
             ],
             [
              0.8888888888888888,
              "#fdca26"
             ],
             [
              1,
              "#f0f921"
             ]
            ],
            "type": "heatmap"
           }
          ],
          "heatmapgl": [
           {
            "colorbar": {
             "outlinewidth": 0,
             "ticks": ""
            },
            "colorscale": [
             [
              0,
              "#0d0887"
             ],
             [
              0.1111111111111111,
              "#46039f"
             ],
             [
              0.2222222222222222,
              "#7201a8"
             ],
             [
              0.3333333333333333,
              "#9c179e"
             ],
             [
              0.4444444444444444,
              "#bd3786"
             ],
             [
              0.5555555555555556,
              "#d8576b"
             ],
             [
              0.6666666666666666,
              "#ed7953"
             ],
             [
              0.7777777777777778,
              "#fb9f3a"
             ],
             [
              0.8888888888888888,
              "#fdca26"
             ],
             [
              1,
              "#f0f921"
             ]
            ],
            "type": "heatmapgl"
           }
          ],
          "histogram": [
           {
            "marker": {
             "pattern": {
              "fillmode": "overlay",
              "size": 10,
              "solidity": 0.2
             }
            },
            "type": "histogram"
           }
          ],
          "histogram2d": [
           {
            "colorbar": {
             "outlinewidth": 0,
             "ticks": ""
            },
            "colorscale": [
             [
              0,
              "#0d0887"
             ],
             [
              0.1111111111111111,
              "#46039f"
             ],
             [
              0.2222222222222222,
              "#7201a8"
             ],
             [
              0.3333333333333333,
              "#9c179e"
             ],
             [
              0.4444444444444444,
              "#bd3786"
             ],
             [
              0.5555555555555556,
              "#d8576b"
             ],
             [
              0.6666666666666666,
              "#ed7953"
             ],
             [
              0.7777777777777778,
              "#fb9f3a"
             ],
             [
              0.8888888888888888,
              "#fdca26"
             ],
             [
              1,
              "#f0f921"
             ]
            ],
            "type": "histogram2d"
           }
          ],
          "histogram2dcontour": [
           {
            "colorbar": {
             "outlinewidth": 0,
             "ticks": ""
            },
            "colorscale": [
             [
              0,
              "#0d0887"
             ],
             [
              0.1111111111111111,
              "#46039f"
             ],
             [
              0.2222222222222222,
              "#7201a8"
             ],
             [
              0.3333333333333333,
              "#9c179e"
             ],
             [
              0.4444444444444444,
              "#bd3786"
             ],
             [
              0.5555555555555556,
              "#d8576b"
             ],
             [
              0.6666666666666666,
              "#ed7953"
             ],
             [
              0.7777777777777778,
              "#fb9f3a"
             ],
             [
              0.8888888888888888,
              "#fdca26"
             ],
             [
              1,
              "#f0f921"
             ]
            ],
            "type": "histogram2dcontour"
           }
          ],
          "mesh3d": [
           {
            "colorbar": {
             "outlinewidth": 0,
             "ticks": ""
            },
            "type": "mesh3d"
           }
          ],
          "parcoords": [
           {
            "line": {
             "colorbar": {
              "outlinewidth": 0,
              "ticks": ""
             }
            },
            "type": "parcoords"
           }
          ],
          "pie": [
           {
            "automargin": true,
            "type": "pie"
           }
          ],
          "scatter": [
           {
            "fillpattern": {
             "fillmode": "overlay",
             "size": 10,
             "solidity": 0.2
            },
            "type": "scatter"
           }
          ],
          "scatter3d": [
           {
            "line": {
             "colorbar": {
              "outlinewidth": 0,
              "ticks": ""
             }
            },
            "marker": {
             "colorbar": {
              "outlinewidth": 0,
              "ticks": ""
             }
            },
            "type": "scatter3d"
           }
          ],
          "scattercarpet": [
           {
            "marker": {
             "colorbar": {
              "outlinewidth": 0,
              "ticks": ""
             }
            },
            "type": "scattercarpet"
           }
          ],
          "scattergeo": [
           {
            "marker": {
             "colorbar": {
              "outlinewidth": 0,
              "ticks": ""
             }
            },
            "type": "scattergeo"
           }
          ],
          "scattergl": [
           {
            "marker": {
             "colorbar": {
              "outlinewidth": 0,
              "ticks": ""
             }
            },
            "type": "scattergl"
           }
          ],
          "scattermapbox": [
           {
            "marker": {
             "colorbar": {
              "outlinewidth": 0,
              "ticks": ""
             }
            },
            "type": "scattermapbox"
           }
          ],
          "scatterpolar": [
           {
            "marker": {
             "colorbar": {
              "outlinewidth": 0,
              "ticks": ""
             }
            },
            "type": "scatterpolar"
           }
          ],
          "scatterpolargl": [
           {
            "marker": {
             "colorbar": {
              "outlinewidth": 0,
              "ticks": ""
             }
            },
            "type": "scatterpolargl"
           }
          ],
          "scatterternary": [
           {
            "marker": {
             "colorbar": {
              "outlinewidth": 0,
              "ticks": ""
             }
            },
            "type": "scatterternary"
           }
          ],
          "surface": [
           {
            "colorbar": {
             "outlinewidth": 0,
             "ticks": ""
            },
            "colorscale": [
             [
              0,
              "#0d0887"
             ],
             [
              0.1111111111111111,
              "#46039f"
             ],
             [
              0.2222222222222222,
              "#7201a8"
             ],
             [
              0.3333333333333333,
              "#9c179e"
             ],
             [
              0.4444444444444444,
              "#bd3786"
             ],
             [
              0.5555555555555556,
              "#d8576b"
             ],
             [
              0.6666666666666666,
              "#ed7953"
             ],
             [
              0.7777777777777778,
              "#fb9f3a"
             ],
             [
              0.8888888888888888,
              "#fdca26"
             ],
             [
              1,
              "#f0f921"
             ]
            ],
            "type": "surface"
           }
          ],
          "table": [
           {
            "cells": {
             "fill": {
              "color": "#EBF0F8"
             },
             "line": {
              "color": "white"
             }
            },
            "header": {
             "fill": {
              "color": "#C8D4E3"
             },
             "line": {
              "color": "white"
             }
            },
            "type": "table"
           }
          ]
         },
         "layout": {
          "annotationdefaults": {
           "arrowcolor": "#2a3f5f",
           "arrowhead": 0,
           "arrowwidth": 1
          },
          "autotypenumbers": "strict",
          "coloraxis": {
           "colorbar": {
            "outlinewidth": 0,
            "ticks": ""
           }
          },
          "colorscale": {
           "diverging": [
            [
             0,
             "#8e0152"
            ],
            [
             0.1,
             "#c51b7d"
            ],
            [
             0.2,
             "#de77ae"
            ],
            [
             0.3,
             "#f1b6da"
            ],
            [
             0.4,
             "#fde0ef"
            ],
            [
             0.5,
             "#f7f7f7"
            ],
            [
             0.6,
             "#e6f5d0"
            ],
            [
             0.7,
             "#b8e186"
            ],
            [
             0.8,
             "#7fbc41"
            ],
            [
             0.9,
             "#4d9221"
            ],
            [
             1,
             "#276419"
            ]
           ],
           "sequential": [
            [
             0,
             "#0d0887"
            ],
            [
             0.1111111111111111,
             "#46039f"
            ],
            [
             0.2222222222222222,
             "#7201a8"
            ],
            [
             0.3333333333333333,
             "#9c179e"
            ],
            [
             0.4444444444444444,
             "#bd3786"
            ],
            [
             0.5555555555555556,
             "#d8576b"
            ],
            [
             0.6666666666666666,
             "#ed7953"
            ],
            [
             0.7777777777777778,
             "#fb9f3a"
            ],
            [
             0.8888888888888888,
             "#fdca26"
            ],
            [
             1,
             "#f0f921"
            ]
           ],
           "sequentialminus": [
            [
             0,
             "#0d0887"
            ],
            [
             0.1111111111111111,
             "#46039f"
            ],
            [
             0.2222222222222222,
             "#7201a8"
            ],
            [
             0.3333333333333333,
             "#9c179e"
            ],
            [
             0.4444444444444444,
             "#bd3786"
            ],
            [
             0.5555555555555556,
             "#d8576b"
            ],
            [
             0.6666666666666666,
             "#ed7953"
            ],
            [
             0.7777777777777778,
             "#fb9f3a"
            ],
            [
             0.8888888888888888,
             "#fdca26"
            ],
            [
             1,
             "#f0f921"
            ]
           ]
          },
          "colorway": [
           "#636efa",
           "#EF553B",
           "#00cc96",
           "#ab63fa",
           "#FFA15A",
           "#19d3f3",
           "#FF6692",
           "#B6E880",
           "#FF97FF",
           "#FECB52"
          ],
          "font": {
           "color": "#2a3f5f"
          },
          "geo": {
           "bgcolor": "white",
           "lakecolor": "white",
           "landcolor": "#E5ECF6",
           "showlakes": true,
           "showland": true,
           "subunitcolor": "white"
          },
          "hoverlabel": {
           "align": "left"
          },
          "hovermode": "closest",
          "mapbox": {
           "style": "light"
          },
          "paper_bgcolor": "white",
          "plot_bgcolor": "#E5ECF6",
          "polar": {
           "angularaxis": {
            "gridcolor": "white",
            "linecolor": "white",
            "ticks": ""
           },
           "bgcolor": "#E5ECF6",
           "radialaxis": {
            "gridcolor": "white",
            "linecolor": "white",
            "ticks": ""
           }
          },
          "scene": {
           "xaxis": {
            "backgroundcolor": "#E5ECF6",
            "gridcolor": "white",
            "gridwidth": 2,
            "linecolor": "white",
            "showbackground": true,
            "ticks": "",
            "zerolinecolor": "white"
           },
           "yaxis": {
            "backgroundcolor": "#E5ECF6",
            "gridcolor": "white",
            "gridwidth": 2,
            "linecolor": "white",
            "showbackground": true,
            "ticks": "",
            "zerolinecolor": "white"
           },
           "zaxis": {
            "backgroundcolor": "#E5ECF6",
            "gridcolor": "white",
            "gridwidth": 2,
            "linecolor": "white",
            "showbackground": true,
            "ticks": "",
            "zerolinecolor": "white"
           }
          },
          "shapedefaults": {
           "line": {
            "color": "#2a3f5f"
           }
          },
          "ternary": {
           "aaxis": {
            "gridcolor": "white",
            "linecolor": "white",
            "ticks": ""
           },
           "baxis": {
            "gridcolor": "white",
            "linecolor": "white",
            "ticks": ""
           },
           "bgcolor": "#E5ECF6",
           "caxis": {
            "gridcolor": "white",
            "linecolor": "white",
            "ticks": ""
           }
          },
          "title": {
           "x": 0.05
          },
          "xaxis": {
           "automargin": true,
           "gridcolor": "white",
           "linecolor": "white",
           "ticks": "",
           "title": {
            "standoff": 15
           },
           "zerolinecolor": "white",
           "zerolinewidth": 2
          },
          "yaxis": {
           "automargin": true,
           "gridcolor": "white",
           "linecolor": "white",
           "ticks": "",
           "title": {
            "standoff": 15
           },
           "zerolinecolor": "white",
           "zerolinewidth": 2
          }
         }
        },
        "updatemenus": [
         {
          "buttons": [
           {
            "args": [
             null,
             {
              "frame": {
               "duration": 500,
               "redraw": true
              },
              "fromcurrent": true,
              "mode": "immediate",
              "transition": {
               "duration": 500,
               "easing": "linear"
              }
             }
            ],
            "label": "&#9654;",
            "method": "animate"
           },
           {
            "args": [
             [
              null
             ],
             {
              "frame": {
               "duration": 0,
               "redraw": true
              },
              "fromcurrent": true,
              "mode": "immediate",
              "transition": {
               "duration": 0,
               "easing": "linear"
              }
             }
            ],
            "label": "&#9724;",
            "method": "animate"
           }
          ],
          "direction": "left",
          "pad": {
           "r": 10,
           "t": 70
          },
          "showactive": false,
          "type": "buttons",
          "x": 0.1,
          "xanchor": "right",
          "y": 0,
          "yanchor": "top"
         }
        ],
        "xaxis": {
         "anchor": "y",
         "categoryarray": [
          "Arab",
          "France",
          "Germany",
          "Italy",
          "Spain",
          "UK"
         ],
         "categoryorder": "array",
         "domain": [
          0,
          1
         ],
         "title": {
          "text": "league"
         }
        },
        "yaxis": {
         "anchor": "x",
         "domain": [
          0,
          1
         ],
         "title": {
          "text": "profit"
         }
        }
       }
      }
     },
     "metadata": {},
     "output_type": "display_data"
    }
   ],
   "source": [
    "res=outs.groupby([\"league\",\"season\"]).sum()[[\"Fee\",\"Market_value\"]].reset_index()\n",
    "res[\"profit\"] = res[\"Fee\"] - res[\"Market_value\"]\n",
    "fig = px.bar(res, x=\"league\", y=\"profit\", color=\"league\",animation_frame=\"season\")\n",
    "fig.show()"
   ]
  },
  {
   "cell_type": "code",
   "execution_count": null,
   "metadata": {},
   "outputs": [],
   "source": []
  }
 ],
 "metadata": {
  "kernelspec": {
   "display_name": "Python 3",
   "language": "python",
   "name": "python3"
  },
  "language_info": {
   "codemirror_mode": {
    "name": "ipython",
    "version": 3
   },
   "file_extension": ".py",
   "mimetype": "text/x-python",
   "name": "python",
   "nbconvert_exporter": "python",
   "pygments_lexer": "ipython3",
   "version": "3.11.4"
  },
  "orig_nbformat": 4
 },
 "nbformat": 4,
 "nbformat_minor": 2
}
