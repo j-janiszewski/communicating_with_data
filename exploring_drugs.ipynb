{
 "cells": [
  {
   "cell_type": "code",
   "execution_count": 1,
   "metadata": {
    "ExecuteTime": {
     "end_time": "2023-10-17T13:06:23.974939500Z",
     "start_time": "2023-10-17T13:06:23.943812500Z"
    },
    "collapsed": false
   },
   "outputs": [],
   "source": [
    "import pandas as pd\n",
    "import numpy as np\n",
    "import plotly.express as px\n",
    "#import matplotlib.pyplot as plt\n",
    "#import seaborn as sns"
   ]
  },
  {
   "cell_type": "code",
   "execution_count": 30,
   "metadata": {
    "ExecuteTime": {
     "end_time": "2023-10-17T13:09:31.862409800Z",
     "start_time": "2023-10-17T13:09:31.642607700Z"
    },
    "collapsed": false
   },
   "outputs": [],
   "source": [
    "df = pd.read_csv('ww-data-long-2023-05-02.csv')\n",
    "# remove rows with NaN values\n",
    "df = df.dropna()\n",
    "df=df[df[\"Daily mean\"]!=0]\n",
    "df=df[df[\"Year\"]==2022]"
   ]
  },
  {
   "cell_type": "code",
   "execution_count": 31,
   "metadata": {
    "ExecuteTime": {
     "end_time": "2023-10-17T13:09:33.304439300Z",
     "start_time": "2023-10-17T13:09:33.144729800Z"
    },
    "collapsed": false
   },
   "outputs": [
    {
     "data": {
      "text/html": [
       "<div>\n",
       "<style scoped>\n",
       "    .dataframe tbody tr th:only-of-type {\n",
       "        vertical-align: middle;\n",
       "    }\n",
       "\n",
       "    .dataframe tbody tr th {\n",
       "        vertical-align: top;\n",
       "    }\n",
       "\n",
       "    .dataframe thead th {\n",
       "        text-align: right;\n",
       "    }\n",
       "</style>\n",
       "<table border=\"1\" class=\"dataframe\">\n",
       "  <thead>\n",
       "    <tr style=\"text-align: right;\">\n",
       "      <th></th>\n",
       "      <th>Year</th>\n",
       "      <th>Metabolite</th>\n",
       "      <th>Site ID</th>\n",
       "      <th>Country</th>\n",
       "      <th>City</th>\n",
       "      <th>Wednesday</th>\n",
       "      <th>Thursday</th>\n",
       "      <th>Friday</th>\n",
       "      <th>Saturday</th>\n",
       "      <th>Sunday</th>\n",
       "      <th>...</th>\n",
       "      <th>Weekday mean</th>\n",
       "      <th>Weekend mean</th>\n",
       "      <th>Daily mean</th>\n",
       "      <th>Monday_norm</th>\n",
       "      <th>Tuesday_norm</th>\n",
       "      <th>Wednesday_norm</th>\n",
       "      <th>Thursday_norm</th>\n",
       "      <th>Friday_norm</th>\n",
       "      <th>Saturday_norm</th>\n",
       "      <th>Sunday_norm</th>\n",
       "    </tr>\n",
       "  </thead>\n",
       "  <tbody>\n",
       "    <tr>\n",
       "      <th>0</th>\n",
       "      <td>2022</td>\n",
       "      <td>amphetamine</td>\n",
       "      <td>AT001</td>\n",
       "      <td>AT</td>\n",
       "      <td>Graz</td>\n",
       "      <td>24.00</td>\n",
       "      <td>20.90</td>\n",
       "      <td>24.22</td>\n",
       "      <td>27.86</td>\n",
       "      <td>28.27</td>\n",
       "      <td>...</td>\n",
       "      <td>22.37</td>\n",
       "      <td>26.03</td>\n",
       "      <td>24.46</td>\n",
       "      <td>0.973017</td>\n",
       "      <td>0.907604</td>\n",
       "      <td>0.981194</td>\n",
       "      <td>0.854456</td>\n",
       "      <td>0.990188</td>\n",
       "      <td>1.139002</td>\n",
       "      <td>1.155765</td>\n",
       "    </tr>\n",
       "    <tr>\n",
       "      <th>1</th>\n",
       "      <td>2022</td>\n",
       "      <td>amphetamine</td>\n",
       "      <td>AT002</td>\n",
       "      <td>AT</td>\n",
       "      <td>Hall-Wattens</td>\n",
       "      <td>9.01</td>\n",
       "      <td>13.61</td>\n",
       "      <td>9.28</td>\n",
       "      <td>11.82</td>\n",
       "      <td>11.08</td>\n",
       "      <td>...</td>\n",
       "      <td>9.82</td>\n",
       "      <td>10.87</td>\n",
       "      <td>10.42</td>\n",
       "      <td>1.085413</td>\n",
       "      <td>0.656430</td>\n",
       "      <td>0.864683</td>\n",
       "      <td>1.306142</td>\n",
       "      <td>0.890595</td>\n",
       "      <td>1.134357</td>\n",
       "      <td>1.063340</td>\n",
       "    </tr>\n",
       "    <tr>\n",
       "      <th>2</th>\n",
       "      <td>2022</td>\n",
       "      <td>amphetamine</td>\n",
       "      <td>AT004</td>\n",
       "      <td>AT</td>\n",
       "      <td>Innsbruck</td>\n",
       "      <td>10.18</td>\n",
       "      <td>9.80</td>\n",
       "      <td>11.70</td>\n",
       "      <td>16.02</td>\n",
       "      <td>14.86</td>\n",
       "      <td>...</td>\n",
       "      <td>13.14</td>\n",
       "      <td>13.98</td>\n",
       "      <td>13.62</td>\n",
       "      <td>0.980176</td>\n",
       "      <td>1.428047</td>\n",
       "      <td>0.747430</td>\n",
       "      <td>0.719530</td>\n",
       "      <td>0.859031</td>\n",
       "      <td>1.176211</td>\n",
       "      <td>1.091043</td>\n",
       "    </tr>\n",
       "    <tr>\n",
       "      <th>3</th>\n",
       "      <td>2022</td>\n",
       "      <td>amphetamine</td>\n",
       "      <td>AT005</td>\n",
       "      <td>AT</td>\n",
       "      <td>Kapfenberg</td>\n",
       "      <td>32.16</td>\n",
       "      <td>28.14</td>\n",
       "      <td>30.94</td>\n",
       "      <td>21.49</td>\n",
       "      <td>21.35</td>\n",
       "      <td>...</td>\n",
       "      <td>24.42</td>\n",
       "      <td>24.40</td>\n",
       "      <td>24.41</td>\n",
       "      <td>0.975010</td>\n",
       "      <td>0.530930</td>\n",
       "      <td>1.317493</td>\n",
       "      <td>1.152806</td>\n",
       "      <td>1.267513</td>\n",
       "      <td>0.880377</td>\n",
       "      <td>0.874642</td>\n",
       "    </tr>\n",
       "    <tr>\n",
       "      <th>4</th>\n",
       "      <td>2022</td>\n",
       "      <td>amphetamine</td>\n",
       "      <td>AT006</td>\n",
       "      <td>AT</td>\n",
       "      <td>Klagenfurt</td>\n",
       "      <td>6.74</td>\n",
       "      <td>6.87</td>\n",
       "      <td>12.77</td>\n",
       "      <td>9.57</td>\n",
       "      <td>11.62</td>\n",
       "      <td>...</td>\n",
       "      <td>6.76</td>\n",
       "      <td>10.46</td>\n",
       "      <td>8.87</td>\n",
       "      <td>0.886133</td>\n",
       "      <td>0.749718</td>\n",
       "      <td>0.759865</td>\n",
       "      <td>0.774521</td>\n",
       "      <td>1.439684</td>\n",
       "      <td>1.078918</td>\n",
       "      <td>1.310034</td>\n",
       "    </tr>\n",
       "    <tr>\n",
       "      <th>...</th>\n",
       "      <td>...</td>\n",
       "      <td>...</td>\n",
       "      <td>...</td>\n",
       "      <td>...</td>\n",
       "      <td>...</td>\n",
       "      <td>...</td>\n",
       "      <td>...</td>\n",
       "      <td>...</td>\n",
       "      <td>...</td>\n",
       "      <td>...</td>\n",
       "      <td>...</td>\n",
       "      <td>...</td>\n",
       "      <td>...</td>\n",
       "      <td>...</td>\n",
       "      <td>...</td>\n",
       "      <td>...</td>\n",
       "      <td>...</td>\n",
       "      <td>...</td>\n",
       "      <td>...</td>\n",
       "      <td>...</td>\n",
       "      <td>...</td>\n",
       "    </tr>\n",
       "    <tr>\n",
       "      <th>504</th>\n",
       "      <td>2022</td>\n",
       "      <td>methamphetamine</td>\n",
       "      <td>SI004</td>\n",
       "      <td>SI</td>\n",
       "      <td>Ljubljana</td>\n",
       "      <td>8.26</td>\n",
       "      <td>8.58</td>\n",
       "      <td>13.42</td>\n",
       "      <td>13.39</td>\n",
       "      <td>16.15</td>\n",
       "      <td>...</td>\n",
       "      <td>8.86</td>\n",
       "      <td>13.35</td>\n",
       "      <td>11.42</td>\n",
       "      <td>0.913310</td>\n",
       "      <td>0.852890</td>\n",
       "      <td>0.723292</td>\n",
       "      <td>0.751313</td>\n",
       "      <td>1.175131</td>\n",
       "      <td>1.172504</td>\n",
       "      <td>1.414186</td>\n",
       "    </tr>\n",
       "    <tr>\n",
       "      <th>505</th>\n",
       "      <td>2022</td>\n",
       "      <td>methamphetamine</td>\n",
       "      <td>SI005</td>\n",
       "      <td>SI</td>\n",
       "      <td>Maribor</td>\n",
       "      <td>1.01</td>\n",
       "      <td>0.95</td>\n",
       "      <td>0.93</td>\n",
       "      <td>1.10</td>\n",
       "      <td>0.22</td>\n",
       "      <td>...</td>\n",
       "      <td>0.74</td>\n",
       "      <td>0.63</td>\n",
       "      <td>0.67</td>\n",
       "      <td>0.373134</td>\n",
       "      <td>0.373134</td>\n",
       "      <td>1.507463</td>\n",
       "      <td>1.417910</td>\n",
       "      <td>1.388060</td>\n",
       "      <td>1.641791</td>\n",
       "      <td>0.328358</td>\n",
       "    </tr>\n",
       "    <tr>\n",
       "      <th>506</th>\n",
       "      <td>2022</td>\n",
       "      <td>methamphetamine</td>\n",
       "      <td>SI006</td>\n",
       "      <td>SI</td>\n",
       "      <td>Novo mesto</td>\n",
       "      <td>0.58</td>\n",
       "      <td>0.22</td>\n",
       "      <td>0.23</td>\n",
       "      <td>0.45</td>\n",
       "      <td>0.22</td>\n",
       "      <td>...</td>\n",
       "      <td>0.34</td>\n",
       "      <td>0.28</td>\n",
       "      <td>0.30</td>\n",
       "      <td>0.733333</td>\n",
       "      <td>0.700000</td>\n",
       "      <td>1.933333</td>\n",
       "      <td>0.733333</td>\n",
       "      <td>0.766667</td>\n",
       "      <td>1.500000</td>\n",
       "      <td>0.733333</td>\n",
       "    </tr>\n",
       "    <tr>\n",
       "      <th>508</th>\n",
       "      <td>2022</td>\n",
       "      <td>methamphetamine</td>\n",
       "      <td>TR001</td>\n",
       "      <td>TR</td>\n",
       "      <td>Adana</td>\n",
       "      <td>38.77</td>\n",
       "      <td>40.43</td>\n",
       "      <td>48.42</td>\n",
       "      <td>51.39</td>\n",
       "      <td>55.33</td>\n",
       "      <td>...</td>\n",
       "      <td>39.88</td>\n",
       "      <td>50.95</td>\n",
       "      <td>46.21</td>\n",
       "      <td>1.053235</td>\n",
       "      <td>0.875135</td>\n",
       "      <td>0.838996</td>\n",
       "      <td>0.874919</td>\n",
       "      <td>1.047825</td>\n",
       "      <td>1.112097</td>\n",
       "      <td>1.197360</td>\n",
       "    </tr>\n",
       "    <tr>\n",
       "      <th>509</th>\n",
       "      <td>2022</td>\n",
       "      <td>methamphetamine</td>\n",
       "      <td>TR003</td>\n",
       "      <td>TR</td>\n",
       "      <td>Istanbul (II-VII)</td>\n",
       "      <td>88.65</td>\n",
       "      <td>107.22</td>\n",
       "      <td>73.62</td>\n",
       "      <td>88.99</td>\n",
       "      <td>91.27</td>\n",
       "      <td>...</td>\n",
       "      <td>96.00</td>\n",
       "      <td>89.21</td>\n",
       "      <td>92.12</td>\n",
       "      <td>1.117781</td>\n",
       "      <td>1.000000</td>\n",
       "      <td>0.962332</td>\n",
       "      <td>1.163917</td>\n",
       "      <td>0.799175</td>\n",
       "      <td>0.966023</td>\n",
       "      <td>0.990773</td>\n",
       "    </tr>\n",
       "  </tbody>\n",
       "</table>\n",
       "<p>459 rows × 22 columns</p>\n",
       "</div>"
      ],
      "text/plain": [
       "     Year       Metabolite Site ID Country               City  Wednesday  \\\n",
       "0    2022      amphetamine   AT001      AT               Graz      24.00   \n",
       "1    2022      amphetamine   AT002      AT       Hall-Wattens       9.01   \n",
       "2    2022      amphetamine   AT004      AT          Innsbruck      10.18   \n",
       "3    2022      amphetamine   AT005      AT         Kapfenberg      32.16   \n",
       "4    2022      amphetamine   AT006      AT         Klagenfurt       6.74   \n",
       "..    ...              ...     ...     ...                ...        ...   \n",
       "504  2022  methamphetamine   SI004      SI          Ljubljana       8.26   \n",
       "505  2022  methamphetamine   SI005      SI            Maribor       1.01   \n",
       "506  2022  methamphetamine   SI006      SI         Novo mesto       0.58   \n",
       "508  2022  methamphetamine   TR001      TR              Adana      38.77   \n",
       "509  2022  methamphetamine   TR003      TR  Istanbul (II-VII)      88.65   \n",
       "\n",
       "     Thursday  Friday  Saturday  Sunday  ...  Weekday mean  Weekend mean  \\\n",
       "0       20.90   24.22     27.86   28.27  ...         22.37         26.03   \n",
       "1       13.61    9.28     11.82   11.08  ...          9.82         10.87   \n",
       "2        9.80   11.70     16.02   14.86  ...         13.14         13.98   \n",
       "3       28.14   30.94     21.49   21.35  ...         24.42         24.40   \n",
       "4        6.87   12.77      9.57   11.62  ...          6.76         10.46   \n",
       "..        ...     ...       ...     ...  ...           ...           ...   \n",
       "504      8.58   13.42     13.39   16.15  ...          8.86         13.35   \n",
       "505      0.95    0.93      1.10    0.22  ...          0.74          0.63   \n",
       "506      0.22    0.23      0.45    0.22  ...          0.34          0.28   \n",
       "508     40.43   48.42     51.39   55.33  ...         39.88         50.95   \n",
       "509    107.22   73.62     88.99   91.27  ...         96.00         89.21   \n",
       "\n",
       "     Daily mean  Monday_norm  Tuesday_norm  Wednesday_norm  Thursday_norm  \\\n",
       "0         24.46     0.973017      0.907604        0.981194       0.854456   \n",
       "1         10.42     1.085413      0.656430        0.864683       1.306142   \n",
       "2         13.62     0.980176      1.428047        0.747430       0.719530   \n",
       "3         24.41     0.975010      0.530930        1.317493       1.152806   \n",
       "4          8.87     0.886133      0.749718        0.759865       0.774521   \n",
       "..          ...          ...           ...             ...            ...   \n",
       "504       11.42     0.913310      0.852890        0.723292       0.751313   \n",
       "505        0.67     0.373134      0.373134        1.507463       1.417910   \n",
       "506        0.30     0.733333      0.700000        1.933333       0.733333   \n",
       "508       46.21     1.053235      0.875135        0.838996       0.874919   \n",
       "509       92.12     1.117781      1.000000        0.962332       1.163917   \n",
       "\n",
       "     Friday_norm  Saturday_norm  Sunday_norm  \n",
       "0       0.990188       1.139002     1.155765  \n",
       "1       0.890595       1.134357     1.063340  \n",
       "2       0.859031       1.176211     1.091043  \n",
       "3       1.267513       0.880377     0.874642  \n",
       "4       1.439684       1.078918     1.310034  \n",
       "..           ...            ...          ...  \n",
       "504     1.175131       1.172504     1.414186  \n",
       "505     1.388060       1.641791     0.328358  \n",
       "506     0.766667       1.500000     0.733333  \n",
       "508     1.047825       1.112097     1.197360  \n",
       "509     0.799175       0.966023     0.990773  \n",
       "\n",
       "[459 rows x 22 columns]"
      ]
     },
     "execution_count": 31,
     "metadata": {},
     "output_type": "execute_result"
    }
   ],
   "source": [
    "days = [\"Monday\" ,\"Tuesday\" , \"Wednesday\" , \"Thursday\" , \"Friday\" , \"Saturday\" , \"Sunday\"]\n",
    "days_norm = [f\"{day}_norm\" for day in days]\n",
    "for day in days:\n",
    "    df[f\"{day}_norm\"] =np.where(df[\"Daily mean\"]!=0, df[day] / df[\"Daily mean\"],1)\n",
    "df"
   ]
  },
  {
   "cell_type": "code",
   "execution_count": 32,
   "metadata": {
    "ExecuteTime": {
     "end_time": "2023-10-17T13:09:41.165364300Z",
     "start_time": "2023-10-17T13:09:34.953364600Z"
    },
    "collapsed": false
   },
   "outputs": [
    {
     "data": {
      "application/vnd.plotly.v1+json": {
       "config": {
        "plotlyServerURL": "https://plot.ly"
       },
       "data": [
        {
         "hovertemplate": "Metabolite=MDMA<br>variable=%{x}<br>value=%{y}<extra></extra>",
         "legendgroup": "MDMA",
         "line": {
          "color": "#636efa",
          "dash": "solid"
         },
         "marker": {
          "symbol": "circle"
         },
         "mode": "lines",
         "name": "MDMA",
         "orientation": "v",
         "showlegend": true,
         "type": "scatter",
         "x": [
          "Monday_norm",
          "Tuesday_norm",
          "Wednesday_norm",
          "Thursday_norm",
          "Friday_norm",
          "Saturday_norm",
          "Sunday_norm"
         ],
         "xaxis": "x",
         "y": [
          1.2046872559098885,
          0.7520923509306329,
          0.6448108439902956,
          0.6223196374845266,
          0.7144548084565758,
          1.3269893808611002,
          1.732590918318826
         ],
         "yaxis": "y"
        },
        {
         "hovertemplate": "Metabolite=amphetamine<br>variable=%{x}<br>value=%{y}<extra></extra>",
         "legendgroup": "amphetamine",
         "line": {
          "color": "#EF553B",
          "dash": "solid"
         },
         "marker": {
          "symbol": "circle"
         },
         "mode": "lines",
         "name": "amphetamine",
         "orientation": "v",
         "showlegend": true,
         "type": "scatter",
         "x": [
          "Monday_norm",
          "Tuesday_norm",
          "Wednesday_norm",
          "Thursday_norm",
          "Friday_norm",
          "Saturday_norm",
          "Sunday_norm"
         ],
         "xaxis": "x",
         "y": [
          0.9972506542019005,
          1.013851150948777,
          0.9066442234497336,
          0.9695121304318355,
          0.9177675181006997,
          1.0612362582051238,
          1.1325562648290788
         ],
         "yaxis": "y"
        },
        {
         "hovertemplate": "Metabolite=cannabis<br>variable=%{x}<br>value=%{y}<extra></extra>",
         "legendgroup": "cannabis",
         "line": {
          "color": "#00cc96",
          "dash": "solid"
         },
         "marker": {
          "symbol": "circle"
         },
         "mode": "lines",
         "name": "cannabis",
         "orientation": "v",
         "showlegend": true,
         "type": "scatter",
         "x": [
          "Monday_norm",
          "Tuesday_norm",
          "Wednesday_norm",
          "Thursday_norm",
          "Friday_norm",
          "Saturday_norm",
          "Sunday_norm"
         ],
         "xaxis": "x",
         "y": [
          1.070169764341126,
          1.0515498989604863,
          0.9893501275352353,
          1.0124132166160147,
          0.971501036637745,
          0.9780300452657741,
          0.9270030085377478
         ],
         "yaxis": "y"
        },
        {
         "hovertemplate": "Metabolite=cocaine<br>variable=%{x}<br>value=%{y}<extra></extra>",
         "legendgroup": "cocaine",
         "line": {
          "color": "#ab63fa",
          "dash": "solid"
         },
         "marker": {
          "symbol": "circle"
         },
         "mode": "lines",
         "name": "cocaine",
         "orientation": "v",
         "showlegend": true,
         "type": "scatter",
         "x": [
          "Monday_norm",
          "Tuesday_norm",
          "Wednesday_norm",
          "Thursday_norm",
          "Friday_norm",
          "Saturday_norm",
          "Sunday_norm"
         ],
         "xaxis": "x",
         "y": [
          0.9927511598506177,
          0.846673533137429,
          0.7827100134643614,
          0.8289214932313627,
          0.9155755300855393,
          1.2754513113645465,
          1.3573032004890957
         ],
         "yaxis": "y"
        },
        {
         "hovertemplate": "Metabolite=ketamine<br>variable=%{x}<br>value=%{y}<extra></extra>",
         "legendgroup": "ketamine",
         "line": {
          "color": "#FFA15A",
          "dash": "solid"
         },
         "marker": {
          "symbol": "circle"
         },
         "mode": "lines",
         "name": "ketamine",
         "orientation": "v",
         "showlegend": true,
         "type": "scatter",
         "x": [
          "Monday_norm",
          "Tuesday_norm",
          "Wednesday_norm",
          "Thursday_norm",
          "Friday_norm",
          "Saturday_norm",
          "Sunday_norm"
         ],
         "xaxis": "x",
         "y": [
          1.1118964106945177,
          0.8103548244659285,
          0.9475668948975818,
          0.9275395631679298,
          0.8697416418287836,
          1.0385921302651309,
          1.2955209763965863
         ],
         "yaxis": "y"
        },
        {
         "hovertemplate": "Metabolite=methamphetamine<br>variable=%{x}<br>value=%{y}<extra></extra>",
         "legendgroup": "methamphetamine",
         "line": {
          "color": "#19d3f3",
          "dash": "solid"
         },
         "marker": {
          "symbol": "circle"
         },
         "mode": "lines",
         "name": "methamphetamine",
         "orientation": "v",
         "showlegend": true,
         "type": "scatter",
         "x": [
          "Monday_norm",
          "Tuesday_norm",
          "Wednesday_norm",
          "Thursday_norm",
          "Friday_norm",
          "Saturday_norm",
          "Sunday_norm"
         ],
         "xaxis": "x",
         "y": [
          0.9888915748094141,
          0.9783016843071064,
          1.003385210799812,
          0.9712276497214305,
          0.9637840194263728,
          1.0197917290023988,
          1.07730476464676
         ],
         "yaxis": "y"
        }
       ],
       "layout": {
        "legend": {
         "title": {
          "text": "Metabolite"
         },
         "tracegroupgap": 0
        },
        "margin": {
         "t": 60
        },
        "template": {
         "data": {
          "bar": [
           {
            "error_x": {
             "color": "#2a3f5f"
            },
            "error_y": {
             "color": "#2a3f5f"
            },
            "marker": {
             "line": {
              "color": "#E5ECF6",
              "width": 0.5
             },
             "pattern": {
              "fillmode": "overlay",
              "size": 10,
              "solidity": 0.2
             }
            },
            "type": "bar"
           }
          ],
          "barpolar": [
           {
            "marker": {
             "line": {
              "color": "#E5ECF6",
              "width": 0.5
             },
             "pattern": {
              "fillmode": "overlay",
              "size": 10,
              "solidity": 0.2
             }
            },
            "type": "barpolar"
           }
          ],
          "carpet": [
           {
            "aaxis": {
             "endlinecolor": "#2a3f5f",
             "gridcolor": "white",
             "linecolor": "white",
             "minorgridcolor": "white",
             "startlinecolor": "#2a3f5f"
            },
            "baxis": {
             "endlinecolor": "#2a3f5f",
             "gridcolor": "white",
             "linecolor": "white",
             "minorgridcolor": "white",
             "startlinecolor": "#2a3f5f"
            },
            "type": "carpet"
           }
          ],
          "choropleth": [
           {
            "colorbar": {
             "outlinewidth": 0,
             "ticks": ""
            },
            "type": "choropleth"
           }
          ],
          "contour": [
           {
            "colorbar": {
             "outlinewidth": 0,
             "ticks": ""
            },
            "colorscale": [
             [
              0,
              "#0d0887"
             ],
             [
              0.1111111111111111,
              "#46039f"
             ],
             [
              0.2222222222222222,
              "#7201a8"
             ],
             [
              0.3333333333333333,
              "#9c179e"
             ],
             [
              0.4444444444444444,
              "#bd3786"
             ],
             [
              0.5555555555555556,
              "#d8576b"
             ],
             [
              0.6666666666666666,
              "#ed7953"
             ],
             [
              0.7777777777777778,
              "#fb9f3a"
             ],
             [
              0.8888888888888888,
              "#fdca26"
             ],
             [
              1,
              "#f0f921"
             ]
            ],
            "type": "contour"
           }
          ],
          "contourcarpet": [
           {
            "colorbar": {
             "outlinewidth": 0,
             "ticks": ""
            },
            "type": "contourcarpet"
           }
          ],
          "heatmap": [
           {
            "colorbar": {
             "outlinewidth": 0,
             "ticks": ""
            },
            "colorscale": [
             [
              0,
              "#0d0887"
             ],
             [
              0.1111111111111111,
              "#46039f"
             ],
             [
              0.2222222222222222,
              "#7201a8"
             ],
             [
              0.3333333333333333,
              "#9c179e"
             ],
             [
              0.4444444444444444,
              "#bd3786"
             ],
             [
              0.5555555555555556,
              "#d8576b"
             ],
             [
              0.6666666666666666,
              "#ed7953"
             ],
             [
              0.7777777777777778,
              "#fb9f3a"
             ],
             [
              0.8888888888888888,
              "#fdca26"
             ],
             [
              1,
              "#f0f921"
             ]
            ],
            "type": "heatmap"
           }
          ],
          "heatmapgl": [
           {
            "colorbar": {
             "outlinewidth": 0,
             "ticks": ""
            },
            "colorscale": [
             [
              0,
              "#0d0887"
             ],
             [
              0.1111111111111111,
              "#46039f"
             ],
             [
              0.2222222222222222,
              "#7201a8"
             ],
             [
              0.3333333333333333,
              "#9c179e"
             ],
             [
              0.4444444444444444,
              "#bd3786"
             ],
             [
              0.5555555555555556,
              "#d8576b"
             ],
             [
              0.6666666666666666,
              "#ed7953"
             ],
             [
              0.7777777777777778,
              "#fb9f3a"
             ],
             [
              0.8888888888888888,
              "#fdca26"
             ],
             [
              1,
              "#f0f921"
             ]
            ],
            "type": "heatmapgl"
           }
          ],
          "histogram": [
           {
            "marker": {
             "pattern": {
              "fillmode": "overlay",
              "size": 10,
              "solidity": 0.2
             }
            },
            "type": "histogram"
           }
          ],
          "histogram2d": [
           {
            "colorbar": {
             "outlinewidth": 0,
             "ticks": ""
            },
            "colorscale": [
             [
              0,
              "#0d0887"
             ],
             [
              0.1111111111111111,
              "#46039f"
             ],
             [
              0.2222222222222222,
              "#7201a8"
             ],
             [
              0.3333333333333333,
              "#9c179e"
             ],
             [
              0.4444444444444444,
              "#bd3786"
             ],
             [
              0.5555555555555556,
              "#d8576b"
             ],
             [
              0.6666666666666666,
              "#ed7953"
             ],
             [
              0.7777777777777778,
              "#fb9f3a"
             ],
             [
              0.8888888888888888,
              "#fdca26"
             ],
             [
              1,
              "#f0f921"
             ]
            ],
            "type": "histogram2d"
           }
          ],
          "histogram2dcontour": [
           {
            "colorbar": {
             "outlinewidth": 0,
             "ticks": ""
            },
            "colorscale": [
             [
              0,
              "#0d0887"
             ],
             [
              0.1111111111111111,
              "#46039f"
             ],
             [
              0.2222222222222222,
              "#7201a8"
             ],
             [
              0.3333333333333333,
              "#9c179e"
             ],
             [
              0.4444444444444444,
              "#bd3786"
             ],
             [
              0.5555555555555556,
              "#d8576b"
             ],
             [
              0.6666666666666666,
              "#ed7953"
             ],
             [
              0.7777777777777778,
              "#fb9f3a"
             ],
             [
              0.8888888888888888,
              "#fdca26"
             ],
             [
              1,
              "#f0f921"
             ]
            ],
            "type": "histogram2dcontour"
           }
          ],
          "mesh3d": [
           {
            "colorbar": {
             "outlinewidth": 0,
             "ticks": ""
            },
            "type": "mesh3d"
           }
          ],
          "parcoords": [
           {
            "line": {
             "colorbar": {
              "outlinewidth": 0,
              "ticks": ""
             }
            },
            "type": "parcoords"
           }
          ],
          "pie": [
           {
            "automargin": true,
            "type": "pie"
           }
          ],
          "scatter": [
           {
            "fillpattern": {
             "fillmode": "overlay",
             "size": 10,
             "solidity": 0.2
            },
            "type": "scatter"
           }
          ],
          "scatter3d": [
           {
            "line": {
             "colorbar": {
              "outlinewidth": 0,
              "ticks": ""
             }
            },
            "marker": {
             "colorbar": {
              "outlinewidth": 0,
              "ticks": ""
             }
            },
            "type": "scatter3d"
           }
          ],
          "scattercarpet": [
           {
            "marker": {
             "colorbar": {
              "outlinewidth": 0,
              "ticks": ""
             }
            },
            "type": "scattercarpet"
           }
          ],
          "scattergeo": [
           {
            "marker": {
             "colorbar": {
              "outlinewidth": 0,
              "ticks": ""
             }
            },
            "type": "scattergeo"
           }
          ],
          "scattergl": [
           {
            "marker": {
             "colorbar": {
              "outlinewidth": 0,
              "ticks": ""
             }
            },
            "type": "scattergl"
           }
          ],
          "scattermapbox": [
           {
            "marker": {
             "colorbar": {
              "outlinewidth": 0,
              "ticks": ""
             }
            },
            "type": "scattermapbox"
           }
          ],
          "scatterpolar": [
           {
            "marker": {
             "colorbar": {
              "outlinewidth": 0,
              "ticks": ""
             }
            },
            "type": "scatterpolar"
           }
          ],
          "scatterpolargl": [
           {
            "marker": {
             "colorbar": {
              "outlinewidth": 0,
              "ticks": ""
             }
            },
            "type": "scatterpolargl"
           }
          ],
          "scatterternary": [
           {
            "marker": {
             "colorbar": {
              "outlinewidth": 0,
              "ticks": ""
             }
            },
            "type": "scatterternary"
           }
          ],
          "surface": [
           {
            "colorbar": {
             "outlinewidth": 0,
             "ticks": ""
            },
            "colorscale": [
             [
              0,
              "#0d0887"
             ],
             [
              0.1111111111111111,
              "#46039f"
             ],
             [
              0.2222222222222222,
              "#7201a8"
             ],
             [
              0.3333333333333333,
              "#9c179e"
             ],
             [
              0.4444444444444444,
              "#bd3786"
             ],
             [
              0.5555555555555556,
              "#d8576b"
             ],
             [
              0.6666666666666666,
              "#ed7953"
             ],
             [
              0.7777777777777778,
              "#fb9f3a"
             ],
             [
              0.8888888888888888,
              "#fdca26"
             ],
             [
              1,
              "#f0f921"
             ]
            ],
            "type": "surface"
           }
          ],
          "table": [
           {
            "cells": {
             "fill": {
              "color": "#EBF0F8"
             },
             "line": {
              "color": "white"
             }
            },
            "header": {
             "fill": {
              "color": "#C8D4E3"
             },
             "line": {
              "color": "white"
             }
            },
            "type": "table"
           }
          ]
         },
         "layout": {
          "annotationdefaults": {
           "arrowcolor": "#2a3f5f",
           "arrowhead": 0,
           "arrowwidth": 1
          },
          "autotypenumbers": "strict",
          "coloraxis": {
           "colorbar": {
            "outlinewidth": 0,
            "ticks": ""
           }
          },
          "colorscale": {
           "diverging": [
            [
             0,
             "#8e0152"
            ],
            [
             0.1,
             "#c51b7d"
            ],
            [
             0.2,
             "#de77ae"
            ],
            [
             0.3,
             "#f1b6da"
            ],
            [
             0.4,
             "#fde0ef"
            ],
            [
             0.5,
             "#f7f7f7"
            ],
            [
             0.6,
             "#e6f5d0"
            ],
            [
             0.7,
             "#b8e186"
            ],
            [
             0.8,
             "#7fbc41"
            ],
            [
             0.9,
             "#4d9221"
            ],
            [
             1,
             "#276419"
            ]
           ],
           "sequential": [
            [
             0,
             "#0d0887"
            ],
            [
             0.1111111111111111,
             "#46039f"
            ],
            [
             0.2222222222222222,
             "#7201a8"
            ],
            [
             0.3333333333333333,
             "#9c179e"
            ],
            [
             0.4444444444444444,
             "#bd3786"
            ],
            [
             0.5555555555555556,
             "#d8576b"
            ],
            [
             0.6666666666666666,
             "#ed7953"
            ],
            [
             0.7777777777777778,
             "#fb9f3a"
            ],
            [
             0.8888888888888888,
             "#fdca26"
            ],
            [
             1,
             "#f0f921"
            ]
           ],
           "sequentialminus": [
            [
             0,
             "#0d0887"
            ],
            [
             0.1111111111111111,
             "#46039f"
            ],
            [
             0.2222222222222222,
             "#7201a8"
            ],
            [
             0.3333333333333333,
             "#9c179e"
            ],
            [
             0.4444444444444444,
             "#bd3786"
            ],
            [
             0.5555555555555556,
             "#d8576b"
            ],
            [
             0.6666666666666666,
             "#ed7953"
            ],
            [
             0.7777777777777778,
             "#fb9f3a"
            ],
            [
             0.8888888888888888,
             "#fdca26"
            ],
            [
             1,
             "#f0f921"
            ]
           ]
          },
          "colorway": [
           "#636efa",
           "#EF553B",
           "#00cc96",
           "#ab63fa",
           "#FFA15A",
           "#19d3f3",
           "#FF6692",
           "#B6E880",
           "#FF97FF",
           "#FECB52"
          ],
          "font": {
           "color": "#2a3f5f"
          },
          "geo": {
           "bgcolor": "white",
           "lakecolor": "white",
           "landcolor": "#E5ECF6",
           "showlakes": true,
           "showland": true,
           "subunitcolor": "white"
          },
          "hoverlabel": {
           "align": "left"
          },
          "hovermode": "closest",
          "mapbox": {
           "style": "light"
          },
          "paper_bgcolor": "white",
          "plot_bgcolor": "#E5ECF6",
          "polar": {
           "angularaxis": {
            "gridcolor": "white",
            "linecolor": "white",
            "ticks": ""
           },
           "bgcolor": "#E5ECF6",
           "radialaxis": {
            "gridcolor": "white",
            "linecolor": "white",
            "ticks": ""
           }
          },
          "scene": {
           "xaxis": {
            "backgroundcolor": "#E5ECF6",
            "gridcolor": "white",
            "gridwidth": 2,
            "linecolor": "white",
            "showbackground": true,
            "ticks": "",
            "zerolinecolor": "white"
           },
           "yaxis": {
            "backgroundcolor": "#E5ECF6",
            "gridcolor": "white",
            "gridwidth": 2,
            "linecolor": "white",
            "showbackground": true,
            "ticks": "",
            "zerolinecolor": "white"
           },
           "zaxis": {
            "backgroundcolor": "#E5ECF6",
            "gridcolor": "white",
            "gridwidth": 2,
            "linecolor": "white",
            "showbackground": true,
            "ticks": "",
            "zerolinecolor": "white"
           }
          },
          "shapedefaults": {
           "line": {
            "color": "#2a3f5f"
           }
          },
          "ternary": {
           "aaxis": {
            "gridcolor": "white",
            "linecolor": "white",
            "ticks": ""
           },
           "baxis": {
            "gridcolor": "white",
            "linecolor": "white",
            "ticks": ""
           },
           "bgcolor": "#E5ECF6",
           "caxis": {
            "gridcolor": "white",
            "linecolor": "white",
            "ticks": ""
           }
          },
          "title": {
           "x": 0.05
          },
          "xaxis": {
           "automargin": true,
           "gridcolor": "white",
           "linecolor": "white",
           "ticks": "",
           "title": {
            "standoff": 15
           },
           "zerolinecolor": "white",
           "zerolinewidth": 2
          },
          "yaxis": {
           "automargin": true,
           "gridcolor": "white",
           "linecolor": "white",
           "ticks": "",
           "title": {
            "standoff": 15
           },
           "zerolinecolor": "white",
           "zerolinewidth": 2
          }
         }
        },
        "xaxis": {
         "anchor": "y",
         "domain": [
          0,
          1
         ],
         "title": {
          "text": "variable"
         }
        },
        "yaxis": {
         "anchor": "x",
         "domain": [
          0,
          1
         ],
         "title": {
          "text": "value"
         }
        }
       }
      }
     },
     "metadata": {},
     "output_type": "display_data"
    },
    {
     "data": {
      "text/html": [
       "<div>\n",
       "<style scoped>\n",
       "    .dataframe tbody tr th:only-of-type {\n",
       "        vertical-align: middle;\n",
       "    }\n",
       "\n",
       "    .dataframe tbody tr th {\n",
       "        vertical-align: top;\n",
       "    }\n",
       "\n",
       "    .dataframe thead th {\n",
       "        text-align: right;\n",
       "    }\n",
       "</style>\n",
       "<table border=\"1\" class=\"dataframe\">\n",
       "  <thead>\n",
       "    <tr style=\"text-align: right;\">\n",
       "      <th></th>\n",
       "      <th>Metabolite</th>\n",
       "      <th>variable</th>\n",
       "      <th>value</th>\n",
       "    </tr>\n",
       "  </thead>\n",
       "  <tbody>\n",
       "    <tr>\n",
       "      <th>0</th>\n",
       "      <td>MDMA</td>\n",
       "      <td>Monday_norm</td>\n",
       "      <td>1.204687</td>\n",
       "    </tr>\n",
       "    <tr>\n",
       "      <th>1</th>\n",
       "      <td>amphetamine</td>\n",
       "      <td>Monday_norm</td>\n",
       "      <td>0.997251</td>\n",
       "    </tr>\n",
       "    <tr>\n",
       "      <th>2</th>\n",
       "      <td>cannabis</td>\n",
       "      <td>Monday_norm</td>\n",
       "      <td>1.070170</td>\n",
       "    </tr>\n",
       "    <tr>\n",
       "      <th>3</th>\n",
       "      <td>cocaine</td>\n",
       "      <td>Monday_norm</td>\n",
       "      <td>0.992751</td>\n",
       "    </tr>\n",
       "    <tr>\n",
       "      <th>4</th>\n",
       "      <td>ketamine</td>\n",
       "      <td>Monday_norm</td>\n",
       "      <td>1.111896</td>\n",
       "    </tr>\n",
       "    <tr>\n",
       "      <th>5</th>\n",
       "      <td>methamphetamine</td>\n",
       "      <td>Monday_norm</td>\n",
       "      <td>0.988892</td>\n",
       "    </tr>\n",
       "    <tr>\n",
       "      <th>6</th>\n",
       "      <td>MDMA</td>\n",
       "      <td>Tuesday_norm</td>\n",
       "      <td>0.752092</td>\n",
       "    </tr>\n",
       "    <tr>\n",
       "      <th>7</th>\n",
       "      <td>amphetamine</td>\n",
       "      <td>Tuesday_norm</td>\n",
       "      <td>1.013851</td>\n",
       "    </tr>\n",
       "    <tr>\n",
       "      <th>8</th>\n",
       "      <td>cannabis</td>\n",
       "      <td>Tuesday_norm</td>\n",
       "      <td>1.051550</td>\n",
       "    </tr>\n",
       "    <tr>\n",
       "      <th>9</th>\n",
       "      <td>cocaine</td>\n",
       "      <td>Tuesday_norm</td>\n",
       "      <td>0.846674</td>\n",
       "    </tr>\n",
       "    <tr>\n",
       "      <th>10</th>\n",
       "      <td>ketamine</td>\n",
       "      <td>Tuesday_norm</td>\n",
       "      <td>0.810355</td>\n",
       "    </tr>\n",
       "    <tr>\n",
       "      <th>11</th>\n",
       "      <td>methamphetamine</td>\n",
       "      <td>Tuesday_norm</td>\n",
       "      <td>0.978302</td>\n",
       "    </tr>\n",
       "    <tr>\n",
       "      <th>12</th>\n",
       "      <td>MDMA</td>\n",
       "      <td>Wednesday_norm</td>\n",
       "      <td>0.644811</td>\n",
       "    </tr>\n",
       "    <tr>\n",
       "      <th>13</th>\n",
       "      <td>amphetamine</td>\n",
       "      <td>Wednesday_norm</td>\n",
       "      <td>0.906644</td>\n",
       "    </tr>\n",
       "    <tr>\n",
       "      <th>14</th>\n",
       "      <td>cannabis</td>\n",
       "      <td>Wednesday_norm</td>\n",
       "      <td>0.989350</td>\n",
       "    </tr>\n",
       "    <tr>\n",
       "      <th>15</th>\n",
       "      <td>cocaine</td>\n",
       "      <td>Wednesday_norm</td>\n",
       "      <td>0.782710</td>\n",
       "    </tr>\n",
       "    <tr>\n",
       "      <th>16</th>\n",
       "      <td>ketamine</td>\n",
       "      <td>Wednesday_norm</td>\n",
       "      <td>0.947567</td>\n",
       "    </tr>\n",
       "    <tr>\n",
       "      <th>17</th>\n",
       "      <td>methamphetamine</td>\n",
       "      <td>Wednesday_norm</td>\n",
       "      <td>1.003385</td>\n",
       "    </tr>\n",
       "    <tr>\n",
       "      <th>18</th>\n",
       "      <td>MDMA</td>\n",
       "      <td>Thursday_norm</td>\n",
       "      <td>0.622320</td>\n",
       "    </tr>\n",
       "    <tr>\n",
       "      <th>19</th>\n",
       "      <td>amphetamine</td>\n",
       "      <td>Thursday_norm</td>\n",
       "      <td>0.969512</td>\n",
       "    </tr>\n",
       "    <tr>\n",
       "      <th>20</th>\n",
       "      <td>cannabis</td>\n",
       "      <td>Thursday_norm</td>\n",
       "      <td>1.012413</td>\n",
       "    </tr>\n",
       "    <tr>\n",
       "      <th>21</th>\n",
       "      <td>cocaine</td>\n",
       "      <td>Thursday_norm</td>\n",
       "      <td>0.828921</td>\n",
       "    </tr>\n",
       "    <tr>\n",
       "      <th>22</th>\n",
       "      <td>ketamine</td>\n",
       "      <td>Thursday_norm</td>\n",
       "      <td>0.927540</td>\n",
       "    </tr>\n",
       "    <tr>\n",
       "      <th>23</th>\n",
       "      <td>methamphetamine</td>\n",
       "      <td>Thursday_norm</td>\n",
       "      <td>0.971228</td>\n",
       "    </tr>\n",
       "    <tr>\n",
       "      <th>24</th>\n",
       "      <td>MDMA</td>\n",
       "      <td>Friday_norm</td>\n",
       "      <td>0.714455</td>\n",
       "    </tr>\n",
       "    <tr>\n",
       "      <th>25</th>\n",
       "      <td>amphetamine</td>\n",
       "      <td>Friday_norm</td>\n",
       "      <td>0.917768</td>\n",
       "    </tr>\n",
       "    <tr>\n",
       "      <th>26</th>\n",
       "      <td>cannabis</td>\n",
       "      <td>Friday_norm</td>\n",
       "      <td>0.971501</td>\n",
       "    </tr>\n",
       "    <tr>\n",
       "      <th>27</th>\n",
       "      <td>cocaine</td>\n",
       "      <td>Friday_norm</td>\n",
       "      <td>0.915576</td>\n",
       "    </tr>\n",
       "    <tr>\n",
       "      <th>28</th>\n",
       "      <td>ketamine</td>\n",
       "      <td>Friday_norm</td>\n",
       "      <td>0.869742</td>\n",
       "    </tr>\n",
       "    <tr>\n",
       "      <th>29</th>\n",
       "      <td>methamphetamine</td>\n",
       "      <td>Friday_norm</td>\n",
       "      <td>0.963784</td>\n",
       "    </tr>\n",
       "    <tr>\n",
       "      <th>30</th>\n",
       "      <td>MDMA</td>\n",
       "      <td>Saturday_norm</td>\n",
       "      <td>1.326989</td>\n",
       "    </tr>\n",
       "    <tr>\n",
       "      <th>31</th>\n",
       "      <td>amphetamine</td>\n",
       "      <td>Saturday_norm</td>\n",
       "      <td>1.061236</td>\n",
       "    </tr>\n",
       "    <tr>\n",
       "      <th>32</th>\n",
       "      <td>cannabis</td>\n",
       "      <td>Saturday_norm</td>\n",
       "      <td>0.978030</td>\n",
       "    </tr>\n",
       "    <tr>\n",
       "      <th>33</th>\n",
       "      <td>cocaine</td>\n",
       "      <td>Saturday_norm</td>\n",
       "      <td>1.275451</td>\n",
       "    </tr>\n",
       "    <tr>\n",
       "      <th>34</th>\n",
       "      <td>ketamine</td>\n",
       "      <td>Saturday_norm</td>\n",
       "      <td>1.038592</td>\n",
       "    </tr>\n",
       "    <tr>\n",
       "      <th>35</th>\n",
       "      <td>methamphetamine</td>\n",
       "      <td>Saturday_norm</td>\n",
       "      <td>1.019792</td>\n",
       "    </tr>\n",
       "    <tr>\n",
       "      <th>36</th>\n",
       "      <td>MDMA</td>\n",
       "      <td>Sunday_norm</td>\n",
       "      <td>1.732591</td>\n",
       "    </tr>\n",
       "    <tr>\n",
       "      <th>37</th>\n",
       "      <td>amphetamine</td>\n",
       "      <td>Sunday_norm</td>\n",
       "      <td>1.132556</td>\n",
       "    </tr>\n",
       "    <tr>\n",
       "      <th>38</th>\n",
       "      <td>cannabis</td>\n",
       "      <td>Sunday_norm</td>\n",
       "      <td>0.927003</td>\n",
       "    </tr>\n",
       "    <tr>\n",
       "      <th>39</th>\n",
       "      <td>cocaine</td>\n",
       "      <td>Sunday_norm</td>\n",
       "      <td>1.357303</td>\n",
       "    </tr>\n",
       "    <tr>\n",
       "      <th>40</th>\n",
       "      <td>ketamine</td>\n",
       "      <td>Sunday_norm</td>\n",
       "      <td>1.295521</td>\n",
       "    </tr>\n",
       "    <tr>\n",
       "      <th>41</th>\n",
       "      <td>methamphetamine</td>\n",
       "      <td>Sunday_norm</td>\n",
       "      <td>1.077305</td>\n",
       "    </tr>\n",
       "  </tbody>\n",
       "</table>\n",
       "</div>"
      ],
      "text/plain": [
       "         Metabolite        variable     value\n",
       "0              MDMA     Monday_norm  1.204687\n",
       "1       amphetamine     Monday_norm  0.997251\n",
       "2          cannabis     Monday_norm  1.070170\n",
       "3           cocaine     Monday_norm  0.992751\n",
       "4          ketamine     Monday_norm  1.111896\n",
       "5   methamphetamine     Monday_norm  0.988892\n",
       "6              MDMA    Tuesday_norm  0.752092\n",
       "7       amphetamine    Tuesday_norm  1.013851\n",
       "8          cannabis    Tuesday_norm  1.051550\n",
       "9           cocaine    Tuesday_norm  0.846674\n",
       "10         ketamine    Tuesday_norm  0.810355\n",
       "11  methamphetamine    Tuesday_norm  0.978302\n",
       "12             MDMA  Wednesday_norm  0.644811\n",
       "13      amphetamine  Wednesday_norm  0.906644\n",
       "14         cannabis  Wednesday_norm  0.989350\n",
       "15          cocaine  Wednesday_norm  0.782710\n",
       "16         ketamine  Wednesday_norm  0.947567\n",
       "17  methamphetamine  Wednesday_norm  1.003385\n",
       "18             MDMA   Thursday_norm  0.622320\n",
       "19      amphetamine   Thursday_norm  0.969512\n",
       "20         cannabis   Thursday_norm  1.012413\n",
       "21          cocaine   Thursday_norm  0.828921\n",
       "22         ketamine   Thursday_norm  0.927540\n",
       "23  methamphetamine   Thursday_norm  0.971228\n",
       "24             MDMA     Friday_norm  0.714455\n",
       "25      amphetamine     Friday_norm  0.917768\n",
       "26         cannabis     Friday_norm  0.971501\n",
       "27          cocaine     Friday_norm  0.915576\n",
       "28         ketamine     Friday_norm  0.869742\n",
       "29  methamphetamine     Friday_norm  0.963784\n",
       "30             MDMA   Saturday_norm  1.326989\n",
       "31      amphetamine   Saturday_norm  1.061236\n",
       "32         cannabis   Saturday_norm  0.978030\n",
       "33          cocaine   Saturday_norm  1.275451\n",
       "34         ketamine   Saturday_norm  1.038592\n",
       "35  methamphetamine   Saturday_norm  1.019792\n",
       "36             MDMA     Sunday_norm  1.732591\n",
       "37      amphetamine     Sunday_norm  1.132556\n",
       "38         cannabis     Sunday_norm  0.927003\n",
       "39          cocaine     Sunday_norm  1.357303\n",
       "40         ketamine     Sunday_norm  1.295521\n",
       "41  methamphetamine     Sunday_norm  1.077305"
      ]
     },
     "execution_count": 32,
     "metadata": {},
     "output_type": "execute_result"
    }
   ],
   "source": [
    "unique_drugs = df[\"Metabolite\"].unique()\n",
    "mean_day = df.groupby([\"Metabolite\"])[days_norm].mean()\n",
    "\n",
    "\n",
    "mean_day=mean_day.reset_index()\n",
    "mean_day=mean_day.melt(id_vars=\"Metabolite\", value_vars=[\"Monday_norm\",\"Tuesday_norm\", \"Wednesday_norm\",\"Thursday_norm\",\"Friday_norm\",\"Saturday_norm\",\"Sunday_norm\"])\n",
    "fig = px.line(mean_day, x=\"variable\", y=\"value\", color='Metabolite')\n",
    "fig.show()\n",
    "mean_day"
   ]
  },
  {
   "cell_type": "code",
   "execution_count": 13,
   "metadata": {
    "ExecuteTime": {
     "end_time": "2023-10-17T13:09:49.216350500Z",
     "start_time": "2023-10-17T13:09:48.984044600Z"
    },
    "collapsed": false
   },
   "outputs": [
    {
     "data": {
      "text/html": [
       "<div>\n",
       "<style scoped>\n",
       "    .dataframe tbody tr th:only-of-type {\n",
       "        vertical-align: middle;\n",
       "    }\n",
       "\n",
       "    .dataframe tbody tr th {\n",
       "        vertical-align: top;\n",
       "    }\n",
       "\n",
       "    .dataframe thead th {\n",
       "        text-align: right;\n",
       "    }\n",
       "</style>\n",
       "<table border=\"1\" class=\"dataframe\">\n",
       "  <thead>\n",
       "    <tr style=\"text-align: right;\">\n",
       "      <th></th>\n",
       "      <th>Monday_norm</th>\n",
       "      <th>Tuesday_norm</th>\n",
       "      <th>Wednesday_norm</th>\n",
       "      <th>Thursday_norm</th>\n",
       "      <th>Friday_norm</th>\n",
       "      <th>Saturday_norm</th>\n",
       "      <th>Sunday_norm</th>\n",
       "    </tr>\n",
       "    <tr>\n",
       "      <th>Country</th>\n",
       "      <th></th>\n",
       "      <th></th>\n",
       "      <th></th>\n",
       "      <th></th>\n",
       "      <th></th>\n",
       "      <th></th>\n",
       "      <th></th>\n",
       "    </tr>\n",
       "  </thead>\n",
       "  <tbody>\n",
       "    <tr>\n",
       "      <th>AT</th>\n",
       "      <td>0.834583</td>\n",
       "      <td>0.800770</td>\n",
       "      <td>0.801640</td>\n",
       "      <td>0.897556</td>\n",
       "      <td>1.020419</td>\n",
       "      <td>1.372799</td>\n",
       "      <td>1.272313</td>\n",
       "    </tr>\n",
       "    <tr>\n",
       "      <th>BE</th>\n",
       "      <td>1.259615</td>\n",
       "      <td>0.759600</td>\n",
       "      <td>0.805398</td>\n",
       "      <td>1.106368</td>\n",
       "      <td>1.085596</td>\n",
       "      <td>0.959708</td>\n",
       "      <td>1.023719</td>\n",
       "    </tr>\n",
       "    <tr>\n",
       "      <th>CH</th>\n",
       "      <td>0.836881</td>\n",
       "      <td>0.771210</td>\n",
       "      <td>0.981630</td>\n",
       "      <td>0.868014</td>\n",
       "      <td>1.132510</td>\n",
       "      <td>1.173634</td>\n",
       "      <td>1.236100</td>\n",
       "    </tr>\n",
       "    <tr>\n",
       "      <th>CY</th>\n",
       "      <td>1.193332</td>\n",
       "      <td>0.836799</td>\n",
       "      <td>1.043348</td>\n",
       "      <td>0.583932</td>\n",
       "      <td>0.596550</td>\n",
       "      <td>1.151703</td>\n",
       "      <td>1.594317</td>\n",
       "    </tr>\n",
       "    <tr>\n",
       "      <th>CZ</th>\n",
       "      <td>1.296235</td>\n",
       "      <td>0.900785</td>\n",
       "      <td>0.833661</td>\n",
       "      <td>1.011887</td>\n",
       "      <td>0.840723</td>\n",
       "      <td>1.010897</td>\n",
       "      <td>1.105847</td>\n",
       "    </tr>\n",
       "    <tr>\n",
       "      <th>DE</th>\n",
       "      <td>0.956449</td>\n",
       "      <td>0.799220</td>\n",
       "      <td>0.765600</td>\n",
       "      <td>0.884024</td>\n",
       "      <td>0.890669</td>\n",
       "      <td>1.293249</td>\n",
       "      <td>1.426105</td>\n",
       "    </tr>\n",
       "    <tr>\n",
       "      <th>DK</th>\n",
       "      <td>0.938349</td>\n",
       "      <td>0.678057</td>\n",
       "      <td>0.678026</td>\n",
       "      <td>0.625628</td>\n",
       "      <td>1.123025</td>\n",
       "      <td>1.589913</td>\n",
       "      <td>1.367004</td>\n",
       "    </tr>\n",
       "    <tr>\n",
       "      <th>EE</th>\n",
       "      <td>1.515688</td>\n",
       "      <td>1.160099</td>\n",
       "      <td>0.646007</td>\n",
       "      <td>0.773313</td>\n",
       "      <td>0.943133</td>\n",
       "      <td>0.790641</td>\n",
       "      <td>1.171095</td>\n",
       "    </tr>\n",
       "    <tr>\n",
       "      <th>ES</th>\n",
       "      <td>0.981540</td>\n",
       "      <td>0.893760</td>\n",
       "      <td>0.786936</td>\n",
       "      <td>0.819525</td>\n",
       "      <td>0.928093</td>\n",
       "      <td>1.306888</td>\n",
       "      <td>1.283247</td>\n",
       "    </tr>\n",
       "    <tr>\n",
       "      <th>FI</th>\n",
       "      <td>1.008887</td>\n",
       "      <td>0.927503</td>\n",
       "      <td>0.643290</td>\n",
       "      <td>0.727477</td>\n",
       "      <td>0.841720</td>\n",
       "      <td>1.297061</td>\n",
       "      <td>1.547835</td>\n",
       "    </tr>\n",
       "    <tr>\n",
       "      <th>GR</th>\n",
       "      <td>0.974709</td>\n",
       "      <td>0.888451</td>\n",
       "      <td>1.071642</td>\n",
       "      <td>1.013944</td>\n",
       "      <td>0.935667</td>\n",
       "      <td>1.000769</td>\n",
       "      <td>1.115107</td>\n",
       "    </tr>\n",
       "    <tr>\n",
       "      <th>HR</th>\n",
       "      <td>0.903462</td>\n",
       "      <td>0.742441</td>\n",
       "      <td>0.926668</td>\n",
       "      <td>0.549291</td>\n",
       "      <td>1.928064</td>\n",
       "      <td>1.071587</td>\n",
       "      <td>0.878487</td>\n",
       "    </tr>\n",
       "    <tr>\n",
       "      <th>IS</th>\n",
       "      <td>0.929674</td>\n",
       "      <td>0.991051</td>\n",
       "      <td>0.662995</td>\n",
       "      <td>0.731505</td>\n",
       "      <td>0.981472</td>\n",
       "      <td>1.421079</td>\n",
       "      <td>1.282185</td>\n",
       "    </tr>\n",
       "    <tr>\n",
       "      <th>IT</th>\n",
       "      <td>0.883842</td>\n",
       "      <td>0.904539</td>\n",
       "      <td>0.897116</td>\n",
       "      <td>1.001103</td>\n",
       "      <td>0.957600</td>\n",
       "      <td>1.204441</td>\n",
       "      <td>1.151321</td>\n",
       "    </tr>\n",
       "    <tr>\n",
       "      <th>LT</th>\n",
       "      <td>1.184333</td>\n",
       "      <td>0.771402</td>\n",
       "      <td>0.709009</td>\n",
       "      <td>0.752578</td>\n",
       "      <td>0.894655</td>\n",
       "      <td>1.211192</td>\n",
       "      <td>1.476765</td>\n",
       "    </tr>\n",
       "    <tr>\n",
       "      <th>LV</th>\n",
       "      <td>1.127920</td>\n",
       "      <td>0.614702</td>\n",
       "      <td>0.833838</td>\n",
       "      <td>0.748772</td>\n",
       "      <td>0.847627</td>\n",
       "      <td>1.250136</td>\n",
       "      <td>1.577055</td>\n",
       "    </tr>\n",
       "    <tr>\n",
       "      <th>NL</th>\n",
       "      <td>1.024392</td>\n",
       "      <td>0.866796</td>\n",
       "      <td>0.840089</td>\n",
       "      <td>0.865278</td>\n",
       "      <td>1.008907</td>\n",
       "      <td>1.154893</td>\n",
       "      <td>1.239620</td>\n",
       "    </tr>\n",
       "    <tr>\n",
       "      <th>PL</th>\n",
       "      <td>0.943998</td>\n",
       "      <td>0.770027</td>\n",
       "      <td>0.713173</td>\n",
       "      <td>1.122961</td>\n",
       "      <td>0.978938</td>\n",
       "      <td>1.269662</td>\n",
       "      <td>1.201485</td>\n",
       "    </tr>\n",
       "    <tr>\n",
       "      <th>PT</th>\n",
       "      <td>0.983091</td>\n",
       "      <td>0.758981</td>\n",
       "      <td>0.970428</td>\n",
       "      <td>1.019009</td>\n",
       "      <td>0.805815</td>\n",
       "      <td>1.162966</td>\n",
       "      <td>1.299740</td>\n",
       "    </tr>\n",
       "    <tr>\n",
       "      <th>SE</th>\n",
       "      <td>0.836921</td>\n",
       "      <td>0.581347</td>\n",
       "      <td>0.662110</td>\n",
       "      <td>0.599601</td>\n",
       "      <td>0.807810</td>\n",
       "      <td>1.784064</td>\n",
       "      <td>1.727979</td>\n",
       "    </tr>\n",
       "    <tr>\n",
       "      <th>SI</th>\n",
       "      <td>0.906204</td>\n",
       "      <td>0.844153</td>\n",
       "      <td>0.897994</td>\n",
       "      <td>0.911278</td>\n",
       "      <td>0.959912</td>\n",
       "      <td>1.342173</td>\n",
       "      <td>1.138275</td>\n",
       "    </tr>\n",
       "    <tr>\n",
       "      <th>SK</th>\n",
       "      <td>0.854052</td>\n",
       "      <td>0.673883</td>\n",
       "      <td>0.698150</td>\n",
       "      <td>0.874652</td>\n",
       "      <td>0.803713</td>\n",
       "      <td>1.787110</td>\n",
       "      <td>1.308397</td>\n",
       "    </tr>\n",
       "    <tr>\n",
       "      <th>TR</th>\n",
       "      <td>1.148763</td>\n",
       "      <td>0.812517</td>\n",
       "      <td>0.848993</td>\n",
       "      <td>0.985610</td>\n",
       "      <td>0.814685</td>\n",
       "      <td>1.130274</td>\n",
       "      <td>1.257212</td>\n",
       "    </tr>\n",
       "    <tr>\n",
       "      <th>mean</th>\n",
       "      <td>1.022736</td>\n",
       "      <td>0.815134</td>\n",
       "      <td>0.813815</td>\n",
       "      <td>0.846665</td>\n",
       "      <td>0.962057</td>\n",
       "      <td>1.249428</td>\n",
       "      <td>1.290487</td>\n",
       "    </tr>\n",
       "  </tbody>\n",
       "</table>\n",
       "</div>"
      ],
      "text/plain": [
       "         Monday_norm  Tuesday_norm  Wednesday_norm  Thursday_norm  \\\n",
       "Country                                                             \n",
       "AT          0.834583      0.800770        0.801640       0.897556   \n",
       "BE          1.259615      0.759600        0.805398       1.106368   \n",
       "CH          0.836881      0.771210        0.981630       0.868014   \n",
       "CY          1.193332      0.836799        1.043348       0.583932   \n",
       "CZ          1.296235      0.900785        0.833661       1.011887   \n",
       "DE          0.956449      0.799220        0.765600       0.884024   \n",
       "DK          0.938349      0.678057        0.678026       0.625628   \n",
       "EE          1.515688      1.160099        0.646007       0.773313   \n",
       "ES          0.981540      0.893760        0.786936       0.819525   \n",
       "FI          1.008887      0.927503        0.643290       0.727477   \n",
       "GR          0.974709      0.888451        1.071642       1.013944   \n",
       "HR          0.903462      0.742441        0.926668       0.549291   \n",
       "IS          0.929674      0.991051        0.662995       0.731505   \n",
       "IT          0.883842      0.904539        0.897116       1.001103   \n",
       "LT          1.184333      0.771402        0.709009       0.752578   \n",
       "LV          1.127920      0.614702        0.833838       0.748772   \n",
       "NL          1.024392      0.866796        0.840089       0.865278   \n",
       "PL          0.943998      0.770027        0.713173       1.122961   \n",
       "PT          0.983091      0.758981        0.970428       1.019009   \n",
       "SE          0.836921      0.581347        0.662110       0.599601   \n",
       "SI          0.906204      0.844153        0.897994       0.911278   \n",
       "SK          0.854052      0.673883        0.698150       0.874652   \n",
       "TR          1.148763      0.812517        0.848993       0.985610   \n",
       "mean        1.022736      0.815134        0.813815       0.846665   \n",
       "\n",
       "         Friday_norm  Saturday_norm  Sunday_norm  \n",
       "Country                                           \n",
       "AT          1.020419       1.372799     1.272313  \n",
       "BE          1.085596       0.959708     1.023719  \n",
       "CH          1.132510       1.173634     1.236100  \n",
       "CY          0.596550       1.151703     1.594317  \n",
       "CZ          0.840723       1.010897     1.105847  \n",
       "DE          0.890669       1.293249     1.426105  \n",
       "DK          1.123025       1.589913     1.367004  \n",
       "EE          0.943133       0.790641     1.171095  \n",
       "ES          0.928093       1.306888     1.283247  \n",
       "FI          0.841720       1.297061     1.547835  \n",
       "GR          0.935667       1.000769     1.115107  \n",
       "HR          1.928064       1.071587     0.878487  \n",
       "IS          0.981472       1.421079     1.282185  \n",
       "IT          0.957600       1.204441     1.151321  \n",
       "LT          0.894655       1.211192     1.476765  \n",
       "LV          0.847627       1.250136     1.577055  \n",
       "NL          1.008907       1.154893     1.239620  \n",
       "PL          0.978938       1.269662     1.201485  \n",
       "PT          0.805815       1.162966     1.299740  \n",
       "SE          0.807810       1.784064     1.727979  \n",
       "SI          0.959912       1.342173     1.138275  \n",
       "SK          0.803713       1.787110     1.308397  \n",
       "TR          0.814685       1.130274     1.257212  \n",
       "mean        0.962057       1.249428     1.290487  "
      ]
     },
     "execution_count": 13,
     "metadata": {},
     "output_type": "execute_result"
    }
   ],
   "source": [
    "mdma = df[(df[\"Metabolite\"] == \"cocaine\") & (df[\"Year\"] == 2022)]\n",
    "# group by country and compute the mean of the normalized values for each day\n",
    "country_mdma_norm = mdma.groupby(\"Country\")[days_norm].sum() / mdma.groupby(\"Country\")[days_norm].count()\n",
    "# add a mean row\n",
    "country_mdma_norm.loc[\"mean\"] = country_mdma_norm.mean()\n",
    "country_mdma_norm\n"
   ]
  },
  {
   "cell_type": "code",
   "execution_count": 15,
   "metadata": {},
   "outputs": [
    {
     "data": {
      "application/vnd.plotly.v1+json": {
       "config": {
        "plotlyServerURL": "https://plot.ly"
       },
       "data": [
        {
         "hovertemplate": "City=Agia Napa<br>variable=%{x}<br>value=%{y}<extra></extra>",
         "legendgroup": "Agia Napa",
         "line": {
          "color": "#636efa",
          "dash": "solid"
         },
         "marker": {
          "symbol": "circle"
         },
         "mode": "lines",
         "name": "Agia Napa",
         "orientation": "v",
         "showlegend": true,
         "type": "scatter",
         "x": [
          "Monday_norm",
          "Tuesday_norm",
          "Wednesday_norm",
          "Thursday_norm",
          "Friday_norm",
          "Saturday_norm",
          "Sunday_norm"
         ],
         "xaxis": "x",
         "y": [
          0.7012779552715654,
          1.3043130990415335,
          2.1309904153354635,
          1.5367412140575079,
          0.29073482428115016,
          0.860223642172524,
          0.17492012779552715
         ],
         "yaxis": "y"
        },
        {
         "hovertemplate": "City=Kapfenberg<br>variable=%{x}<br>value=%{y}<extra></extra>",
         "legendgroup": "Kapfenberg",
         "line": {
          "color": "#EF553B",
          "dash": "solid"
         },
         "marker": {
          "symbol": "circle"
         },
         "mode": "lines",
         "name": "Kapfenberg",
         "orientation": "v",
         "showlegend": true,
         "type": "scatter",
         "x": [
          "Monday_norm",
          "Tuesday_norm",
          "Wednesday_norm",
          "Thursday_norm",
          "Friday_norm",
          "Saturday_norm",
          "Sunday_norm"
         ],
         "xaxis": "x",
         "y": [
          0.9750102417042196,
          0.5309299467431381,
          1.3174928308070462,
          1.1528062269561654,
          1.2675133142154855,
          0.8803768947152806,
          0.8746415403523147
         ],
         "yaxis": "y"
        },
        {
         "hovertemplate": "City=Paphos<br>variable=%{x}<br>value=%{y}<extra></extra>",
         "legendgroup": "Paphos",
         "line": {
          "color": "#00cc96",
          "dash": "solid"
         },
         "marker": {
          "symbol": "circle"
         },
         "mode": "lines",
         "name": "Paphos",
         "orientation": "v",
         "showlegend": true,
         "type": "scatter",
         "x": [
          "Monday_norm",
          "Tuesday_norm",
          "Wednesday_norm",
          "Thursday_norm",
          "Friday_norm",
          "Saturday_norm",
          "Sunday_norm"
         ],
         "xaxis": "x",
         "y": [
          1.3619186046511627,
          1.48546511627907,
          1.313953488372093,
          1.431686046511628,
          0.7965116279069768,
          0.251453488372093,
          0.3619186046511628
         ],
         "yaxis": "y"
        },
        {
         "hovertemplate": "City=Salo<br>variable=%{x}<br>value=%{y}<extra></extra>",
         "legendgroup": "Salo",
         "line": {
          "color": "#ab63fa",
          "dash": "solid"
         },
         "marker": {
          "symbol": "circle"
         },
         "mode": "lines",
         "name": "Salo",
         "orientation": "v",
         "showlegend": true,
         "type": "scatter",
         "x": [
          "Monday_norm",
          "Tuesday_norm",
          "Wednesday_norm",
          "Thursday_norm",
          "Friday_norm",
          "Saturday_norm",
          "Sunday_norm"
         ],
         "xaxis": "x",
         "y": [
          0.7428376534788541,
          1.1012960436562074,
          1.030013642564802,
          1.1551841746248295,
          1.1650750341064118,
          1.0242155525238745,
          0.7813778990450204
         ],
         "yaxis": "y"
        }
       ],
       "layout": {
        "legend": {
         "title": {
          "text": "City"
         },
         "tracegroupgap": 0
        },
        "margin": {
         "t": 60
        },
        "template": {
         "data": {
          "bar": [
           {
            "error_x": {
             "color": "#2a3f5f"
            },
            "error_y": {
             "color": "#2a3f5f"
            },
            "marker": {
             "line": {
              "color": "#E5ECF6",
              "width": 0.5
             },
             "pattern": {
              "fillmode": "overlay",
              "size": 10,
              "solidity": 0.2
             }
            },
            "type": "bar"
           }
          ],
          "barpolar": [
           {
            "marker": {
             "line": {
              "color": "#E5ECF6",
              "width": 0.5
             },
             "pattern": {
              "fillmode": "overlay",
              "size": 10,
              "solidity": 0.2
             }
            },
            "type": "barpolar"
           }
          ],
          "carpet": [
           {
            "aaxis": {
             "endlinecolor": "#2a3f5f",
             "gridcolor": "white",
             "linecolor": "white",
             "minorgridcolor": "white",
             "startlinecolor": "#2a3f5f"
            },
            "baxis": {
             "endlinecolor": "#2a3f5f",
             "gridcolor": "white",
             "linecolor": "white",
             "minorgridcolor": "white",
             "startlinecolor": "#2a3f5f"
            },
            "type": "carpet"
           }
          ],
          "choropleth": [
           {
            "colorbar": {
             "outlinewidth": 0,
             "ticks": ""
            },
            "type": "choropleth"
           }
          ],
          "contour": [
           {
            "colorbar": {
             "outlinewidth": 0,
             "ticks": ""
            },
            "colorscale": [
             [
              0,
              "#0d0887"
             ],
             [
              0.1111111111111111,
              "#46039f"
             ],
             [
              0.2222222222222222,
              "#7201a8"
             ],
             [
              0.3333333333333333,
              "#9c179e"
             ],
             [
              0.4444444444444444,
              "#bd3786"
             ],
             [
              0.5555555555555556,
              "#d8576b"
             ],
             [
              0.6666666666666666,
              "#ed7953"
             ],
             [
              0.7777777777777778,
              "#fb9f3a"
             ],
             [
              0.8888888888888888,
              "#fdca26"
             ],
             [
              1,
              "#f0f921"
             ]
            ],
            "type": "contour"
           }
          ],
          "contourcarpet": [
           {
            "colorbar": {
             "outlinewidth": 0,
             "ticks": ""
            },
            "type": "contourcarpet"
           }
          ],
          "heatmap": [
           {
            "colorbar": {
             "outlinewidth": 0,
             "ticks": ""
            },
            "colorscale": [
             [
              0,
              "#0d0887"
             ],
             [
              0.1111111111111111,
              "#46039f"
             ],
             [
              0.2222222222222222,
              "#7201a8"
             ],
             [
              0.3333333333333333,
              "#9c179e"
             ],
             [
              0.4444444444444444,
              "#bd3786"
             ],
             [
              0.5555555555555556,
              "#d8576b"
             ],
             [
              0.6666666666666666,
              "#ed7953"
             ],
             [
              0.7777777777777778,
              "#fb9f3a"
             ],
             [
              0.8888888888888888,
              "#fdca26"
             ],
             [
              1,
              "#f0f921"
             ]
            ],
            "type": "heatmap"
           }
          ],
          "heatmapgl": [
           {
            "colorbar": {
             "outlinewidth": 0,
             "ticks": ""
            },
            "colorscale": [
             [
              0,
              "#0d0887"
             ],
             [
              0.1111111111111111,
              "#46039f"
             ],
             [
              0.2222222222222222,
              "#7201a8"
             ],
             [
              0.3333333333333333,
              "#9c179e"
             ],
             [
              0.4444444444444444,
              "#bd3786"
             ],
             [
              0.5555555555555556,
              "#d8576b"
             ],
             [
              0.6666666666666666,
              "#ed7953"
             ],
             [
              0.7777777777777778,
              "#fb9f3a"
             ],
             [
              0.8888888888888888,
              "#fdca26"
             ],
             [
              1,
              "#f0f921"
             ]
            ],
            "type": "heatmapgl"
           }
          ],
          "histogram": [
           {
            "marker": {
             "pattern": {
              "fillmode": "overlay",
              "size": 10,
              "solidity": 0.2
             }
            },
            "type": "histogram"
           }
          ],
          "histogram2d": [
           {
            "colorbar": {
             "outlinewidth": 0,
             "ticks": ""
            },
            "colorscale": [
             [
              0,
              "#0d0887"
             ],
             [
              0.1111111111111111,
              "#46039f"
             ],
             [
              0.2222222222222222,
              "#7201a8"
             ],
             [
              0.3333333333333333,
              "#9c179e"
             ],
             [
              0.4444444444444444,
              "#bd3786"
             ],
             [
              0.5555555555555556,
              "#d8576b"
             ],
             [
              0.6666666666666666,
              "#ed7953"
             ],
             [
              0.7777777777777778,
              "#fb9f3a"
             ],
             [
              0.8888888888888888,
              "#fdca26"
             ],
             [
              1,
              "#f0f921"
             ]
            ],
            "type": "histogram2d"
           }
          ],
          "histogram2dcontour": [
           {
            "colorbar": {
             "outlinewidth": 0,
             "ticks": ""
            },
            "colorscale": [
             [
              0,
              "#0d0887"
             ],
             [
              0.1111111111111111,
              "#46039f"
             ],
             [
              0.2222222222222222,
              "#7201a8"
             ],
             [
              0.3333333333333333,
              "#9c179e"
             ],
             [
              0.4444444444444444,
              "#bd3786"
             ],
             [
              0.5555555555555556,
              "#d8576b"
             ],
             [
              0.6666666666666666,
              "#ed7953"
             ],
             [
              0.7777777777777778,
              "#fb9f3a"
             ],
             [
              0.8888888888888888,
              "#fdca26"
             ],
             [
              1,
              "#f0f921"
             ]
            ],
            "type": "histogram2dcontour"
           }
          ],
          "mesh3d": [
           {
            "colorbar": {
             "outlinewidth": 0,
             "ticks": ""
            },
            "type": "mesh3d"
           }
          ],
          "parcoords": [
           {
            "line": {
             "colorbar": {
              "outlinewidth": 0,
              "ticks": ""
             }
            },
            "type": "parcoords"
           }
          ],
          "pie": [
           {
            "automargin": true,
            "type": "pie"
           }
          ],
          "scatter": [
           {
            "fillpattern": {
             "fillmode": "overlay",
             "size": 10,
             "solidity": 0.2
            },
            "type": "scatter"
           }
          ],
          "scatter3d": [
           {
            "line": {
             "colorbar": {
              "outlinewidth": 0,
              "ticks": ""
             }
            },
            "marker": {
             "colorbar": {
              "outlinewidth": 0,
              "ticks": ""
             }
            },
            "type": "scatter3d"
           }
          ],
          "scattercarpet": [
           {
            "marker": {
             "colorbar": {
              "outlinewidth": 0,
              "ticks": ""
             }
            },
            "type": "scattercarpet"
           }
          ],
          "scattergeo": [
           {
            "marker": {
             "colorbar": {
              "outlinewidth": 0,
              "ticks": ""
             }
            },
            "type": "scattergeo"
           }
          ],
          "scattergl": [
           {
            "marker": {
             "colorbar": {
              "outlinewidth": 0,
              "ticks": ""
             }
            },
            "type": "scattergl"
           }
          ],
          "scattermapbox": [
           {
            "marker": {
             "colorbar": {
              "outlinewidth": 0,
              "ticks": ""
             }
            },
            "type": "scattermapbox"
           }
          ],
          "scatterpolar": [
           {
            "marker": {
             "colorbar": {
              "outlinewidth": 0,
              "ticks": ""
             }
            },
            "type": "scatterpolar"
           }
          ],
          "scatterpolargl": [
           {
            "marker": {
             "colorbar": {
              "outlinewidth": 0,
              "ticks": ""
             }
            },
            "type": "scatterpolargl"
           }
          ],
          "scatterternary": [
           {
            "marker": {
             "colorbar": {
              "outlinewidth": 0,
              "ticks": ""
             }
            },
            "type": "scatterternary"
           }
          ],
          "surface": [
           {
            "colorbar": {
             "outlinewidth": 0,
             "ticks": ""
            },
            "colorscale": [
             [
              0,
              "#0d0887"
             ],
             [
              0.1111111111111111,
              "#46039f"
             ],
             [
              0.2222222222222222,
              "#7201a8"
             ],
             [
              0.3333333333333333,
              "#9c179e"
             ],
             [
              0.4444444444444444,
              "#bd3786"
             ],
             [
              0.5555555555555556,
              "#d8576b"
             ],
             [
              0.6666666666666666,
              "#ed7953"
             ],
             [
              0.7777777777777778,
              "#fb9f3a"
             ],
             [
              0.8888888888888888,
              "#fdca26"
             ],
             [
              1,
              "#f0f921"
             ]
            ],
            "type": "surface"
           }
          ],
          "table": [
           {
            "cells": {
             "fill": {
              "color": "#EBF0F8"
             },
             "line": {
              "color": "white"
             }
            },
            "header": {
             "fill": {
              "color": "#C8D4E3"
             },
             "line": {
              "color": "white"
             }
            },
            "type": "table"
           }
          ]
         },
         "layout": {
          "annotationdefaults": {
           "arrowcolor": "#2a3f5f",
           "arrowhead": 0,
           "arrowwidth": 1
          },
          "autotypenumbers": "strict",
          "coloraxis": {
           "colorbar": {
            "outlinewidth": 0,
            "ticks": ""
           }
          },
          "colorscale": {
           "diverging": [
            [
             0,
             "#8e0152"
            ],
            [
             0.1,
             "#c51b7d"
            ],
            [
             0.2,
             "#de77ae"
            ],
            [
             0.3,
             "#f1b6da"
            ],
            [
             0.4,
             "#fde0ef"
            ],
            [
             0.5,
             "#f7f7f7"
            ],
            [
             0.6,
             "#e6f5d0"
            ],
            [
             0.7,
             "#b8e186"
            ],
            [
             0.8,
             "#7fbc41"
            ],
            [
             0.9,
             "#4d9221"
            ],
            [
             1,
             "#276419"
            ]
           ],
           "sequential": [
            [
             0,
             "#0d0887"
            ],
            [
             0.1111111111111111,
             "#46039f"
            ],
            [
             0.2222222222222222,
             "#7201a8"
            ],
            [
             0.3333333333333333,
             "#9c179e"
            ],
            [
             0.4444444444444444,
             "#bd3786"
            ],
            [
             0.5555555555555556,
             "#d8576b"
            ],
            [
             0.6666666666666666,
             "#ed7953"
            ],
            [
             0.7777777777777778,
             "#fb9f3a"
            ],
            [
             0.8888888888888888,
             "#fdca26"
            ],
            [
             1,
             "#f0f921"
            ]
           ],
           "sequentialminus": [
            [
             0,
             "#0d0887"
            ],
            [
             0.1111111111111111,
             "#46039f"
            ],
            [
             0.2222222222222222,
             "#7201a8"
            ],
            [
             0.3333333333333333,
             "#9c179e"
            ],
            [
             0.4444444444444444,
             "#bd3786"
            ],
            [
             0.5555555555555556,
             "#d8576b"
            ],
            [
             0.6666666666666666,
             "#ed7953"
            ],
            [
             0.7777777777777778,
             "#fb9f3a"
            ],
            [
             0.8888888888888888,
             "#fdca26"
            ],
            [
             1,
             "#f0f921"
            ]
           ]
          },
          "colorway": [
           "#636efa",
           "#EF553B",
           "#00cc96",
           "#ab63fa",
           "#FFA15A",
           "#19d3f3",
           "#FF6692",
           "#B6E880",
           "#FF97FF",
           "#FECB52"
          ],
          "font": {
           "color": "#2a3f5f"
          },
          "geo": {
           "bgcolor": "white",
           "lakecolor": "white",
           "landcolor": "#E5ECF6",
           "showlakes": true,
           "showland": true,
           "subunitcolor": "white"
          },
          "hoverlabel": {
           "align": "left"
          },
          "hovermode": "closest",
          "mapbox": {
           "style": "light"
          },
          "paper_bgcolor": "white",
          "plot_bgcolor": "#E5ECF6",
          "polar": {
           "angularaxis": {
            "gridcolor": "white",
            "linecolor": "white",
            "ticks": ""
           },
           "bgcolor": "#E5ECF6",
           "radialaxis": {
            "gridcolor": "white",
            "linecolor": "white",
            "ticks": ""
           }
          },
          "scene": {
           "xaxis": {
            "backgroundcolor": "#E5ECF6",
            "gridcolor": "white",
            "gridwidth": 2,
            "linecolor": "white",
            "showbackground": true,
            "ticks": "",
            "zerolinecolor": "white"
           },
           "yaxis": {
            "backgroundcolor": "#E5ECF6",
            "gridcolor": "white",
            "gridwidth": 2,
            "linecolor": "white",
            "showbackground": true,
            "ticks": "",
            "zerolinecolor": "white"
           },
           "zaxis": {
            "backgroundcolor": "#E5ECF6",
            "gridcolor": "white",
            "gridwidth": 2,
            "linecolor": "white",
            "showbackground": true,
            "ticks": "",
            "zerolinecolor": "white"
           }
          },
          "shapedefaults": {
           "line": {
            "color": "#2a3f5f"
           }
          },
          "ternary": {
           "aaxis": {
            "gridcolor": "white",
            "linecolor": "white",
            "ticks": ""
           },
           "baxis": {
            "gridcolor": "white",
            "linecolor": "white",
            "ticks": ""
           },
           "bgcolor": "#E5ECF6",
           "caxis": {
            "gridcolor": "white",
            "linecolor": "white",
            "ticks": ""
           }
          },
          "title": {
           "x": 0.05
          },
          "xaxis": {
           "automargin": true,
           "gridcolor": "white",
           "linecolor": "white",
           "ticks": "",
           "title": {
            "standoff": 15
           },
           "zerolinecolor": "white",
           "zerolinewidth": 2
          },
          "yaxis": {
           "automargin": true,
           "gridcolor": "white",
           "linecolor": "white",
           "ticks": "",
           "title": {
            "standoff": 15
           },
           "zerolinecolor": "white",
           "zerolinewidth": 2
          }
         }
        },
        "xaxis": {
         "anchor": "y",
         "domain": [
          0,
          1
         ],
         "title": {
          "text": "variable"
         }
        },
        "yaxis": {
         "anchor": "x",
         "domain": [
          0,
          1
         ],
         "title": {
          "text": "value"
         }
        }
       }
      }
     },
     "metadata": {},
     "output_type": "display_data"
    }
   ],
   "source": [
    "# compute correlation between countries and the mean\n",
    "corr = country_mdma_norm.corrwith(country_mdma_norm.loc[\"mean\"], axis=1)\n",
    "corr = corr.sort_values(ascending=True)\n",
    "mdma = df[(df[\"Metabolite\"] == \"amphetamine\") & (df[\"Year\"] == 2022)]\n",
    "# group by city and compute the mean of the normalized values for each day\n",
    "mdma = mdma.groupby(\"City\")[days_norm].sum() / mdma.groupby(\"City\")[days_norm].count()\n",
    "mdma.loc[\"mean\"] = mdma.mean()\n",
    "corr_city = mdma.corrwith(mdma.loc[\"mean\"], axis=1)\n",
    "corr_city = corr_city.sort_values(ascending=True)\n",
    "\n",
    "mdma.reset_index(inplace=True)\n",
    "\n",
    "top4=mdma[mdma[\"City\"].isin(corr_city.index[:4])]\n",
    "top4=top4.melt(id_vars=\"City\", value_vars=[\"Monday_norm\",\"Tuesday_norm\", \"Wednesday_norm\",\"Thursday_norm\",\"Friday_norm\",\"Saturday_norm\",\"Sunday_norm\"])\n",
    "\n",
    "import plotly.express as px\n",
    "\n",
    "top4\n",
    "fig = px.line(top4, x=\"variable\", y=\"value\", color='City')\n",
    "fig.show()"
   ]
  },
  {
   "cell_type": "code",
   "execution_count": 16,
   "metadata": {},
   "outputs": [
    {
     "data": {
      "text/html": [
       "<div>\n",
       "<style scoped>\n",
       "    .dataframe tbody tr th:only-of-type {\n",
       "        vertical-align: middle;\n",
       "    }\n",
       "\n",
       "    .dataframe tbody tr th {\n",
       "        vertical-align: top;\n",
       "    }\n",
       "\n",
       "    .dataframe thead th {\n",
       "        text-align: right;\n",
       "    }\n",
       "</style>\n",
       "<table border=\"1\" class=\"dataframe\">\n",
       "  <thead>\n",
       "    <tr style=\"text-align: right;\">\n",
       "      <th></th>\n",
       "      <th>City</th>\n",
       "      <th>variable</th>\n",
       "      <th>value</th>\n",
       "    </tr>\n",
       "  </thead>\n",
       "  <tbody>\n",
       "    <tr>\n",
       "      <th>0</th>\n",
       "      <td>Agia Napa</td>\n",
       "      <td>Monday_norm</td>\n",
       "      <td>0.701278</td>\n",
       "    </tr>\n",
       "    <tr>\n",
       "      <th>1</th>\n",
       "      <td>Kapfenberg</td>\n",
       "      <td>Monday_norm</td>\n",
       "      <td>0.975010</td>\n",
       "    </tr>\n",
       "    <tr>\n",
       "      <th>2</th>\n",
       "      <td>Paphos</td>\n",
       "      <td>Monday_norm</td>\n",
       "      <td>1.361919</td>\n",
       "    </tr>\n",
       "    <tr>\n",
       "      <th>3</th>\n",
       "      <td>Salo</td>\n",
       "      <td>Monday_norm</td>\n",
       "      <td>0.742838</td>\n",
       "    </tr>\n",
       "    <tr>\n",
       "      <th>4</th>\n",
       "      <td>Agia Napa</td>\n",
       "      <td>Tuesday_norm</td>\n",
       "      <td>1.304313</td>\n",
       "    </tr>\n",
       "    <tr>\n",
       "      <th>5</th>\n",
       "      <td>Kapfenberg</td>\n",
       "      <td>Tuesday_norm</td>\n",
       "      <td>0.530930</td>\n",
       "    </tr>\n",
       "    <tr>\n",
       "      <th>6</th>\n",
       "      <td>Paphos</td>\n",
       "      <td>Tuesday_norm</td>\n",
       "      <td>1.485465</td>\n",
       "    </tr>\n",
       "    <tr>\n",
       "      <th>7</th>\n",
       "      <td>Salo</td>\n",
       "      <td>Tuesday_norm</td>\n",
       "      <td>1.101296</td>\n",
       "    </tr>\n",
       "    <tr>\n",
       "      <th>8</th>\n",
       "      <td>Agia Napa</td>\n",
       "      <td>Wednesday_norm</td>\n",
       "      <td>2.130990</td>\n",
       "    </tr>\n",
       "    <tr>\n",
       "      <th>9</th>\n",
       "      <td>Kapfenberg</td>\n",
       "      <td>Wednesday_norm</td>\n",
       "      <td>1.317493</td>\n",
       "    </tr>\n",
       "    <tr>\n",
       "      <th>10</th>\n",
       "      <td>Paphos</td>\n",
       "      <td>Wednesday_norm</td>\n",
       "      <td>1.313953</td>\n",
       "    </tr>\n",
       "    <tr>\n",
       "      <th>11</th>\n",
       "      <td>Salo</td>\n",
       "      <td>Wednesday_norm</td>\n",
       "      <td>1.030014</td>\n",
       "    </tr>\n",
       "    <tr>\n",
       "      <th>12</th>\n",
       "      <td>Agia Napa</td>\n",
       "      <td>Thursday_norm</td>\n",
       "      <td>1.536741</td>\n",
       "    </tr>\n",
       "    <tr>\n",
       "      <th>13</th>\n",
       "      <td>Kapfenberg</td>\n",
       "      <td>Thursday_norm</td>\n",
       "      <td>1.152806</td>\n",
       "    </tr>\n",
       "    <tr>\n",
       "      <th>14</th>\n",
       "      <td>Paphos</td>\n",
       "      <td>Thursday_norm</td>\n",
       "      <td>1.431686</td>\n",
       "    </tr>\n",
       "    <tr>\n",
       "      <th>15</th>\n",
       "      <td>Salo</td>\n",
       "      <td>Thursday_norm</td>\n",
       "      <td>1.155184</td>\n",
       "    </tr>\n",
       "    <tr>\n",
       "      <th>16</th>\n",
       "      <td>Agia Napa</td>\n",
       "      <td>Friday_norm</td>\n",
       "      <td>0.290735</td>\n",
       "    </tr>\n",
       "    <tr>\n",
       "      <th>17</th>\n",
       "      <td>Kapfenberg</td>\n",
       "      <td>Friday_norm</td>\n",
       "      <td>1.267513</td>\n",
       "    </tr>\n",
       "    <tr>\n",
       "      <th>18</th>\n",
       "      <td>Paphos</td>\n",
       "      <td>Friday_norm</td>\n",
       "      <td>0.796512</td>\n",
       "    </tr>\n",
       "    <tr>\n",
       "      <th>19</th>\n",
       "      <td>Salo</td>\n",
       "      <td>Friday_norm</td>\n",
       "      <td>1.165075</td>\n",
       "    </tr>\n",
       "    <tr>\n",
       "      <th>20</th>\n",
       "      <td>Agia Napa</td>\n",
       "      <td>Saturday_norm</td>\n",
       "      <td>0.860224</td>\n",
       "    </tr>\n",
       "    <tr>\n",
       "      <th>21</th>\n",
       "      <td>Kapfenberg</td>\n",
       "      <td>Saturday_norm</td>\n",
       "      <td>0.880377</td>\n",
       "    </tr>\n",
       "    <tr>\n",
       "      <th>22</th>\n",
       "      <td>Paphos</td>\n",
       "      <td>Saturday_norm</td>\n",
       "      <td>0.251453</td>\n",
       "    </tr>\n",
       "    <tr>\n",
       "      <th>23</th>\n",
       "      <td>Salo</td>\n",
       "      <td>Saturday_norm</td>\n",
       "      <td>1.024216</td>\n",
       "    </tr>\n",
       "    <tr>\n",
       "      <th>24</th>\n",
       "      <td>Agia Napa</td>\n",
       "      <td>Sunday_norm</td>\n",
       "      <td>0.174920</td>\n",
       "    </tr>\n",
       "    <tr>\n",
       "      <th>25</th>\n",
       "      <td>Kapfenberg</td>\n",
       "      <td>Sunday_norm</td>\n",
       "      <td>0.874642</td>\n",
       "    </tr>\n",
       "    <tr>\n",
       "      <th>26</th>\n",
       "      <td>Paphos</td>\n",
       "      <td>Sunday_norm</td>\n",
       "      <td>0.361919</td>\n",
       "    </tr>\n",
       "    <tr>\n",
       "      <th>27</th>\n",
       "      <td>Salo</td>\n",
       "      <td>Sunday_norm</td>\n",
       "      <td>0.781378</td>\n",
       "    </tr>\n",
       "  </tbody>\n",
       "</table>\n",
       "</div>"
      ],
      "text/plain": [
       "          City        variable     value\n",
       "0    Agia Napa     Monday_norm  0.701278\n",
       "1   Kapfenberg     Monday_norm  0.975010\n",
       "2       Paphos     Monday_norm  1.361919\n",
       "3         Salo     Monday_norm  0.742838\n",
       "4    Agia Napa    Tuesday_norm  1.304313\n",
       "5   Kapfenberg    Tuesday_norm  0.530930\n",
       "6       Paphos    Tuesday_norm  1.485465\n",
       "7         Salo    Tuesday_norm  1.101296\n",
       "8    Agia Napa  Wednesday_norm  2.130990\n",
       "9   Kapfenberg  Wednesday_norm  1.317493\n",
       "10      Paphos  Wednesday_norm  1.313953\n",
       "11        Salo  Wednesday_norm  1.030014\n",
       "12   Agia Napa   Thursday_norm  1.536741\n",
       "13  Kapfenberg   Thursday_norm  1.152806\n",
       "14      Paphos   Thursday_norm  1.431686\n",
       "15        Salo   Thursday_norm  1.155184\n",
       "16   Agia Napa     Friday_norm  0.290735\n",
       "17  Kapfenberg     Friday_norm  1.267513\n",
       "18      Paphos     Friday_norm  0.796512\n",
       "19        Salo     Friday_norm  1.165075\n",
       "20   Agia Napa   Saturday_norm  0.860224\n",
       "21  Kapfenberg   Saturday_norm  0.880377\n",
       "22      Paphos   Saturday_norm  0.251453\n",
       "23        Salo   Saturday_norm  1.024216\n",
       "24   Agia Napa     Sunday_norm  0.174920\n",
       "25  Kapfenberg     Sunday_norm  0.874642\n",
       "26      Paphos     Sunday_norm  0.361919\n",
       "27        Salo     Sunday_norm  0.781378"
      ]
     },
     "execution_count": 16,
     "metadata": {},
     "output_type": "execute_result"
    }
   ],
   "source": [
    "top4"
   ]
  },
  {
   "cell_type": "code",
   "execution_count": 13,
   "metadata": {},
   "outputs": [
    {
     "data": {
      "text/plain": [
       "Index(['Year', 'Metabolite', 'Site ID', 'Country', 'City', 'Wednesday',\n",
       "       'Thursday', 'Friday', 'Saturday', 'Sunday', 'Monday', 'Tuesday',\n",
       "       'Weekday mean', 'Weekend mean', 'Daily mean', 'Monday_norm',\n",
       "       'Tuesday_norm', 'Wednesday_norm', 'Thursday_norm', 'Friday_norm',\n",
       "       'Saturday_norm', 'Sunday_norm'],\n",
       "      dtype='object')"
      ]
     },
     "execution_count": 13,
     "metadata": {},
     "output_type": "execute_result"
    }
   ],
   "source": [
    "mdma.columns"
   ]
  },
  {
   "cell_type": "code",
   "execution_count": 8,
   "metadata": {},
   "outputs": [
    {
     "data": {
      "text/plain": [
       "['Monday', 'Tuesday', 'Wednesday', 'Thursday', 'Friday', 'Saturday', 'Sunday']"
      ]
     },
     "execution_count": 8,
     "metadata": {},
     "output_type": "execute_result"
    }
   ],
   "source": [
    "days"
   ]
  },
  {
   "cell_type": "code",
   "execution_count": 9,
   "metadata": {},
   "outputs": [
    {
     "data": {
      "text/html": [
       "<div>\n",
       "<style scoped>\n",
       "    .dataframe tbody tr th:only-of-type {\n",
       "        vertical-align: middle;\n",
       "    }\n",
       "\n",
       "    .dataframe tbody tr th {\n",
       "        vertical-align: top;\n",
       "    }\n",
       "\n",
       "    .dataframe thead th {\n",
       "        text-align: right;\n",
       "    }\n",
       "</style>\n",
       "<table border=\"1\" class=\"dataframe\">\n",
       "  <thead>\n",
       "    <tr style=\"text-align: right;\">\n",
       "      <th></th>\n",
       "      <th>Monday_norm</th>\n",
       "      <th>Tuesday_norm</th>\n",
       "      <th>Wednesday_norm</th>\n",
       "      <th>Thursday_norm</th>\n",
       "      <th>Friday_norm</th>\n",
       "      <th>Saturday_norm</th>\n",
       "      <th>Sunday_norm</th>\n",
       "    </tr>\n",
       "    <tr>\n",
       "      <th>Country</th>\n",
       "      <th></th>\n",
       "      <th></th>\n",
       "      <th></th>\n",
       "      <th></th>\n",
       "      <th></th>\n",
       "      <th></th>\n",
       "      <th></th>\n",
       "    </tr>\n",
       "  </thead>\n",
       "  <tbody>\n",
       "    <tr>\n",
       "      <th>AT</th>\n",
       "      <td>1.210836</td>\n",
       "      <td>0.739498</td>\n",
       "      <td>0.608660</td>\n",
       "      <td>0.572004</td>\n",
       "      <td>0.825945</td>\n",
       "      <td>1.356938</td>\n",
       "      <td>1.684743</td>\n",
       "    </tr>\n",
       "    <tr>\n",
       "      <th>BE</th>\n",
       "      <td>1.525692</td>\n",
       "      <td>0.728789</td>\n",
       "      <td>0.596782</td>\n",
       "      <td>0.870902</td>\n",
       "      <td>0.593435</td>\n",
       "      <td>0.912493</td>\n",
       "      <td>1.772020</td>\n",
       "    </tr>\n",
       "    <tr>\n",
       "      <th>CH</th>\n",
       "      <td>0.992179</td>\n",
       "      <td>0.528731</td>\n",
       "      <td>0.511153</td>\n",
       "      <td>0.414677</td>\n",
       "      <td>0.426954</td>\n",
       "      <td>1.786197</td>\n",
       "      <td>2.340741</td>\n",
       "    </tr>\n",
       "    <tr>\n",
       "      <th>CY</th>\n",
       "      <td>2.010156</td>\n",
       "      <td>0.875448</td>\n",
       "      <td>0.677294</td>\n",
       "      <td>0.445812</td>\n",
       "      <td>0.394409</td>\n",
       "      <td>0.839241</td>\n",
       "      <td>1.763240</td>\n",
       "    </tr>\n",
       "    <tr>\n",
       "      <th>CZ</th>\n",
       "      <td>1.361120</td>\n",
       "      <td>1.152836</td>\n",
       "      <td>0.905116</td>\n",
       "      <td>0.735128</td>\n",
       "      <td>0.850470</td>\n",
       "      <td>0.843122</td>\n",
       "      <td>1.152603</td>\n",
       "    </tr>\n",
       "    <tr>\n",
       "      <th>DE</th>\n",
       "      <td>1.414594</td>\n",
       "      <td>0.670768</td>\n",
       "      <td>0.475508</td>\n",
       "      <td>0.460836</td>\n",
       "      <td>0.429411</td>\n",
       "      <td>1.190461</td>\n",
       "      <td>2.333565</td>\n",
       "    </tr>\n",
       "    <tr>\n",
       "      <th>DK</th>\n",
       "      <td>1.326838</td>\n",
       "      <td>0.502222</td>\n",
       "      <td>0.376752</td>\n",
       "      <td>0.345299</td>\n",
       "      <td>0.522051</td>\n",
       "      <td>1.646496</td>\n",
       "      <td>2.279316</td>\n",
       "    </tr>\n",
       "    <tr>\n",
       "      <th>EE</th>\n",
       "      <td>1.482514</td>\n",
       "      <td>1.229560</td>\n",
       "      <td>0.674158</td>\n",
       "      <td>0.682040</td>\n",
       "      <td>0.706380</td>\n",
       "      <td>0.886848</td>\n",
       "      <td>1.335977</td>\n",
       "    </tr>\n",
       "    <tr>\n",
       "      <th>ES</th>\n",
       "      <td>1.203934</td>\n",
       "      <td>0.800866</td>\n",
       "      <td>0.526887</td>\n",
       "      <td>0.545500</td>\n",
       "      <td>0.810079</td>\n",
       "      <td>1.186510</td>\n",
       "      <td>1.926171</td>\n",
       "    </tr>\n",
       "    <tr>\n",
       "      <th>FI</th>\n",
       "      <td>0.962136</td>\n",
       "      <td>0.670909</td>\n",
       "      <td>0.721571</td>\n",
       "      <td>0.763900</td>\n",
       "      <td>0.823057</td>\n",
       "      <td>1.433191</td>\n",
       "      <td>1.624331</td>\n",
       "    </tr>\n",
       "    <tr>\n",
       "      <th>GR</th>\n",
       "      <td>1.192469</td>\n",
       "      <td>1.167364</td>\n",
       "      <td>0.196653</td>\n",
       "      <td>1.351464</td>\n",
       "      <td>0.941423</td>\n",
       "      <td>1.000000</td>\n",
       "      <td>1.158996</td>\n",
       "    </tr>\n",
       "    <tr>\n",
       "      <th>HR</th>\n",
       "      <td>0.909903</td>\n",
       "      <td>0.657856</td>\n",
       "      <td>0.620998</td>\n",
       "      <td>0.374535</td>\n",
       "      <td>2.426657</td>\n",
       "      <td>1.618764</td>\n",
       "      <td>0.391660</td>\n",
       "    </tr>\n",
       "    <tr>\n",
       "      <th>IS</th>\n",
       "      <td>0.875443</td>\n",
       "      <td>1.090380</td>\n",
       "      <td>0.376962</td>\n",
       "      <td>1.038734</td>\n",
       "      <td>0.529873</td>\n",
       "      <td>1.453165</td>\n",
       "      <td>1.634684</td>\n",
       "    </tr>\n",
       "    <tr>\n",
       "      <th>IT</th>\n",
       "      <td>0.858407</td>\n",
       "      <td>0.575221</td>\n",
       "      <td>0.569322</td>\n",
       "      <td>0.884956</td>\n",
       "      <td>0.646018</td>\n",
       "      <td>1.896755</td>\n",
       "      <td>1.578171</td>\n",
       "    </tr>\n",
       "    <tr>\n",
       "      <th>LT</th>\n",
       "      <td>1.439891</td>\n",
       "      <td>0.801289</td>\n",
       "      <td>0.540501</td>\n",
       "      <td>0.463215</td>\n",
       "      <td>0.453414</td>\n",
       "      <td>1.237907</td>\n",
       "      <td>2.064230</td>\n",
       "    </tr>\n",
       "    <tr>\n",
       "      <th>LV</th>\n",
       "      <td>1.299645</td>\n",
       "      <td>0.703605</td>\n",
       "      <td>0.686761</td>\n",
       "      <td>0.595745</td>\n",
       "      <td>0.617908</td>\n",
       "      <td>1.361407</td>\n",
       "      <td>1.733747</td>\n",
       "    </tr>\n",
       "    <tr>\n",
       "      <th>NL</th>\n",
       "      <td>1.487874</td>\n",
       "      <td>0.873814</td>\n",
       "      <td>0.602270</td>\n",
       "      <td>0.458606</td>\n",
       "      <td>0.590991</td>\n",
       "      <td>1.119639</td>\n",
       "      <td>1.866911</td>\n",
       "    </tr>\n",
       "    <tr>\n",
       "      <th>PT</th>\n",
       "      <td>1.571568</td>\n",
       "      <td>0.815781</td>\n",
       "      <td>0.443972</td>\n",
       "      <td>0.369271</td>\n",
       "      <td>0.445152</td>\n",
       "      <td>1.109140</td>\n",
       "      <td>2.244398</td>\n",
       "    </tr>\n",
       "    <tr>\n",
       "      <th>SE</th>\n",
       "      <td>1.108921</td>\n",
       "      <td>0.463479</td>\n",
       "      <td>0.992927</td>\n",
       "      <td>0.994778</td>\n",
       "      <td>0.789534</td>\n",
       "      <td>1.105269</td>\n",
       "      <td>1.542853</td>\n",
       "    </tr>\n",
       "    <tr>\n",
       "      <th>SI</th>\n",
       "      <td>1.184240</td>\n",
       "      <td>0.855244</td>\n",
       "      <td>0.668203</td>\n",
       "      <td>0.511766</td>\n",
       "      <td>0.576297</td>\n",
       "      <td>1.563326</td>\n",
       "      <td>1.637940</td>\n",
       "    </tr>\n",
       "    <tr>\n",
       "      <th>SK</th>\n",
       "      <td>0.387950</td>\n",
       "      <td>0.347449</td>\n",
       "      <td>0.840941</td>\n",
       "      <td>0.370460</td>\n",
       "      <td>1.075753</td>\n",
       "      <td>2.479668</td>\n",
       "      <td>1.493354</td>\n",
       "    </tr>\n",
       "    <tr>\n",
       "      <th>TR</th>\n",
       "      <td>1.232210</td>\n",
       "      <td>0.913155</td>\n",
       "      <td>0.844532</td>\n",
       "      <td>0.881872</td>\n",
       "      <td>0.668529</td>\n",
       "      <td>1.026800</td>\n",
       "      <td>1.437573</td>\n",
       "    </tr>\n",
       "    <tr>\n",
       "      <th>mean</th>\n",
       "      <td>1.229024</td>\n",
       "      <td>0.780194</td>\n",
       "      <td>0.611724</td>\n",
       "      <td>0.642341</td>\n",
       "      <td>0.733806</td>\n",
       "      <td>1.320606</td>\n",
       "      <td>1.681692</td>\n",
       "    </tr>\n",
       "  </tbody>\n",
       "</table>\n",
       "</div>"
      ],
      "text/plain": [
       "         Monday_norm  Tuesday_norm  Wednesday_norm  Thursday_norm  \\\n",
       "Country                                                             \n",
       "AT          1.210836      0.739498        0.608660       0.572004   \n",
       "BE          1.525692      0.728789        0.596782       0.870902   \n",
       "CH          0.992179      0.528731        0.511153       0.414677   \n",
       "CY          2.010156      0.875448        0.677294       0.445812   \n",
       "CZ          1.361120      1.152836        0.905116       0.735128   \n",
       "DE          1.414594      0.670768        0.475508       0.460836   \n",
       "DK          1.326838      0.502222        0.376752       0.345299   \n",
       "EE          1.482514      1.229560        0.674158       0.682040   \n",
       "ES          1.203934      0.800866        0.526887       0.545500   \n",
       "FI          0.962136      0.670909        0.721571       0.763900   \n",
       "GR          1.192469      1.167364        0.196653       1.351464   \n",
       "HR          0.909903      0.657856        0.620998       0.374535   \n",
       "IS          0.875443      1.090380        0.376962       1.038734   \n",
       "IT          0.858407      0.575221        0.569322       0.884956   \n",
       "LT          1.439891      0.801289        0.540501       0.463215   \n",
       "LV          1.299645      0.703605        0.686761       0.595745   \n",
       "NL          1.487874      0.873814        0.602270       0.458606   \n",
       "PT          1.571568      0.815781        0.443972       0.369271   \n",
       "SE          1.108921      0.463479        0.992927       0.994778   \n",
       "SI          1.184240      0.855244        0.668203       0.511766   \n",
       "SK          0.387950      0.347449        0.840941       0.370460   \n",
       "TR          1.232210      0.913155        0.844532       0.881872   \n",
       "mean        1.229024      0.780194        0.611724       0.642341   \n",
       "\n",
       "         Friday_norm  Saturday_norm  Sunday_norm  \n",
       "Country                                           \n",
       "AT          0.825945       1.356938     1.684743  \n",
       "BE          0.593435       0.912493     1.772020  \n",
       "CH          0.426954       1.786197     2.340741  \n",
       "CY          0.394409       0.839241     1.763240  \n",
       "CZ          0.850470       0.843122     1.152603  \n",
       "DE          0.429411       1.190461     2.333565  \n",
       "DK          0.522051       1.646496     2.279316  \n",
       "EE          0.706380       0.886848     1.335977  \n",
       "ES          0.810079       1.186510     1.926171  \n",
       "FI          0.823057       1.433191     1.624331  \n",
       "GR          0.941423       1.000000     1.158996  \n",
       "HR          2.426657       1.618764     0.391660  \n",
       "IS          0.529873       1.453165     1.634684  \n",
       "IT          0.646018       1.896755     1.578171  \n",
       "LT          0.453414       1.237907     2.064230  \n",
       "LV          0.617908       1.361407     1.733747  \n",
       "NL          0.590991       1.119639     1.866911  \n",
       "PT          0.445152       1.109140     2.244398  \n",
       "SE          0.789534       1.105269     1.542853  \n",
       "SI          0.576297       1.563326     1.637940  \n",
       "SK          1.075753       2.479668     1.493354  \n",
       "TR          0.668529       1.026800     1.437573  \n",
       "mean        0.733806       1.320606     1.681692  "
      ]
     },
     "execution_count": 9,
     "metadata": {},
     "output_type": "execute_result"
    }
   ],
   "source": [
    "country_mdma_norm"
   ]
  },
  {
   "cell_type": "code",
   "execution_count": 6,
   "metadata": {
    "ExecuteTime": {
     "end_time": "2023-10-17T13:10:02.681921200Z",
     "start_time": "2023-10-17T13:10:01.040564600Z"
    },
    "collapsed": false
   },
   "outputs": [
    {
     "data": {
      "text/plain": [
       "<matplotlib.legend.Legend at 0x2318b7e9e20>"
      ]
     },
     "execution_count": 6,
     "metadata": {},
     "output_type": "execute_result"
    },
    {
     "data": {
      "image/png": "[encoded data removed]",
      "text/plain": [
       "<Figure size 640x480 with 1 Axes>"
      ]
     },
     "metadata": {},
     "output_type": "display_data"
    }
   ],
   "source": [
    "# compute correlation between countries and the mean\n",
    "corr = country_mdma_norm.corrwith(country_mdma_norm.loc[\"mean\"], axis=1)\n",
    "corr = corr.sort_values(ascending=True)\n",
    "# plot the first few countries together with the mean\n",
    "for country in corr.index[:4]:\n",
    "    plt.plot(days, country_mdma_norm.loc[country], label=country)\n",
    "plt.plot(days, country_mdma_norm.loc[\"mean\"], label=\"mean\", c=\"black\", linestyle=\"dashed\")\n",
    "plt.title(\"usage of MDMA and cocaine over the days of the week (and countries)\")\n",
    "plt.legend()"
   ]
  },
  {
   "cell_type": "code",
   "execution_count": 7,
   "metadata": {
    "ExecuteTime": {
     "end_time": "2023-10-17T13:10:06.129869500Z",
     "start_time": "2023-10-17T13:10:06.033252Z"
    },
    "collapsed": false
   },
   "outputs": [],
   "source": [
    "mdma = df[(df[\"Metabolite\"] == \"MDMA\") & (df[\"Year\"] == 2022)]\n",
    "# group by city and compute the mean of the normalized values for each day\n",
    "mdma = mdma.groupby(\"City\")[days_norm].sum() / mdma.groupby(\"City\")[days_norm].count()\n",
    "mdma.loc[\"mean\"] = mdma.mean()"
   ]
  },
  {
   "cell_type": "code",
   "execution_count": 14,
   "metadata": {
    "ExecuteTime": {
     "end_time": "2023-10-17T13:10:11.201330600Z",
     "start_time": "2023-10-17T13:10:08.231559600Z"
    },
    "collapsed": false
   },
   "outputs": [
    {
     "ename": "KeyError",
     "evalue": "'mean'",
     "output_type": "error",
     "traceback": [
      "\u001b[0;31m---------------------------------------------------------------------------\u001b[0m",
      "\u001b[0;31mKeyError\u001b[0m                                  Traceback (most recent call last)",
      "File \u001b[0;32m/Library/Frameworks/Python.framework/Versions/3.11/lib/python3.11/site-packages/pandas/core/indexes/base.py:3790\u001b[0m, in \u001b[0;36mIndex.get_loc\u001b[0;34m(self, key)\u001b[0m\n\u001b[1;32m   3789\u001b[0m \u001b[39mtry\u001b[39;00m:\n\u001b[0;32m-> 3790\u001b[0m     \u001b[39mreturn\u001b[39;00m \u001b[39mself\u001b[39;49m\u001b[39m.\u001b[39;49m_engine\u001b[39m.\u001b[39;49mget_loc(casted_key)\n\u001b[1;32m   3791\u001b[0m \u001b[39mexcept\u001b[39;00m \u001b[39mKeyError\u001b[39;00m \u001b[39mas\u001b[39;00m err:\n",
      "File \u001b[0;32mindex.pyx:152\u001b[0m, in \u001b[0;36mpandas._libs.index.IndexEngine.get_loc\u001b[0;34m()\u001b[0m\n",
      "File \u001b[0;32mindex.pyx:160\u001b[0m, in \u001b[0;36mpandas._libs.index.IndexEngine.get_loc\u001b[0;34m()\u001b[0m\n",
      "File \u001b[0;32mpandas/_libs/index_class_helper.pxi:70\u001b[0m, in \u001b[0;36mpandas._libs.index.Int64Engine._check_type\u001b[0;34m()\u001b[0m\n",
      "\u001b[0;31mKeyError\u001b[0m: 'mean'",
      "\nThe above exception was the direct cause of the following exception:\n",
      "\u001b[0;31mKeyError\u001b[0m                                  Traceback (most recent call last)",
      "\u001b[1;32m/Users/jasiekjaniszewski/Desktop/comm_with_DATA/first_story/communicating-with-data/exploring_drugs.ipynb Cell 12\u001b[0m line \u001b[0;36m1\n\u001b[0;32m----> <a href='vscode-notebook-cell:/Users/jasiekjaniszewski/Desktop/comm_with_DATA/first_story/communicating-with-data/exploring_drugs.ipynb#X10sZmlsZQ%3D%3D?line=0'>1</a>\u001b[0m corr_city \u001b[39m=\u001b[39m mdma\u001b[39m.\u001b[39mcorrwith(mdma\u001b[39m.\u001b[39;49mloc[\u001b[39m\"\u001b[39;49m\u001b[39mmean\u001b[39;49m\u001b[39m\"\u001b[39;49m], axis\u001b[39m=\u001b[39m\u001b[39m1\u001b[39m)\n\u001b[1;32m      <a href='vscode-notebook-cell:/Users/jasiekjaniszewski/Desktop/comm_with_DATA/first_story/communicating-with-data/exploring_drugs.ipynb#X10sZmlsZQ%3D%3D?line=1'>2</a>\u001b[0m corr_city \u001b[39m=\u001b[39m corr_city\u001b[39m.\u001b[39msort_values(ascending\u001b[39m=\u001b[39m\u001b[39mTrue\u001b[39;00m)\n\u001b[1;32m      <a href='vscode-notebook-cell:/Users/jasiekjaniszewski/Desktop/comm_with_DATA/first_story/communicating-with-data/exploring_drugs.ipynb#X10sZmlsZQ%3D%3D?line=2'>3</a>\u001b[0m \u001b[39m# plot the first few countries together with the mean\u001b[39;00m\n",
      "File \u001b[0;32m/Library/Frameworks/Python.framework/Versions/3.11/lib/python3.11/site-packages/pandas/core/indexing.py:1153\u001b[0m, in \u001b[0;36m_LocationIndexer.__getitem__\u001b[0;34m(self, key)\u001b[0m\n\u001b[1;32m   1150\u001b[0m axis \u001b[39m=\u001b[39m \u001b[39mself\u001b[39m\u001b[39m.\u001b[39maxis \u001b[39mor\u001b[39;00m \u001b[39m0\u001b[39m\n\u001b[1;32m   1152\u001b[0m maybe_callable \u001b[39m=\u001b[39m com\u001b[39m.\u001b[39mapply_if_callable(key, \u001b[39mself\u001b[39m\u001b[39m.\u001b[39mobj)\n\u001b[0;32m-> 1153\u001b[0m \u001b[39mreturn\u001b[39;00m \u001b[39mself\u001b[39;49m\u001b[39m.\u001b[39;49m_getitem_axis(maybe_callable, axis\u001b[39m=\u001b[39;49maxis)\n",
      "File \u001b[0;32m/Library/Frameworks/Python.framework/Versions/3.11/lib/python3.11/site-packages/pandas/core/indexing.py:1393\u001b[0m, in \u001b[0;36m_LocIndexer._getitem_axis\u001b[0;34m(self, key, axis)\u001b[0m\n\u001b[1;32m   1391\u001b[0m \u001b[39m# fall thru to straight lookup\u001b[39;00m\n\u001b[1;32m   1392\u001b[0m \u001b[39mself\u001b[39m\u001b[39m.\u001b[39m_validate_key(key, axis)\n\u001b[0;32m-> 1393\u001b[0m \u001b[39mreturn\u001b[39;00m \u001b[39mself\u001b[39;49m\u001b[39m.\u001b[39;49m_get_label(key, axis\u001b[39m=\u001b[39;49maxis)\n",
      "File \u001b[0;32m/Library/Frameworks/Python.framework/Versions/3.11/lib/python3.11/site-packages/pandas/core/indexing.py:1343\u001b[0m, in \u001b[0;36m_LocIndexer._get_label\u001b[0;34m(self, label, axis)\u001b[0m\n\u001b[1;32m   1341\u001b[0m \u001b[39mdef\u001b[39;00m \u001b[39m_get_label\u001b[39m(\u001b[39mself\u001b[39m, label, axis: AxisInt):\n\u001b[1;32m   1342\u001b[0m     \u001b[39m# GH#5567 this will fail if the label is not present in the axis.\u001b[39;00m\n\u001b[0;32m-> 1343\u001b[0m     \u001b[39mreturn\u001b[39;00m \u001b[39mself\u001b[39;49m\u001b[39m.\u001b[39;49mobj\u001b[39m.\u001b[39;49mxs(label, axis\u001b[39m=\u001b[39;49maxis)\n",
      "File \u001b[0;32m/Library/Frameworks/Python.framework/Versions/3.11/lib/python3.11/site-packages/pandas/core/generic.py:4236\u001b[0m, in \u001b[0;36mNDFrame.xs\u001b[0;34m(self, key, axis, level, drop_level)\u001b[0m\n\u001b[1;32m   4234\u001b[0m             new_index \u001b[39m=\u001b[39m index[loc]\n\u001b[1;32m   4235\u001b[0m \u001b[39melse\u001b[39;00m:\n\u001b[0;32m-> 4236\u001b[0m     loc \u001b[39m=\u001b[39m index\u001b[39m.\u001b[39;49mget_loc(key)\n\u001b[1;32m   4238\u001b[0m     \u001b[39mif\u001b[39;00m \u001b[39misinstance\u001b[39m(loc, np\u001b[39m.\u001b[39mndarray):\n\u001b[1;32m   4239\u001b[0m         \u001b[39mif\u001b[39;00m loc\u001b[39m.\u001b[39mdtype \u001b[39m==\u001b[39m np\u001b[39m.\u001b[39mbool_:\n",
      "File \u001b[0;32m/Library/Frameworks/Python.framework/Versions/3.11/lib/python3.11/site-packages/pandas/core/indexes/base.py:3797\u001b[0m, in \u001b[0;36mIndex.get_loc\u001b[0;34m(self, key)\u001b[0m\n\u001b[1;32m   3792\u001b[0m     \u001b[39mif\u001b[39;00m \u001b[39misinstance\u001b[39m(casted_key, \u001b[39mslice\u001b[39m) \u001b[39mor\u001b[39;00m (\n\u001b[1;32m   3793\u001b[0m         \u001b[39misinstance\u001b[39m(casted_key, abc\u001b[39m.\u001b[39mIterable)\n\u001b[1;32m   3794\u001b[0m         \u001b[39mand\u001b[39;00m \u001b[39many\u001b[39m(\u001b[39misinstance\u001b[39m(x, \u001b[39mslice\u001b[39m) \u001b[39mfor\u001b[39;00m x \u001b[39min\u001b[39;00m casted_key)\n\u001b[1;32m   3795\u001b[0m     ):\n\u001b[1;32m   3796\u001b[0m         \u001b[39mraise\u001b[39;00m InvalidIndexError(key)\n\u001b[0;32m-> 3797\u001b[0m     \u001b[39mraise\u001b[39;00m \u001b[39mKeyError\u001b[39;00m(key) \u001b[39mfrom\u001b[39;00m \u001b[39merr\u001b[39;00m\n\u001b[1;32m   3798\u001b[0m \u001b[39mexcept\u001b[39;00m \u001b[39mTypeError\u001b[39;00m:\n\u001b[1;32m   3799\u001b[0m     \u001b[39m# If we have a listlike key, _check_indexing_error will raise\u001b[39;00m\n\u001b[1;32m   3800\u001b[0m     \u001b[39m#  InvalidIndexError. Otherwise we fall through and re-raise\u001b[39;00m\n\u001b[1;32m   3801\u001b[0m     \u001b[39m#  the TypeError.\u001b[39;00m\n\u001b[1;32m   3802\u001b[0m     \u001b[39mself\u001b[39m\u001b[39m.\u001b[39m_check_indexing_error(key)\n",
      "\u001b[0;31mKeyError\u001b[0m: 'mean'"
     ]
    }
   ],
   "source": [
    "corr_city = mdma.corrwith(mdma.loc[\"mean\"], axis=1)\n",
    "corr_city = corr_city.sort_values(ascending=True)\n",
    "# plot the first few countries together with the mean\n",
    "for city in corr_city.index[:6]:\n",
    "    plt.plot(days, mdma.loc[city], label=city)\n",
    "plt.plot(days, mdma.loc[\"mean\"], label=\"mean\", c=\"black\", linestyle=\"dashed\")\n",
    "plt.legend()\n",
    "plt.title(\"cities with weird usage of MDMA over the days of the week\")\n"
   ]
  },
  {
   "cell_type": "code",
   "execution_count": 30,
   "metadata": {
    "ExecuteTime": {
     "end_time": "2023-10-17T13:41:56.182204100Z",
     "start_time": "2023-10-17T13:41:53.793099800Z"
    },
    "collapsed": false
   },
   "outputs": [
    {
     "data": {
      "image/png": "[encoded data removed]",
      "text/plain": [
       "<Figure size 640x480 with 1 Axes>"
      ]
     },
     "metadata": {},
     "output_type": "display_data"
    },
    {
     "data": {
      "image/png": "[encoded data removed]",
      "text/plain": [
       "<Figure size 640x480 with 1 Axes>"
      ]
     },
     "metadata": {},
     "output_type": "display_data"
    },
    {
     "data": {
      "image/png": "[encoded data removed]",
      "text/plain": [
       "<Figure size 640x480 with 1 Axes>"
      ]
     },
     "metadata": {},
     "output_type": "display_data"
    },
    {
     "data": {
      "image/png": "[encoded data removed]",
      "text/plain": [
       "<Figure size 640x480 with 1 Axes>"
      ]
     },
     "metadata": {},
     "output_type": "display_data"
    },
    {
     "data": {
      "image/png": "[encoded data removed]",
      "text/plain": [
       "<Figure size 640x480 with 1 Axes>"
      ]
     },
     "metadata": {},
     "output_type": "display_data"
    },
    {
     "data": {
      "image/png": "[encoded data removed]",
      "text/plain": [
       "<Figure size 640x480 with 1 Axes>"
      ]
     },
     "metadata": {},
     "output_type": "display_data"
    }
   ],
   "source": [
    "small_df = df[df[\"Year\"] == 2022]\n",
    "# keep only columns Country, City and Metabolite\n",
    "small_df = small_df[[\"Country\", \"City\", \"Metabolite\", \"Daily mean\"]]\n",
    "\n",
    "city_df = pd.read_csv(\"ww-sites-2023-05-02.csv\")\n",
    "city_df = city_df[[\"City\", \"Population\"]]\n",
    "\n",
    "# join the two dataframes\n",
    "small_df = small_df.join(city_df.set_index(\"City\"), on=\"City\")\n",
    "small_df[\"Daily mean / Population\"] = small_df[\"Daily mean\"] / small_df[\"Population\"] * 1000\n",
    "small_df = small_df.dropna()\n",
    "\n",
    "for drug in small_df[\"Metabolite\"].unique():\n",
    "    small_df_drug = small_df[small_df[\"Metabolite\"] == drug]\n",
    "    small_df_drug = small_df_drug.sort_values(by=\"Daily mean / Population\", ascending=False)\n",
    "    # plot first 20 cities\n",
    "    small_df_drug = small_df_drug[:20]\n",
    "    plt.bar(small_df_drug[\"City\"], small_df_drug[\"Daily mean / Population\"])\n",
    "    plt.xticks(rotation=90)\n",
    "    plt.title(f\"usage of {drug} per 1000 inhabitants\")\n",
    "    # plt.yscale(\"log\")\n",
    "    plt.show()"
   ]
  },
  {
   "cell_type": "code",
   "execution_count": 11,
   "metadata": {
    "ExecuteTime": {
     "end_time": "2023-10-17T13:15:06.052554400Z",
     "start_time": "2023-10-17T13:15:05.984861100Z"
    },
    "collapsed": false
   },
   "outputs": [
    {
     "data": {
      "text/html": [
       "<div>\n",
       "<style scoped>\n",
       "    .dataframe tbody tr th:only-of-type {\n",
       "        vertical-align: middle;\n",
       "    }\n",
       "\n",
       "    .dataframe tbody tr th {\n",
       "        vertical-align: top;\n",
       "    }\n",
       "\n",
       "    .dataframe thead th {\n",
       "        text-align: right;\n",
       "    }\n",
       "</style>\n",
       "<table border=\"1\" class=\"dataframe\">\n",
       "  <thead>\n",
       "    <tr style=\"text-align: right;\">\n",
       "      <th></th>\n",
       "      <th>Year</th>\n",
       "      <th>Metabolite</th>\n",
       "      <th>Site ID</th>\n",
       "      <th>Country</th>\n",
       "      <th>City</th>\n",
       "      <th>Wednesday</th>\n",
       "      <th>Thursday</th>\n",
       "      <th>Friday</th>\n",
       "      <th>Saturday</th>\n",
       "      <th>Sunday</th>\n",
       "      <th>...</th>\n",
       "      <th>Weekday mean</th>\n",
       "      <th>Weekend mean</th>\n",
       "      <th>Daily mean</th>\n",
       "      <th>Monday_norm</th>\n",
       "      <th>Tuesday_norm</th>\n",
       "      <th>Wednesday_norm</th>\n",
       "      <th>Thursday_norm</th>\n",
       "      <th>Friday_norm</th>\n",
       "      <th>Saturday_norm</th>\n",
       "      <th>Sunday_norm</th>\n",
       "    </tr>\n",
       "  </thead>\n",
       "  <tbody>\n",
       "    <tr>\n",
       "      <th>0</th>\n",
       "      <td>2022</td>\n",
       "      <td>amphetamine</td>\n",
       "      <td>AT001</td>\n",
       "      <td>AT</td>\n",
       "      <td>Graz</td>\n",
       "      <td>24.00</td>\n",
       "      <td>20.90</td>\n",
       "      <td>24.22</td>\n",
       "      <td>27.86</td>\n",
       "      <td>28.27</td>\n",
       "      <td>...</td>\n",
       "      <td>22.37</td>\n",
       "      <td>26.03</td>\n",
       "      <td>24.46</td>\n",
       "      <td>0.973017</td>\n",
       "      <td>0.907604</td>\n",
       "      <td>0.981194</td>\n",
       "      <td>0.854456</td>\n",
       "      <td>0.990188</td>\n",
       "      <td>1.139002</td>\n",
       "      <td>1.155765</td>\n",
       "    </tr>\n",
       "    <tr>\n",
       "      <th>1</th>\n",
       "      <td>2022</td>\n",
       "      <td>amphetamine</td>\n",
       "      <td>AT002</td>\n",
       "      <td>AT</td>\n",
       "      <td>Hall-Wattens</td>\n",
       "      <td>9.01</td>\n",
       "      <td>13.61</td>\n",
       "      <td>9.28</td>\n",
       "      <td>11.82</td>\n",
       "      <td>11.08</td>\n",
       "      <td>...</td>\n",
       "      <td>9.82</td>\n",
       "      <td>10.87</td>\n",
       "      <td>10.42</td>\n",
       "      <td>1.085413</td>\n",
       "      <td>0.656430</td>\n",
       "      <td>0.864683</td>\n",
       "      <td>1.306142</td>\n",
       "      <td>0.890595</td>\n",
       "      <td>1.134357</td>\n",
       "      <td>1.063340</td>\n",
       "    </tr>\n",
       "    <tr>\n",
       "      <th>2</th>\n",
       "      <td>2022</td>\n",
       "      <td>amphetamine</td>\n",
       "      <td>AT004</td>\n",
       "      <td>AT</td>\n",
       "      <td>Innsbruck</td>\n",
       "      <td>10.18</td>\n",
       "      <td>9.80</td>\n",
       "      <td>11.70</td>\n",
       "      <td>16.02</td>\n",
       "      <td>14.86</td>\n",
       "      <td>...</td>\n",
       "      <td>13.14</td>\n",
       "      <td>13.98</td>\n",
       "      <td>13.62</td>\n",
       "      <td>0.980176</td>\n",
       "      <td>1.428047</td>\n",
       "      <td>0.747430</td>\n",
       "      <td>0.719530</td>\n",
       "      <td>0.859031</td>\n",
       "      <td>1.176211</td>\n",
       "      <td>1.091043</td>\n",
       "    </tr>\n",
       "    <tr>\n",
       "      <th>3</th>\n",
       "      <td>2022</td>\n",
       "      <td>amphetamine</td>\n",
       "      <td>AT005</td>\n",
       "      <td>AT</td>\n",
       "      <td>Kapfenberg</td>\n",
       "      <td>32.16</td>\n",
       "      <td>28.14</td>\n",
       "      <td>30.94</td>\n",
       "      <td>21.49</td>\n",
       "      <td>21.35</td>\n",
       "      <td>...</td>\n",
       "      <td>24.42</td>\n",
       "      <td>24.40</td>\n",
       "      <td>24.41</td>\n",
       "      <td>0.975010</td>\n",
       "      <td>0.530930</td>\n",
       "      <td>1.317493</td>\n",
       "      <td>1.152806</td>\n",
       "      <td>1.267513</td>\n",
       "      <td>0.880377</td>\n",
       "      <td>0.874642</td>\n",
       "    </tr>\n",
       "    <tr>\n",
       "      <th>4</th>\n",
       "      <td>2022</td>\n",
       "      <td>amphetamine</td>\n",
       "      <td>AT006</td>\n",
       "      <td>AT</td>\n",
       "      <td>Klagenfurt</td>\n",
       "      <td>6.74</td>\n",
       "      <td>6.87</td>\n",
       "      <td>12.77</td>\n",
       "      <td>9.57</td>\n",
       "      <td>11.62</td>\n",
       "      <td>...</td>\n",
       "      <td>6.76</td>\n",
       "      <td>10.46</td>\n",
       "      <td>8.87</td>\n",
       "      <td>0.886133</td>\n",
       "      <td>0.749718</td>\n",
       "      <td>0.759865</td>\n",
       "      <td>0.774521</td>\n",
       "      <td>1.439684</td>\n",
       "      <td>1.078918</td>\n",
       "      <td>1.310034</td>\n",
       "    </tr>\n",
       "    <tr>\n",
       "      <th>...</th>\n",
       "      <td>...</td>\n",
       "      <td>...</td>\n",
       "      <td>...</td>\n",
       "      <td>...</td>\n",
       "      <td>...</td>\n",
       "      <td>...</td>\n",
       "      <td>...</td>\n",
       "      <td>...</td>\n",
       "      <td>...</td>\n",
       "      <td>...</td>\n",
       "      <td>...</td>\n",
       "      <td>...</td>\n",
       "      <td>...</td>\n",
       "      <td>...</td>\n",
       "      <td>...</td>\n",
       "      <td>...</td>\n",
       "      <td>...</td>\n",
       "      <td>...</td>\n",
       "      <td>...</td>\n",
       "      <td>...</td>\n",
       "      <td>...</td>\n",
       "    </tr>\n",
       "    <tr>\n",
       "      <th>3067</th>\n",
       "      <td>2011</td>\n",
       "      <td>methamphetamine</td>\n",
       "      <td>CZ002</td>\n",
       "      <td>CZ</td>\n",
       "      <td>České Budějovice</td>\n",
       "      <td>170.18</td>\n",
       "      <td>169.00</td>\n",
       "      <td>193.88</td>\n",
       "      <td>167.00</td>\n",
       "      <td>145.98</td>\n",
       "      <td>...</td>\n",
       "      <td>181.64</td>\n",
       "      <td>170.88</td>\n",
       "      <td>175.49</td>\n",
       "      <td>1.006610</td>\n",
       "      <td>1.172318</td>\n",
       "      <td>0.969742</td>\n",
       "      <td>0.963018</td>\n",
       "      <td>1.104792</td>\n",
       "      <td>0.951621</td>\n",
       "      <td>0.831842</td>\n",
       "    </tr>\n",
       "    <tr>\n",
       "      <th>3068</th>\n",
       "      <td>2011</td>\n",
       "      <td>methamphetamine</td>\n",
       "      <td>ES001</td>\n",
       "      <td>ES</td>\n",
       "      <td>Barcelona</td>\n",
       "      <td>6.43</td>\n",
       "      <td>8.12</td>\n",
       "      <td>9.31</td>\n",
       "      <td>10.50</td>\n",
       "      <td>10.66</td>\n",
       "      <td>...</td>\n",
       "      <td>7.34</td>\n",
       "      <td>9.24</td>\n",
       "      <td>8.43</td>\n",
       "      <td>0.773428</td>\n",
       "      <td>0.884935</td>\n",
       "      <td>0.762752</td>\n",
       "      <td>0.963227</td>\n",
       "      <td>1.104389</td>\n",
       "      <td>1.245552</td>\n",
       "      <td>1.264531</td>\n",
       "    </tr>\n",
       "    <tr>\n",
       "      <th>3074</th>\n",
       "      <td>2011</td>\n",
       "      <td>methamphetamine</td>\n",
       "      <td>IT002</td>\n",
       "      <td>IT</td>\n",
       "      <td>Milan</td>\n",
       "      <td>44.46</td>\n",
       "      <td>41.37</td>\n",
       "      <td>48.55</td>\n",
       "      <td>54.00</td>\n",
       "      <td>63.47</td>\n",
       "      <td>...</td>\n",
       "      <td>43.10</td>\n",
       "      <td>52.86</td>\n",
       "      <td>48.68</td>\n",
       "      <td>0.933443</td>\n",
       "      <td>0.892975</td>\n",
       "      <td>0.913311</td>\n",
       "      <td>0.849836</td>\n",
       "      <td>0.997329</td>\n",
       "      <td>1.109285</td>\n",
       "      <td>1.303821</td>\n",
       "    </tr>\n",
       "    <tr>\n",
       "      <th>3078</th>\n",
       "      <td>2011</td>\n",
       "      <td>methamphetamine</td>\n",
       "      <td>NO001</td>\n",
       "      <td>NO</td>\n",
       "      <td>Oslo</td>\n",
       "      <td>235.00</td>\n",
       "      <td>212.60</td>\n",
       "      <td>231.06</td>\n",
       "      <td>186.16</td>\n",
       "      <td>295.50</td>\n",
       "      <td>...</td>\n",
       "      <td>232.77</td>\n",
       "      <td>253.80</td>\n",
       "      <td>244.79</td>\n",
       "      <td>1.235590</td>\n",
       "      <td>1.024184</td>\n",
       "      <td>0.960007</td>\n",
       "      <td>0.868500</td>\n",
       "      <td>0.943911</td>\n",
       "      <td>0.760489</td>\n",
       "      <td>1.207157</td>\n",
       "    </tr>\n",
       "    <tr>\n",
       "      <th>3079</th>\n",
       "      <td>2011</td>\n",
       "      <td>methamphetamine</td>\n",
       "      <td>SE007</td>\n",
       "      <td>SE</td>\n",
       "      <td>Umea</td>\n",
       "      <td>3.91</td>\n",
       "      <td>4.37</td>\n",
       "      <td>3.82</td>\n",
       "      <td>1.29</td>\n",
       "      <td>1.79</td>\n",
       "      <td>...</td>\n",
       "      <td>3.45</td>\n",
       "      <td>2.55</td>\n",
       "      <td>2.93</td>\n",
       "      <td>1.119454</td>\n",
       "      <td>0.706485</td>\n",
       "      <td>1.334471</td>\n",
       "      <td>1.491468</td>\n",
       "      <td>1.303754</td>\n",
       "      <td>0.440273</td>\n",
       "      <td>0.610922</td>\n",
       "    </tr>\n",
       "  </tbody>\n",
       "</table>\n",
       "<p>2615 rows × 22 columns</p>\n",
       "</div>"
      ],
      "text/plain": [
       "      Year       Metabolite Site ID Country              City  Wednesday  \\\n",
       "0     2022      amphetamine   AT001      AT              Graz      24.00   \n",
       "1     2022      amphetamine   AT002      AT      Hall-Wattens       9.01   \n",
       "2     2022      amphetamine   AT004      AT         Innsbruck      10.18   \n",
       "3     2022      amphetamine   AT005      AT        Kapfenberg      32.16   \n",
       "4     2022      amphetamine   AT006      AT        Klagenfurt       6.74   \n",
       "...    ...              ...     ...     ...               ...        ...   \n",
       "3067  2011  methamphetamine   CZ002      CZ  České Budějovice     170.18   \n",
       "3068  2011  methamphetamine   ES001      ES         Barcelona       6.43   \n",
       "3074  2011  methamphetamine   IT002      IT             Milan      44.46   \n",
       "3078  2011  methamphetamine   NO001      NO              Oslo     235.00   \n",
       "3079  2011  methamphetamine   SE007      SE              Umea       3.91   \n",
       "\n",
       "      Thursday  Friday  Saturday  Sunday  ...  Weekday mean  Weekend mean  \\\n",
       "0        20.90   24.22     27.86   28.27  ...         22.37         26.03   \n",
       "1        13.61    9.28     11.82   11.08  ...          9.82         10.87   \n",
       "2         9.80   11.70     16.02   14.86  ...         13.14         13.98   \n",
       "3        28.14   30.94     21.49   21.35  ...         24.42         24.40   \n",
       "4         6.87   12.77      9.57   11.62  ...          6.76         10.46   \n",
       "...        ...     ...       ...     ...  ...           ...           ...   \n",
       "3067    169.00  193.88    167.00  145.98  ...        181.64        170.88   \n",
       "3068      8.12    9.31     10.50   10.66  ...          7.34          9.24   \n",
       "3074     41.37   48.55     54.00   63.47  ...         43.10         52.86   \n",
       "3078    212.60  231.06    186.16  295.50  ...        232.77        253.80   \n",
       "3079      4.37    3.82      1.29    1.79  ...          3.45          2.55   \n",
       "\n",
       "      Daily mean  Monday_norm  Tuesday_norm  Wednesday_norm  Thursday_norm  \\\n",
       "0          24.46     0.973017      0.907604        0.981194       0.854456   \n",
       "1          10.42     1.085413      0.656430        0.864683       1.306142   \n",
       "2          13.62     0.980176      1.428047        0.747430       0.719530   \n",
       "3          24.41     0.975010      0.530930        1.317493       1.152806   \n",
       "4           8.87     0.886133      0.749718        0.759865       0.774521   \n",
       "...          ...          ...           ...             ...            ...   \n",
       "3067      175.49     1.006610      1.172318        0.969742       0.963018   \n",
       "3068        8.43     0.773428      0.884935        0.762752       0.963227   \n",
       "3074       48.68     0.933443      0.892975        0.913311       0.849836   \n",
       "3078      244.79     1.235590      1.024184        0.960007       0.868500   \n",
       "3079        2.93     1.119454      0.706485        1.334471       1.491468   \n",
       "\n",
       "      Friday_norm  Saturday_norm  Sunday_norm  \n",
       "0        0.990188       1.139002     1.155765  \n",
       "1        0.890595       1.134357     1.063340  \n",
       "2        0.859031       1.176211     1.091043  \n",
       "3        1.267513       0.880377     0.874642  \n",
       "4        1.439684       1.078918     1.310034  \n",
       "...           ...            ...          ...  \n",
       "3067     1.104792       0.951621     0.831842  \n",
       "3068     1.104389       1.245552     1.264531  \n",
       "3074     0.997329       1.109285     1.303821  \n",
       "3078     0.943911       0.760489     1.207157  \n",
       "3079     1.303754       0.440273     0.610922  \n",
       "\n",
       "[2615 rows x 22 columns]"
      ]
     },
     "execution_count": 11,
     "metadata": {},
     "output_type": "execute_result"
    }
   ],
   "source": [
    "df"
   ]
  }
 ],
 "metadata": {
  "kernelspec": {
   "display_name": "Python 3",
   "language": "python",
   "name": "python3"
  },
  "language_info": {
   "codemirror_mode": {
    "name": "ipython",
    "version": 3
   },
   "file_extension": ".py",
   "mimetype": "text/x-python",
   "name": "python",
   "nbconvert_exporter": "python",
   "pygments_lexer": "ipython3",
   "version": "3.11.4"
  }
 },
 "nbformat": 4,
 "nbformat_minor": 0
}
