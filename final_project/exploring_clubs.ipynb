{
 "cells": [
  {
   "cell_type": "code",
   "execution_count": 9,
   "outputs": [],
   "source": [
    "import pandas as pd"
   ],
   "metadata": {
    "collapsed": false,
    "ExecuteTime": {
     "end_time": "2023-11-28T15:16:23.331783100Z",
     "start_time": "2023-11-28T15:16:23.293895300Z"
    }
   }
  },
  {
   "cell_type": "code",
   "execution_count": 10,
   "outputs": [
    {
     "data": {
      "text/plain": "        player_id                        name  age_at_valuation    position  \\\n0           11757               Adam Kwarasey         24.553046  Goalkeeper   \n1           22474              Martin Örnskov         26.724162    Midfield   \n2           24112               Rune Jarstein         27.753593  Goalkeeper   \n3           26751               Johan Björdal         26.157426    Defender   \n4           37287           Tarik Elyounoussi         24.353183      Attack   \n...           ...                         ...               ...         ...   \n351247     896154                 Leonid Mina         19.482546      Attack   \n351248     932259   Konstantinos Chrysopoulos         20.336756    Defender   \n351249     950091             Stefanos Tzimas         17.705681      Attack   \n351250    1166093  Georgios Konstantakopoulos         18.724162    Midfield   \n351251     405676                 Oliver Bias         22.510609      Attack   \n\n        height_in_cm   foot  market_value_in_eur        date  player_club_id  \n0              190.0  right               750000  2012-07-01             NaN  \n1              185.0   left              1000000  2012-07-01             NaN  \n2              192.0  right              1000000  2012-07-01             NaN  \n3              188.0  right               750000  2012-07-01             NaN  \n4              172.0  right              1500000  2012-07-01             NaN  \n...              ...    ...                  ...         ...             ...  \n351247         182.0  right               100000  2023-09-21          2671.0  \n351248         193.0   left               500000  2023-09-21          2441.0  \n351249         184.0   both              1000000  2023-09-21          1091.0  \n351250         182.0   both                50000  2023-09-21         30120.0  \n351251         164.0   both                50000  2023-12-19          1109.0  \n\n[351252 rows x 9 columns]",
      "text/html": "<div>\n<style scoped>\n    .dataframe tbody tr th:only-of-type {\n        vertical-align: middle;\n    }\n\n    .dataframe tbody tr th {\n        vertical-align: top;\n    }\n\n    .dataframe thead th {\n        text-align: right;\n    }\n</style>\n<table border=\"1\" class=\"dataframe\">\n  <thead>\n    <tr style=\"text-align: right;\">\n      <th></th>\n      <th>player_id</th>\n      <th>name</th>\n      <th>age_at_valuation</th>\n      <th>position</th>\n      <th>height_in_cm</th>\n      <th>foot</th>\n      <th>market_value_in_eur</th>\n      <th>date</th>\n      <th>player_club_id</th>\n    </tr>\n  </thead>\n  <tbody>\n    <tr>\n      <th>0</th>\n      <td>11757</td>\n      <td>Adam Kwarasey</td>\n      <td>24.553046</td>\n      <td>Goalkeeper</td>\n      <td>190.0</td>\n      <td>right</td>\n      <td>750000</td>\n      <td>2012-07-01</td>\n      <td>NaN</td>\n    </tr>\n    <tr>\n      <th>1</th>\n      <td>22474</td>\n      <td>Martin Örnskov</td>\n      <td>26.724162</td>\n      <td>Midfield</td>\n      <td>185.0</td>\n      <td>left</td>\n      <td>1000000</td>\n      <td>2012-07-01</td>\n      <td>NaN</td>\n    </tr>\n    <tr>\n      <th>2</th>\n      <td>24112</td>\n      <td>Rune Jarstein</td>\n      <td>27.753593</td>\n      <td>Goalkeeper</td>\n      <td>192.0</td>\n      <td>right</td>\n      <td>1000000</td>\n      <td>2012-07-01</td>\n      <td>NaN</td>\n    </tr>\n    <tr>\n      <th>3</th>\n      <td>26751</td>\n      <td>Johan Björdal</td>\n      <td>26.157426</td>\n      <td>Defender</td>\n      <td>188.0</td>\n      <td>right</td>\n      <td>750000</td>\n      <td>2012-07-01</td>\n      <td>NaN</td>\n    </tr>\n    <tr>\n      <th>4</th>\n      <td>37287</td>\n      <td>Tarik Elyounoussi</td>\n      <td>24.353183</td>\n      <td>Attack</td>\n      <td>172.0</td>\n      <td>right</td>\n      <td>1500000</td>\n      <td>2012-07-01</td>\n      <td>NaN</td>\n    </tr>\n    <tr>\n      <th>...</th>\n      <td>...</td>\n      <td>...</td>\n      <td>...</td>\n      <td>...</td>\n      <td>...</td>\n      <td>...</td>\n      <td>...</td>\n      <td>...</td>\n      <td>...</td>\n    </tr>\n    <tr>\n      <th>351247</th>\n      <td>896154</td>\n      <td>Leonid Mina</td>\n      <td>19.482546</td>\n      <td>Attack</td>\n      <td>182.0</td>\n      <td>right</td>\n      <td>100000</td>\n      <td>2023-09-21</td>\n      <td>2671.0</td>\n    </tr>\n    <tr>\n      <th>351248</th>\n      <td>932259</td>\n      <td>Konstantinos Chrysopoulos</td>\n      <td>20.336756</td>\n      <td>Defender</td>\n      <td>193.0</td>\n      <td>left</td>\n      <td>500000</td>\n      <td>2023-09-21</td>\n      <td>2441.0</td>\n    </tr>\n    <tr>\n      <th>351249</th>\n      <td>950091</td>\n      <td>Stefanos Tzimas</td>\n      <td>17.705681</td>\n      <td>Attack</td>\n      <td>184.0</td>\n      <td>both</td>\n      <td>1000000</td>\n      <td>2023-09-21</td>\n      <td>1091.0</td>\n    </tr>\n    <tr>\n      <th>351250</th>\n      <td>1166093</td>\n      <td>Georgios Konstantakopoulos</td>\n      <td>18.724162</td>\n      <td>Midfield</td>\n      <td>182.0</td>\n      <td>both</td>\n      <td>50000</td>\n      <td>2023-09-21</td>\n      <td>30120.0</td>\n    </tr>\n    <tr>\n      <th>351251</th>\n      <td>405676</td>\n      <td>Oliver Bias</td>\n      <td>22.510609</td>\n      <td>Attack</td>\n      <td>164.0</td>\n      <td>both</td>\n      <td>50000</td>\n      <td>2023-12-19</td>\n      <td>1109.0</td>\n    </tr>\n  </tbody>\n</table>\n<p>351252 rows × 9 columns</p>\n</div>"
     },
     "execution_count": 10,
     "metadata": {},
     "output_type": "execute_result"
    }
   ],
   "source": [
    "df = pd.read_csv('data/player_valuations_with_age_and_club.csv')\n",
    "df"
   ],
   "metadata": {
    "collapsed": false,
    "ExecuteTime": {
     "end_time": "2023-11-28T15:16:23.998708500Z",
     "start_time": "2023-11-28T15:16:23.317819Z"
    }
   }
  },
  {
   "cell_type": "code",
   "execution_count": 11,
   "outputs": [],
   "source": [
    "def analyse_club(club_id, max_age=24, min_stay_at_club=1, max_age_at_start=21, position=None,\n",
    "                 debug=False):\n",
    "    club = df[df['player_club_id'] == club_id]\n",
    "    club = club[club['age_at_valuation'] < max_age]\n",
    "    club = club.sort_values(by='date')\n",
    "\n",
    "    if position is not None and position != 'All':\n",
    "        club = club[club['position'] == position]\n",
    "\n",
    "    players = club.groupby(['player_id', 'name', 'position']).agg({'market_value_in_eur': ['first', 'last'],\n",
    "                                                          'age_at_valuation': ['first', 'last']})\n",
    "    players.columns = ['first_market_value_in_eur', 'last_market_value_in_eur', 'first_age_at_valuation', 'last_age_at_valuation']\n",
    "    players = players.reset_index()\n",
    "\n",
    "    players['age_diff'] = players['last_age_at_valuation'] - \\\n",
    "                          players['first_age_at_valuation']\n",
    "    players = players[players['age_diff'] > min_stay_at_club]\n",
    "    players = players[players['first_age_at_valuation'] < max_age_at_start]\n",
    "\n",
    "    if position == 'All':\n",
    "        if len(players) < 10:\n",
    "            return 0, 0, 0\n",
    "    else:\n",
    "        if len(players) < 6:\n",
    "            return 0, 0, 0\n",
    "\n",
    "    players['market_value_diff'] = players['last_market_value_in_eur'] - \\\n",
    "                                   players['first_market_value_in_eur']\n",
    "    players['market_value_diff_percent'] = players['market_value_diff'] / \\\n",
    "                                           players['first_market_value_in_eur']\n",
    "\n",
    "    # do the age_diff root of the percentage increase to get a better comparison\n",
    "    players['market_value_diff_percent_per_year'] = players['market_value_diff_percent'] ** \\\n",
    "                                                    (1 / players['age_diff'])\n",
    "    # change NaN to 0\n",
    "    players['market_value_diff_percent_per_year'] = \\\n",
    "        players['market_value_diff_percent_per_year'].fillna(-1)\n",
    "\n",
    "    # players['market_value_diff_percent_per_year'] = players['market_value_diff_percent'] / \\\n",
    "    #                                                 players['age_diff']\n",
    "\n",
    "    if debug:\n",
    "        return players\n",
    "\n",
    "\n",
    "    median_increase_per_year = players['market_value_diff_percent_per_year'].median()\n",
    "    perc_1_5 = players[players['market_value_diff_percent_per_year'] > 1.5].shape[0] / players.shape[0]\n",
    "    perc_2 = players[players['market_value_diff_percent_per_year'] > 2].shape[0] / players.shape[0]\n",
    "\n",
    "    return median_increase_per_year, perc_1_5, perc_2"
   ],
   "metadata": {
    "collapsed": false,
    "ExecuteTime": {
     "end_time": "2023-11-28T15:16:24.047568Z",
     "start_time": "2023-11-28T15:16:24.007707300Z"
    }
   }
  },
  {
   "cell_type": "code",
   "execution_count": 12,
   "outputs": [],
   "source": [
    "positions = {\n",
    "    \"Defender\": [],\n",
    "    \"Midfield\": [],\n",
    "    \"Attack\": [],\n",
    "    \"All\": []\n",
    "}\n",
    "\n",
    "for position in positions:\n",
    "    for club_id in df['player_club_id'].unique():\n",
    "        # check if nan\n",
    "        if club_id != club_id:\n",
    "            continue\n",
    "        percentage_increased, average_increase, percentage_doubled_value = \\\n",
    "            analyse_club(club_id, max_age=23, position=position)\n",
    "        positions[position].append((club_id, percentage_increased, average_increase, percentage_doubled_value))\n"
   ],
   "metadata": {
    "collapsed": false,
    "ExecuteTime": {
     "end_time": "2023-11-28T15:16:50.939302900Z",
     "start_time": "2023-11-28T15:16:24.037596400Z"
    }
   }
  },
  {
   "cell_type": "code",
   "execution_count": 13,
   "outputs": [
    {
     "data": {
      "text/plain": "        club_name  club_id    position  value_increase\n0             NaN      NaN  Goalkeeper             NaN\n1             NaN      NaN    Midfield             NaN\n2             NaN      NaN  Goalkeeper             NaN\n3             NaN      NaN    Defender             NaN\n4             NaN      NaN      Attack             NaN\n...           ...      ...         ...             ...\n351247        NaN      NaN      Attack             NaN\n351248        NaN      NaN    Defender             NaN\n351249        NaN      NaN      Attack             NaN\n351250        NaN      NaN    Midfield             NaN\n351251        NaN      NaN      Attack             NaN\n\n[351252 rows x 4 columns]",
      "text/html": "<div>\n<style scoped>\n    .dataframe tbody tr th:only-of-type {\n        vertical-align: middle;\n    }\n\n    .dataframe tbody tr th {\n        vertical-align: top;\n    }\n\n    .dataframe thead th {\n        text-align: right;\n    }\n</style>\n<table border=\"1\" class=\"dataframe\">\n  <thead>\n    <tr style=\"text-align: right;\">\n      <th></th>\n      <th>club_name</th>\n      <th>club_id</th>\n      <th>position</th>\n      <th>value_increase</th>\n    </tr>\n  </thead>\n  <tbody>\n    <tr>\n      <th>0</th>\n      <td>NaN</td>\n      <td>NaN</td>\n      <td>Goalkeeper</td>\n      <td>NaN</td>\n    </tr>\n    <tr>\n      <th>1</th>\n      <td>NaN</td>\n      <td>NaN</td>\n      <td>Midfield</td>\n      <td>NaN</td>\n    </tr>\n    <tr>\n      <th>2</th>\n      <td>NaN</td>\n      <td>NaN</td>\n      <td>Goalkeeper</td>\n      <td>NaN</td>\n    </tr>\n    <tr>\n      <th>3</th>\n      <td>NaN</td>\n      <td>NaN</td>\n      <td>Defender</td>\n      <td>NaN</td>\n    </tr>\n    <tr>\n      <th>4</th>\n      <td>NaN</td>\n      <td>NaN</td>\n      <td>Attack</td>\n      <td>NaN</td>\n    </tr>\n    <tr>\n      <th>...</th>\n      <td>...</td>\n      <td>...</td>\n      <td>...</td>\n      <td>...</td>\n    </tr>\n    <tr>\n      <th>351247</th>\n      <td>NaN</td>\n      <td>NaN</td>\n      <td>Attack</td>\n      <td>NaN</td>\n    </tr>\n    <tr>\n      <th>351248</th>\n      <td>NaN</td>\n      <td>NaN</td>\n      <td>Defender</td>\n      <td>NaN</td>\n    </tr>\n    <tr>\n      <th>351249</th>\n      <td>NaN</td>\n      <td>NaN</td>\n      <td>Attack</td>\n      <td>NaN</td>\n    </tr>\n    <tr>\n      <th>351250</th>\n      <td>NaN</td>\n      <td>NaN</td>\n      <td>Midfield</td>\n      <td>NaN</td>\n    </tr>\n    <tr>\n      <th>351251</th>\n      <td>NaN</td>\n      <td>NaN</td>\n      <td>Attack</td>\n      <td>NaN</td>\n    </tr>\n  </tbody>\n</table>\n<p>351252 rows × 4 columns</p>\n</div>"
     },
     "execution_count": 13,
     "metadata": {},
     "output_type": "execute_result"
    }
   ],
   "source": [
    "clubs_df = pd.read_csv('data/clubs.csv')\n",
    "\n",
    "def save_to_df(key=1, n=10):\n",
    "    df2 = []\n",
    "    for position, c in positions.items():\n",
    "        c = sorted(c, key=lambda x: x[key], reverse=True)\n",
    "        for i in range(n):\n",
    "            club_id = c[i][0]\n",
    "            club_name = clubs_df[clubs_df['club_id'] == club_id]['name'].iloc[0]\n",
    "            df2.append([club_name, int(club_id), position, c[i][key]])\n",
    "    return pd.DataFrame(df, columns=['club_name', 'club_id', 'position', 'value_increase'])\n",
    "\n",
    "df2 = save_to_df()\n",
    "df2"
   ],
   "metadata": {
    "collapsed": false,
    "ExecuteTime": {
     "end_time": "2023-11-28T15:16:50.999354600Z",
     "start_time": "2023-11-28T15:16:50.948279500Z"
    }
   }
  },
  {
   "cell_type": "code",
   "execution_count": 14,
   "outputs": [
    {
     "data": {
      "text/plain": "    player_id                   name  position  first_market_value_in_eur  \\\n3      121474              Emyr Huws  Midfield                     300000   \n4      134425        Raheem Sterling    Attack                   50000000   \n5      143559        Matija Nastasic  Defender                   17000000   \n11     195605              José Pozo  Midfield                     500000   \n16     258878       Tosin Adarabioyo  Defender                     250000   \n20     277179               Angeliño  Defender                     300000   \n22     295330      Kelechi Iheanacho    Attack                     750000   \n26     363205          Gabriel Jesus    Attack                   25000000   \n29     398184          Ferran Torres    Attack                   45000000   \n30     406635             Phil Foden    Attack                    5000000   \n32     433183            Tommy Doyle  Midfield                    1000000   \n33     466794            Eric García  Defender                    7000000   \n34     503977  Taylor Harwood-Bellis  Defender                    2300000   \n35     568177            Cole Palmer  Midfield                     500000   \n38     610849             Liam Delap    Attack                    1000000   \n\n    last_market_value_in_eur  first_age_at_valuation  last_age_at_valuation  \\\n3                    1500000               20.364134              22.921287   \n4                   50000000               20.848734              22.874743   \n5                   21000000               19.838467              21.374401   \n11                   3000000               19.482546              22.206708   \n16                   3500000               19.200548              22.061602   \n20                  16000000               20.054757              22.929500   \n22                  15000000               19.028063              20.733744   \n26                  70000000               19.885010              22.685832   \n29                  45000000               20.621492              21.815195   \n30                 110000000               17.598905              22.433949   \n32                   7000000               18.989733              21.620808   \n33                  20000000               18.707734              20.388775   \n34                  15000000               18.187543              21.144422   \n35                  18000000               18.866530              21.182752   \n38                   7000000               17.678303              19.715264   \n\n    age_diff  market_value_diff  market_value_diff_percent  \\\n3   2.557153            1200000                   4.000000   \n4   2.026010                  0                   0.000000   \n5   1.535934            4000000                   0.235294   \n11  2.724162            2500000                   5.000000   \n16  2.861054            3250000                  13.000000   \n20  2.874743           15700000                  52.333333   \n22  1.705681           14250000                  19.000000   \n26  2.800821           45000000                   1.800000   \n29  1.193703                  0                   0.000000   \n30  4.835044          105000000                  21.000000   \n32  2.631075            6000000                   6.000000   \n33  1.681040           13000000                   1.857143   \n34  2.956879           12700000                   5.521739   \n35  2.316222           17500000                  35.000000   \n38  2.036961            6000000                   6.000000   \n\n    market_value_diff_percent_per_year  \n3                             1.719656  \n4                             0.000000  \n5                             0.389830  \n11                            1.805434  \n16                            2.451022  \n20                            3.961771  \n22                            5.619564  \n26                            1.233508  \n29                            0.000000  \n30                            1.877007  \n32                            1.975851  \n33                            1.445200  \n34                            1.782239  \n35                            4.641221  \n38                            2.409993  ",
      "text/html": "<div>\n<style scoped>\n    .dataframe tbody tr th:only-of-type {\n        vertical-align: middle;\n    }\n\n    .dataframe tbody tr th {\n        vertical-align: top;\n    }\n\n    .dataframe thead th {\n        text-align: right;\n    }\n</style>\n<table border=\"1\" class=\"dataframe\">\n  <thead>\n    <tr style=\"text-align: right;\">\n      <th></th>\n      <th>player_id</th>\n      <th>name</th>\n      <th>position</th>\n      <th>first_market_value_in_eur</th>\n      <th>last_market_value_in_eur</th>\n      <th>first_age_at_valuation</th>\n      <th>last_age_at_valuation</th>\n      <th>age_diff</th>\n      <th>market_value_diff</th>\n      <th>market_value_diff_percent</th>\n      <th>market_value_diff_percent_per_year</th>\n    </tr>\n  </thead>\n  <tbody>\n    <tr>\n      <th>3</th>\n      <td>121474</td>\n      <td>Emyr Huws</td>\n      <td>Midfield</td>\n      <td>300000</td>\n      <td>1500000</td>\n      <td>20.364134</td>\n      <td>22.921287</td>\n      <td>2.557153</td>\n      <td>1200000</td>\n      <td>4.000000</td>\n      <td>1.719656</td>\n    </tr>\n    <tr>\n      <th>4</th>\n      <td>134425</td>\n      <td>Raheem Sterling</td>\n      <td>Attack</td>\n      <td>50000000</td>\n      <td>50000000</td>\n      <td>20.848734</td>\n      <td>22.874743</td>\n      <td>2.026010</td>\n      <td>0</td>\n      <td>0.000000</td>\n      <td>0.000000</td>\n    </tr>\n    <tr>\n      <th>5</th>\n      <td>143559</td>\n      <td>Matija Nastasic</td>\n      <td>Defender</td>\n      <td>17000000</td>\n      <td>21000000</td>\n      <td>19.838467</td>\n      <td>21.374401</td>\n      <td>1.535934</td>\n      <td>4000000</td>\n      <td>0.235294</td>\n      <td>0.389830</td>\n    </tr>\n    <tr>\n      <th>11</th>\n      <td>195605</td>\n      <td>José Pozo</td>\n      <td>Midfield</td>\n      <td>500000</td>\n      <td>3000000</td>\n      <td>19.482546</td>\n      <td>22.206708</td>\n      <td>2.724162</td>\n      <td>2500000</td>\n      <td>5.000000</td>\n      <td>1.805434</td>\n    </tr>\n    <tr>\n      <th>16</th>\n      <td>258878</td>\n      <td>Tosin Adarabioyo</td>\n      <td>Defender</td>\n      <td>250000</td>\n      <td>3500000</td>\n      <td>19.200548</td>\n      <td>22.061602</td>\n      <td>2.861054</td>\n      <td>3250000</td>\n      <td>13.000000</td>\n      <td>2.451022</td>\n    </tr>\n    <tr>\n      <th>20</th>\n      <td>277179</td>\n      <td>Angeliño</td>\n      <td>Defender</td>\n      <td>300000</td>\n      <td>16000000</td>\n      <td>20.054757</td>\n      <td>22.929500</td>\n      <td>2.874743</td>\n      <td>15700000</td>\n      <td>52.333333</td>\n      <td>3.961771</td>\n    </tr>\n    <tr>\n      <th>22</th>\n      <td>295330</td>\n      <td>Kelechi Iheanacho</td>\n      <td>Attack</td>\n      <td>750000</td>\n      <td>15000000</td>\n      <td>19.028063</td>\n      <td>20.733744</td>\n      <td>1.705681</td>\n      <td>14250000</td>\n      <td>19.000000</td>\n      <td>5.619564</td>\n    </tr>\n    <tr>\n      <th>26</th>\n      <td>363205</td>\n      <td>Gabriel Jesus</td>\n      <td>Attack</td>\n      <td>25000000</td>\n      <td>70000000</td>\n      <td>19.885010</td>\n      <td>22.685832</td>\n      <td>2.800821</td>\n      <td>45000000</td>\n      <td>1.800000</td>\n      <td>1.233508</td>\n    </tr>\n    <tr>\n      <th>29</th>\n      <td>398184</td>\n      <td>Ferran Torres</td>\n      <td>Attack</td>\n      <td>45000000</td>\n      <td>45000000</td>\n      <td>20.621492</td>\n      <td>21.815195</td>\n      <td>1.193703</td>\n      <td>0</td>\n      <td>0.000000</td>\n      <td>0.000000</td>\n    </tr>\n    <tr>\n      <th>30</th>\n      <td>406635</td>\n      <td>Phil Foden</td>\n      <td>Attack</td>\n      <td>5000000</td>\n      <td>110000000</td>\n      <td>17.598905</td>\n      <td>22.433949</td>\n      <td>4.835044</td>\n      <td>105000000</td>\n      <td>21.000000</td>\n      <td>1.877007</td>\n    </tr>\n    <tr>\n      <th>32</th>\n      <td>433183</td>\n      <td>Tommy Doyle</td>\n      <td>Midfield</td>\n      <td>1000000</td>\n      <td>7000000</td>\n      <td>18.989733</td>\n      <td>21.620808</td>\n      <td>2.631075</td>\n      <td>6000000</td>\n      <td>6.000000</td>\n      <td>1.975851</td>\n    </tr>\n    <tr>\n      <th>33</th>\n      <td>466794</td>\n      <td>Eric García</td>\n      <td>Defender</td>\n      <td>7000000</td>\n      <td>20000000</td>\n      <td>18.707734</td>\n      <td>20.388775</td>\n      <td>1.681040</td>\n      <td>13000000</td>\n      <td>1.857143</td>\n      <td>1.445200</td>\n    </tr>\n    <tr>\n      <th>34</th>\n      <td>503977</td>\n      <td>Taylor Harwood-Bellis</td>\n      <td>Defender</td>\n      <td>2300000</td>\n      <td>15000000</td>\n      <td>18.187543</td>\n      <td>21.144422</td>\n      <td>2.956879</td>\n      <td>12700000</td>\n      <td>5.521739</td>\n      <td>1.782239</td>\n    </tr>\n    <tr>\n      <th>35</th>\n      <td>568177</td>\n      <td>Cole Palmer</td>\n      <td>Midfield</td>\n      <td>500000</td>\n      <td>18000000</td>\n      <td>18.866530</td>\n      <td>21.182752</td>\n      <td>2.316222</td>\n      <td>17500000</td>\n      <td>35.000000</td>\n      <td>4.641221</td>\n    </tr>\n    <tr>\n      <th>38</th>\n      <td>610849</td>\n      <td>Liam Delap</td>\n      <td>Attack</td>\n      <td>1000000</td>\n      <td>7000000</td>\n      <td>17.678303</td>\n      <td>19.715264</td>\n      <td>2.036961</td>\n      <td>6000000</td>\n      <td>6.000000</td>\n      <td>2.409993</td>\n    </tr>\n  </tbody>\n</table>\n</div>"
     },
     "execution_count": 14,
     "metadata": {},
     "output_type": "execute_result"
    }
   ],
   "source": [
    "analyse_club(club_id=281, debug=True, position='All', max_age=23)"
   ],
   "metadata": {
    "collapsed": false,
    "ExecuteTime": {
     "end_time": "2023-11-28T15:16:51.098092600Z",
     "start_time": "2023-11-28T15:16:51.005348300Z"
    }
   }
  }
 ],
 "metadata": {
  "kernelspec": {
   "display_name": "Python 3",
   "language": "python",
   "name": "python3"
  },
  "language_info": {
   "codemirror_mode": {
    "name": "ipython",
    "version": 2
   },
   "file_extension": ".py",
   "mimetype": "text/x-python",
   "name": "python",
   "nbconvert_exporter": "python",
   "pygments_lexer": "ipython2",
   "version": "2.7.6"
  }
 },
 "nbformat": 4,
 "nbformat_minor": 0
}
